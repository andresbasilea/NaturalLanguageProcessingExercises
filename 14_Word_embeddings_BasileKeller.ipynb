{
 "cells": [
  {
   "attachments": {},
   "cell_type": "markdown",
   "id": "4b00f678-39f7-4be2-aa51-cc4737fcd1a0",
   "metadata": {},
   "source": [
    "# Word embeddings\n",
    "- Word Embeddings es una técnica popular en procesamiento del lenguaje natural que permite representar las palabras en un espacio vectorial,"
   ]
  },
  {
   "attachments": {},
   "cell_type": "markdown",
   "id": "c3d5ac6f-124d-40d1-8e97-ae14a28efb2a",
   "metadata": {},
   "source": [
    "- Dataset: https://www.kaggle.com/datasets/andrewmvd/cyberbullying-classification"
   ]
  },
  {
   "attachments": {},
   "cell_type": "markdown",
   "id": "9d1cd0c3-599d-4c44-a4df-fb42b5f49bb1",
   "metadata": {},
   "source": [
    "## 1.- Conjuntos de entrenamiento y validación"
   ]
  },
  {
   "cell_type": "code",
   "execution_count": 1,
   "id": "d1458c2c-1dfe-4638-8655-a28df1ccd4ef",
   "metadata": {},
   "outputs": [],
   "source": [
    "import pandas as pd\n",
    "import matplotlib.pyplot as plt"
   ]
  },
  {
   "cell_type": "code",
   "execution_count": 33,
   "id": "6f850e02-db52-441f-99dd-41a7e08b594c",
   "metadata": {},
   "outputs": [],
   "source": [
    "df = pd.read_csv('./cyberbullying_tweets.csv')   "
   ]
  },
  {
   "cell_type": "code",
   "execution_count": 34,
   "id": "35f0db65-4358-4f2b-baa7-3cf6250519ee",
   "metadata": {},
   "outputs": [
    {
     "data": {
      "text/html": [
       "<div>\n",
       "<style scoped>\n",
       "    .dataframe tbody tr th:only-of-type {\n",
       "        vertical-align: middle;\n",
       "    }\n",
       "\n",
       "    .dataframe tbody tr th {\n",
       "        vertical-align: top;\n",
       "    }\n",
       "\n",
       "    .dataframe thead th {\n",
       "        text-align: right;\n",
       "    }\n",
       "</style>\n",
       "<table border=\"1\" class=\"dataframe\">\n",
       "  <thead>\n",
       "    <tr style=\"text-align: right;\">\n",
       "      <th></th>\n",
       "      <th>tweet_text</th>\n",
       "      <th>cyberbullying_type</th>\n",
       "    </tr>\n",
       "  </thead>\n",
       "  <tbody>\n",
       "    <tr>\n",
       "      <th>0</th>\n",
       "      <td>In other words #katandandre, your food was cra...</td>\n",
       "      <td>not_cyberbullying</td>\n",
       "    </tr>\n",
       "    <tr>\n",
       "      <th>1</th>\n",
       "      <td>Why is #aussietv so white? #MKR #theblock #ImA...</td>\n",
       "      <td>not_cyberbullying</td>\n",
       "    </tr>\n",
       "    <tr>\n",
       "      <th>2</th>\n",
       "      <td>@XochitlSuckkks a classy whore? Or more red ve...</td>\n",
       "      <td>not_cyberbullying</td>\n",
       "    </tr>\n",
       "    <tr>\n",
       "      <th>3</th>\n",
       "      <td>@Jason_Gio meh. :P  thanks for the heads up, b...</td>\n",
       "      <td>not_cyberbullying</td>\n",
       "    </tr>\n",
       "    <tr>\n",
       "      <th>4</th>\n",
       "      <td>@RudhoeEnglish This is an ISIS account pretend...</td>\n",
       "      <td>not_cyberbullying</td>\n",
       "    </tr>\n",
       "  </tbody>\n",
       "</table>\n",
       "</div>"
      ],
      "text/plain": [
       "                                          tweet_text cyberbullying_type\n",
       "0  In other words #katandandre, your food was cra...  not_cyberbullying\n",
       "1  Why is #aussietv so white? #MKR #theblock #ImA...  not_cyberbullying\n",
       "2  @XochitlSuckkks a classy whore? Or more red ve...  not_cyberbullying\n",
       "3  @Jason_Gio meh. :P  thanks for the heads up, b...  not_cyberbullying\n",
       "4  @RudhoeEnglish This is an ISIS account pretend...  not_cyberbullying"
      ]
     },
     "execution_count": 34,
     "metadata": {},
     "output_type": "execute_result"
    }
   ],
   "source": [
    "df.head()"
   ]
  },
  {
   "cell_type": "code",
   "execution_count": 35,
   "id": "cf4e6a3c-7baf-4a87-98ac-4ce53ae29d6f",
   "metadata": {
    "tags": []
   },
   "outputs": [
    {
     "data": {
      "text/plain": [
       "array(['not_cyberbullying', 'gender', 'religion', 'other_cyberbullying',\n",
       "       'age', 'ethnicity'], dtype=object)"
      ]
     },
     "execution_count": 35,
     "metadata": {},
     "output_type": "execute_result"
    }
   ],
   "source": [
    "df['cyberbullying_type'].unique()"
   ]
  },
  {
   "cell_type": "code",
   "execution_count": 36,
   "id": "d8ec7adf-396e-483f-9b08-e2696d2e8e66",
   "metadata": {
    "tags": []
   },
   "outputs": [
    {
     "data": {
      "text/plain": [
       "cyberbullying_type\n",
       "religion               7998\n",
       "age                    7992\n",
       "gender                 7973\n",
       "ethnicity              7961\n",
       "not_cyberbullying      7945\n",
       "other_cyberbullying    7823\n",
       "Name: count, dtype: int64"
      ]
     },
     "execution_count": 36,
     "metadata": {},
     "output_type": "execute_result"
    }
   ],
   "source": [
    "# Contar elementos por clase\n",
    "count = df['cyberbullying_type'].value_counts()\n",
    "count"
   ]
  },
  {
   "cell_type": "code",
   "execution_count": 37,
   "id": "3bf56b11-f00d-417f-b04a-5aedd2f656df",
   "metadata": {
    "tags": []
   },
   "outputs": [],
   "source": [
    "from sklearn.model_selection import train_test_split\n",
    "train_df, val_df= train_test_split(df, test_size = 0.15, random_state = 123)"
   ]
  },
  {
   "cell_type": "code",
   "execution_count": 38,
   "id": "7013b70e-296e-488c-80ae-eced1748a6bf",
   "metadata": {
    "tags": []
   },
   "outputs": [
    {
     "data": {
      "text/plain": [
       "cyberbullying_type\n",
       "not_cyberbullying      6826\n",
       "gender                 6821\n",
       "ethnicity              6777\n",
       "age                    6763\n",
       "religion               6743\n",
       "other_cyberbullying    6608\n",
       "Name: count, dtype: int64"
      ]
     },
     "execution_count": 38,
     "metadata": {},
     "output_type": "execute_result"
    }
   ],
   "source": [
    "train_df['cyberbullying_type'].value_counts()"
   ]
  },
  {
   "attachments": {},
   "cell_type": "markdown",
   "id": "bb0ca784-81d1-4294-923f-6ae1882587d9",
   "metadata": {},
   "source": [
    "## 2.- Preprocesamiento"
   ]
  },
  {
   "cell_type": "code",
   "execution_count": 40,
   "id": "454a30f7-c59e-4522-b77a-1390eae132db",
   "metadata": {
    "tags": []
   },
   "outputs": [
    {
     "data": {
      "text/html": [
       "<div>\n",
       "<style scoped>\n",
       "    .dataframe tbody tr th:only-of-type {\n",
       "        vertical-align: middle;\n",
       "    }\n",
       "\n",
       "    .dataframe tbody tr th {\n",
       "        vertical-align: top;\n",
       "    }\n",
       "\n",
       "    .dataframe thead th {\n",
       "        text-align: right;\n",
       "    }\n",
       "</style>\n",
       "<table border=\"1\" class=\"dataframe\">\n",
       "  <thead>\n",
       "    <tr style=\"text-align: right;\">\n",
       "      <th></th>\n",
       "      <th>tweet_text</th>\n",
       "      <th>cyberbullying_type</th>\n",
       "    </tr>\n",
       "  </thead>\n",
       "  <tbody>\n",
       "    <tr>\n",
       "      <th>32620</th>\n",
       "      <td>If you’re in college and still posting about t...</td>\n",
       "      <td>4</td>\n",
       "    </tr>\n",
       "    <tr>\n",
       "      <th>9173</th>\n",
       "      <td>but, there is still the dolly magazine model c...</td>\n",
       "      <td>1</td>\n",
       "    </tr>\n",
       "    <tr>\n",
       "      <th>1466</th>\n",
       "      <td>Why am I disappointed?</td>\n",
       "      <td>0</td>\n",
       "    </tr>\n",
       "    <tr>\n",
       "      <th>32887</th>\n",
       "      <td>What was the conversation was leading up to th...</td>\n",
       "      <td>4</td>\n",
       "    </tr>\n",
       "    <tr>\n",
       "      <th>15856</th>\n",
       "      <td>“faces up to three years in prison” , “getting...</td>\n",
       "      <td>1</td>\n",
       "    </tr>\n",
       "  </tbody>\n",
       "</table>\n",
       "</div>"
      ],
      "text/plain": [
       "                                              tweet_text  cyberbullying_type\n",
       "32620  If you’re in college and still posting about t...                   4\n",
       "9173   but, there is still the dolly magazine model c...                   1\n",
       "1466                              Why am I disappointed?                   0\n",
       "32887  What was the conversation was leading up to th...                   4\n",
       "15856  “faces up to three years in prison” , “getting...                   1"
      ]
     },
     "execution_count": 40,
     "metadata": {},
     "output_type": "execute_result"
    }
   ],
   "source": [
    "# Creamos un diccionario que mapea cada etiqueta a un número entero\n",
    "labels_dict = {\n",
    "    'not_cyberbullying': 0,\n",
    "    'gender': 1,\n",
    "    'religion': 2,\n",
    "    'other_cyberbullying': 3,\n",
    "    'age': 4,\n",
    "    'ethnicity': 5\n",
    "}\n",
    "\n",
    "# Usamos la función map() para reemplazar cada etiqueta con su valor entero correspondiente\n",
    "train_df['cyberbullying_type'] = train_df['cyberbullying_type'].replace(labels_dict)\n",
    "val_df['cyberbullying_type'] = val_df['cyberbullying_type'].replace(labels_dict)\n",
    "\n",
    "train_df.head()"
   ]
  },
  {
   "attachments": {},
   "cell_type": "markdown",
   "id": "82d36938-df30-4bc1-a7b8-2c8c58be37ae",
   "metadata": {
    "tags": []
   },
   "source": [
    "- Verifica cadenas vacias"
   ]
  },
  {
   "cell_type": "code",
   "execution_count": 41,
   "id": "616ec96f-a709-41b7-9e85-6262bac0cd74",
   "metadata": {},
   "outputs": [
    {
     "data": {
      "text/plain": [
       "0"
      ]
     },
     "execution_count": 41,
     "metadata": {},
     "output_type": "execute_result"
    }
   ],
   "source": [
    "train_df['tweet_text'].isna().sum()"
   ]
  },
  {
   "attachments": {},
   "cell_type": "markdown",
   "id": "3eb4b12e-9ea6-492f-906c-e2a205ca0061",
   "metadata": {},
   "source": [
    "- Elimina puntuación y convierte a minúsculas\n",
    "- Se utiliza el método __str.translate()__ para eliminar todos los caracteres de puntuación mediante una tabla de traducción creada con el método __str.maketrans__. La constante string.punctuation contiene todos los caracteres de puntuación ASCII, que se eliminan de los valores en la columna"
   ]
  },
  {
   "cell_type": "code",
   "execution_count": 42,
   "id": "16ff03a8-76aa-4786-a794-e6744a45bc47",
   "metadata": {},
   "outputs": [
    {
     "data": {
      "text/plain": [
       "'!\"#$%&\\'()*+,-./:;<=>?@[\\\\]^_`{|}~'"
      ]
     },
     "execution_count": 42,
     "metadata": {},
     "output_type": "execute_result"
    }
   ],
   "source": [
    "import string\n",
    "string.punctuation"
   ]
  },
  {
   "cell_type": "code",
   "execution_count": 43,
   "id": "6a5aa290-98ec-4e71-a4e4-69efc463f8ec",
   "metadata": {},
   "outputs": [
    {
     "data": {
      "text/html": [
       "<div>\n",
       "<style scoped>\n",
       "    .dataframe tbody tr th:only-of-type {\n",
       "        vertical-align: middle;\n",
       "    }\n",
       "\n",
       "    .dataframe tbody tr th {\n",
       "        vertical-align: top;\n",
       "    }\n",
       "\n",
       "    .dataframe thead th {\n",
       "        text-align: right;\n",
       "    }\n",
       "</style>\n",
       "<table border=\"1\" class=\"dataframe\">\n",
       "  <thead>\n",
       "    <tr style=\"text-align: right;\">\n",
       "      <th></th>\n",
       "      <th>tweet_text</th>\n",
       "      <th>cyberbullying_type</th>\n",
       "    </tr>\n",
       "  </thead>\n",
       "  <tbody>\n",
       "    <tr>\n",
       "      <th>32620</th>\n",
       "      <td>if you’re in college and still posting about t...</td>\n",
       "      <td>4</td>\n",
       "    </tr>\n",
       "    <tr>\n",
       "      <th>9173</th>\n",
       "      <td>but there is still the dolly magazine model co...</td>\n",
       "      <td>1</td>\n",
       "    </tr>\n",
       "    <tr>\n",
       "      <th>1466</th>\n",
       "      <td>why am i disappointed</td>\n",
       "      <td>0</td>\n",
       "    </tr>\n",
       "    <tr>\n",
       "      <th>32887</th>\n",
       "      <td>what was the conversation was leading up to th...</td>\n",
       "      <td>4</td>\n",
       "    </tr>\n",
       "    <tr>\n",
       "      <th>15856</th>\n",
       "      <td>“faces up to three years in prison”  “getting ...</td>\n",
       "      <td>1</td>\n",
       "    </tr>\n",
       "  </tbody>\n",
       "</table>\n",
       "</div>"
      ],
      "text/plain": [
       "                                              tweet_text  cyberbullying_type\n",
       "32620  if you’re in college and still posting about t...                   4\n",
       "9173   but there is still the dolly magazine model co...                   1\n",
       "1466                               why am i disappointed                   0\n",
       "32887  what was the conversation was leading up to th...                   4\n",
       "15856  “faces up to three years in prison”  “getting ...                   1"
      ]
     },
     "execution_count": 43,
     "metadata": {},
     "output_type": "execute_result"
    }
   ],
   "source": [
    "train_df['tweet_text'] = train_df['tweet_text'].str.lower().str.translate(str.maketrans('', '', string.punctuation))\n",
    "train_df.head()"
   ]
  },
  {
   "cell_type": "code",
   "execution_count": 44,
   "id": "ee3ad12a-07bf-4535-a40d-140e89adb504",
   "metadata": {
    "tags": []
   },
   "outputs": [
    {
     "data": {
      "text/html": [
       "<div>\n",
       "<style scoped>\n",
       "    .dataframe tbody tr th:only-of-type {\n",
       "        vertical-align: middle;\n",
       "    }\n",
       "\n",
       "    .dataframe tbody tr th {\n",
       "        vertical-align: top;\n",
       "    }\n",
       "\n",
       "    .dataframe thead th {\n",
       "        text-align: right;\n",
       "    }\n",
       "</style>\n",
       "<table border=\"1\" class=\"dataframe\">\n",
       "  <thead>\n",
       "    <tr style=\"text-align: right;\">\n",
       "      <th></th>\n",
       "      <th>tweet_text</th>\n",
       "      <th>cyberbullying_type</th>\n",
       "    </tr>\n",
       "  </thead>\n",
       "  <tbody>\n",
       "    <tr>\n",
       "      <th>22180</th>\n",
       "      <td>too true their radical anti family anti bible ...</td>\n",
       "      <td>2</td>\n",
       "    </tr>\n",
       "    <tr>\n",
       "      <th>1399</th>\n",
       "      <td>this book was published in 2008</td>\n",
       "      <td>0</td>\n",
       "    </tr>\n",
       "    <tr>\n",
       "      <th>14950</th>\n",
       "      <td>rt strubbestition im not sexist but personal o...</td>\n",
       "      <td>1</td>\n",
       "    </tr>\n",
       "    <tr>\n",
       "      <th>17013</th>\n",
       "      <td>dianh4 exposefalsehood who else are we suppose...</td>\n",
       "      <td>2</td>\n",
       "    </tr>\n",
       "    <tr>\n",
       "      <th>45351</th>\n",
       "      <td>lmao u dumb rt k11agee what is the ciaa colore...</td>\n",
       "      <td>5</td>\n",
       "    </tr>\n",
       "  </tbody>\n",
       "</table>\n",
       "</div>"
      ],
      "text/plain": [
       "                                              tweet_text  cyberbullying_type\n",
       "22180  too true their radical anti family anti bible ...                   2\n",
       "1399                     this book was published in 2008                   0\n",
       "14950  rt strubbestition im not sexist but personal o...                   1\n",
       "17013  dianh4 exposefalsehood who else are we suppose...                   2\n",
       "45351  lmao u dumb rt k11agee what is the ciaa colore...                   5"
      ]
     },
     "execution_count": 44,
     "metadata": {},
     "output_type": "execute_result"
    }
   ],
   "source": [
    "val_df['tweet_text'] = val_df['tweet_text'].str.lower().str.translate(str.maketrans('', '', string.punctuation))\n",
    "val_df.head()"
   ]
  },
  {
   "attachments": {},
   "cell_type": "markdown",
   "id": "a651ba97-16f3-47fd-9798-5353586f346d",
   "metadata": {},
   "source": [
    "## 2.- Pipeline"
   ]
  },
  {
   "cell_type": "code",
   "execution_count": 45,
   "id": "a0182532-66f2-4482-9630-bda5d1470d76",
   "metadata": {},
   "outputs": [],
   "source": [
    "import os\n",
    "os.environ['TF_CPP_MIN_LOG_LEVEL'] = '3' # Disable tensorflow debugging logs\n",
    "import tensorflow as tf\n",
    "from tensorflow.keras.layers import TextVectorization\n",
    "from tensorflow.keras import Sequential\n",
    "from tensorflow.keras import layers \n",
    "import re\n",
    "\n",
    "X_train = train_df['tweet_text'].values\n",
    "y_train = train_df['cyberbullying_type'].values\n",
    "\n",
    "X_val = val_df['tweet_text'].values\n",
    "y_val = val_df['cyberbullying_type'].values"
   ]
  },
  {
   "cell_type": "code",
   "execution_count": 46,
   "id": "f8896562-dd30-431b-a7a1-55d084586352",
   "metadata": {
    "tags": []
   },
   "outputs": [
    {
     "data": {
      "text/plain": [
       "(40538, 7154)"
      ]
     },
     "execution_count": 46,
     "metadata": {},
     "output_type": "execute_result"
    }
   ],
   "source": [
    "len(X_train), len(X_val)"
   ]
  },
  {
   "cell_type": "code",
   "execution_count": 47,
   "id": "36d1a088-4c8c-4851-b53f-07e3432c3870",
   "metadata": {
    "scrolled": true,
    "tags": []
   },
   "outputs": [
    {
     "name": "stdout",
     "output_type": "stream",
     "text": [
      "(<tf.Tensor: shape=(), dtype=string, numpy=b'if you\\xe2\\x80\\x99re in college and still posting about the girl you had \\xe2\\x80\\x9cbeef\\xe2\\x80\\x9d with and bullied in high school on an insta spam page you\\xe2\\x80\\x99re straight up trash move tf on sis'>, <tf.Tensor: shape=(), dtype=int64, numpy=4>)\n"
     ]
    }
   ],
   "source": [
    "raw_train_ds = tf.data.Dataset.from_tensor_slices((X_train, y_train))\n",
    "raw_val_ds = tf.data.Dataset.from_tensor_slices((X_val, y_val))\n",
    "\n",
    "for text in raw_train_ds.take(1):\n",
    "    print(text)"
   ]
  },
  {
   "cell_type": "code",
   "execution_count": 48,
   "id": "52401e10-ade1-4f2a-9de7-036b7ee85556",
   "metadata": {},
   "outputs": [],
   "source": [
    "# Tamaño de vocabulario\n",
    "vocab_size = 10000\n",
    "\n",
    "vectorize_layer = TextVectorization(\n",
    "    standardize=None,\n",
    "    max_tokens=vocab_size,\n",
    "    output_mode='int')\n",
    "\n",
    "# Obtener el texto sin etiquetas\n",
    "text_ds = raw_train_ds.map(lambda x, y: x)\n",
    "vectorize_layer.adapt(text_ds)"
   ]
  },
  {
   "cell_type": "code",
   "execution_count": 49,
   "id": "3ed1f5fe-0b18-4b0e-8c5d-d1f7413bb780",
   "metadata": {
    "scrolled": true,
    "tags": []
   },
   "outputs": [],
   "source": [
    "# Define a function to convert the label to a one-hot encoding\n",
    "def convert_label_to_one_hot(text, label):\n",
    "    one_hot_label = tf.one_hot(label, 6)\n",
    "    return text, one_hot_label\n",
    "\n",
    "# Apply the function to the dataset using map()\n",
    "raw_train_ds = raw_train_ds.map(convert_label_to_one_hot)\n",
    "raw_val_ds = raw_val_ds.map(convert_label_to_one_hot)"
   ]
  },
  {
   "cell_type": "code",
   "execution_count": 50,
   "id": "862068ba-6861-441c-9ee2-dcd71a818bb1",
   "metadata": {
    "tags": []
   },
   "outputs": [],
   "source": [
    "batch_size = 32\n",
    "train_ds = raw_train_ds.shuffle(33384).batch(batch_size)\n",
    "val_ds = raw_val_ds.batch(batch_size)"
   ]
  },
  {
   "cell_type": "code",
   "execution_count": 51,
   "id": "1fc023a2-3151-4426-93e0-86c4da4b201a",
   "metadata": {
    "scrolled": true,
    "tags": []
   },
   "outputs": [
    {
     "name": "stdout",
     "output_type": "stream",
     "text": [
      "tf.Tensor(\n",
      "[b'had a nice run in with bill bennett on campus he was unaware that his ministry is responsible for local governance here'\n",
      " b'cant believe im still awake when i  have to wake up in 4 hours time for school but school until 11 only tmr \\xf0\\x9f\\x98\\x84'\n",
      " b'a very busy morning at the museum with a school group a photography group and group from thecooperative evening lecture still to come'\n",
      " b'12 have you ever heard of useful idiots amp agent provocateurs now here to discredit blacklivesmatter just likegtgtgtyou do know 5th columnists like hamas originally a creation of israel with muslim brotherhood to split the palestinian struggle plo amp directly against fatah pflp'\n",
      " b'truaemusic mattybboi83 number10gov what are you talking about'\n",
      " b'i hate the word reclaiming bc it sounds childish but its the only word i can think of right now to describe how ive gotten my free will and independent identity back i am a free woman in christ not a christian woman chained by her church'\n",
      " b'genanoncoward i knew this would be their response as soon as i saw the ad'\n",
      " b'donald always the uninvited bullytrying to divide the public school systems hoping teachers quit and go to private schoolsalways the liar hoping to look important and looking for love you are a mentally unstable person and your presidency is over'\n",
      " b'marleyfeen fuck that bs where his dumb ass at i feel like teaching a dumb nigger today yeah nigger'\n",
      " b'if you\\xe2\\x80\\x99re a man  i call you a bitch i meant that shit you must be acting like a female ion like that'\n",
      " b'a 2000s high school romance film about an urban pop punk kid who gets bullied by the suburban hardcore jocks and at the end he gets the girl when she discovers her bf supports the iraq war'\n",
      " b'nice strawman literally never said that i actually said the characters were good in one of my first tweets idk what ur on i thought the stuff with n was goated and the finale was cum again you seem to forget i said i love gen 5 its just not the best gen'\n",
      " b'rt stuartpaget5 not sexist but female football commentators just dont work cant take it serious netball maybe'\n",
      " b'all you can eat buffet at pizza hut \\xf0\\x9f\\x91\\x8d pizza bread sticks amp salad \\xf0\\x9f\\x98\\x8b\\xf0\\x9f\\x98\\x8b'\n",
      " b'i bet if he fought back he\\xe2\\x80\\x99d get him more trouble bullies have an eye for a victim kids at my school that had time off for stress is so sad'\n",
      " b'i swear its always the skinny girls that bullied everyone for their weight in high school that gain weight in their 20s and suddenly go on a body posi tour on their facebooks im always side eyeing especially after they shamed people online for a decade'\n",
      " b'she need 2 dm me but she in school  i think'\n",
      " b'why the pain for only muslim why not for hindu christian jewish did islam teach you to love only muslimthen what will you say on maharashtra muslim mob lynching on 3 hindus why you dont speak against them or you support radical islam'\n",
      " b'karmas a bitch right kat mkr mkr2015'\n",
      " b'agora \\xc3\\xa9 jessie j sobre bullying'\n",
      " b'i recognize it because being north indian i have wavy thick hair and when white kids in tx would try to bully me in school they would always comment on it before calling me gay republicans also ran videos of john edwards combing his hair set to west side story classy huh'\n",
      " b'if you want to clean that blood desk start with every church and i mean every church does not matter if its jewish or muslim or whatever the hoax is that is planted in human minds its useless to pick trump as a source trump is a result of idiot church systems not a source'\n",
      " b'djosephj no sweat' b'pvp with bebbit warcraft selfie httptcoq4bjfy8t7t'\n",
      " b'you clearly didn\\xe2\\x80\\x99t understand what i said islamic terrorism doesn\\xe2\\x80\\x99t exist because it doesn\\xe2\\x80\\x99t exist in islam it\\xe2\\x80\\x99s just terrorism isis was literally created because of the us and uk and ur here screaming islamic terrorism read a book u uneducated swine'\n",
      " b'rt mellym09 not really a fan of katieandnikki but wouldve rather they stayed than katandandre mkr'\n",
      " b'sudixitca a few manufacturing jobs are already migrating back to the us  the chinese wont work cheap forever'\n",
      " b'i\\xe2\\x80\\x99m not muslim but meat being halal has no detrimental impact to anyone it doesn\\xe2\\x80\\x99t taste different it makes no difference to the consumer unless you\\xe2\\x80\\x99re muslim or of course a racist lmao islamaphobes think as soon as they eat halal they\\xe2\\x80\\x99re gona start reciting the quran idiots'\n",
      " b'peninsulaqatar not a real expansion just already existing local terrorists declaring loyalty to the worst of the worst'\n",
      " b'shehzilk watan71969 99 of the time you muslims play the victim card its a lie and the reverse is true httptcoxqxxq4wdho'\n",
      " b'before anybody can support the process this basic information is needed'\n",
      " b'benkuchera i can program it to do many things rabdafgtserdfwgradggrtybgbawfhghddsfdtgtgbwjdserdfggvssadfrwqvxxsdf httpstcofljadohl24'], shape=(32,), dtype=string) tf.Tensor(\n",
      "[[1. 0. 0. 0. 0. 0.]\n",
      " [1. 0. 0. 0. 0. 0.]\n",
      " [1. 0. 0. 0. 0. 0.]\n",
      " [0. 0. 1. 0. 0. 0.]\n",
      " [1. 0. 0. 0. 0. 0.]\n",
      " [0. 0. 1. 0. 0. 0.]\n",
      " [0. 1. 0. 0. 0. 0.]\n",
      " [0. 0. 0. 0. 1. 0.]\n",
      " [0. 0. 0. 0. 0. 1.]\n",
      " [0. 1. 0. 0. 0. 0.]\n",
      " [0. 0. 0. 0. 1. 0.]\n",
      " [0. 0. 0. 0. 0. 1.]\n",
      " [0. 1. 0. 0. 0. 0.]\n",
      " [1. 0. 0. 0. 0. 0.]\n",
      " [0. 0. 0. 0. 1. 0.]\n",
      " [0. 0. 0. 0. 1. 0.]\n",
      " [1. 0. 0. 0. 0. 0.]\n",
      " [0. 0. 1. 0. 0. 0.]\n",
      " [0. 1. 0. 0. 0. 0.]\n",
      " [1. 0. 0. 0. 0. 0.]\n",
      " [0. 0. 0. 0. 1. 0.]\n",
      " [0. 0. 1. 0. 0. 0.]\n",
      " [1. 0. 0. 0. 0. 0.]\n",
      " [0. 0. 0. 1. 0. 0.]\n",
      " [0. 0. 1. 0. 0. 0.]\n",
      " [1. 0. 0. 0. 0. 0.]\n",
      " [1. 0. 0. 0. 0. 0.]\n",
      " [0. 0. 1. 0. 0. 0.]\n",
      " [0. 0. 1. 0. 0. 0.]\n",
      " [0. 0. 1. 0. 0. 0.]\n",
      " [0. 0. 1. 0. 0. 0.]\n",
      " [0. 0. 0. 1. 0. 0.]], shape=(32, 6), dtype=float32)\n"
     ]
    }
   ],
   "source": [
    "for inp, target in train_ds.take(1):\n",
    "    print(inp, target)"
   ]
  },
  {
   "cell_type": "code",
   "execution_count": 52,
   "id": "c31ebadd-1c86-4c71-886f-32adab6e453f",
   "metadata": {
    "tags": []
   },
   "outputs": [
    {
     "data": {
      "text/plain": [
       "<tf.Tensor: shape=(32, 55), dtype=int64, numpy=\n",
       "array([[ 113,    3,  405, ...,    0,    0,    0],\n",
       "       [ 141,  249,   50, ...,    0,    0,    0],\n",
       "       [   3,  225, 1912, ...,    0,    0,    0],\n",
       "       ...,\n",
       "       [7883, 4775, 2994, ...,    0,    0,    0],\n",
       "       [ 229, 1635,   73, ...,    0,    0,    0],\n",
       "       [7610,    6,   73, ...,    0,    0,    0]], dtype=int64)>"
      ]
     },
     "execution_count": 52,
     "metadata": {},
     "output_type": "execute_result"
    }
   ],
   "source": [
    "vectorize_layer(inp)"
   ]
  },
  {
   "attachments": {},
   "cell_type": "markdown",
   "id": "938c3502-a5d2-4124-a485-00046a013ed2",
   "metadata": {},
   "source": [
    "## 3.- Modelo"
   ]
  },
  {
   "cell_type": "code",
   "execution_count": 53,
   "id": "fc440688-eeec-43ed-85c9-0cf1482e9362",
   "metadata": {
    "tags": []
   },
   "outputs": [],
   "source": [
    "model = Sequential([\n",
    "  vectorize_layer,\n",
    "  layers.Embedding(vocab_size, 128, name=\"embedding\"),\n",
    "  layers.GlobalAveragePooling1D(),\n",
    "  layers.Dense(16, activation='relu'),\n",
    "  layers.Dense(16, activation='relu'),\n",
    "  layers.Dense(6)\n",
    "])\n",
    "\n",
    "lr = 0.0001\n",
    "opt = tf.keras.optimizers.Adam(learning_rate=lr)"
   ]
  },
  {
   "cell_type": "code",
   "execution_count": 54,
   "id": "f1a28c86-cea1-4492-ab77-5a45d922917d",
   "metadata": {
    "tags": []
   },
   "outputs": [],
   "source": [
    "model.compile(loss=tf.keras.losses.CategoricalCrossentropy(from_logits=True),\n",
    "              optimizer=opt,\n",
    "              metrics=['accuracy'])"
   ]
  },
  {
   "cell_type": "code",
   "execution_count": 55,
   "id": "5ac0bedf-540e-4a46-8dd6-899a9bd2933d",
   "metadata": {
    "scrolled": true,
    "tags": []
   },
   "outputs": [
    {
     "data": {
      "text/plain": [
       "<tf.Tensor: shape=(32, 6), dtype=float32, numpy=\n",
       "array([[-1.71611004e-03,  1.20178675e-02, -1.86494412e-03,\n",
       "         2.11396813e-02, -5.28508704e-03, -9.98621993e-03],\n",
       "       [-2.00704578e-03,  1.20088411e-02, -1.00003288e-03,\n",
       "         2.09495574e-02, -4.83734393e-03, -9.64606740e-03],\n",
       "       [-2.09410815e-03,  1.24992998e-02, -2.34186719e-03,\n",
       "         2.34436598e-02, -5.42774424e-03, -1.05292369e-02],\n",
       "       [ 1.52328575e-04,  6.92556472e-03,  4.52062930e-04,\n",
       "         7.46289408e-03, -4.95623425e-03, -5.23013389e-03],\n",
       "       [-3.40922736e-03,  1.81935132e-02, -2.78282957e-03,\n",
       "         3.41107287e-02, -8.02877918e-03, -1.50808441e-02],\n",
       "       [-7.82715724e-05,  3.27933067e-03,  1.00895108e-04,\n",
       "         4.54865303e-03, -1.13765337e-03, -2.93196621e-03],\n",
       "       [-2.23579421e-03,  1.32595217e-02, -4.71671345e-03,\n",
       "         2.90168542e-02, -5.43333497e-03, -1.20801581e-02],\n",
       "       [ 8.74928955e-04,  5.38261142e-03, -4.46042279e-03,\n",
       "         1.44201713e-02, -1.33273343e-03, -7.17403926e-03],\n",
       "       [-3.51880095e-03,  1.95271708e-02, -1.92026331e-04,\n",
       "         3.14311683e-02, -8.79477244e-03, -1.49039049e-02],\n",
       "       [-1.02900353e-03,  1.07656876e-02, -2.14832695e-03,\n",
       "         2.03729812e-02, -3.84837226e-03, -9.49935615e-03],\n",
       "       [-2.87894200e-05,  9.47839487e-03,  2.29121215e-04,\n",
       "         1.18371742e-02, -3.51351919e-03, -6.80179009e-03],\n",
       "       [ 6.16827583e-06, -2.41230452e-03, -1.15329563e-03,\n",
       "         6.53786259e-03,  6.73404487e-04, -3.56532121e-03],\n",
       "       [-8.76091653e-04,  1.53371925e-02, -1.97041058e-03,\n",
       "         2.40534097e-02, -7.11286673e-03, -1.19180512e-02],\n",
       "       [-3.41108954e-03,  2.00373065e-02, -1.20204396e-03,\n",
       "         3.25493179e-02, -9.78860259e-03, -1.57314800e-02],\n",
       "       [ 3.19332263e-04,  4.97985212e-03, -3.54184792e-03,\n",
       "         1.29073877e-02, -2.10747425e-03, -5.52359363e-03],\n",
       "       [-1.71185785e-03,  4.58623609e-03,  4.87181358e-04,\n",
       "         7.15584494e-03, -3.61002353e-03, -3.54449102e-03],\n",
       "       [-3.35376547e-03,  1.68094076e-02, -3.42771411e-03,\n",
       "         3.30215283e-02, -7.17076799e-03, -1.41729498e-02],\n",
       "       [ 1.12332066e-03,  1.84841861e-03, -4.91309958e-03,\n",
       "         8.62169918e-03, -6.39214530e-04, -3.64824268e-03],\n",
       "       [-3.99322715e-03,  1.93550196e-02, -2.95884954e-03,\n",
       "         3.60325910e-02, -9.45772044e-03, -1.56432036e-02],\n",
       "       [-4.73434944e-03,  2.00764388e-02, -3.34938546e-03,\n",
       "         3.88460718e-02, -9.85879917e-03, -1.64243653e-02],\n",
       "       [ 1.64419482e-03,  5.52740064e-04, -2.77295196e-03,\n",
       "         6.23527030e-03, -2.78968277e-04, -4.15115245e-03],\n",
       "       [ 1.73536211e-03, -2.83049489e-03, -2.34796992e-03,\n",
       "         8.05067644e-03, -3.48573341e-03, -7.89110176e-03],\n",
       "       [-4.19305917e-03,  2.06228998e-02, -3.15570785e-03,\n",
       "         3.80869061e-02, -1.05756037e-02, -1.65447313e-02],\n",
       "       [-4.50788764e-03,  2.19740886e-02, -2.23748782e-03,\n",
       "         3.85060795e-02, -1.09610176e-02, -1.70639046e-02],\n",
       "       [-1.30289420e-03,  3.49699962e-03,  2.55070336e-04,\n",
       "         6.04312448e-03, -3.71598080e-03, -4.40497231e-03],\n",
       "       [-2.89408164e-03,  1.62764229e-02, -1.66256668e-03,\n",
       "         2.79604420e-02, -8.01555533e-03, -1.26590505e-02],\n",
       "       [-1.30060082e-03,  1.33997686e-02, -4.78316052e-03,\n",
       "         2.75313351e-02, -6.67840149e-03, -1.19451899e-02],\n",
       "       [ 1.10662146e-03,  4.87222336e-03,  1.38554271e-04,\n",
       "         6.19799970e-03, -6.72872039e-03, -5.57844853e-03],\n",
       "       [-2.62897718e-03,  1.77501794e-02, -1.14489912e-05,\n",
       "         2.67948508e-02, -9.34620481e-03, -1.35304667e-02],\n",
       "       [-3.31337773e-03,  1.37904873e-02, -3.10160290e-03,\n",
       "         2.86283288e-02, -6.49133697e-03, -1.19582992e-02],\n",
       "       [-4.00047516e-03,  1.86363347e-02, -2.59529660e-03,\n",
       "         3.52078825e-02, -8.30752961e-03, -1.53368693e-02],\n",
       "       [-4.26719943e-03,  2.00472884e-02, -2.65363324e-03,\n",
       "         3.62628140e-02, -1.05088409e-02, -1.57466345e-02]], dtype=float32)>"
      ]
     },
     "execution_count": 55,
     "metadata": {},
     "output_type": "execute_result"
    }
   ],
   "source": [
    "model(inp)"
   ]
  },
  {
   "cell_type": "code",
   "execution_count": 56,
   "id": "375d4ab4-d619-4ce2-a6d0-010edf5c8676",
   "metadata": {
    "scrolled": true,
    "tags": []
   },
   "outputs": [
    {
     "name": "stdout",
     "output_type": "stream",
     "text": [
      "Epoch 1/7\n",
      "1267/1267 [==============================] - 7s 5ms/step - loss: 1.6414 - accuracy: 0.3492 - val_loss: 1.3830 - val_accuracy: 0.4788\n",
      "Epoch 2/7\n",
      "1267/1267 [==============================] - 6s 4ms/step - loss: 1.1092 - accuracy: 0.6144 - val_loss: 0.8868 - val_accuracy: 0.7119\n",
      "Epoch 3/7\n",
      "1267/1267 [==============================] - 6s 4ms/step - loss: 0.7445 - accuracy: 0.7430 - val_loss: 0.6468 - val_accuracy: 0.7599\n",
      "Epoch 4/7\n",
      "1267/1267 [==============================] - 6s 4ms/step - loss: 0.5830 - accuracy: 0.7764 - val_loss: 0.5548 - val_accuracy: 0.7716\n",
      "Epoch 5/7\n",
      "1267/1267 [==============================] - 6s 5ms/step - loss: 0.5133 - accuracy: 0.7912 - val_loss: 0.5119 - val_accuracy: 0.7886\n",
      "Epoch 6/7\n",
      "1267/1267 [==============================] - 6s 5ms/step - loss: 0.4768 - accuracy: 0.8040 - val_loss: 0.4909 - val_accuracy: 0.7937\n",
      "Epoch 7/7\n",
      "1267/1267 [==============================] - 6s 5ms/step - loss: 0.4542 - accuracy: 0.8145 - val_loss: 0.4787 - val_accuracy: 0.7916\n"
     ]
    }
   ],
   "source": [
    "epochs = 7\n",
    "history = model.fit(\n",
    "    train_ds,\n",
    "    validation_data=val_ds,\n",
    "    epochs=epochs)"
   ]
  },
  {
   "attachments": {},
   "cell_type": "markdown",
   "id": "0fa8a339-98cf-45d5-8633-70a59badcf3f",
   "metadata": {},
   "source": [
    "## 4.- Evaluación"
   ]
  },
  {
   "cell_type": "code",
   "execution_count": 57,
   "id": "48f29125-8645-490b-9361-53c85e5e69d2",
   "metadata": {
    "tags": []
   },
   "outputs": [
    {
     "name": "stdout",
     "output_type": "stream",
     "text": [
      "224/224 [==============================] - 1s 4ms/step - loss: 0.4787 - accuracy: 0.7916\n"
     ]
    },
    {
     "data": {
      "text/plain": [
       "[0.47874006628990173, 0.7915851473808289]"
      ]
     },
     "execution_count": 57,
     "metadata": {},
     "output_type": "execute_result"
    }
   ],
   "source": [
    "model.evaluate(val_ds)"
   ]
  },
  {
   "cell_type": "code",
   "execution_count": 58,
   "id": "698e2031-8c7e-4ec9-97f1-40939b7d36d2",
   "metadata": {
    "tags": []
   },
   "outputs": [
    {
     "data": {
      "text/plain": [
       "(TensorShape([32]), TensorShape([32, 6]))"
      ]
     },
     "execution_count": 58,
     "metadata": {},
     "output_type": "execute_result"
    }
   ],
   "source": [
    "x_test, y_test = next(iter(val_ds))\n",
    "x_test.shape, y_test.shape"
   ]
  },
  {
   "cell_type": "code",
   "execution_count": 59,
   "id": "b229df39-cb76-4270-b842-0bd598d2d15a",
   "metadata": {
    "tags": []
   },
   "outputs": [
    {
     "data": {
      "text/plain": [
       "[<keras.layers.preprocessing.text_vectorization.TextVectorization at 0x1be2b3d6bf0>,\n",
       " <keras.layers.core.embedding.Embedding at 0x1be0ff97d60>,\n",
       " <keras.layers.pooling.global_average_pooling1d.GlobalAveragePooling1D at 0x1be0ff94f70>,\n",
       " <keras.layers.core.dense.Dense at 0x1be443b3370>,\n",
       " <keras.layers.core.dense.Dense at 0x1be443b3b50>,\n",
       " <keras.layers.core.dense.Dense at 0x1be443b16c0>]"
      ]
     },
     "execution_count": 59,
     "metadata": {},
     "output_type": "execute_result"
    }
   ],
   "source": [
    "model.layers"
   ]
  },
  {
   "cell_type": "code",
   "execution_count": 120,
   "id": "43023c09-4ccb-4b34-a670-7230284bfc28",
   "metadata": {
    "scrolled": true,
    "tags": []
   },
   "outputs": [
    {
     "data": {
      "text/plain": [
       "<tf.Tensor: shape=(1, 44, 128), dtype=float32, numpy=\n",
       "array([[[-0.06776918, -0.03036616,  0.02647226, ..., -0.15432985,\n",
       "          0.13737239, -0.00166553],\n",
       "        [-0.20702492,  0.21697265, -0.23359275, ...,  0.25016508,\n",
       "          0.37956855, -0.39918777],\n",
       "        [-0.329069  , -0.20193923, -0.38064116, ...,  0.33575016,\n",
       "          0.42067462, -0.40502322],\n",
       "        ...,\n",
       "        [-0.02076153,  0.03430504, -0.06277589, ..., -0.01039262,\n",
       "          0.04620405,  0.01994292],\n",
       "        [-0.06776918, -0.03036616,  0.02647226, ..., -0.15432985,\n",
       "          0.13737239, -0.00166553],\n",
       "        [-0.04282129,  0.02105879,  0.00567982, ...,  0.05310455,\n",
       "          0.11818656, -0.06400306]]], dtype=float32)>"
      ]
     },
     "execution_count": 120,
     "metadata": {},
     "output_type": "execute_result"
    }
   ],
   "source": [
    "words = 'boomer black muslim catholic religion asian chinese china afro african old young immature inexperience women men childish yellow nigga nigger kitchen islam obama trump mexican LGBT lesbian gay trans dark femenine poof homo nancy fairy pansy queen dyke fag god ape cotton eggplant monkey '\n",
    "ids = model.layers[0]([words])\n",
    "embeddings = model.layers[1](ids)\n",
    "embeddings"
   ]
  },
  {
   "attachments": {},
   "cell_type": "markdown",
   "id": "6353839d-a3bd-4826-becc-b145ff6c2610",
   "metadata": {},
   "source": [
    "- Visualización de los vectores aprendidos"
   ]
  },
  {
   "cell_type": "code",
   "execution_count": 121,
   "id": "11e9ab42-b52e-48d8-80dd-2bfaf62a7386",
   "metadata": {
    "tags": []
   },
   "outputs": [
    {
     "name": "stdout",
     "output_type": "stream",
     "text": [
      "(44, 2)\n"
     ]
    },
    {
     "data": {
      "image/png": "[encoded data removed]",
      "text/plain": [
       "<Figure size 640x480 with 1 Axes>"
      ]
     },
     "metadata": {},
     "output_type": "display_data"
    }
   ],
   "source": [
    "import numpy as np\n",
    "import matplotlib.pyplot as plt\n",
    "from sklearn.decomposition import PCA\n",
    "import tensorflow as tf\n",
    "\n",
    "\n",
    "# Perform PCA on embeddings\n",
    "pca = PCA(n_components=2)\n",
    "pca_embeddings = pca.fit_transform(embeddings[0])\n",
    "print(pca_embeddings.shape)\n",
    "\n",
    "# Plot embeddings using matplotlib\n",
    "fig, ax = plt.subplots()\n",
    "ax.scatter(pca_embeddings[:, 0], pca_embeddings[:, 1], marker='o', c='b')\n",
    "\n",
    "for i, word in enumerate(words.split()):\n",
    "    ax.annotate(word, (pca_embeddings[i, 0], pca_embeddings[i, 1]))\n",
    "    \n",
    "plt.show()"
   ]
  },
  {
   "cell_type": "code",
   "execution_count": null,
   "id": "1c93bfc2",
   "metadata": {},
   "outputs": [],
   "source": []
  }
 ],
 "metadata": {
  "kernelspec": {
   "display_name": "Python 3 (ipykernel)",
   "language": "python",
   "name": "python3"
  },
  "language_info": {
   "codemirror_mode": {
    "name": "ipython",
    "version": 3
   },
   "file_extension": ".py",
   "mimetype": "text/x-python",
   "name": "python",
   "nbconvert_exporter": "python",
   "pygments_lexer": "ipython3",
   "version": "3.10.0"
  }
 },
 "nbformat": 4,
 "nbformat_minor": 5
}
