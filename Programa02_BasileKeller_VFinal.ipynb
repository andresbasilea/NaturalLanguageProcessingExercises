{
 "cells": [
  {
   "attachments": {},
   "cell_type": "markdown",
   "id": "4d94e02b",
   "metadata": {},
   "source": [
    "### Basile Álvarez Andrés José\n",
    "### Keller Ascencio Rodolfo Andrés"
   ]
  },
  {
   "attachments": {},
   "cell_type": "markdown",
   "id": "4b00f678-39f7-4be2-aa51-cc4737fcd1a0",
   "metadata": {
    "id": "4b00f678-39f7-4be2-aa51-cc4737fcd1a0"
   },
   "source": [
    "# MLP"
   ]
  },
  {
   "attachments": {},
   "cell_type": "markdown",
   "id": "9d1cd0c3-599d-4c44-a4df-fb42b5f49bb1",
   "metadata": {
    "id": "9d1cd0c3-599d-4c44-a4df-fb42b5f49bb1"
   },
   "source": [
    "## 1.- Preprocesamiento"
   ]
  },
  {
   "cell_type": "code",
   "execution_count": 1,
   "id": "32ca544e",
   "metadata": {},
   "outputs": [],
   "source": [
    "# pip install pandas"
   ]
  },
  {
   "cell_type": "code",
   "execution_count": 1,
   "id": "d1458c2c-1dfe-4638-8655-a28df1ccd4ef",
   "metadata": {
    "id": "d1458c2c-1dfe-4638-8655-a28df1ccd4ef",
    "scrolled": true
   },
   "outputs": [],
   "source": [
    "import pandas as pd"
   ]
  },
  {
   "attachments": {},
   "cell_type": "markdown",
   "id": "90f69056",
   "metadata": {},
   "source": [
    "- Importamos los tres conjuntos de datos de cyberbullying"
   ]
  },
  {
   "cell_type": "code",
   "execution_count": 2,
   "id": "_zjlxd0p_ZON",
   "metadata": {
    "id": "_zjlxd0p_ZON"
   },
   "outputs": [],
   "source": [
    "cyberbullying_train_df = pd.read_csv('cyberbullying_train.csv')  \n",
    "cyberbullying_test_df = pd.read_csv('cyberbullying_test.csv')  \n",
    "cyberbullying_val_df = pd.read_csv('cyberbullying_val.csv')  "
   ]
  },
  {
   "cell_type": "code",
   "execution_count": 3,
   "id": "35f0db65-4358-4f2b-baa7-3cf6250519ee",
   "metadata": {
    "colab": {
     "base_uri": "https://localhost:8080/",
     "height": 206
    },
    "id": "35f0db65-4358-4f2b-baa7-3cf6250519ee",
    "outputId": "7df3ce7f-daf5-45a9-ff93-c4afd3bc8800"
   },
   "outputs": [
    {
     "data": {
      "text/html": [
       "<div>\n",
       "<style scoped>\n",
       "    .dataframe tbody tr th:only-of-type {\n",
       "        vertical-align: middle;\n",
       "    }\n",
       "\n",
       "    .dataframe tbody tr th {\n",
       "        vertical-align: top;\n",
       "    }\n",
       "\n",
       "    .dataframe thead th {\n",
       "        text-align: right;\n",
       "    }\n",
       "</style>\n",
       "<table border=\"1\" class=\"dataframe\">\n",
       "  <thead>\n",
       "    <tr style=\"text-align: right;\">\n",
       "      <th></th>\n",
       "      <th>tweet_text</th>\n",
       "      <th>cyberbullying_type</th>\n",
       "    </tr>\n",
       "  </thead>\n",
       "  <tbody>\n",
       "    <tr>\n",
       "      <th>0</th>\n",
       "      <td>@AntonSirius @erinspice @prpltnkr @ChiefElk oh...</td>\n",
       "      <td>other_cyberbullying</td>\n",
       "    </tr>\n",
       "    <tr>\n",
       "      <th>1</th>\n",
       "      <td>Ladies \"Bedroom Bully\" The Mix Cd By @GappyRan...</td>\n",
       "      <td>not_cyberbullying</td>\n",
       "    </tr>\n",
       "    <tr>\n",
       "      <th>2</th>\n",
       "      <td>RT @_bobbidana: Never thought I'd say this but...</td>\n",
       "      <td>not_cyberbullying</td>\n",
       "    </tr>\n",
       "    <tr>\n",
       "      <th>3</th>\n",
       "      <td>She is intellectual terrorists and world suffe...</td>\n",
       "      <td>religion</td>\n",
       "    </tr>\n",
       "    <tr>\n",
       "      <th>4</th>\n",
       "      <td>You saudias are not friends of Muslim idiots c...</td>\n",
       "      <td>religion</td>\n",
       "    </tr>\n",
       "  </tbody>\n",
       "</table>\n",
       "</div>"
      ],
      "text/plain": [
       "                                          tweet_text   cyberbullying_type\n",
       "0  @AntonSirius @erinspice @prpltnkr @ChiefElk oh...  other_cyberbullying\n",
       "1  Ladies \"Bedroom Bully\" The Mix Cd By @GappyRan...    not_cyberbullying\n",
       "2  RT @_bobbidana: Never thought I'd say this but...    not_cyberbullying\n",
       "3  She is intellectual terrorists and world suffe...             religion\n",
       "4  You saudias are not friends of Muslim idiots c...             religion"
      ]
     },
     "execution_count": 3,
     "metadata": {},
     "output_type": "execute_result"
    }
   ],
   "source": [
    "cyberbullying_train_df.head()"
   ]
  },
  {
   "attachments": {},
   "cell_type": "markdown",
   "id": "bb0ca784-81d1-4294-923f-6ae1882587d9",
   "metadata": {
    "id": "bb0ca784-81d1-4294-923f-6ae1882587d9"
   },
   "source": [
    "- Los elementos ya cuentan con etiquetas de clase, siendo estos cyberbullying_type"
   ]
  },
  {
   "cell_type": "code",
   "execution_count": 4,
   "id": "af89b494-7e3c-486c-837e-326a9b96a3bc",
   "metadata": {
    "colab": {
     "base_uri": "https://localhost:8080/"
    },
    "id": "af89b494-7e3c-486c-837e-326a9b96a3bc",
    "outputId": "600969cc-bec0-4004-c6f1-ea041db9625a"
   },
   "outputs": [
    {
     "data": {
      "text/plain": [
       "(33384, 7154, 7154)"
      ]
     },
     "execution_count": 4,
     "metadata": {},
     "output_type": "execute_result"
    }
   ],
   "source": [
    "len(cyberbullying_train_df), len(cyberbullying_test_df), len(cyberbullying_val_df)"
   ]
  },
  {
   "cell_type": "code",
   "execution_count": 5,
   "id": "b55f28f4-46f3-4e92-aae0-9fc159bfea69",
   "metadata": {
    "colab": {
     "base_uri": "https://localhost:8080/",
     "height": 337
    },
    "id": "b55f28f4-46f3-4e92-aae0-9fc159bfea69",
    "outputId": "94a11f51-a670-467e-c31c-f6ffa1abb6f6"
   },
   "outputs": [
    {
     "data": {
      "text/html": [
       "<div>\n",
       "<style scoped>\n",
       "    .dataframe tbody tr th:only-of-type {\n",
       "        vertical-align: middle;\n",
       "    }\n",
       "\n",
       "    .dataframe tbody tr th {\n",
       "        vertical-align: top;\n",
       "    }\n",
       "\n",
       "    .dataframe thead th {\n",
       "        text-align: right;\n",
       "    }\n",
       "</style>\n",
       "<table border=\"1\" class=\"dataframe\">\n",
       "  <thead>\n",
       "    <tr style=\"text-align: right;\">\n",
       "      <th></th>\n",
       "      <th>tweet_text</th>\n",
       "      <th>cyberbullying_type</th>\n",
       "    </tr>\n",
       "  </thead>\n",
       "  <tbody>\n",
       "    <tr>\n",
       "      <th>33379</th>\n",
       "      <td>Missing school for the Grey Cup festivall at N...</td>\n",
       "      <td>not_cyberbullying</td>\n",
       "    </tr>\n",
       "    <tr>\n",
       "      <th>33380</th>\n",
       "      <td>Seriously, \"lady\" is what my mom calls her clo...</td>\n",
       "      <td>gender</td>\n",
       "    </tr>\n",
       "    <tr>\n",
       "      <th>33381</th>\n",
       "      <td>Same as religion, one rule for muslims ,one ru...</td>\n",
       "      <td>religion</td>\n",
       "    </tr>\n",
       "    <tr>\n",
       "      <th>33382</th>\n",
       "      <td>@TheOmegaKira @slashdot doesn't look like I am.</td>\n",
       "      <td>other_cyberbullying</td>\n",
       "    </tr>\n",
       "    <tr>\n",
       "      <th>33383</th>\n",
       "      <td>CLOUD (edited): “It’s lazy for a comedian to b...</td>\n",
       "      <td>gender</td>\n",
       "    </tr>\n",
       "  </tbody>\n",
       "</table>\n",
       "</div>"
      ],
      "text/plain": [
       "                                              tweet_text   cyberbullying_type\n",
       "33379  Missing school for the Grey Cup festivall at N...    not_cyberbullying\n",
       "33380  Seriously, \"lady\" is what my mom calls her clo...               gender\n",
       "33381  Same as religion, one rule for muslims ,one ru...             religion\n",
       "33382    @TheOmegaKira @slashdot doesn't look like I am.  other_cyberbullying\n",
       "33383  CLOUD (edited): “It’s lazy for a comedian to b...               gender"
      ]
     },
     "execution_count": 5,
     "metadata": {},
     "output_type": "execute_result"
    }
   ],
   "source": [
    "cyberbullying_train_df.tail()"
   ]
  },
  {
   "attachments": {},
   "cell_type": "markdown",
   "id": "704e62f7-ebfe-4a08-919d-21a7b01e8cdb",
   "metadata": {
    "id": "704e62f7-ebfe-4a08-919d-21a7b01e8cdb"
   },
   "source": [
    "- Verifica cadenas vacias"
   ]
  },
  {
   "cell_type": "code",
   "execution_count": 6,
   "id": "616ec96f-a709-41b7-9e85-6262bac0cd74",
   "metadata": {
    "colab": {
     "base_uri": "https://localhost:8080/"
    },
    "id": "616ec96f-a709-41b7-9e85-6262bac0cd74",
    "outputId": "5db4c692-48e2-4c94-b93d-2ca72894008d"
   },
   "outputs": [
    {
     "data": {
      "text/plain": [
       "(0, 0, 0)"
      ]
     },
     "execution_count": 6,
     "metadata": {},
     "output_type": "execute_result"
    }
   ],
   "source": [
    "cyberbullying_train_df['tweet_text'].isna().sum(), cyberbullying_test_df['tweet_text'].isna().sum(), cyberbullying_val_df['tweet_text'].isna().sum()"
   ]
  },
  {
   "attachments": {},
   "cell_type": "markdown",
   "id": "6caf7e1b-c993-4d9a-9b32-c6475f6b688b",
   "metadata": {
    "id": "6caf7e1b-c993-4d9a-9b32-c6475f6b688b"
   },
   "source": [
    "- Elimina duplicados"
   ]
  },
  {
   "cell_type": "code",
   "execution_count": 7,
   "id": "81e6483d-e3e6-4902-aeea-f5b2c00a77a5",
   "metadata": {
    "colab": {
     "base_uri": "https://localhost:8080/"
    },
    "id": "81e6483d-e3e6-4902-aeea-f5b2c00a77a5",
    "outputId": "fc5c49fd-0dc0-4143-fd32-b2aef990db94"
   },
   "outputs": [
    {
     "data": {
      "text/plain": [
       "32534"
      ]
     },
     "execution_count": 7,
     "metadata": {},
     "output_type": "execute_result"
    }
   ],
   "source": [
    "cyberbullying_train_df = cyberbullying_train_df.drop_duplicates(subset=['tweet_text'])\n",
    "len(cyberbullying_train_df)"
   ]
  },
  {
   "cell_type": "code",
   "execution_count": 8,
   "id": "c7ab11f4",
   "metadata": {},
   "outputs": [
    {
     "data": {
      "text/plain": [
       "7119"
      ]
     },
     "execution_count": 8,
     "metadata": {},
     "output_type": "execute_result"
    }
   ],
   "source": [
    "cyberbullying_test_df = cyberbullying_test_df.drop_duplicates(subset=['tweet_text'])\n",
    "len(cyberbullying_test_df)"
   ]
  },
  {
   "cell_type": "code",
   "execution_count": 9,
   "id": "5cbafc2f",
   "metadata": {},
   "outputs": [
    {
     "data": {
      "text/plain": [
       "7118"
      ]
     },
     "execution_count": 9,
     "metadata": {},
     "output_type": "execute_result"
    }
   ],
   "source": [
    "cyberbullying_val_df = cyberbullying_val_df.drop_duplicates(subset=['tweet_text'])\n",
    "len(cyberbullying_val_df)"
   ]
  },
  {
   "cell_type": "code",
   "execution_count": 10,
   "id": "23023c67-9ac0-4097-8e91-6b6f417261cb",
   "metadata": {
    "colab": {
     "base_uri": "https://localhost:8080/",
     "height": 642
    },
    "id": "23023c67-9ac0-4097-8e91-6b6f417261cb",
    "outputId": "336924e6-a8b1-4db5-c4e8-115c1d42896d"
   },
   "outputs": [
    {
     "data": {
      "text/html": [
       "<div>\n",
       "<style scoped>\n",
       "    .dataframe tbody tr th:only-of-type {\n",
       "        vertical-align: middle;\n",
       "    }\n",
       "\n",
       "    .dataframe tbody tr th {\n",
       "        vertical-align: top;\n",
       "    }\n",
       "\n",
       "    .dataframe thead th {\n",
       "        text-align: right;\n",
       "    }\n",
       "</style>\n",
       "<table border=\"1\" class=\"dataframe\">\n",
       "  <thead>\n",
       "    <tr style=\"text-align: right;\">\n",
       "      <th></th>\n",
       "      <th>tweet_text</th>\n",
       "      <th>cyberbullying_type</th>\n",
       "    </tr>\n",
       "  </thead>\n",
       "  <tbody>\n",
       "    <tr>\n",
       "      <th>17111</th>\n",
       "      <td>&amp;amp; you might not get ya bitch back &amp;amp; t...</td>\n",
       "      <td>gender</td>\n",
       "    </tr>\n",
       "    <tr>\n",
       "      <th>2125</th>\n",
       "      <td>@rhythmixx_ :hobbies include: fighting Mariam</td>\n",
       "      <td>other_cyberbullying</td>\n",
       "    </tr>\n",
       "    <tr>\n",
       "      <th>16387</th>\n",
       "      <td>I fucking hate you</td>\n",
       "      <td>gender</td>\n",
       "    </tr>\n",
       "    <tr>\n",
       "      <th>4867</th>\n",
       "      <td>Keeks is a bitch she curves everyone  lol I w...</td>\n",
       "      <td>gender</td>\n",
       "    </tr>\n",
       "    <tr>\n",
       "      <th>26032</th>\n",
       "      <td>Murda Gang bitch its Gang Land</td>\n",
       "      <td>other_cyberbullying</td>\n",
       "    </tr>\n",
       "    <tr>\n",
       "      <th>...</th>\n",
       "      <td>...</td>\n",
       "      <td>...</td>\n",
       "    </tr>\n",
       "    <tr>\n",
       "      <th>31103</th>\n",
       "      <td>💕💕 the smell of blocks in the morning 💕💕</td>\n",
       "      <td>other_cyberbullying</td>\n",
       "    </tr>\n",
       "    <tr>\n",
       "      <th>30583</th>\n",
       "      <td>💩</td>\n",
       "      <td>other_cyberbullying</td>\n",
       "    </tr>\n",
       "    <tr>\n",
       "      <th>17401</th>\n",
       "      <td>😂😂😂 shame @ kat &amp;amp; andre #MKR</td>\n",
       "      <td>not_cyberbullying</td>\n",
       "    </tr>\n",
       "    <tr>\n",
       "      <th>24219</th>\n",
       "      <td>😂😂😂😂😂</td>\n",
       "      <td>gender</td>\n",
       "    </tr>\n",
       "    <tr>\n",
       "      <th>6333</th>\n",
       "      <td>😘 http://t.co/2QGNWHP3DE</td>\n",
       "      <td>other_cyberbullying</td>\n",
       "    </tr>\n",
       "  </tbody>\n",
       "</table>\n",
       "<p>32534 rows × 2 columns</p>\n",
       "</div>"
      ],
      "text/plain": [
       "                                              tweet_text   cyberbullying_type\n",
       "17111   &amp; you might not get ya bitch back &amp; t...               gender\n",
       "2125       @rhythmixx_ :hobbies include: fighting Mariam  other_cyberbullying\n",
       "16387                                 I fucking hate you               gender\n",
       "4867    Keeks is a bitch she curves everyone  lol I w...               gender\n",
       "26032                    Murda Gang bitch its Gang Land   other_cyberbullying\n",
       "...                                                  ...                  ...\n",
       "31103           💕💕 the smell of blocks in the morning 💕💕  other_cyberbullying\n",
       "30583                                                  💩  other_cyberbullying\n",
       "17401                   😂😂😂 shame @ kat &amp; andre #MKR    not_cyberbullying\n",
       "24219                                              😂😂😂😂😂               gender\n",
       "6333                            😘 http://t.co/2QGNWHP3DE  other_cyberbullying\n",
       "\n",
       "[32534 rows x 2 columns]"
      ]
     },
     "execution_count": 10,
     "metadata": {},
     "output_type": "execute_result"
    }
   ],
   "source": [
    "cyberbullying_train_df.sort_values(by='tweet_text', ascending=True, inplace=False)"
   ]
  },
  {
   "cell_type": "code",
   "execution_count": 11,
   "id": "4ed9afa2-d54a-4701-8af8-3ac7721a8b2a",
   "metadata": {
    "colab": {
     "base_uri": "https://localhost:8080/",
     "height": 35
    },
    "id": "4ed9afa2-d54a-4701-8af8-3ac7721a8b2a",
    "outputId": "003ceb6f-3753-4b69-f755-b3c3735d43c1"
   },
   "outputs": [
    {
     "data": {
      "text/plain": [
       "'@realDonaldTrump @PressSec I pray daily &amp; consider myself a good Christian woman. I don’t need to be in a building for the Lord to hear my prayers. With this pandemic, I don’t feel my first amendment right is being infringed upon.'"
      ]
     },
     "execution_count": 11,
     "metadata": {},
     "output_type": "execute_result"
    }
   ],
   "source": [
    "cyberbullying_train_df.loc[8970].tweet_text"
   ]
  },
  {
   "attachments": {},
   "cell_type": "markdown",
   "id": "4a9386dd-a8d9-4ca9-a08d-11186faf7692",
   "metadata": {
    "id": "4a9386dd-a8d9-4ca9-a08d-11186faf7692"
   },
   "source": [
    "- Elimina cadenas de espacios"
   ]
  },
  {
   "cell_type": "code",
   "execution_count": 12,
   "id": "43c5e1fd-8ba8-4347-8b5c-018bf6e725d7",
   "metadata": {
    "colab": {
     "base_uri": "https://localhost:8080/",
     "height": 624
    },
    "id": "43c5e1fd-8ba8-4347-8b5c-018bf6e725d7",
    "outputId": "ed360bf7-ada7-48cd-9373-0e599d1397f6"
   },
   "outputs": [
    {
     "data": {
      "text/html": [
       "<div>\n",
       "<style scoped>\n",
       "    .dataframe tbody tr th:only-of-type {\n",
       "        vertical-align: middle;\n",
       "    }\n",
       "\n",
       "    .dataframe tbody tr th {\n",
       "        vertical-align: top;\n",
       "    }\n",
       "\n",
       "    .dataframe thead th {\n",
       "        text-align: right;\n",
       "    }\n",
       "</style>\n",
       "<table border=\"1\" class=\"dataframe\">\n",
       "  <thead>\n",
       "    <tr style=\"text-align: right;\">\n",
       "      <th></th>\n",
       "      <th>tweet_text</th>\n",
       "      <th>cyberbullying_type</th>\n",
       "    </tr>\n",
       "  </thead>\n",
       "  <tbody>\n",
       "    <tr>\n",
       "      <th>0</th>\n",
       "      <td>@AntonSirius @erinspice @prpltnkr @ChiefElk oh...</td>\n",
       "      <td>other_cyberbullying</td>\n",
       "    </tr>\n",
       "    <tr>\n",
       "      <th>1</th>\n",
       "      <td>Ladies \"Bedroom Bully\" The Mix Cd By @GappyRan...</td>\n",
       "      <td>not_cyberbullying</td>\n",
       "    </tr>\n",
       "    <tr>\n",
       "      <th>2</th>\n",
       "      <td>RT @_bobbidana: Never thought I'd say this but...</td>\n",
       "      <td>not_cyberbullying</td>\n",
       "    </tr>\n",
       "    <tr>\n",
       "      <th>3</th>\n",
       "      <td>She is intellectual terrorists and world suffe...</td>\n",
       "      <td>religion</td>\n",
       "    </tr>\n",
       "    <tr>\n",
       "      <th>4</th>\n",
       "      <td>You saudias are not friends of Muslim idiots c...</td>\n",
       "      <td>religion</td>\n",
       "    </tr>\n",
       "    <tr>\n",
       "      <th>...</th>\n",
       "      <td>...</td>\n",
       "      <td>...</td>\n",
       "    </tr>\n",
       "    <tr>\n",
       "      <th>33378</th>\n",
       "      <td>Just asking which people on the planet weren't...</td>\n",
       "      <td>ethnicity</td>\n",
       "    </tr>\n",
       "    <tr>\n",
       "      <th>33379</th>\n",
       "      <td>Missing school for the Grey Cup festivall at N...</td>\n",
       "      <td>not_cyberbullying</td>\n",
       "    </tr>\n",
       "    <tr>\n",
       "      <th>33380</th>\n",
       "      <td>Seriously, \"lady\" is what my mom calls her clo...</td>\n",
       "      <td>gender</td>\n",
       "    </tr>\n",
       "    <tr>\n",
       "      <th>33381</th>\n",
       "      <td>Same as religion, one rule for muslims ,one ru...</td>\n",
       "      <td>religion</td>\n",
       "    </tr>\n",
       "    <tr>\n",
       "      <th>33383</th>\n",
       "      <td>CLOUD (edited): “It’s lazy for a comedian to b...</td>\n",
       "      <td>gender</td>\n",
       "    </tr>\n",
       "  </tbody>\n",
       "</table>\n",
       "<p>32534 rows × 2 columns</p>\n",
       "</div>"
      ],
      "text/plain": [
       "                                              tweet_text   cyberbullying_type\n",
       "0      @AntonSirius @erinspice @prpltnkr @ChiefElk oh...  other_cyberbullying\n",
       "1      Ladies \"Bedroom Bully\" The Mix Cd By @GappyRan...    not_cyberbullying\n",
       "2      RT @_bobbidana: Never thought I'd say this but...    not_cyberbullying\n",
       "3      She is intellectual terrorists and world suffe...             religion\n",
       "4      You saudias are not friends of Muslim idiots c...             religion\n",
       "...                                                  ...                  ...\n",
       "33378  Just asking which people on the planet weren't...            ethnicity\n",
       "33379  Missing school for the Grey Cup festivall at N...    not_cyberbullying\n",
       "33380  Seriously, \"lady\" is what my mom calls her clo...               gender\n",
       "33381  Same as religion, one rule for muslims ,one ru...             religion\n",
       "33383  CLOUD (edited): “It’s lazy for a comedian to b...               gender\n",
       "\n",
       "[32534 rows x 2 columns]"
      ]
     },
     "execution_count": 12,
     "metadata": {},
     "output_type": "execute_result"
    }
   ],
   "source": [
    "cyberbullying_train_df = cyberbullying_train_df[cyberbullying_train_df['tweet_text'].str.strip() != '']\n",
    "cyberbullying_train_df"
   ]
  },
  {
   "cell_type": "code",
   "execution_count": 13,
   "id": "645de0a3",
   "metadata": {},
   "outputs": [
    {
     "data": {
      "text/html": [
       "<div>\n",
       "<style scoped>\n",
       "    .dataframe tbody tr th:only-of-type {\n",
       "        vertical-align: middle;\n",
       "    }\n",
       "\n",
       "    .dataframe tbody tr th {\n",
       "        vertical-align: top;\n",
       "    }\n",
       "\n",
       "    .dataframe thead th {\n",
       "        text-align: right;\n",
       "    }\n",
       "</style>\n",
       "<table border=\"1\" class=\"dataframe\">\n",
       "  <thead>\n",
       "    <tr style=\"text-align: right;\">\n",
       "      <th></th>\n",
       "      <th>tweet_text</th>\n",
       "      <th>cyberbullying_type</th>\n",
       "    </tr>\n",
       "  </thead>\n",
       "  <tbody>\n",
       "    <tr>\n",
       "      <th>0</th>\n",
       "      <td>@dankmtl Yeap, as a little Propaganda Nazi for...</td>\n",
       "      <td>religion</td>\n",
       "    </tr>\n",
       "    <tr>\n",
       "      <th>1</th>\n",
       "      <td>@LyndseyBoo wow!! Leave lyndsey phone alone!!!...</td>\n",
       "      <td>other_cyberbullying</td>\n",
       "    </tr>\n",
       "    <tr>\n",
       "      <th>2</th>\n",
       "      <td>I'm not a man, only know how to bully people :(</td>\n",
       "      <td>other_cyberbullying</td>\n",
       "    </tr>\n",
       "    <tr>\n",
       "      <th>3</th>\n",
       "      <td>@urgedharry @nyazpolitics @greenlinerzjm If yo...</td>\n",
       "      <td>religion</td>\n",
       "    </tr>\n",
       "    <tr>\n",
       "      <th>4</th>\n",
       "      <td>Calling people dumb isnt nice :( RT @tayyoung_...</td>\n",
       "      <td>ethnicity</td>\n",
       "    </tr>\n",
       "    <tr>\n",
       "      <th>...</th>\n",
       "      <td>...</td>\n",
       "      <td>...</td>\n",
       "    </tr>\n",
       "    <tr>\n",
       "      <th>7149</th>\n",
       "      <td>@gameragodzilla @Totalbiscuit @Grummz @BenKuch...</td>\n",
       "      <td>other_cyberbullying</td>\n",
       "    </tr>\n",
       "    <tr>\n",
       "      <th>7150</th>\n",
       "      <td>Everyone upset about Amy Schumer's gay jokes s...</td>\n",
       "      <td>gender</td>\n",
       "    </tr>\n",
       "    <tr>\n",
       "      <th>7151</th>\n",
       "      <td>The way that every pyramid scheme girl was a b...</td>\n",
       "      <td>age</td>\n",
       "    </tr>\n",
       "    <tr>\n",
       "      <th>7152</th>\n",
       "      <td>bro you can bully the kids at school but you c...</td>\n",
       "      <td>age</td>\n",
       "    </tr>\n",
       "    <tr>\n",
       "      <th>7153</th>\n",
       "      <td>@Stevie_Bull saw yow pullin out of the Molindu...</td>\n",
       "      <td>other_cyberbullying</td>\n",
       "    </tr>\n",
       "  </tbody>\n",
       "</table>\n",
       "<p>7119 rows × 2 columns</p>\n",
       "</div>"
      ],
      "text/plain": [
       "                                             tweet_text   cyberbullying_type\n",
       "0     @dankmtl Yeap, as a little Propaganda Nazi for...             religion\n",
       "1     @LyndseyBoo wow!! Leave lyndsey phone alone!!!...  other_cyberbullying\n",
       "2       I'm not a man, only know how to bully people :(  other_cyberbullying\n",
       "3     @urgedharry @nyazpolitics @greenlinerzjm If yo...             religion\n",
       "4     Calling people dumb isnt nice :( RT @tayyoung_...            ethnicity\n",
       "...                                                 ...                  ...\n",
       "7149  @gameragodzilla @Totalbiscuit @Grummz @BenKuch...  other_cyberbullying\n",
       "7150  Everyone upset about Amy Schumer's gay jokes s...               gender\n",
       "7151  The way that every pyramid scheme girl was a b...                  age\n",
       "7152  bro you can bully the kids at school but you c...                  age\n",
       "7153  @Stevie_Bull saw yow pullin out of the Molindu...  other_cyberbullying\n",
       "\n",
       "[7119 rows x 2 columns]"
      ]
     },
     "execution_count": 13,
     "metadata": {},
     "output_type": "execute_result"
    }
   ],
   "source": [
    "cyberbullying_test_df = cyberbullying_test_df[cyberbullying_test_df['tweet_text'].str.strip() != '']\n",
    "cyberbullying_test_df"
   ]
  },
  {
   "cell_type": "code",
   "execution_count": 14,
   "id": "ba803f8b",
   "metadata": {},
   "outputs": [
    {
     "data": {
      "text/html": [
       "<div>\n",
       "<style scoped>\n",
       "    .dataframe tbody tr th:only-of-type {\n",
       "        vertical-align: middle;\n",
       "    }\n",
       "\n",
       "    .dataframe tbody tr th {\n",
       "        vertical-align: top;\n",
       "    }\n",
       "\n",
       "    .dataframe thead th {\n",
       "        text-align: right;\n",
       "    }\n",
       "</style>\n",
       "<table border=\"1\" class=\"dataframe\">\n",
       "  <thead>\n",
       "    <tr style=\"text-align: right;\">\n",
       "      <th></th>\n",
       "      <th>tweet_text</th>\n",
       "      <th>cyberbullying_type</th>\n",
       "    </tr>\n",
       "  </thead>\n",
       "  <tbody>\n",
       "    <tr>\n",
       "      <th>0</th>\n",
       "      <td>But you idiot tagged and more also I'm a Muslim</td>\n",
       "      <td>religion</td>\n",
       "    </tr>\n",
       "    <tr>\n",
       "      <th>1</th>\n",
       "      <td>@SEXYLALA That's a dumb nigger never fuck LALA...</td>\n",
       "      <td>ethnicity</td>\n",
       "    </tr>\n",
       "    <tr>\n",
       "      <th>2</th>\n",
       "      <td>I never hear hispanics calling each other brow...</td>\n",
       "      <td>ethnicity</td>\n",
       "    </tr>\n",
       "    <tr>\n",
       "      <th>3</th>\n",
       "      <td>@Lenny_Banx nigger read it again such a dumb a...</td>\n",
       "      <td>ethnicity</td>\n",
       "    </tr>\n",
       "    <tr>\n",
       "      <th>4</th>\n",
       "      <td>She was a mean girl in high school. She and Mi...</td>\n",
       "      <td>age</td>\n",
       "    </tr>\n",
       "    <tr>\n",
       "      <th>...</th>\n",
       "      <td>...</td>\n",
       "      <td>...</td>\n",
       "    </tr>\n",
       "    <tr>\n",
       "      <th>7149</th>\n",
       "      <td>haha.erdogan started syrian conflict or the we...</td>\n",
       "      <td>religion</td>\n",
       "    </tr>\n",
       "    <tr>\n",
       "      <th>7150</th>\n",
       "      <td>@discerningmumin That's idiotic. Not holding a...</td>\n",
       "      <td>religion</td>\n",
       "    </tr>\n",
       "    <tr>\n",
       "      <th>7151</th>\n",
       "      <td>This is way past George Floyd. Everyone is agr...</td>\n",
       "      <td>ethnicity</td>\n",
       "    </tr>\n",
       "    <tr>\n",
       "      <th>7152</th>\n",
       "      <td>I'm not important. The things I'm working on a...</td>\n",
       "      <td>other_cyberbullying</td>\n",
       "    </tr>\n",
       "    <tr>\n",
       "      <th>7153</th>\n",
       "      <td>Nah I really felt this. I had friends who I fe...</td>\n",
       "      <td>age</td>\n",
       "    </tr>\n",
       "  </tbody>\n",
       "</table>\n",
       "<p>7118 rows × 2 columns</p>\n",
       "</div>"
      ],
      "text/plain": [
       "                                             tweet_text   cyberbullying_type\n",
       "0       But you idiot tagged and more also I'm a Muslim             religion\n",
       "1     @SEXYLALA That's a dumb nigger never fuck LALA...            ethnicity\n",
       "2     I never hear hispanics calling each other brow...            ethnicity\n",
       "3     @Lenny_Banx nigger read it again such a dumb a...            ethnicity\n",
       "4     She was a mean girl in high school. She and Mi...                  age\n",
       "...                                                 ...                  ...\n",
       "7149  haha.erdogan started syrian conflict or the we...             religion\n",
       "7150  @discerningmumin That's idiotic. Not holding a...             religion\n",
       "7151  This is way past George Floyd. Everyone is agr...            ethnicity\n",
       "7152  I'm not important. The things I'm working on a...  other_cyberbullying\n",
       "7153  Nah I really felt this. I had friends who I fe...                  age\n",
       "\n",
       "[7118 rows x 2 columns]"
      ]
     },
     "execution_count": 14,
     "metadata": {},
     "output_type": "execute_result"
    }
   ],
   "source": [
    "cyberbullying_val_df = cyberbullying_val_df[cyberbullying_val_df['tweet_text'].str.strip() != '']\n",
    "cyberbullying_val_df"
   ]
  },
  {
   "attachments": {},
   "cell_type": "markdown",
   "id": "3eb4b12e-9ea6-492f-906c-e2a205ca0061",
   "metadata": {
    "id": "3eb4b12e-9ea6-492f-906c-e2a205ca0061"
   },
   "source": [
    "- Elimina puntuación y convierte a minúsculas\n",
    "- Se utiliza el método __str.translate()__ para eliminar todos los caracteres de puntuación mediante una tabla de traducción creada con el método __str.maketrans__. La constante string.punctuation contiene todos los caracteres de puntuación ASCII, que se eliminan de los valores en la columna"
   ]
  },
  {
   "cell_type": "code",
   "execution_count": 15,
   "id": "16ff03a8-76aa-4786-a794-e6744a45bc47",
   "metadata": {
    "id": "16ff03a8-76aa-4786-a794-e6744a45bc47"
   },
   "outputs": [],
   "source": [
    "import string"
   ]
  },
  {
   "cell_type": "code",
   "execution_count": 16,
   "id": "6a5aa290-98ec-4e71-a4e4-69efc463f8ec",
   "metadata": {
    "colab": {
     "base_uri": "https://localhost:8080/",
     "height": 337
    },
    "id": "6a5aa290-98ec-4e71-a4e4-69efc463f8ec",
    "outputId": "c03c7689-20cc-4d61-c66d-c38e9181ff7c"
   },
   "outputs": [
    {
     "data": {
      "text/html": [
       "<div>\n",
       "<style scoped>\n",
       "    .dataframe tbody tr th:only-of-type {\n",
       "        vertical-align: middle;\n",
       "    }\n",
       "\n",
       "    .dataframe tbody tr th {\n",
       "        vertical-align: top;\n",
       "    }\n",
       "\n",
       "    .dataframe thead th {\n",
       "        text-align: right;\n",
       "    }\n",
       "</style>\n",
       "<table border=\"1\" class=\"dataframe\">\n",
       "  <thead>\n",
       "    <tr style=\"text-align: right;\">\n",
       "      <th></th>\n",
       "      <th>tweet_text</th>\n",
       "      <th>cyberbullying_type</th>\n",
       "      <th>clean_text</th>\n",
       "    </tr>\n",
       "  </thead>\n",
       "  <tbody>\n",
       "    <tr>\n",
       "      <th>0</th>\n",
       "      <td>@AntonSirius @erinspice @prpltnkr @ChiefElk oh...</td>\n",
       "      <td>other_cyberbullying</td>\n",
       "      <td>antonsirius erinspice prpltnkr chiefelk oh dea...</td>\n",
       "    </tr>\n",
       "    <tr>\n",
       "      <th>1</th>\n",
       "      <td>Ladies \"Bedroom Bully\" The Mix Cd By @GappyRan...</td>\n",
       "      <td>not_cyberbullying</td>\n",
       "      <td>ladies bedroom bully the mix cd by gappyranks ...</td>\n",
       "    </tr>\n",
       "    <tr>\n",
       "      <th>2</th>\n",
       "      <td>RT @_bobbidana: Never thought I'd say this but...</td>\n",
       "      <td>not_cyberbullying</td>\n",
       "      <td>rt bobbidana never thought id say this but i h...</td>\n",
       "    </tr>\n",
       "    <tr>\n",
       "      <th>3</th>\n",
       "      <td>She is intellectual terrorists and world suffe...</td>\n",
       "      <td>religion</td>\n",
       "      <td>she is intellectual terrorists and world suffe...</td>\n",
       "    </tr>\n",
       "    <tr>\n",
       "      <th>4</th>\n",
       "      <td>You saudias are not friends of Muslim idiots c...</td>\n",
       "      <td>religion</td>\n",
       "      <td>you saudias are not friends of muslim idiots c...</td>\n",
       "    </tr>\n",
       "  </tbody>\n",
       "</table>\n",
       "</div>"
      ],
      "text/plain": [
       "                                          tweet_text   cyberbullying_type  \\\n",
       "0  @AntonSirius @erinspice @prpltnkr @ChiefElk oh...  other_cyberbullying   \n",
       "1  Ladies \"Bedroom Bully\" The Mix Cd By @GappyRan...    not_cyberbullying   \n",
       "2  RT @_bobbidana: Never thought I'd say this but...    not_cyberbullying   \n",
       "3  She is intellectual terrorists and world suffe...             religion   \n",
       "4  You saudias are not friends of Muslim idiots c...             religion   \n",
       "\n",
       "                                          clean_text  \n",
       "0  antonsirius erinspice prpltnkr chiefelk oh dea...  \n",
       "1  ladies bedroom bully the mix cd by gappyranks ...  \n",
       "2  rt bobbidana never thought id say this but i h...  \n",
       "3  she is intellectual terrorists and world suffe...  \n",
       "4  you saudias are not friends of muslim idiots c...  "
      ]
     },
     "execution_count": 16,
     "metadata": {},
     "output_type": "execute_result"
    }
   ],
   "source": [
    "cyberbullying_train_df['clean_text'] = cyberbullying_train_df['tweet_text'].str.lower().str.translate(str.maketrans('', '', string.punctuation))\n",
    "cyberbullying_train_df.head()"
   ]
  },
  {
   "cell_type": "code",
   "execution_count": 17,
   "id": "e8b63b5f",
   "metadata": {},
   "outputs": [
    {
     "data": {
      "text/html": [
       "<div>\n",
       "<style scoped>\n",
       "    .dataframe tbody tr th:only-of-type {\n",
       "        vertical-align: middle;\n",
       "    }\n",
       "\n",
       "    .dataframe tbody tr th {\n",
       "        vertical-align: top;\n",
       "    }\n",
       "\n",
       "    .dataframe thead th {\n",
       "        text-align: right;\n",
       "    }\n",
       "</style>\n",
       "<table border=\"1\" class=\"dataframe\">\n",
       "  <thead>\n",
       "    <tr style=\"text-align: right;\">\n",
       "      <th></th>\n",
       "      <th>tweet_text</th>\n",
       "      <th>cyberbullying_type</th>\n",
       "      <th>clean_text</th>\n",
       "    </tr>\n",
       "  </thead>\n",
       "  <tbody>\n",
       "    <tr>\n",
       "      <th>0</th>\n",
       "      <td>@dankmtl Yeap, as a little Propaganda Nazi for...</td>\n",
       "      <td>religion</td>\n",
       "      <td>dankmtl yeap as a little propaganda nazi for t...</td>\n",
       "    </tr>\n",
       "    <tr>\n",
       "      <th>1</th>\n",
       "      <td>@LyndseyBoo wow!! Leave lyndsey phone alone!!!...</td>\n",
       "      <td>other_cyberbullying</td>\n",
       "      <td>lyndseyboo wow leave lyndsey phone alone bully...</td>\n",
       "    </tr>\n",
       "    <tr>\n",
       "      <th>2</th>\n",
       "      <td>I'm not a man, only know how to bully people :(</td>\n",
       "      <td>other_cyberbullying</td>\n",
       "      <td>im not a man only know how to bully people</td>\n",
       "    </tr>\n",
       "    <tr>\n",
       "      <th>3</th>\n",
       "      <td>@urgedharry @nyazpolitics @greenlinerzjm If yo...</td>\n",
       "      <td>religion</td>\n",
       "      <td>urgedharry nyazpolitics greenlinerzjm if you a...</td>\n",
       "    </tr>\n",
       "    <tr>\n",
       "      <th>4</th>\n",
       "      <td>Calling people dumb isnt nice :( RT @tayyoung_...</td>\n",
       "      <td>ethnicity</td>\n",
       "      <td>calling people dumb isnt nice  rt tayyoung fuc...</td>\n",
       "    </tr>\n",
       "  </tbody>\n",
       "</table>\n",
       "</div>"
      ],
      "text/plain": [
       "                                          tweet_text   cyberbullying_type  \\\n",
       "0  @dankmtl Yeap, as a little Propaganda Nazi for...             religion   \n",
       "1  @LyndseyBoo wow!! Leave lyndsey phone alone!!!...  other_cyberbullying   \n",
       "2    I'm not a man, only know how to bully people :(  other_cyberbullying   \n",
       "3  @urgedharry @nyazpolitics @greenlinerzjm If yo...             religion   \n",
       "4  Calling people dumb isnt nice :( RT @tayyoung_...            ethnicity   \n",
       "\n",
       "                                          clean_text  \n",
       "0  dankmtl yeap as a little propaganda nazi for t...  \n",
       "1  lyndseyboo wow leave lyndsey phone alone bully...  \n",
       "2        im not a man only know how to bully people   \n",
       "3  urgedharry nyazpolitics greenlinerzjm if you a...  \n",
       "4  calling people dumb isnt nice  rt tayyoung fuc...  "
      ]
     },
     "execution_count": 17,
     "metadata": {},
     "output_type": "execute_result"
    }
   ],
   "source": [
    "cyberbullying_test_df['clean_text'] = cyberbullying_test_df['tweet_text'].str.lower().str.translate(str.maketrans('', '', string.punctuation))\n",
    "cyberbullying_test_df.head()"
   ]
  },
  {
   "cell_type": "code",
   "execution_count": 18,
   "id": "205ff0db",
   "metadata": {},
   "outputs": [
    {
     "data": {
      "text/html": [
       "<div>\n",
       "<style scoped>\n",
       "    .dataframe tbody tr th:only-of-type {\n",
       "        vertical-align: middle;\n",
       "    }\n",
       "\n",
       "    .dataframe tbody tr th {\n",
       "        vertical-align: top;\n",
       "    }\n",
       "\n",
       "    .dataframe thead th {\n",
       "        text-align: right;\n",
       "    }\n",
       "</style>\n",
       "<table border=\"1\" class=\"dataframe\">\n",
       "  <thead>\n",
       "    <tr style=\"text-align: right;\">\n",
       "      <th></th>\n",
       "      <th>tweet_text</th>\n",
       "      <th>cyberbullying_type</th>\n",
       "      <th>clean_text</th>\n",
       "    </tr>\n",
       "  </thead>\n",
       "  <tbody>\n",
       "    <tr>\n",
       "      <th>0</th>\n",
       "      <td>But you idiot tagged and more also I'm a Muslim</td>\n",
       "      <td>religion</td>\n",
       "      <td>but you idiot tagged and more also im a muslim</td>\n",
       "    </tr>\n",
       "    <tr>\n",
       "      <th>1</th>\n",
       "      <td>@SEXYLALA That's a dumb nigger never fuck LALA...</td>\n",
       "      <td>ethnicity</td>\n",
       "      <td>sexylala thats a dumb nigger never fuck lala h...</td>\n",
       "    </tr>\n",
       "    <tr>\n",
       "      <th>2</th>\n",
       "      <td>I never hear hispanics calling each other brow...</td>\n",
       "      <td>ethnicity</td>\n",
       "      <td>i never hear hispanics calling each other brow...</td>\n",
       "    </tr>\n",
       "    <tr>\n",
       "      <th>3</th>\n",
       "      <td>@Lenny_Banx nigger read it again such a dumb a...</td>\n",
       "      <td>ethnicity</td>\n",
       "      <td>lennybanx nigger read it again such a dumb ass...</td>\n",
       "    </tr>\n",
       "    <tr>\n",
       "      <th>4</th>\n",
       "      <td>She was a mean girl in high school. She and Mi...</td>\n",
       "      <td>age</td>\n",
       "      <td>she was a mean girl in high school she and mim...</td>\n",
       "    </tr>\n",
       "  </tbody>\n",
       "</table>\n",
       "</div>"
      ],
      "text/plain": [
       "                                          tweet_text cyberbullying_type  \\\n",
       "0    But you idiot tagged and more also I'm a Muslim           religion   \n",
       "1  @SEXYLALA That's a dumb nigger never fuck LALA...          ethnicity   \n",
       "2  I never hear hispanics calling each other brow...          ethnicity   \n",
       "3  @Lenny_Banx nigger read it again such a dumb a...          ethnicity   \n",
       "4  She was a mean girl in high school. She and Mi...                age   \n",
       "\n",
       "                                          clean_text  \n",
       "0     but you idiot tagged and more also im a muslim  \n",
       "1  sexylala thats a dumb nigger never fuck lala h...  \n",
       "2  i never hear hispanics calling each other brow...  \n",
       "3  lennybanx nigger read it again such a dumb ass...  \n",
       "4  she was a mean girl in high school she and mim...  "
      ]
     },
     "execution_count": 18,
     "metadata": {},
     "output_type": "execute_result"
    }
   ],
   "source": [
    "cyberbullying_val_df['clean_text'] = cyberbullying_val_df['tweet_text'].str.lower().str.translate(str.maketrans('', '', string.punctuation))\n",
    "cyberbullying_val_df.head()"
   ]
  },
  {
   "cell_type": "code",
   "execution_count": 19,
   "id": "001fbc38",
   "metadata": {},
   "outputs": [
    {
     "name": "stdout",
     "output_type": "stream",
     "text": [
      "32534\n",
      "7119\n",
      "7118\n"
     ]
    }
   ],
   "source": [
    "print(len(cyberbullying_train_df['clean_text']))\n",
    "print(len(cyberbullying_test_df['clean_text']))\n",
    "print(len(cyberbullying_val_df['clean_text']))"
   ]
  },
  {
   "cell_type": "code",
   "execution_count": 20,
   "id": "5725f73f",
   "metadata": {},
   "outputs": [],
   "source": [
    "import tensorflow as tf "
   ]
  },
  {
   "cell_type": "code",
   "execution_count": 21,
   "id": "eafb8885",
   "metadata": {
    "scrolled": true
   },
   "outputs": [
    {
     "name": "stdout",
     "output_type": "stream",
     "text": [
      "Num GPUs Available:  0\n"
     ]
    }
   ],
   "source": [
    "# Revisar si está leyendo la GPU para ejecutar el código desde allí\n",
    "print(\"Num GPUs Available: \", len(tf.config.list_physical_devices('GPU')))"
   ]
  },
  {
   "attachments": {},
   "cell_type": "markdown",
   "id": "a651ba97-16f3-47fd-9798-5353586f346d",
   "metadata": {
    "id": "a651ba97-16f3-47fd-9798-5353586f346d"
   },
   "source": [
    "## 2.- Pipeline"
   ]
  },
  {
   "cell_type": "code",
   "execution_count": 22,
   "id": "5b021552-fe16-4ce9-b3f4-7ec478c81ec2",
   "metadata": {
    "colab": {
     "base_uri": "https://localhost:8080/"
    },
    "id": "5b021552-fe16-4ce9-b3f4-7ec478c81ec2",
    "outputId": "37f9e9e7-7f2c-4e36-8022-f6df21154c8f"
   },
   "outputs": [
    {
     "data": {
      "text/plain": [
       "ethnicity              5600\n",
       "gender                 5599\n",
       "age                    5573\n",
       "religion               5554\n",
       "not_cyberbullying      5213\n",
       "other_cyberbullying    4995\n",
       "Name: cyberbullying_type, dtype: int64"
      ]
     },
     "execution_count": 22,
     "metadata": {},
     "output_type": "execute_result"
    }
   ],
   "source": [
    "# El conjunto de entrenamiento tiene un buen equilibrio de número de tweets por clase. \n",
    "cyberbullying_train_df['cyberbullying_type'].value_counts()"
   ]
  },
  {
   "cell_type": "code",
   "execution_count": 23,
   "id": "c1eca4ef",
   "metadata": {},
   "outputs": [
    {
     "data": {
      "text/html": [
       "<div>\n",
       "<style scoped>\n",
       "    .dataframe tbody tr th:only-of-type {\n",
       "        vertical-align: middle;\n",
       "    }\n",
       "\n",
       "    .dataframe tbody tr th {\n",
       "        vertical-align: top;\n",
       "    }\n",
       "\n",
       "    .dataframe thead th {\n",
       "        text-align: right;\n",
       "    }\n",
       "</style>\n",
       "<table border=\"1\" class=\"dataframe\">\n",
       "  <thead>\n",
       "    <tr style=\"text-align: right;\">\n",
       "      <th></th>\n",
       "      <th>tweet_text</th>\n",
       "      <th>cyberbullying_type</th>\n",
       "      <th>clean_text</th>\n",
       "    </tr>\n",
       "  </thead>\n",
       "  <tbody>\n",
       "    <tr>\n",
       "      <th>0</th>\n",
       "      <td>But you idiot tagged and more also I'm a Muslim</td>\n",
       "      <td>3</td>\n",
       "      <td>but you idiot tagged and more also im a muslim</td>\n",
       "    </tr>\n",
       "    <tr>\n",
       "      <th>1</th>\n",
       "      <td>@SEXYLALA That's a dumb nigger never fuck LALA...</td>\n",
       "      <td>0</td>\n",
       "      <td>sexylala thats a dumb nigger never fuck lala h...</td>\n",
       "    </tr>\n",
       "    <tr>\n",
       "      <th>2</th>\n",
       "      <td>I never hear hispanics calling each other brow...</td>\n",
       "      <td>0</td>\n",
       "      <td>i never hear hispanics calling each other brow...</td>\n",
       "    </tr>\n",
       "    <tr>\n",
       "      <th>3</th>\n",
       "      <td>@Lenny_Banx nigger read it again such a dumb a...</td>\n",
       "      <td>0</td>\n",
       "      <td>lennybanx nigger read it again such a dumb ass...</td>\n",
       "    </tr>\n",
       "    <tr>\n",
       "      <th>4</th>\n",
       "      <td>She was a mean girl in high school. She and Mi...</td>\n",
       "      <td>2</td>\n",
       "      <td>she was a mean girl in high school she and mim...</td>\n",
       "    </tr>\n",
       "    <tr>\n",
       "      <th>...</th>\n",
       "      <td>...</td>\n",
       "      <td>...</td>\n",
       "      <td>...</td>\n",
       "    </tr>\n",
       "    <tr>\n",
       "      <th>7149</th>\n",
       "      <td>haha.erdogan started syrian conflict or the we...</td>\n",
       "      <td>3</td>\n",
       "      <td>hahaerdogan started syrian conflict or the wes...</td>\n",
       "    </tr>\n",
       "    <tr>\n",
       "      <th>7150</th>\n",
       "      <td>@discerningmumin That's idiotic. Not holding a...</td>\n",
       "      <td>3</td>\n",
       "      <td>discerningmumin thats idiotic not holding a si...</td>\n",
       "    </tr>\n",
       "    <tr>\n",
       "      <th>7151</th>\n",
       "      <td>This is way past George Floyd. Everyone is agr...</td>\n",
       "      <td>0</td>\n",
       "      <td>this is way past george floyd everyone is agre...</td>\n",
       "    </tr>\n",
       "    <tr>\n",
       "      <th>7152</th>\n",
       "      <td>I'm not important. The things I'm working on a...</td>\n",
       "      <td>5</td>\n",
       "      <td>im not important the things im working on are ...</td>\n",
       "    </tr>\n",
       "    <tr>\n",
       "      <th>7153</th>\n",
       "      <td>Nah I really felt this. I had friends who I fe...</td>\n",
       "      <td>2</td>\n",
       "      <td>nah i really felt this i had friends who i fel...</td>\n",
       "    </tr>\n",
       "  </tbody>\n",
       "</table>\n",
       "<p>7118 rows × 3 columns</p>\n",
       "</div>"
      ],
      "text/plain": [
       "                                             tweet_text  cyberbullying_type  \\\n",
       "0       But you idiot tagged and more also I'm a Muslim                   3   \n",
       "1     @SEXYLALA That's a dumb nigger never fuck LALA...                   0   \n",
       "2     I never hear hispanics calling each other brow...                   0   \n",
       "3     @Lenny_Banx nigger read it again such a dumb a...                   0   \n",
       "4     She was a mean girl in high school. She and Mi...                   2   \n",
       "...                                                 ...                 ...   \n",
       "7149  haha.erdogan started syrian conflict or the we...                   3   \n",
       "7150  @discerningmumin That's idiotic. Not holding a...                   3   \n",
       "7151  This is way past George Floyd. Everyone is agr...                   0   \n",
       "7152  I'm not important. The things I'm working on a...                   5   \n",
       "7153  Nah I really felt this. I had friends who I fe...                   2   \n",
       "\n",
       "                                             clean_text  \n",
       "0        but you idiot tagged and more also im a muslim  \n",
       "1     sexylala thats a dumb nigger never fuck lala h...  \n",
       "2     i never hear hispanics calling each other brow...  \n",
       "3     lennybanx nigger read it again such a dumb ass...  \n",
       "4     she was a mean girl in high school she and mim...  \n",
       "...                                                 ...  \n",
       "7149  hahaerdogan started syrian conflict or the wes...  \n",
       "7150  discerningmumin thats idiotic not holding a si...  \n",
       "7151  this is way past george floyd everyone is agre...  \n",
       "7152  im not important the things im working on are ...  \n",
       "7153  nah i really felt this i had friends who i fel...  \n",
       "\n",
       "[7118 rows x 3 columns]"
      ]
     },
     "execution_count": 23,
     "metadata": {},
     "output_type": "execute_result"
    }
   ],
   "source": [
    "# #Cambiando valores de tipo de cyberbullying a enteros (manejar etiquetas como valores discretos)\n",
    "map_cyberbullying_type = {\"ethnicity\":0,\"gender\":1, \"age\":2, \"religion\":3, \"not_cyberbullying\":4, \"other_cyberbullying\":5}\n",
    "\n",
    "cyberbullying_train_df['cyberbullying_type'] = cyberbullying_train_df['cyberbullying_type'].replace(map_cyberbullying_type)\n",
    "cyberbullying_test_df['cyberbullying_type'] = cyberbullying_test_df['cyberbullying_type'].replace(map_cyberbullying_type)\n",
    "cyberbullying_val_df['cyberbullying_type'] = cyberbullying_val_df['cyberbullying_type'].replace(map_cyberbullying_type)\n",
    "\n",
    "cyberbullying_val_df['cyberbullying_type']\n",
    "\n",
    "cyberbullying_val_df"
   ]
  },
  {
   "cell_type": "code",
   "execution_count": 24,
   "id": "7b65d075",
   "metadata": {},
   "outputs": [
    {
     "data": {
      "text/plain": [
       "<_MapDataset element_spec=(TensorSpec(shape=(), dtype=tf.string, name=None), TensorSpec(shape=(6,), dtype=tf.float32, name=None))>"
      ]
     },
     "execution_count": 24,
     "metadata": {},
     "output_type": "execute_result"
    }
   ],
   "source": [
    "#Método MAP para definir vectores one-hot.\n",
    "\n",
    "# Definimos el número de clases\n",
    "num_classes = 6 #(\"ethnicity\":0,\"gender\":1, \"age\":2, \"religion\":3, \"not_cyberbullying\":4, \"other_cyberbullying\":5)\n",
    "\n",
    "# Creamos un conjunto de datos que contiene datos y etiquetas\n",
    "train_dataset = tf.data.Dataset.from_tensor_slices((cyberbullying_train_df['clean_text'].values, cyberbullying_train_df['cyberbullying_type'].values))\n",
    "test_dataset = tf.data.Dataset.from_tensor_slices((cyberbullying_test_df['clean_text'].values, cyberbullying_test_df['cyberbullying_type'].values))\n",
    "val_dataset = tf.data.Dataset.from_tensor_slices((cyberbullying_val_df['clean_text'].values, cyberbullying_val_df['cyberbullying_type'].values))\n",
    "\n",
    "\n",
    "# Definimos una función para convertir las etiquetas en vectores one-hot\n",
    "def one_hot_encode(clean_text, cyberbullying_type):\n",
    "    cyberbullying_type = tf.one_hot(cyberbullying_type, num_classes)\n",
    "    return clean_text, cyberbullying_type\n",
    "\n",
    "# Aplicamos la función a cada elemento del conjunto de datos utilizando el método map\n",
    "train_dataset = train_dataset.map(one_hot_encode)\n",
    "test_dataset = test_dataset.map(one_hot_encode)\n",
    "val_dataset = val_dataset.map(one_hot_encode)\n",
    "\n",
    "train_dataset"
   ]
  },
  {
   "cell_type": "code",
   "execution_count": 25,
   "id": "9ca50a72",
   "metadata": {},
   "outputs": [],
   "source": [
    "# pip install scikit-learn"
   ]
  },
  {
   "cell_type": "code",
   "execution_count": 26,
   "id": "a0182532-66f2-4482-9630-bda5d1470d76",
   "metadata": {
    "id": "a0182532-66f2-4482-9630-bda5d1470d76"
   },
   "outputs": [],
   "source": [
    "import os\n",
    "os.environ['TF_CPP_MIN_LOG_LEVEL'] = '3' # Disable tensorflow debugging logs\n",
    "import tensorflow as tf\n",
    "from tensorflow.keras.layers import TextVectorization #A preprocessing layer which maps text features to integer sequences.\n",
    "from tensorflow.keras import Sequential\n",
    "from tensorflow.keras import layers \n",
    "import re\n",
    "import numpy as np\n",
    "from sklearn.model_selection import train_test_split\n",
    "\n",
    "# Transformamos de tf (utilizado anteriormente para one hot vectors) a numpy para dividir en x train y y train\n",
    "X_train = []\n",
    "y_train = []\n",
    "for text, label in train_dataset:\n",
    "    X_train.append(text.numpy())\n",
    "    y_train.append(label.numpy())\n",
    "X_train = np.array(X_train)\n",
    "y_train = np.array(y_train)\n",
    "\n",
    "\n",
    "X_val = []\n",
    "y_val = []\n",
    "for text, label in val_dataset:\n",
    "    X_val.append(text.numpy())\n",
    "    y_val.append(label.numpy())\n",
    "X_val = np.array(X_val)\n",
    "y_val = np.array(y_val)\n",
    "\n",
    "\n",
    "X_test = []\n",
    "y_test = []\n",
    "for text, label in test_dataset:\n",
    "    X_test.append(text.numpy())\n",
    "    y_test.append(label.numpy())\n",
    "X_test = np.array(X_test)\n",
    "y_test = np.array(y_test)\n",
    "\n",
    "# X_train = train_dataset['clean_text'].values\n",
    "# y_train = train_dataset['cyberbullying_type'].values\n",
    "\n",
    "# X_val = val_dataset['clean_text'].values\n",
    "# y_val = val_dataset['cyberbullying_type'].values\n",
    "\n",
    "#X_train, X_test, y_train, y_test = train_test_split(X, y, test_size = 0.25, random_state = 123)"
   ]
  },
  {
   "cell_type": "code",
   "execution_count": 27,
   "id": "f8896562-dd30-431b-a7a1-55d084586352",
   "metadata": {
    "colab": {
     "base_uri": "https://localhost:8080/"
    },
    "id": "f8896562-dd30-431b-a7a1-55d084586352",
    "outputId": "804e985b-1585-4485-c8a0-6dc2656da42d"
   },
   "outputs": [
    {
     "data": {
      "text/plain": [
       "(32534, 7118)"
      ]
     },
     "execution_count": 27,
     "metadata": {},
     "output_type": "execute_result"
    }
   ],
   "source": [
    "len(X_train), len(X_val)"
   ]
  },
  {
   "cell_type": "code",
   "execution_count": 28,
   "id": "36d1a088-4c8c-4851-b53f-07e3432c3870",
   "metadata": {
    "colab": {
     "base_uri": "https://localhost:8080/"
    },
    "id": "36d1a088-4c8c-4851-b53f-07e3432c3870",
    "outputId": "f99ce5fe-078e-4148-a99d-0779011886c7",
    "scrolled": true
   },
   "outputs": [
    {
     "name": "stdout",
     "output_type": "stream",
     "text": [
      "(<tf.Tensor: shape=(), dtype=string, numpy=b'antonsirius erinspice prpltnkr chiefelk oh dear lord'>, <tf.Tensor: shape=(6,), dtype=float32, numpy=array([0., 0., 0., 0., 0., 1.], dtype=float32)>)\n"
     ]
    }
   ],
   "source": [
    "raw_train_ds = tf.data.Dataset.from_tensor_slices((X_train, y_train)) #from_tensor_slices creates a dataset with a separate element for each row of the input tensor:\n",
    "raw_val_ds = tf.data.Dataset.from_tensor_slices((X_val, y_val)) \n",
    "raw_test_ds = tf.data.Dataset.from_tensor_slices((X_test, y_test)) \n",
    "for text in raw_train_ds.take(1):\n",
    "    print(text)"
   ]
  },
  {
   "cell_type": "code",
   "execution_count": 29,
   "id": "52401e10-ade1-4f2a-9de7-036b7ee85556",
   "metadata": {
    "id": "52401e10-ade1-4f2a-9de7-036b7ee85556"
   },
   "outputs": [
    {
     "data": {
      "text/plain": [
       "<_MapDataset element_spec=TensorSpec(shape=(), dtype=tf.string, name=None)>"
      ]
     },
     "execution_count": 29,
     "metadata": {},
     "output_type": "execute_result"
    }
   ],
   "source": [
    "# Tamaño de vocabulario\n",
    "vocab_size = 10000   # ocupar 10,000 tokens más frecuentes. \n",
    "\n",
    "# Text Vectorization\n",
    "# A preprocessing layer which maps text features to integer sequences.\n",
    "# turns raw strings into an encoded representation that can be reada by an embedding layer (integer) or dense layer (float)\n",
    "vectorize_layer = TextVectorization(\n",
    "    standardize=None,\n",
    "    max_tokens=vocab_size,\n",
    "    output_mode='tf-idf')\n",
    "\n",
    "# Obtener el texto sin etiquetas\n",
    "text_ds = raw_train_ds.map(lambda x, y: x) #\n",
    "vectorize_layer.adapt(text_ds)\n",
    "text_ds"
   ]
  },
  {
   "cell_type": "code",
   "execution_count": 30,
   "id": "862068ba-6861-441c-9ee2-dcd71a818bb1",
   "metadata": {
    "id": "862068ba-6861-441c-9ee2-dcd71a818bb1"
   },
   "outputs": [
    {
     "data": {
      "text/plain": [
       "<_BatchDataset element_spec=(TensorSpec(shape=(None,), dtype=tf.string, name=None), TensorSpec(shape=(None, 6), dtype=tf.float32, name=None))>"
      ]
     },
     "execution_count": 30,
     "metadata": {},
     "output_type": "execute_result"
    }
   ],
   "source": [
    "batch_size = 16 #The batch size is a number of samples processed before the model is updated. The batch size is a hyperparameter that defines the number of samples to work through before updating the internal model parameters.\n",
    "train_ds = raw_train_ds.shuffle(20000).batch(batch_size)\n",
    "val_ds = raw_val_ds.batch(batch_size)\n",
    "test_ds = raw_test_ds.batch(batch_size)\n",
    "train_ds"
   ]
  },
  {
   "cell_type": "code",
   "execution_count": 31,
   "id": "1fc023a2-3151-4426-93e0-86c4da4b201a",
   "metadata": {
    "colab": {
     "base_uri": "https://localhost:8080/"
    },
    "id": "1fc023a2-3151-4426-93e0-86c4da4b201a",
    "outputId": "b483164b-8e62-443f-c64a-f13871787d07",
    "scrolled": true
   },
   "outputs": [
    {
     "name": "stdout",
     "output_type": "stream",
     "text": [
      "tf.Tensor(\n",
      "[b'canadian schools are reopening because canada has a functional federal government and has actually flattened the curve'\n",
      " b'dylanw im sorry you dont have any time that sucks but next time you might want to look further before useless vague callouts'\n",
      " b'in elementary school i was called \\xe2\\x80\\x9cmoustache woman\\xe2\\x80\\x9d and \\xe2\\x80\\x9cunibrow girl\\xe2\\x80\\x9d honestly it wasn\\xe2\\x80\\x99t even that bad in high school i was bullied for being a lesbian and i\\xe2\\x80\\x99m not even a lesbian'\n",
      " b'bullshit youre making excuses the same could be said of those muslims idiot'\n",
      " b'im sorry but im not watching another round this is getting beyond ridiculous when you actually get people who can cook let me know mkr'\n",
      " b'mcateebooks ive given a lot of tech talks in the past this one isnt really so technical more community p'\n",
      " b'seize the day or die regretting'\n",
      " b'noin007 this is why i find the antifeminist women just want male attention argument moronicas if there arent better ways to get that'\n",
      " b'and she has said that it\\xe2\\x80\\x99s wrong so start fixing our communities instead of holding her past that she learned from against her queen is a black women how is holding what she said 4 years ago gonna solve anything'\n",
      " b'youfoundthecard chriswarcraft gross netware'\n",
      " b'all the police personnel of sac pd of sacramento california are all dumb fuck niggers no matter what skin color they all are'\n",
      " b'u niggers dumb as fuck so u gon give yo side bitch your phone knowin damn well u got a main bitch lhhny'\n",
      " b'girls that bullied people in high school all have good vibes in their bio'\n",
      " b'you people are pure idiots chinese will not even allow to be muslims and will treat like iugurs'\n",
      " b'rt jurijuri freebsdgirl its like total recall but with only two breasts maybe'\n",
      " b'annlynzee but commenting on that behavior  even in the abstract  brings down waves of hatred on my head its weird'], shape=(16,), dtype=string) #target:  tf.Tensor(\n",
      "[[0. 0. 1. 0. 0. 0.]\n",
      " [0. 0. 0. 0. 0. 1.]\n",
      " [0. 0. 1. 0. 0. 0.]\n",
      " [0. 0. 0. 1. 0. 0.]\n",
      " [0. 0. 0. 0. 1. 0.]\n",
      " [0. 0. 0. 0. 0. 1.]\n",
      " [0. 0. 0. 0. 1. 0.]\n",
      " [0. 1. 0. 0. 0. 0.]\n",
      " [1. 0. 0. 0. 0. 0.]\n",
      " [0. 0. 0. 0. 0. 1.]\n",
      " [1. 0. 0. 0. 0. 0.]\n",
      " [1. 0. 0. 0. 0. 0.]\n",
      " [0. 0. 1. 0. 0. 0.]\n",
      " [0. 0. 0. 1. 0. 0.]\n",
      " [0. 0. 0. 0. 0. 1.]\n",
      " [0. 0. 0. 0. 0. 1.]], shape=(16, 6), dtype=float32)\n"
     ]
    }
   ],
   "source": [
    "# Take: Creates a Dataset with at most count elements from this dataset.\n",
    "# 16 elementos, batch size. \n",
    "for inp, target in train_ds.take(1):\n",
    "    print(inp, \"#target: \",target)"
   ]
  },
  {
   "cell_type": "code",
   "execution_count": 32,
   "id": "c31ebadd-1c86-4c71-886f-32adab6e453f",
   "metadata": {
    "colab": {
     "base_uri": "https://localhost:8080/"
    },
    "id": "c31ebadd-1c86-4c71-886f-32adab6e453f",
    "outputId": "4c74e3fb-ac5c-4137-a4c3-eb6cfda31b47",
    "scrolled": true
   },
   "outputs": [
    {
     "data": {
      "text/plain": [
       "<tf.Tensor: shape=(16, 10000), dtype=float32, numpy=\n",
       "array([[23.10065  ,  1.2264812,  1.3259579, ...,  0.       ,  0.       ,\n",
       "         0.       ],\n",
       "       [ 7.700217 ,  0.       ,  0.       , ...,  0.       ,  0.       ,\n",
       "         0.       ],\n",
       "       [15.400434 ,  0.       ,  2.6519158, ...,  0.       ,  0.       ,\n",
       "         0.       ],\n",
       "       ...,\n",
       "       [ 7.700217 ,  0.       ,  0.       , ...,  0.       ,  0.       ,\n",
       "         0.       ],\n",
       "       [ 7.700217 ,  0.       ,  0.       , ...,  0.       ,  0.       ,\n",
       "         0.       ],\n",
       "       [ 7.700217 ,  1.2264812,  0.       , ...,  0.       ,  0.       ,\n",
       "         0.       ]], dtype=float32)>"
      ]
     },
     "execution_count": 32,
     "metadata": {},
     "output_type": "execute_result"
    }
   ],
   "source": [
    "vectorize_layer(inp)"
   ]
  },
  {
   "attachments": {},
   "cell_type": "markdown",
   "id": "938c3502-a5d2-4124-a485-00046a013ed2",
   "metadata": {
    "id": "938c3502-a5d2-4124-a485-00046a013ed2"
   },
   "source": [
    "## 3.- Modelo"
   ]
  },
  {
   "cell_type": "code",
   "execution_count": 33,
   "id": "647aa58a",
   "metadata": {},
   "outputs": [],
   "source": [
    "# pip install matplotlib"
   ]
  },
  {
   "cell_type": "code",
   "execution_count": 34,
   "id": "c01b2731-45b9-4472-a147-a3a02413274a",
   "metadata": {
    "colab": {
     "base_uri": "https://localhost:8080/",
     "height": 449
    },
    "id": "c01b2731-45b9-4472-a147-a3a02413274a",
    "outputId": "f70ac31d-8742-4950-c730-045215b0cf24"
   },
   "outputs": [
    {
     "data": {
      "image/png": "[encoded data removed]",
      "text/plain": [
       "<Figure size 640x480 with 1 Axes>"
      ]
     },
     "metadata": {},
     "output_type": "display_data"
    }
   ],
   "source": [
    "import numpy as np\n",
    "import matplotlib.pyplot as plt\n",
    "\n",
    "# Funciones de activación\n",
    "def sigmoid(x):\n",
    "    return 1 / (1 + np.exp(-x))\n",
    "\n",
    "def tanh(x):\n",
    "    return np.tanh(x)\n",
    "\n",
    "def relu(x):\n",
    "    return np.maximum(0, x)\n",
    "\n",
    "# Datos para graficar\n",
    "x = np.linspace(-5, 5, 100)\n",
    "\n",
    "# Graficar las funciones de activación\n",
    "plt.plot(x, sigmoid(x), label='Sigmoid')\n",
    "plt.plot(x, tanh(x), label='Tanh')\n",
    "plt.plot(x, relu(x), label='ReLU')\n",
    "\n",
    "# Configuraciones del gráfico\n",
    "plt.xlabel('x')\n",
    "plt.ylabel('y')\n",
    "plt.legend()\n",
    "plt.grid()\n",
    "\n",
    "# Mostrar el gráfico\n",
    "plt.show()\n"
   ]
  },
  {
   "cell_type": "code",
   "execution_count": 35,
   "id": "3850ed32-225b-4bc3-9ac2-aefa3b9f49db",
   "metadata": {
    "colab": {
     "base_uri": "https://localhost:8080/"
    },
    "id": "3850ed32-225b-4bc3-9ac2-aefa3b9f49db",
    "outputId": "d0f54557-cdfe-4d44-b691-cfeec13dd236"
   },
   "outputs": [],
   "source": [
    "\n",
    "#One of the central abstractions in Keras is the Layer class. A layer encapsulates both a state (the layer's \"weights\") and a transformation from inputs to outputs (a \"call\", the layer's forward pass).\n",
    "\n",
    "class Linear(tf.keras.layers.Layer):\n",
    "    def __init__(self, num_neurons, activation=None):\n",
    "        super(Linear, self).__init__()\n",
    "        self.num_neurons = num_neurons\n",
    "        self.activation = activation\n",
    "\n",
    "    def build(self, input_shape):\n",
    "      self.kernel = self.add_weight(\"kernel\", shape=[int(input_shape[-1]),self.num_neurons])\n",
    "\n",
    "      self.bias = self.add_weight(\"bias\", shape=[1,self.num_neurons])\n",
    "\n",
    "        \n",
    "    def call(self, inputs):\n",
    "      x = tf.matmul(inputs,self.kernel) + self.bias #Primera capa neuronal\n",
    "      \n",
    "      if self.activation == 'relu':\n",
    "        x = tf.nn.relu(x)\n",
    "      elif self.activation == 'tanh':\n",
    "        x = tf.math.tanh(x)\n",
    "      else:\n",
    "        x = tf.math.sigmoid(x)  #Aplicando la función sigmoide\n",
    "      \n",
    "      return x\n"
   ]
  },
  {
   "cell_type": "code",
   "execution_count": 36,
   "id": "405b27a3",
   "metadata": {},
   "outputs": [],
   "source": [
    "# Definir la arquitectura neuronal\n",
    "\n",
    "model = tf.keras.models.Sequential([vectorize_layer, Linear(30, activation=\"sigmoid\")])\n",
    "#model.add(Linear(20))\n",
    "model.add(layers.Dropout(0.5))\n",
    "model.add(Linear(6))"
   ]
  },
  {
   "cell_type": "code",
   "execution_count": 37,
   "id": "b6798a0c",
   "metadata": {
    "scrolled": true
   },
   "outputs": [
    {
     "data": {
      "text/plain": [
       "<tf.Tensor: shape=(16, 6), dtype=float32, numpy=\n",
       "array([[0.29111782, 0.5393322 , 0.54800785, 0.75106764, 0.57724416,\n",
       "        0.66417235],\n",
       "       [0.31504682, 0.48917958, 0.47890285, 0.72890425, 0.5915263 ,\n",
       "        0.643757  ],\n",
       "       [0.33027637, 0.5419476 , 0.49403894, 0.7297534 , 0.5884216 ,\n",
       "        0.67408264],\n",
       "       [0.33974645, 0.49601695, 0.48249498, 0.73825234, 0.58615524,\n",
       "        0.65004337],\n",
       "       [0.3041569 , 0.52858716, 0.5020632 , 0.7363138 , 0.59404427,\n",
       "        0.6331006 ],\n",
       "       [0.34354112, 0.52461344, 0.44936505, 0.72258604, 0.6092316 ,\n",
       "        0.63094836],\n",
       "       [0.31871942, 0.49598396, 0.46415177, 0.7140647 , 0.6081958 ,\n",
       "        0.6725391 ],\n",
       "       [0.3537762 , 0.49517027, 0.4782368 , 0.71222806, 0.62717986,\n",
       "        0.6544849 ],\n",
       "       [0.31099975, 0.50268304, 0.46934032, 0.7100086 , 0.65479463,\n",
       "        0.6307616 ],\n",
       "       [0.31834617, 0.49391586, 0.489954  , 0.7357064 , 0.6151256 ,\n",
       "        0.6640879 ],\n",
       "       [0.3057152 , 0.48828706, 0.4940806 , 0.7285834 , 0.6099754 ,\n",
       "        0.67765933],\n",
       "       [0.28982797, 0.512648  , 0.5280535 , 0.7494975 , 0.62104976,\n",
       "        0.64978415],\n",
       "       [0.31050962, 0.5225778 , 0.4829026 , 0.7253419 , 0.5976618 ,\n",
       "        0.6519581 ],\n",
       "       [0.3294534 , 0.48480642, 0.46377897, 0.72347265, 0.5930211 ,\n",
       "        0.6407975 ],\n",
       "       [0.32186833, 0.47630522, 0.45443884, 0.7231823 , 0.62888134,\n",
       "        0.6824577 ],\n",
       "       [0.33522403, 0.48423222, 0.51015127, 0.76148003, 0.6067772 ,\n",
       "        0.67276114]], dtype=float32)>"
      ]
     },
     "execution_count": 37,
     "metadata": {},
     "output_type": "execute_result"
    }
   ],
   "source": [
    "model(inp)"
   ]
  },
  {
   "cell_type": "code",
   "execution_count": 38,
   "id": "e992a431",
   "metadata": {},
   "outputs": [
    {
     "data": {
      "text/plain": [
       "<tf.Variable 'UnreadVariable' shape=() dtype=float32, numpy=0.001>"
      ]
     },
     "execution_count": 38,
     "metadata": {},
     "output_type": "execute_result"
    }
   ],
   "source": [
    "#Compilar\n",
    "\n",
    "#Therefore, when using the framework of maximum likelihood estimation, we will implement a cross-entropy loss function, which often in practice means a cross-entropy loss function for classification problems and a mean squared error loss function for regression problems.\n",
    "# Categorical cross entropy is a Softmax activation plus a Cross-Entropy loss. Source: https://gombru.github.io/2018/05/23/cross_entropy_loss/\n",
    "# categorical_crossentropy needs one hot vector labels\n",
    "\n",
    "model.compile(loss='categorical_crossentropy', optimizer='adam', metrics=['accuracy'])\n",
    "model.optimizer.lr.assign(0.001) #learning rate\n"
   ]
  },
  {
   "attachments": {},
   "cell_type": "markdown",
   "id": "2a91607e",
   "metadata": {},
   "source": [
    "## 4. Entrenamiento"
   ]
  },
  {
   "attachments": {},
   "cell_type": "markdown",
   "id": "d1111bc7",
   "metadata": {},
   "source": [
    "- Proceso de carga de pesos de nuestro modelo"
   ]
  },
  {
   "cell_type": "code",
   "execution_count": 39,
   "id": "0d160366",
   "metadata": {},
   "outputs": [
    {
     "name": "stdout",
     "output_type": "stream",
     "text": [
      "445/445 - 1s - loss: 0.4431 - accuracy: 0.8373 - 1s/epoch - 3ms/step\n",
      "Restored model, accuracy: 83.73%\n"
     ]
    }
   ],
   "source": [
    "# IMPORTANTE\n",
    "# Ejecutar esta celda si ya se tienen guardados los pesos resultado de un entrenamiento previo del modelo. \n",
    "\n",
    "# Restore the weights\n",
    "model.load_weights('Weights_folder/weights')\n",
    "\n",
    "# Evaluate the model\n",
    "loss, acc = model.evaluate(test_ds, verbose=2)\n",
    "print(\"Restored model, accuracy: {:5.2f}%\".format(100 * acc))"
   ]
  },
  {
   "attachments": {},
   "cell_type": "markdown",
   "id": "29d8ea75",
   "metadata": {},
   "source": [
    "- Proceso para generar nuevos pesos para nuestro modelo"
   ]
  },
  {
   "cell_type": "code",
   "execution_count": null,
   "id": "03dfa1a1",
   "metadata": {
    "scrolled": true
   },
   "outputs": [],
   "source": [
    "# Entrenar el modelo. (NO ES NECESARIO EJECUTAR ESTE BLOQUE SI CARGAN DATOS GUARDADOS)\n",
    "# Guardamos en history para graficar los cambios en accuracy y loss en cada época.\n",
    "\n",
    "epochs = 5\n",
    "history = model.fit(train_ds, epochs=epochs, validation_data = val_ds)\n"
   ]
  },
  {
   "cell_type": "code",
   "execution_count": null,
   "id": "65ea36e3",
   "metadata": {},
   "outputs": [],
   "source": [
    "# (NO ES NECESARIO EJECUTAR ESTE BLOQUE SI CARGAN DATOS GUARDADOS)\n",
    "# Crear figura con dos subplots\n",
    "fig, (ax1, ax2) = plt.subplots(1, 2, figsize=(10, 5))\n",
    "\n",
    "# Plot de accuracy en el primer subplot\n",
    "ax1.plot(history.history['accuracy'], 'bx-', label = 'train')\n",
    "ax1.plot(history.history['val_accuracy'], 'rx-', label='val')\n",
    "\n",
    "ax1.set_title('Accuracy de entrenamiento')\n",
    "ax1.set_xlabel('Época')\n",
    "ax1.set_ylabel('Accuracy')\n",
    "\n",
    "# Plot de error en el segundo subplot\n",
    "ax2.plot(history.history['loss'], 'bx-', label = 'train')\n",
    "ax2.plot(history.history['val_loss'], 'rx-', label='val')\n",
    "ax2.set_title('Error de entrenamiento')\n",
    "ax2.set_xlabel('Época')\n",
    "ax2.set_ylabel('Error')\n",
    "\n",
    "# Mostrar figura\n",
    "plt.legend()\n",
    "plt.show()"
   ]
  },
  {
   "attachments": {},
   "cell_type": "markdown",
   "id": "b87665f4",
   "metadata": {},
   "source": [
    "- Evaluación del modelo con el conjunto cyberbullying_test"
   ]
  },
  {
   "cell_type": "code",
   "execution_count": 40,
   "id": "4a0d4eae",
   "metadata": {},
   "outputs": [
    {
     "name": "stdout",
     "output_type": "stream",
     "text": [
      "445/445 [==============================] - 1s 3ms/step - loss: 0.4431 - accuracy: 0.8373\n",
      "Test loss: 0.4431341290473938\n",
      "Test accuracy: 0.8373367190361023\n"
     ]
    }
   ],
   "source": [
    "# Evaluación del modelo.\n",
    "\n",
    "loss, accuracy = model.evaluate(test_ds)\n",
    "print(f\"Test loss: {loss}\")\n",
    "print(f\"Test accuracy: {accuracy}\")\n",
    "\n",
    "# print(\"Evaluate\")\n",
    "# result = model.evaluate(test_ds)\n",
    "# dict(zip(model.metrics_names, result))"
   ]
  },
  {
   "attachments": {},
   "cell_type": "markdown",
   "id": "3c6819a5",
   "metadata": {},
   "source": [
    "- Proceso para guardar información de los pesos de nuestro modelo"
   ]
  },
  {
   "cell_type": "code",
   "execution_count": null,
   "id": "86732f84",
   "metadata": {},
   "outputs": [],
   "source": [
    "\n",
    "# import module\n",
    "#import tensorflow\n",
    " \n",
    "#path='Weights_folder/Weights'\n",
    " \n",
    "# save\n",
    "#model.save_weights(path)\n",
    "#model.save('ModeloFinal_BasileKeller.h5')"
   ]
  },
  {
   "attachments": {},
   "cell_type": "markdown",
   "id": "29855155-31af-4ac4-b679-61f525d8d673",
   "metadata": {
    "id": "29855155-31af-4ac4-b679-61f525d8d673"
   },
   "source": [
    "## 5. Matriz de confusión y reporte de clasificación"
   ]
  },
  {
   "cell_type": "code",
   "execution_count": 41,
   "id": "8f28e0bf",
   "metadata": {},
   "outputs": [
    {
     "name": "stdout",
     "output_type": "stream",
     "text": [
      "445/445 [==============================] - 1s 2ms/step\n"
     ]
    }
   ],
   "source": [
    "predicted_labels = model.predict(test_ds)\n",
    "\n",
    "predicted_classes = np.argmax(predicted_labels, axis=1)\n",
    "\n",
    "true_labels = np.concatenate([y for x, y in test_ds], axis=0)\n",
    "\n",
    "true_labels = np.argmax(true_labels, axis=1)"
   ]
  },
  {
   "cell_type": "code",
   "execution_count": 42,
   "id": "8014be13",
   "metadata": {},
   "outputs": [
    {
     "name": "stdout",
     "output_type": "stream",
     "text": [
      "[[6.35551851e-06 5.11353661e-04 1.50531741e-05 1.77845940e-01\n",
      "  2.99425656e-03 5.32797771e-04]\n",
      " [6.13382726e-05 2.11378865e-04 1.48130275e-04 4.20884999e-06\n",
      "  4.10240181e-02 1.33523410e-02]\n",
      " [1.12483604e-05 3.61229572e-03 1.67224708e-03 4.97179190e-06\n",
      "  3.72460447e-02 1.28436133e-01]\n",
      " ...\n",
      " [9.08201940e-08 1.09775619e-05 4.61900473e-01 1.18961516e-07\n",
      "  3.09032621e-04 5.25394244e-05]\n",
      " [1.04712193e-07 1.24455491e-05 4.48455185e-01 1.59546190e-07\n",
      "  5.91493561e-04 1.35425973e-04]\n",
      " [2.26885872e-03 2.07778998e-02 8.92085209e-03 2.71601719e-04\n",
      "  1.94041014e-01 1.81824788e-01]] 7119\n",
      "[3 5 5 ... 2 2 5] 7119\n"
     ]
    },
    {
     "data": {
      "image/png": "[encoded data removed]",
      "text/plain": [
       "<Figure size 800x600 with 2 Axes>"
      ]
     },
     "metadata": {},
     "output_type": "display_data"
    }
   ],
   "source": [
    "from sklearn.metrics import confusion_matrix\n",
    "import matplotlib.pyplot as plt\n",
    "import seaborn as sns\n",
    "\n",
    "print(predicted_labels, len(predicted_labels))\n",
    "print(true_labels, len(true_labels))\n",
    "cm = confusion_matrix(true_labels, predicted_classes)\n",
    "\n",
    "class_names = [\"ethnicity\",\"gender\", \"age\", \"religion\", \"not_cyberbullying\", \"other_cyberbullying\"]\n",
    "plt.figure(figsize=(8, 6))\n",
    "sns.heatmap(cm, annot=True, fmt=\"d\", cmap=\"Blues\", xticklabels=class_names, yticklabels=class_names)\n",
    "plt.xlabel(\"Predicted Labels\")\n",
    "plt.ylabel(\"True Labels\")\n",
    "plt.title(\"Confusion Matrix\")\n",
    "plt.show()\n"
   ]
  },
  {
   "cell_type": "code",
   "execution_count": 43,
   "id": "024e9db9",
   "metadata": {},
   "outputs": [
    {
     "name": "stdout",
     "output_type": "stream",
     "text": [
      "                     precision    recall  f1-score   support\n",
      "\n",
      "          ethnicity       0.99      0.98      0.98      1196\n",
      "             gender       0.88      0.86      0.87      1139\n",
      "                age       0.96      0.97      0.97      1221\n",
      "           religion       0.95      0.94      0.95      1191\n",
      "  not_cyberbullying       0.60      0.58      0.59      1177\n",
      "other_cyberbullying       0.64      0.69      0.66      1195\n",
      "\n",
      "           accuracy                           0.84      7119\n",
      "          macro avg       0.84      0.84      0.84      7119\n",
      "       weighted avg       0.84      0.84      0.84      7119\n",
      "\n"
     ]
    }
   ],
   "source": [
    "from sklearn.metrics import classification_report\n",
    "report = classification_report(true_labels, predicted_classes, labels=[0,1,2,3,4,5], target_names=class_names)\n",
    "print(report)"
   ]
  },
  {
   "attachments": {},
   "cell_type": "markdown",
   "id": "4221992d",
   "metadata": {},
   "source": [
    "#\n",
    "#\n",
    "#"
   ]
  },
  {
   "attachments": {},
   "cell_type": "markdown",
   "id": "2a4d8596",
   "metadata": {},
   "source": [
    "## Conclusiones"
   ]
  },
  {
   "attachments": {},
   "cell_type": "markdown",
   "id": "864f82ff",
   "metadata": {},
   "source": [
    "#### Basile Álvarez Andrés José\n",
    "\n",
    "A lo largo de esta práctica, tuvimos como principal objetivo poner en práctica habilidades de programación de una red neuronal con TensorFlow para la clasificación multiclase de texto utilizando el conjunto de datos Cyberbullying Classification. \n",
    "\n",
    "Para lograr este objetivo, primeramente se importaron los tres conjuntos de datos etiquetados con los que trabajamos (train, test, validation). Estos conjuntos constan de una columna con un tweet y otra columna con la etiqueta correspondiente al tipo de bullying del tweet (\"ethnicity\",\"gender\", \"age\", \"religion\", \"not_cyberbullying\", \"other_cyberbullying\"). No obstante, para poder trabajar con estos datos y utilizar técnicas de procesamiento de lenguaje natural, tuvimos que hacer un preprocesamiento donde eliminamos elementos duplicados, cadenas vacías, caracteres especiales (como emojis, arrobas, etc.), además de convertir el texto a minúsculas y eliminar los signos de puntuación (para esto último utilizamos la función translate de la biblioteca string). Al finalizar la primera parte del preprocesamiento de los datos, nos quedamos con 32,534 tweets en el conjunto de entrenamiento, 7119 tweets en el conjunto de prueba y 7118 tweets en el de validación (esto representa una división 82.1% elementos de entrenamiento y 17.9% elementos de prueba). \n",
    "\n",
    "Continuando con el preprocesamiento, se verifica la cantidad de elementos de cada clase con los que se cuenta en el conjunto de entrenamiento y, al ver que se cuenta con una cantidad muy similar de elementos clasificados en cada una de las clases, decidimos mantener todos los elementos para el entrenamiento del modelo. \n",
    "\n",
    "Posteriormente, dado que el problema con el que trabajamos es de clasificación de datos nominales, y para maximizar el rendimiento de nuestra red neuronal, se convirtieron los nombres de clases de las etiquetas en vectores codificados como one hot. De esta forma, se obtiene una clasificación que asegura que el modelo dé la misma importancia a todas las clases y que no asuma relaciones entre las clases. Además, la representación one hot de las etiquetas nos permitió trabajar con la función de pérdida \"categorical cross entropy\", que solicita esta forma de representar las clases. \n",
    "\n",
    "Una vez hecho el mapeo a vectores one hot para las etiquetas, podemos definir los valores de X y y (tweet y etiqueta) como arreglos de numpy con los que posteriormente utilizamos la función \"from_tensor_slices\" para definir los tensores \"raw\" de entrenamiento, prueba y validación. Luego, utilizamos el método \"TextVectorization\" con un tamaño de vocabulario máximo de 10,000 tokens para convertir las cadenas \"raw\" de texto a una representación vectorial que esté lista para ser leída e interpretada por nuestra red neuronal. \n",
    "\n",
    "Más tarde, definimos el tamaño de \"batch\" (o número de muestras procesadas antes de actualizar el modelo) en 16, asegurándonos de que obtuviéramos el mejor balance entre rendimiento e información procesada antes de actualizar los parámetros del modelo. Al finalizar este paso, obtuvimos los batches para cada uno de los tres conjuntos (train_ds, val_ds, test_ds), y éstos fueron los que utilizamos para nuestra red neuronal.  \n",
    "\n",
    "Ya dentro de la definición de nuestro modelo, utilizamos la clase \"Linear\" para crear capas de nuestra red neuronal y allí asignar los pesos, el vector de sesgo y las funciones de activación (en este caso definimos \"relu\", \"tanh\" y \"sigmoide\", pero únicamente utilizamos \"sigmoide\" en el entrenamiento de nuestro modelo). \n",
    "\n",
    "Luego, gracias a la facilidad que da TensorFlow para crear redes neuronales, la definición de nuestro modelo consistió en definir una capa de 30 neuronas con activación sigmoide (con la que obtuvimos los mejores resultados), un dropout de 0.5 (que \"apaga\" la mitad de las neuronas luego de la activación en la capa previa, pero que nos permitió evitar el sobreajuste y obtener buenos resultados con el conjunto de prueba) y una capa final con seis neuronas, representando las 6 posibles clases o etiquetas de salida a las que pertenecerá un tweet. \n",
    "\n",
    "Compilamos el modelo utilizando la función de pérdida \"categorical_crossentropy\", la cual encontramos que funciona como una función de activación \"softmax\" y una función de pérdida de entropía cruzada, óptima para problemas de clasificación multiclase, y que toma requiere la codificación de las etiquetas en formato one hot. Además, pasamos como parámetro a la función compile el optimizador \"adam\", que es una extensión del descenso de gradiente estocástico con muy buenos resultados en aplicaciones de procesamiento de lenguaje natural. Finalmente, antes de entrenar definimos la tasa de aprendizaje en 0.001, la cual nos trajo los mejores resultados para nuestro problema. \n",
    "\n",
    "Entrenar el modelo, ya habiendo definido todos los parámetros previamente, fue tan sencillo como llamar al método \"fit\" de tensorflow. Para la evaluación, utilizamos el método \"evaluate\", el cual arrojó un accuracy del 83.37% en la clasificación de tweets del conjunto de prueba (nunca visto por el modelo hasta la evaluación). \n",
    "\n",
    "Finalmente, se hizo la matriz de confusión y el reporte de clasificación, donde observamos que el modelo se comporto de muy buena manera para la clasificación de tweets de bullying por etnia, género, edad y religión (precisiones de 99, 88, 96 y 95%, respectivamente) y un poco peor para tweets de las clases not_cyberbullying y other_cyberbullyng (precisiones del 60 y 64%, respectivamente). Esto puede deberse a diversos factores, entre los cuales se encuentra el número de muestras de esta clase de tweets en nuestro conjunto de entrenamiento (fueron las dos clases con menor número de muestras) o a factores propios de la configuración del modelo. \n",
    "\n",
    "En general, nos encontramos muy satisfechos con los resultados de este ejercicio de programación utilizando redes neuronales con TensorFlow, y creemos que fue muy importante realizarlo para entender de mejor manera el funcionamiento de estos modelos, así como para practicar antes de realizar nuestro proyecto final. \n",
    "\n"
   ]
  },
  {
   "attachments": {},
   "cell_type": "markdown",
   "id": "3a3a4dd0",
   "metadata": {},
   "source": [
    "#\n",
    "#\n",
    "#"
   ]
  },
  {
   "attachments": {},
   "cell_type": "markdown",
   "id": "b528a301",
   "metadata": {},
   "source": [
    "#### Keller Ascencio Rodolfo Andrés"
   ]
  },
  {
   "attachments": {},
   "cell_type": "markdown",
   "id": "2a721119",
   "metadata": {},
   "source": [
    "\n",
    "El objetivo principal de este programa se enfocaba en que los alumnos pusieran en práctica las habilidades de programación de una red neuronal en TensorFlow para la clasificación de múltiples clases de texto a través de un conjunto de datos Cyberbullying Classification. El conjunto de datos se subdividía en tres, de entre los cuales se trabajó con un conjunto train de entrenamiento que contaba con 33384 registros, un conjunto val de prueba que contaba con 7154 registros y un conjunto test de validación que contaba con 7154 registros.\n",
    "\n",
    "La clasificación multiclase a trabajar se dividía en seis clases de tipo de cyberbullying entre los que se encontraban textos que no presentaban cyberbullying y textos que presentaban cyberbullying por etnia, género, edad, religión y por cualquier otro tipo de cyberbullying. \n",
    "\n",
    "Para la realización de este programa inicialmente se trabajó el preprocesamiento del texto. Para esto se leyeron cada uno de los tres conjuntos de datos y se almacenaron en tres variables separadas a las cuales se les eliminó las cadenas vacías, los registros duplicados, las cadenas de espacios y los signos de puntuación, emoticonos y símbolos que se presentaran dentro de los registros, buscando quedarnos únicamente con palabras para así finalmente pasar a minúscula los textos. \n",
    "\n",
    "Tras esto se evaluó el número de registros de cyberbullying que se contaba por cada clase dentro del conjunto de entrenamiento, donde se apreciaron valores un tanto similares para cada uno de los conjuntos a clasificar, siendo un buen conjunto para el entrenamiento de nuestro modelo debido a su gran tamaño y no tan alto sesgo de los datos. Por otro lado, para la preparación de los datos teníamos que trabajar con las etiquetas de clase, debido a que estas etiquetas se presentaron como cadenas, por lo cual tuvimos que modificarlos para que se adecuaran a una etiqueta de tipo entera que posteriormente pasara a un vector one hot mediante el uso del método map. Todo esto formó parte de la preparación de los datos para la generación de nuestro modelo.\n",
    "\n",
    "Como siguiente paso, para la alimentación y validación de nuestro modelo tuvimos que transformar los conjuntos de tweets y etiquetas a arreglos de la biblioteca numpy para luego usar estos arreglos con la función from_tensor_slices() para trabajar con los tensores a utilizar. Del conjunto de tweets se seleccionó un tamaño de vocabulario de diez mil palabras, siendo que estas palabras serían las más frecuentes dentro de los tweets, siendo escogidas a través de la función TextVectorization que hace uso de TF-IDF, medida numérica que expresa cuán relevante es una palabra para un documento en una colección a través de la frecuencia inversa de documento.\n",
    "\n",
    "Después se eligió el número de muestras que se introducen a la red neuronal para ser procesadas en cada época. Si el número era muy pequeño, la red tenía poca cantidad de datos en memoria, entrena más rápido, pero considera menos características y detalles significativos. En contraparte, si era un valor grande el modelo tardaba más tiempo en entrenar, pero tomaba más en cuenta las características significativas y detalladas del modelo.\n",
    "\n",
    "Posteriormente se trabajó la clase Linear del modelo, donde definimos la matriz de pesos kernel, el vector de sesgo bias y la función de activación donde permitimos que el modelo trabajara tanto con funciones relu, tanh y sigmoide a pesar de que al final con la función sigmoide obtuvimos los mejores resultados de nuestro modelo.\n",
    "\n",
    "Para la arquitectura de nuestra red neuronal decidimos trabajar con dos capas, la primera contaba con treinta neuronas y la última con seis neuronas debido al número de clases que trabajamos en nuestra clasificación. Para ambas capas neuronales hacemos uso de la función de activación sigmoide. De misma manera, se trabajó con un dropout del 50%, lo que significa que al momento del entrenamiento del modelo la mitad de las neuronas se \"apagaban\" para evitar un sobreajuste de nuestro modelo.\n",
    "\n",
    "Con respecto a la función compile se definió a categorical_crossentropy como función de pérdida, siendo una función ideal al trabajar con clasificación multiclase requiriendo de los vectores one hot como formato de las etiquetas de clase en la entrada del modelo y el cual hace uso de Softmax como función de activación. Como optimizador utilizamos Adam, Adaptive Moment Estimation, recomendado por el profesor al generar buenos resultados en problemas de procesamiento de lenguaje natural. La tasa de aprendizaje utilizada fue de 0.001, siendo la que mejor resultado nos trajo al momento de realizar pruebas.\n",
    "\n",
    "Tras haber definido nuestro modelo se realizó su entrenamiento trabajando con cinco épocas y obteniendo una precisión general del 83.73%  y una pérdida de 0.4431 al trabajar con el conjunto test para su evaluación. Como métricas de desempeño se obtuvo la matriz de confusión del modelo y un reporte de clasificación para cada una de las clases, donde en la matriz de confusión se aprecia que la mayor cantidad de errores se tienen entre la clasificación de tweets que no cuentan con cyberbullying y tweets con un distinto tipo de cyberbullying al de las clases definidas como etnia, género, edad y religión. Considero que esto ocurrió debido a que la cantidad de registro de estas clases era menor que al de las otras, además de que a mi parecer al buscar clasificar otros tipos de cyberbullying estamos tomando en cuenta una gran cantidad de palabras que representan una gran cantidad de tipos de cyberbullying, por lo cual el modelo no se adapta tan bien a estas categorías generalizadas y puede tener cierta confusión con otras categorías como lo es el no tener cyberbullying en tweets, sobre todo debido a la frecuencia de aparición de las palabras en los tweets de estos distintos tipos de bullying. Las clases not_cyberbullying con una precisión del 60% y other_cyberbullying con una precisión del 64% fueron las clases que tuvieron una peor precisión de clasificación, mientras que las clases ethnicity 99%, gender 88%, age 96% y religion 95% tuvieron valores altos de precisión. Para apreciar a mayor detalle el reporte de clasificación se puede acceder al apartado dentro de este notebook.\n",
    "\n",
    "Al haber obtenido un modelo preciso tras varias pruebas, hicimos uso de las funciones save_weights y save para almacenar los valores de los pesos de las épocas y el modelo para poder reproducir nuestro entenamiento y replicarlo a partir del conjunto de datos y los mismos pesos de la red neuronal. Para poder cargar el modelo y los pesos se hace uso de la función load_weights.\n",
    "\n",
    "Finalmente, puedo concluir que esta práctica fue sumamente útil para ayudarme a comprender los pasos que se deben realizar para el preprocesamiento de los datos, así como la manera en la cual se construye el modelo de una red neuronal, donde el mayor reto así como el mayor aprendizaje se obtuvo al entender el papel y la importancia que juega cada uno de los parámetros de los elementos que forman nuestro modelo de red neuronal, siendo que al encontrar una combinación buena entre estos parámetros se podía obtener un modelo bueno para la evaluación y clasificación del cyberbullying en tweets.\n"
   ]
  },
  {
   "attachments": {},
   "cell_type": "markdown",
   "id": "944b3997",
   "metadata": {},
   "source": [
    "# Apéndice"
   ]
  },
  {
   "attachments": {},
   "cell_type": "markdown",
   "id": "addf6e68",
   "metadata": {},
   "source": [
    "\n",
    "## Algunas notas sobre TF\n",
    "\n",
    "\n",
    "\n",
    "Compile -> model.compile(optimizer='adam',\n",
    "              loss=tf.keras.losses.SparseCategoricalCrossentropy(from_logits=True),\n",
    "              metrics=['accuracy'])\n",
    "\n",
    "        donde: \n",
    "            Loss function = Medir qué tan accurate es el modelo en el entrenamiento. Hay que minimizar esta función. Podemos usar MSE, MAE, ...\n",
    "            Optimizer = Adam, Adadelta, etc. This is how the model is updated based on the data it sees and its loss function.\n",
    "            Metrics = Used to monitor the training and testing steps. En el ejemplo anterior, se utiliza accuracy\n",
    "        \n",
    "\n",
    "\n",
    "Fit -> model.fit(train_images, train_labels, epochs=10)\n",
    "        \n",
    "        donde:\n",
    "            Pasamos los datos de entrenamiento (en este caso el texto y su clasificación)\n",
    "\n",
    "\n",
    "\n",
    "Evaluate -> test_loss, test_acc = model.evaluate(test_images,  test_labels, verbose=2)\n",
    "            print('\\nTest accuracy:', test_acc)\n",
    "\n",
    "\n",
    "Predict -> probability_model = tf.keras.Sequential([model, \n",
    "                                         tf.keras.layers.Softmax()])\n",
    "            \n",
    "            en esta primer función, utilizamos softmax para convertir la salida en probabilidades\n",
    "            \n",
    "            predictions = probability_model.predict(test_images)\n",
    "            \n",
    "            con predict, obtenemos el label para cada dato en el conjunto de datos de pruebas\n",
    "\n",
    "\n",
    "https://www.tensorflow.org/tutorials/keras/classification\n",
    "\n",
    "\n",
    "\n",
    "\n",
    "\n",
    "\n"
   ]
  },
  {
   "attachments": {},
   "cell_type": "markdown",
   "id": "3e7d7c3f",
   "metadata": {},
   "source": [
    "The batch size is a number of samples processed before the model is updated. The batch size is a hyperparameter that defines the number of samples to work through before updating the internal model parameters.\n",
    "\n",
    "The number of epochs is the number of complete passes through the training dataset.\n",
    "\n",
    "https://machinelearningmastery.com/difference-between-a-batch-and-an-epoch/"
   ]
  },
  {
   "attachments": {},
   "cell_type": "markdown",
   "id": "40ba3710",
   "metadata": {},
   "source": [
    "## Prepare the dataset for training\n",
    "\n",
    "Next, you will standardize, tokenize, and vectorize the data using the tf.keras.layers.TextVectorization layer.\n",
    "\n",
    "    Standardization refers to preprocessing the text, typically to remove punctuation or HTML elements to simplify the dataset.\n",
    "    Tokenization refers to splitting strings into tokens (for example, splitting a sentence into individual words by splitting on whitespace).\n",
    "    Vectorization refers to converting tokens into numbers so they can be fed into a neural network.\n",
    "    \n",
    "https://www.tensorflow.org/tutorials/load_data/text\n"
   ]
  },
  {
   "attachments": {},
   "cell_type": "markdown",
   "id": "ecc77e4e",
   "metadata": {},
   "source": [
    "## Layer\n",
    "\n",
    "A layer is a callable object that takes as input one or more tensors and that outputs one or more tensors. It involves computation, defined in the call() method, and a state (weight variables). \n",
    "\n",
    "build(self, input_shape): This method can be used to create weights that depend on the shape(s) of the input(s), using add_weight(), or other state. __call__() will automatically build the layer (if it has not been built yet) by calling build().\n",
    "call(self, inputs, *args, **kwargs): Called in __call__ after making sure build() has been called. call() performs the logic of applying the layer to the inputs. The first invocation may additionally create state that could not be conveniently created in build(); see its docstring for details. Two reserved keyword arguments you can optionally use in call() are:\n",
    "\n",
    "    training (boolean, whether the call is in inference mode or training mode). See more details in the layer/model subclassing guide\n",
    "    mask (boolean tensor encoding masked timesteps in the input, used in RNN layers). See more details in the layer/model subclassing guide A typical signature for this method is call(self, inputs), and user could optionally add training and mask if the layer need them. *args and **kwargs is only useful for future extension when more input parameters are planned to be added"
   ]
  },
  {
   "attachments": {},
   "cell_type": "markdown",
   "id": "1aff1053",
   "metadata": {},
   "source": [
    "#\n",
    "#\n",
    "#\n",
    "   "
   ]
  },
  {
   "cell_type": "code",
   "execution_count": 91,
   "id": "f1a17290",
   "metadata": {
    "id": "fc440688-eeec-43ed-85c9-0cf1482e9362"
   },
   "outputs": [],
   "source": [
    "# model = Sequential([\n",
    "#   vectorize_layer,                  #Vectores TF IDF\n",
    "#   Linear(3, activation='sigmoid'),  #3 neuronas\n",
    "#   Linear(6)                         #1 neurona de salida, 1 es Fake News, 0 es Real News\n",
    "# ])\n",
    "\n",
    "# lr = 0.01                          #Tasa de aprendizaje (Muy alta rebota mucho, muy chica tarda mucho)\n",
    "# opt = tf.keras.optimizers.experimental.SGD(lr)  #Definimos optimizador"
   ]
  },
  {
   "cell_type": "code",
   "execution_count": 92,
   "id": "2fa2130f",
   "metadata": {
    "colab": {
     "base_uri": "https://localhost:8080/"
    },
    "id": "4e1d3441-4324-4b77-a26a-6eac2bc6b1c8",
    "outputId": "a9dee08c-de3d-4887-b62c-73e9ad5b8744"
   },
   "outputs": [],
   "source": [
    "# model(inp)"
   ]
  },
  {
   "cell_type": "code",
   "execution_count": 93,
   "id": "ed5d3f5f",
   "metadata": {},
   "outputs": [],
   "source": [
    "# model.add(tf.keras.layers.Dense(units=64, activation='relu', input_shape=(len(vectorizer.get_feature_names()),)))\n",
    "# model.add(tf.keras.layers.Dropout(0.5))\n",
    "# model.add(tf.keras.layers.Dense(units=6, activation='softmax'))\n",
    "\n",
    "# # Compilar el modelo\n",
    "# model.compile(loss='categorical_crossentropy', optimizer='adam', metrics=['accuracy'])\n",
    "\n",
    "# # Entrenar el modelo\n",
    "# epochs = 10\n",
    "# batch_size = 32\n",
    "# model.fit(train_vectors, train_labels, validation_data=(val_vectors, val_labels), epochs=epochs, batch_size=batch_size)\n",
    "\n",
    "# # Evaluar el modelo en el conjunto de prueba\n",
    "# loss, accuracy = model.evaluate(test_vectors, test_labels)\n",
    "# print(f\"Test loss: {loss}\")\n",
    "# print(f\"Test accuracy: {accuracy}\")"
   ]
  },
  {
   "cell_type": "code",
   "execution_count": null,
   "id": "fe5b549d",
   "metadata": {},
   "outputs": [],
   "source": [
    "# model = tf.keras.models.Sequential([vectorize_layer, Linear(1, activation=\"relu\")])\n",
    "# model.add(Linear(8))\n",
    "# model.add(layers.Dropout(0.5))\n",
    "# model.add(Linear(6,activation=\"sigmoid\"))\n",
    "# https://machinelearningmastery.com/choose-an-activation-function-for-deep-learning/\n",
    "\n",
    "# 82.51\n",
    "# lr = 0.01\n",
    "# model = tf.keras.models.Sequential([vectorize_layer, Linear(20, activation=\"sigmoid\")])\n",
    "# #model.add(Linear(20))\n",
    "# model.add(layers.Dropout(0.5))\n",
    "# model.add(Linear(6))"
   ]
  }
 ],
 "metadata": {
  "colab": {
   "provenance": []
  },
  "kernelspec": {
   "display_name": "Python 3 (ipykernel)",
   "language": "python",
   "name": "python3"
  },
  "language_info": {
   "codemirror_mode": {
    "name": "ipython",
    "version": 3
   },
   "file_extension": ".py",
   "mimetype": "text/x-python",
   "name": "python",
   "nbconvert_exporter": "python",
   "pygments_lexer": "ipython3",
   "version": "3.10.9"
  }
 },
 "nbformat": 4,
 "nbformat_minor": 5
}
