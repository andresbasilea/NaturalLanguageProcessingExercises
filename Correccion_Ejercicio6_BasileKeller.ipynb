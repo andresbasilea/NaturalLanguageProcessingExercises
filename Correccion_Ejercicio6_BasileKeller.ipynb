{
 "cells": [
  {
   "cell_type": "markdown",
   "metadata": {},
   "source": [
    "### Equipo:\n",
    "#### Basile Alvarez Andrés José\n",
    "#### Keller Ascencio Rodolfo Andrés"
   ]
  },
  {
   "cell_type": "markdown",
   "metadata": {},
   "source": [
    "# Naive Bayes "
   ]
  },
  {
   "cell_type": "markdown",
   "metadata": {},
   "source": [
    "- Dataset: https://www.kaggle.com/datasets/clmentbisaillon/fake-and-real-news-dataset"
   ]
  },
  {
   "cell_type": "code",
   "execution_count": 5,
   "metadata": {},
   "outputs": [],
   "source": [
    "import pandas as pd"
   ]
  },
  {
   "cell_type": "code",
   "execution_count": 6,
   "metadata": {},
   "outputs": [],
   "source": [
    "fake_df = pd.read_csv('Fake.csv')  \n",
    "true_df = pd.read_csv('True.csv')  "
   ]
  },
  {
   "cell_type": "code",
   "execution_count": 3,
   "metadata": {},
   "outputs": [
    {
     "data": {
      "text/html": [
       "<div>\n",
       "<style scoped>\n",
       "    .dataframe tbody tr th:only-of-type {\n",
       "        vertical-align: middle;\n",
       "    }\n",
       "\n",
       "    .dataframe tbody tr th {\n",
       "        vertical-align: top;\n",
       "    }\n",
       "\n",
       "    .dataframe thead th {\n",
       "        text-align: right;\n",
       "    }\n",
       "</style>\n",
       "<table border=\"1\" class=\"dataframe\">\n",
       "  <thead>\n",
       "    <tr style=\"text-align: right;\">\n",
       "      <th></th>\n",
       "      <th>title</th>\n",
       "      <th>text</th>\n",
       "      <th>subject</th>\n",
       "      <th>date</th>\n",
       "    </tr>\n",
       "  </thead>\n",
       "  <tbody>\n",
       "    <tr>\n",
       "      <th>0</th>\n",
       "      <td>Donald Trump Sends Out Embarrassing New Year’...</td>\n",
       "      <td>Donald Trump just couldn t wish all Americans ...</td>\n",
       "      <td>News</td>\n",
       "      <td>December 31, 2017</td>\n",
       "    </tr>\n",
       "    <tr>\n",
       "      <th>1</th>\n",
       "      <td>Drunk Bragging Trump Staffer Started Russian ...</td>\n",
       "      <td>House Intelligence Committee Chairman Devin Nu...</td>\n",
       "      <td>News</td>\n",
       "      <td>December 31, 2017</td>\n",
       "    </tr>\n",
       "    <tr>\n",
       "      <th>2</th>\n",
       "      <td>Sheriff David Clarke Becomes An Internet Joke...</td>\n",
       "      <td>On Friday, it was revealed that former Milwauk...</td>\n",
       "      <td>News</td>\n",
       "      <td>December 30, 2017</td>\n",
       "    </tr>\n",
       "    <tr>\n",
       "      <th>3</th>\n",
       "      <td>Trump Is So Obsessed He Even Has Obama’s Name...</td>\n",
       "      <td>On Christmas day, Donald Trump announced that ...</td>\n",
       "      <td>News</td>\n",
       "      <td>December 29, 2017</td>\n",
       "    </tr>\n",
       "    <tr>\n",
       "      <th>4</th>\n",
       "      <td>Pope Francis Just Called Out Donald Trump Dur...</td>\n",
       "      <td>Pope Francis used his annual Christmas Day mes...</td>\n",
       "      <td>News</td>\n",
       "      <td>December 25, 2017</td>\n",
       "    </tr>\n",
       "  </tbody>\n",
       "</table>\n",
       "</div>"
      ],
      "text/plain": [
       "                                               title  \\\n",
       "0   Donald Trump Sends Out Embarrassing New Year’...   \n",
       "1   Drunk Bragging Trump Staffer Started Russian ...   \n",
       "2   Sheriff David Clarke Becomes An Internet Joke...   \n",
       "3   Trump Is So Obsessed He Even Has Obama’s Name...   \n",
       "4   Pope Francis Just Called Out Donald Trump Dur...   \n",
       "\n",
       "                                                text subject  \\\n",
       "0  Donald Trump just couldn t wish all Americans ...    News   \n",
       "1  House Intelligence Committee Chairman Devin Nu...    News   \n",
       "2  On Friday, it was revealed that former Milwauk...    News   \n",
       "3  On Christmas day, Donald Trump announced that ...    News   \n",
       "4  Pope Francis used his annual Christmas Day mes...    News   \n",
       "\n",
       "                date  \n",
       "0  December 31, 2017  \n",
       "1  December 31, 2017  \n",
       "2  December 30, 2017  \n",
       "3  December 29, 2017  \n",
       "4  December 25, 2017  "
      ]
     },
     "execution_count": 3,
     "metadata": {},
     "output_type": "execute_result"
    }
   ],
   "source": [
    "fake_df.head()"
   ]
  },
  {
   "cell_type": "markdown",
   "metadata": {},
   "source": [
    "- Agregar etiquetas de clase"
   ]
  },
  {
   "cell_type": "code",
   "execution_count": 26,
   "metadata": {},
   "outputs": [],
   "source": [
    "fake_df['target'] = 1\n",
    "true_df['target'] = 0"
   ]
  },
  {
   "cell_type": "code",
   "execution_count": 27,
   "metadata": {},
   "outputs": [
    {
     "data": {
      "text/plain": [
       "(23481, 21417)"
      ]
     },
     "execution_count": 27,
     "metadata": {},
     "output_type": "execute_result"
    }
   ],
   "source": [
    "len(fake_df), len(true_df)"
   ]
  },
  {
   "cell_type": "code",
   "execution_count": 28,
   "metadata": {},
   "outputs": [
    {
     "data": {
      "text/html": [
       "<div>\n",
       "<style scoped>\n",
       "    .dataframe tbody tr th:only-of-type {\n",
       "        vertical-align: middle;\n",
       "    }\n",
       "\n",
       "    .dataframe tbody tr th {\n",
       "        vertical-align: top;\n",
       "    }\n",
       "\n",
       "    .dataframe thead th {\n",
       "        text-align: right;\n",
       "    }\n",
       "</style>\n",
       "<table border=\"1\" class=\"dataframe\">\n",
       "  <thead>\n",
       "    <tr style=\"text-align: right;\">\n",
       "      <th></th>\n",
       "      <th>title</th>\n",
       "      <th>text</th>\n",
       "      <th>subject</th>\n",
       "      <th>date</th>\n",
       "      <th>target</th>\n",
       "    </tr>\n",
       "  </thead>\n",
       "  <tbody>\n",
       "    <tr>\n",
       "      <th>23476</th>\n",
       "      <td>McPain: John McCain Furious That Iran Treated ...</td>\n",
       "      <td>21st Century Wire says As 21WIRE reported earl...</td>\n",
       "      <td>Middle-east</td>\n",
       "      <td>January 16, 2016</td>\n",
       "      <td>1</td>\n",
       "    </tr>\n",
       "    <tr>\n",
       "      <th>23477</th>\n",
       "      <td>JUSTICE? Yahoo Settles E-mail Privacy Class-ac...</td>\n",
       "      <td>21st Century Wire says It s a familiar theme. ...</td>\n",
       "      <td>Middle-east</td>\n",
       "      <td>January 16, 2016</td>\n",
       "      <td>1</td>\n",
       "    </tr>\n",
       "    <tr>\n",
       "      <th>23478</th>\n",
       "      <td>Sunnistan: US and Allied ‘Safe Zone’ Plan to T...</td>\n",
       "      <td>Patrick Henningsen  21st Century WireRemember ...</td>\n",
       "      <td>Middle-east</td>\n",
       "      <td>January 15, 2016</td>\n",
       "      <td>1</td>\n",
       "    </tr>\n",
       "    <tr>\n",
       "      <th>23479</th>\n",
       "      <td>How to Blow $700 Million: Al Jazeera America F...</td>\n",
       "      <td>21st Century Wire says Al Jazeera America will...</td>\n",
       "      <td>Middle-east</td>\n",
       "      <td>January 14, 2016</td>\n",
       "      <td>1</td>\n",
       "    </tr>\n",
       "    <tr>\n",
       "      <th>23480</th>\n",
       "      <td>10 U.S. Navy Sailors Held by Iranian Military ...</td>\n",
       "      <td>21st Century Wire says As 21WIRE predicted in ...</td>\n",
       "      <td>Middle-east</td>\n",
       "      <td>January 12, 2016</td>\n",
       "      <td>1</td>\n",
       "    </tr>\n",
       "  </tbody>\n",
       "</table>\n",
       "</div>"
      ],
      "text/plain": [
       "                                                   title  \\\n",
       "23476  McPain: John McCain Furious That Iran Treated ...   \n",
       "23477  JUSTICE? Yahoo Settles E-mail Privacy Class-ac...   \n",
       "23478  Sunnistan: US and Allied ‘Safe Zone’ Plan to T...   \n",
       "23479  How to Blow $700 Million: Al Jazeera America F...   \n",
       "23480  10 U.S. Navy Sailors Held by Iranian Military ...   \n",
       "\n",
       "                                                    text      subject  \\\n",
       "23476  21st Century Wire says As 21WIRE reported earl...  Middle-east   \n",
       "23477  21st Century Wire says It s a familiar theme. ...  Middle-east   \n",
       "23478  Patrick Henningsen  21st Century WireRemember ...  Middle-east   \n",
       "23479  21st Century Wire says Al Jazeera America will...  Middle-east   \n",
       "23480  21st Century Wire says As 21WIRE predicted in ...  Middle-east   \n",
       "\n",
       "                   date  target  \n",
       "23476  January 16, 2016       1  \n",
       "23477  January 16, 2016       1  \n",
       "23478  January 15, 2016       1  \n",
       "23479  January 14, 2016       1  \n",
       "23480  January 12, 2016       1  "
      ]
     },
     "execution_count": 28,
     "metadata": {},
     "output_type": "execute_result"
    }
   ],
   "source": [
    "fake_df.tail()"
   ]
  },
  {
   "cell_type": "markdown",
   "metadata": {},
   "source": [
    "- Crea un df de los dos archivos"
   ]
  },
  {
   "cell_type": "code",
   "execution_count": 29,
   "metadata": {},
   "outputs": [
    {
     "data": {
      "text/html": [
       "<div>\n",
       "<style scoped>\n",
       "    .dataframe tbody tr th:only-of-type {\n",
       "        vertical-align: middle;\n",
       "    }\n",
       "\n",
       "    .dataframe tbody tr th {\n",
       "        vertical-align: top;\n",
       "    }\n",
       "\n",
       "    .dataframe thead th {\n",
       "        text-align: right;\n",
       "    }\n",
       "</style>\n",
       "<table border=\"1\" class=\"dataframe\">\n",
       "  <thead>\n",
       "    <tr style=\"text-align: right;\">\n",
       "      <th></th>\n",
       "      <th>title</th>\n",
       "      <th>text</th>\n",
       "      <th>subject</th>\n",
       "      <th>date</th>\n",
       "      <th>target</th>\n",
       "    </tr>\n",
       "  </thead>\n",
       "  <tbody>\n",
       "    <tr>\n",
       "      <th>0</th>\n",
       "      <td>As U.S. budget fight looms, Republicans flip t...</td>\n",
       "      <td>WASHINGTON (Reuters) - The head of a conservat...</td>\n",
       "      <td>politicsNews</td>\n",
       "      <td>December 31, 2017</td>\n",
       "      <td>0</td>\n",
       "    </tr>\n",
       "    <tr>\n",
       "      <th>1</th>\n",
       "      <td>U.S. military to accept transgender recruits o...</td>\n",
       "      <td>WASHINGTON (Reuters) - Transgender people will...</td>\n",
       "      <td>politicsNews</td>\n",
       "      <td>December 29, 2017</td>\n",
       "      <td>0</td>\n",
       "    </tr>\n",
       "    <tr>\n",
       "      <th>2</th>\n",
       "      <td>Senior U.S. Republican senator: 'Let Mr. Muell...</td>\n",
       "      <td>WASHINGTON (Reuters) - The special counsel inv...</td>\n",
       "      <td>politicsNews</td>\n",
       "      <td>December 31, 2017</td>\n",
       "      <td>0</td>\n",
       "    </tr>\n",
       "    <tr>\n",
       "      <th>3</th>\n",
       "      <td>FBI Russia probe helped by Australian diplomat...</td>\n",
       "      <td>WASHINGTON (Reuters) - Trump campaign adviser ...</td>\n",
       "      <td>politicsNews</td>\n",
       "      <td>December 30, 2017</td>\n",
       "      <td>0</td>\n",
       "    </tr>\n",
       "    <tr>\n",
       "      <th>4</th>\n",
       "      <td>Trump wants Postal Service to charge 'much mor...</td>\n",
       "      <td>SEATTLE/WASHINGTON (Reuters) - President Donal...</td>\n",
       "      <td>politicsNews</td>\n",
       "      <td>December 29, 2017</td>\n",
       "      <td>0</td>\n",
       "    </tr>\n",
       "  </tbody>\n",
       "</table>\n",
       "</div>"
      ],
      "text/plain": [
       "                                               title  \\\n",
       "0  As U.S. budget fight looms, Republicans flip t...   \n",
       "1  U.S. military to accept transgender recruits o...   \n",
       "2  Senior U.S. Republican senator: 'Let Mr. Muell...   \n",
       "3  FBI Russia probe helped by Australian diplomat...   \n",
       "4  Trump wants Postal Service to charge 'much mor...   \n",
       "\n",
       "                                                text       subject  \\\n",
       "0  WASHINGTON (Reuters) - The head of a conservat...  politicsNews   \n",
       "1  WASHINGTON (Reuters) - Transgender people will...  politicsNews   \n",
       "2  WASHINGTON (Reuters) - The special counsel inv...  politicsNews   \n",
       "3  WASHINGTON (Reuters) - Trump campaign adviser ...  politicsNews   \n",
       "4  SEATTLE/WASHINGTON (Reuters) - President Donal...  politicsNews   \n",
       "\n",
       "                 date  target  \n",
       "0  December 31, 2017        0  \n",
       "1  December 29, 2017        0  \n",
       "2  December 31, 2017        0  \n",
       "3  December 30, 2017        0  \n",
       "4  December 29, 2017        0  "
      ]
     },
     "execution_count": 29,
     "metadata": {},
     "output_type": "execute_result"
    }
   ],
   "source": [
    "df = pd.concat([true_df, fake_df])\n",
    "df = df.reset_index(drop=True) # Create id to avoid nan and replicate id bug\n",
    "df.head()"
   ]
  },
  {
   "cell_type": "code",
   "execution_count": 30,
   "metadata": {},
   "outputs": [
    {
     "data": {
      "text/html": [
       "<div>\n",
       "<style scoped>\n",
       "    .dataframe tbody tr th:only-of-type {\n",
       "        vertical-align: middle;\n",
       "    }\n",
       "\n",
       "    .dataframe tbody tr th {\n",
       "        vertical-align: top;\n",
       "    }\n",
       "\n",
       "    .dataframe thead th {\n",
       "        text-align: right;\n",
       "    }\n",
       "</style>\n",
       "<table border=\"1\" class=\"dataframe\">\n",
       "  <thead>\n",
       "    <tr style=\"text-align: right;\">\n",
       "      <th></th>\n",
       "      <th>title</th>\n",
       "      <th>text</th>\n",
       "      <th>subject</th>\n",
       "      <th>date</th>\n",
       "      <th>target</th>\n",
       "    </tr>\n",
       "  </thead>\n",
       "  <tbody>\n",
       "    <tr>\n",
       "      <th>44893</th>\n",
       "      <td>McPain: John McCain Furious That Iran Treated ...</td>\n",
       "      <td>21st Century Wire says As 21WIRE reported earl...</td>\n",
       "      <td>Middle-east</td>\n",
       "      <td>January 16, 2016</td>\n",
       "      <td>1</td>\n",
       "    </tr>\n",
       "    <tr>\n",
       "      <th>44894</th>\n",
       "      <td>JUSTICE? Yahoo Settles E-mail Privacy Class-ac...</td>\n",
       "      <td>21st Century Wire says It s a familiar theme. ...</td>\n",
       "      <td>Middle-east</td>\n",
       "      <td>January 16, 2016</td>\n",
       "      <td>1</td>\n",
       "    </tr>\n",
       "    <tr>\n",
       "      <th>44895</th>\n",
       "      <td>Sunnistan: US and Allied ‘Safe Zone’ Plan to T...</td>\n",
       "      <td>Patrick Henningsen  21st Century WireRemember ...</td>\n",
       "      <td>Middle-east</td>\n",
       "      <td>January 15, 2016</td>\n",
       "      <td>1</td>\n",
       "    </tr>\n",
       "    <tr>\n",
       "      <th>44896</th>\n",
       "      <td>How to Blow $700 Million: Al Jazeera America F...</td>\n",
       "      <td>21st Century Wire says Al Jazeera America will...</td>\n",
       "      <td>Middle-east</td>\n",
       "      <td>January 14, 2016</td>\n",
       "      <td>1</td>\n",
       "    </tr>\n",
       "    <tr>\n",
       "      <th>44897</th>\n",
       "      <td>10 U.S. Navy Sailors Held by Iranian Military ...</td>\n",
       "      <td>21st Century Wire says As 21WIRE predicted in ...</td>\n",
       "      <td>Middle-east</td>\n",
       "      <td>January 12, 2016</td>\n",
       "      <td>1</td>\n",
       "    </tr>\n",
       "  </tbody>\n",
       "</table>\n",
       "</div>"
      ],
      "text/plain": [
       "                                                   title  \\\n",
       "44893  McPain: John McCain Furious That Iran Treated ...   \n",
       "44894  JUSTICE? Yahoo Settles E-mail Privacy Class-ac...   \n",
       "44895  Sunnistan: US and Allied ‘Safe Zone’ Plan to T...   \n",
       "44896  How to Blow $700 Million: Al Jazeera America F...   \n",
       "44897  10 U.S. Navy Sailors Held by Iranian Military ...   \n",
       "\n",
       "                                                    text      subject  \\\n",
       "44893  21st Century Wire says As 21WIRE reported earl...  Middle-east   \n",
       "44894  21st Century Wire says It s a familiar theme. ...  Middle-east   \n",
       "44895  Patrick Henningsen  21st Century WireRemember ...  Middle-east   \n",
       "44896  21st Century Wire says Al Jazeera America will...  Middle-east   \n",
       "44897  21st Century Wire says As 21WIRE predicted in ...  Middle-east   \n",
       "\n",
       "                   date  target  \n",
       "44893  January 16, 2016       1  \n",
       "44894  January 16, 2016       1  \n",
       "44895  January 15, 2016       1  \n",
       "44896  January 14, 2016       1  \n",
       "44897  January 12, 2016       1  "
      ]
     },
     "execution_count": 30,
     "metadata": {},
     "output_type": "execute_result"
    }
   ],
   "source": [
    "df.tail()"
   ]
  },
  {
   "cell_type": "markdown",
   "metadata": {},
   "source": [
    "- Verifica cadenas vacias"
   ]
  },
  {
   "cell_type": "code",
   "execution_count": 31,
   "metadata": {},
   "outputs": [
    {
     "data": {
      "text/plain": [
       "0"
      ]
     },
     "execution_count": 31,
     "metadata": {},
     "output_type": "execute_result"
    }
   ],
   "source": [
    "df['text'].isna().sum()"
   ]
  },
  {
   "cell_type": "code",
   "execution_count": 32,
   "metadata": {},
   "outputs": [
    {
     "data": {
      "text/plain": [
       "44898"
      ]
     },
     "execution_count": 32,
     "metadata": {},
     "output_type": "execute_result"
    }
   ],
   "source": [
    "len(df)"
   ]
  },
  {
   "cell_type": "markdown",
   "metadata": {},
   "source": [
    "- Elimina duplicados"
   ]
  },
  {
   "cell_type": "code",
   "execution_count": 33,
   "metadata": {},
   "outputs": [
    {
     "data": {
      "text/plain": [
       "38646"
      ]
     },
     "execution_count": 33,
     "metadata": {},
     "output_type": "execute_result"
    }
   ],
   "source": [
    "df = df.drop_duplicates(subset=['text'])\n",
    "len(df)"
   ]
  },
  {
   "cell_type": "code",
   "execution_count": 34,
   "metadata": {
    "scrolled": true
   },
   "outputs": [
    {
     "data": {
      "text/html": [
       "<div>\n",
       "<style scoped>\n",
       "    .dataframe tbody tr th:only-of-type {\n",
       "        vertical-align: middle;\n",
       "    }\n",
       "\n",
       "    .dataframe tbody tr th {\n",
       "        vertical-align: top;\n",
       "    }\n",
       "\n",
       "    .dataframe thead th {\n",
       "        text-align: right;\n",
       "    }\n",
       "</style>\n",
       "<table border=\"1\" class=\"dataframe\">\n",
       "  <thead>\n",
       "    <tr style=\"text-align: right;\">\n",
       "      <th></th>\n",
       "      <th>title</th>\n",
       "      <th>text</th>\n",
       "      <th>subject</th>\n",
       "      <th>date</th>\n",
       "      <th>target</th>\n",
       "    </tr>\n",
       "  </thead>\n",
       "  <tbody>\n",
       "    <tr>\n",
       "      <th>0</th>\n",
       "      <td>As U.S. budget fight looms, Republicans flip t...</td>\n",
       "      <td>WASHINGTON (Reuters) - The head of a conservat...</td>\n",
       "      <td>politicsNews</td>\n",
       "      <td>December 31, 2017</td>\n",
       "      <td>0</td>\n",
       "    </tr>\n",
       "    <tr>\n",
       "      <th>1</th>\n",
       "      <td>U.S. military to accept transgender recruits o...</td>\n",
       "      <td>WASHINGTON (Reuters) - Transgender people will...</td>\n",
       "      <td>politicsNews</td>\n",
       "      <td>December 29, 2017</td>\n",
       "      <td>0</td>\n",
       "    </tr>\n",
       "    <tr>\n",
       "      <th>2</th>\n",
       "      <td>Senior U.S. Republican senator: 'Let Mr. Muell...</td>\n",
       "      <td>WASHINGTON (Reuters) - The special counsel inv...</td>\n",
       "      <td>politicsNews</td>\n",
       "      <td>December 31, 2017</td>\n",
       "      <td>0</td>\n",
       "    </tr>\n",
       "    <tr>\n",
       "      <th>3</th>\n",
       "      <td>FBI Russia probe helped by Australian diplomat...</td>\n",
       "      <td>WASHINGTON (Reuters) - Trump campaign adviser ...</td>\n",
       "      <td>politicsNews</td>\n",
       "      <td>December 30, 2017</td>\n",
       "      <td>0</td>\n",
       "    </tr>\n",
       "    <tr>\n",
       "      <th>4</th>\n",
       "      <td>Trump wants Postal Service to charge 'much mor...</td>\n",
       "      <td>SEATTLE/WASHINGTON (Reuters) - President Donal...</td>\n",
       "      <td>politicsNews</td>\n",
       "      <td>December 29, 2017</td>\n",
       "      <td>0</td>\n",
       "    </tr>\n",
       "    <tr>\n",
       "      <th>5</th>\n",
       "      <td>White House, Congress prepare for talks on spe...</td>\n",
       "      <td>WEST PALM BEACH, Fla./WASHINGTON (Reuters) - T...</td>\n",
       "      <td>politicsNews</td>\n",
       "      <td>December 29, 2017</td>\n",
       "      <td>0</td>\n",
       "    </tr>\n",
       "    <tr>\n",
       "      <th>6</th>\n",
       "      <td>Trump says Russia probe will be fair, but time...</td>\n",
       "      <td>WEST PALM BEACH, Fla (Reuters) - President Don...</td>\n",
       "      <td>politicsNews</td>\n",
       "      <td>December 29, 2017</td>\n",
       "      <td>0</td>\n",
       "    </tr>\n",
       "    <tr>\n",
       "      <th>7</th>\n",
       "      <td>Factbox: Trump on Twitter (Dec 29) - Approval ...</td>\n",
       "      <td>The following statements were posted to the ve...</td>\n",
       "      <td>politicsNews</td>\n",
       "      <td>December 29, 2017</td>\n",
       "      <td>0</td>\n",
       "    </tr>\n",
       "    <tr>\n",
       "      <th>8</th>\n",
       "      <td>Trump on Twitter (Dec 28) - Global Warming</td>\n",
       "      <td>The following statements were posted to the ve...</td>\n",
       "      <td>politicsNews</td>\n",
       "      <td>December 29, 2017</td>\n",
       "      <td>0</td>\n",
       "    </tr>\n",
       "    <tr>\n",
       "      <th>9</th>\n",
       "      <td>Alabama official to certify Senator-elect Jone...</td>\n",
       "      <td>WASHINGTON (Reuters) - Alabama Secretary of St...</td>\n",
       "      <td>politicsNews</td>\n",
       "      <td>December 28, 2017</td>\n",
       "      <td>0</td>\n",
       "    </tr>\n",
       "  </tbody>\n",
       "</table>\n",
       "</div>"
      ],
      "text/plain": [
       "                                               title  \\\n",
       "0  As U.S. budget fight looms, Republicans flip t...   \n",
       "1  U.S. military to accept transgender recruits o...   \n",
       "2  Senior U.S. Republican senator: 'Let Mr. Muell...   \n",
       "3  FBI Russia probe helped by Australian diplomat...   \n",
       "4  Trump wants Postal Service to charge 'much mor...   \n",
       "5  White House, Congress prepare for talks on spe...   \n",
       "6  Trump says Russia probe will be fair, but time...   \n",
       "7  Factbox: Trump on Twitter (Dec 29) - Approval ...   \n",
       "8         Trump on Twitter (Dec 28) - Global Warming   \n",
       "9  Alabama official to certify Senator-elect Jone...   \n",
       "\n",
       "                                                text       subject  \\\n",
       "0  WASHINGTON (Reuters) - The head of a conservat...  politicsNews   \n",
       "1  WASHINGTON (Reuters) - Transgender people will...  politicsNews   \n",
       "2  WASHINGTON (Reuters) - The special counsel inv...  politicsNews   \n",
       "3  WASHINGTON (Reuters) - Trump campaign adviser ...  politicsNews   \n",
       "4  SEATTLE/WASHINGTON (Reuters) - President Donal...  politicsNews   \n",
       "5  WEST PALM BEACH, Fla./WASHINGTON (Reuters) - T...  politicsNews   \n",
       "6  WEST PALM BEACH, Fla (Reuters) - President Don...  politicsNews   \n",
       "7  The following statements were posted to the ve...  politicsNews   \n",
       "8  The following statements were posted to the ve...  politicsNews   \n",
       "9  WASHINGTON (Reuters) - Alabama Secretary of St...  politicsNews   \n",
       "\n",
       "                 date  target  \n",
       "0  December 31, 2017        0  \n",
       "1  December 29, 2017        0  \n",
       "2  December 31, 2017        0  \n",
       "3  December 30, 2017        0  \n",
       "4  December 29, 2017        0  \n",
       "5  December 29, 2017        0  \n",
       "6  December 29, 2017        0  \n",
       "7  December 29, 2017        0  \n",
       "8  December 29, 2017        0  \n",
       "9  December 28, 2017        0  "
      ]
     },
     "execution_count": 34,
     "metadata": {},
     "output_type": "execute_result"
    }
   ],
   "source": [
    "df.head(10)"
   ]
  },
  {
   "cell_type": "code",
   "execution_count": 35,
   "metadata": {},
   "outputs": [
    {
     "data": {
      "text/html": [
       "<div>\n",
       "<style scoped>\n",
       "    .dataframe tbody tr th:only-of-type {\n",
       "        vertical-align: middle;\n",
       "    }\n",
       "\n",
       "    .dataframe tbody tr th {\n",
       "        vertical-align: top;\n",
       "    }\n",
       "\n",
       "    .dataframe thead th {\n",
       "        text-align: right;\n",
       "    }\n",
       "</style>\n",
       "<table border=\"1\" class=\"dataframe\">\n",
       "  <thead>\n",
       "    <tr style=\"text-align: right;\">\n",
       "      <th></th>\n",
       "      <th>title</th>\n",
       "      <th>text</th>\n",
       "      <th>subject</th>\n",
       "      <th>date</th>\n",
       "      <th>target</th>\n",
       "    </tr>\n",
       "  </thead>\n",
       "  <tbody>\n",
       "    <tr>\n",
       "      <th>8970</th>\n",
       "      <td>Graphic: Supreme Court roundup</td>\n",
       "      <td></td>\n",
       "      <td>politicsNews</td>\n",
       "      <td>June 16, 2016</td>\n",
       "      <td>0</td>\n",
       "    </tr>\n",
       "    <tr>\n",
       "      <th>33661</th>\n",
       "      <td>TRUMP SLAMS THE GLOBALISTS: “There is no globa...</td>\n",
       "      <td></td>\n",
       "      <td>politics</td>\n",
       "      <td>Dec 1, 2016</td>\n",
       "      <td>1</td>\n",
       "    </tr>\n",
       "    <tr>\n",
       "      <th>35094</th>\n",
       "      <td>MUSLIM INVASION OF AMERICA In Full Swing: Obam...</td>\n",
       "      <td>(Welcome) to America We hope you enjoy our...</td>\n",
       "      <td>politics</td>\n",
       "      <td>Jun 17, 2016</td>\n",
       "      <td>1</td>\n",
       "    </tr>\n",
       "    <tr>\n",
       "      <th>32062</th>\n",
       "      <td>WOW! MAJOR CREDIT CARD COMPANY Still Sponsorin...</td>\n",
       "      <td>Delta Air Lines and Bank of America became ...</td>\n",
       "      <td>politics</td>\n",
       "      <td>Jun 12, 2017</td>\n",
       "      <td>1</td>\n",
       "    </tr>\n",
       "    <tr>\n",
       "      <th>33502</th>\n",
       "      <td>A MUST WATCH! “It’s Time To Show America Is Bi...</td>\n",
       "      <td>#PresidentElectTrumpABSOLUTELY MUST WATCHTod...</td>\n",
       "      <td>politics</td>\n",
       "      <td>Dec 21, 2016</td>\n",
       "      <td>1</td>\n",
       "    </tr>\n",
       "    <tr>\n",
       "      <th>...</th>\n",
       "      <td>...</td>\n",
       "      <td>...</td>\n",
       "      <td>...</td>\n",
       "      <td>...</td>\n",
       "      <td>...</td>\n",
       "    </tr>\n",
       "    <tr>\n",
       "      <th>33499</th>\n",
       "      <td>OHIO ELECTOR TORCHES Anti-Trump Letters He Rec...</td>\n",
       "      <td>pic.twitter.com/KMnLrwB6t1  Richard K. Jones (...</td>\n",
       "      <td>politics</td>\n",
       "      <td>Dec 21, 2016</td>\n",
       "      <td>1</td>\n",
       "    </tr>\n",
       "    <tr>\n",
       "      <th>42714</th>\n",
       "      <td>EMBARRASSING: Obama Explains How He Will ‘Rebu...</td>\n",
       "      <td>re buke r byo ok/ verb 1. express sharp disapp...</td>\n",
       "      <td>left-news</td>\n",
       "      <td>Nov 25, 2015</td>\n",
       "      <td>1</td>\n",
       "    </tr>\n",
       "    <tr>\n",
       "      <th>36178</th>\n",
       "      <td>BLACK LIVES MATTER TERRORISTS May Be Shut Down...</td>\n",
       "      <td>ter ror ist  ter r st/ noun a person who uses ...</td>\n",
       "      <td>politics</td>\n",
       "      <td>Dec 23, 2015</td>\n",
       "      <td>1</td>\n",
       "    </tr>\n",
       "    <tr>\n",
       "      <th>38658</th>\n",
       "      <td>BIG BROTHER: FEDS WANT YOUR DOCTOR TO WARN YOU...</td>\n",
       "      <td>totally out of bounds! This is so wrong and so...</td>\n",
       "      <td>Government News</td>\n",
       "      <td>Jun 26, 2015</td>\n",
       "      <td>1</td>\n",
       "    </tr>\n",
       "    <tr>\n",
       "      <th>34364</th>\n",
       "      <td>GRAPHIC RIOT VIDEOS EXPOSE THUGS ATTACKING ELD...</td>\n",
       "      <td>youngers these days are becoming so moist pic....</td>\n",
       "      <td>politics</td>\n",
       "      <td>Sep 22, 2016</td>\n",
       "      <td>1</td>\n",
       "    </tr>\n",
       "  </tbody>\n",
       "</table>\n",
       "<p>38646 rows × 5 columns</p>\n",
       "</div>"
      ],
      "text/plain": [
       "                                                   title  \\\n",
       "8970                      Graphic: Supreme Court roundup   \n",
       "33661  TRUMP SLAMS THE GLOBALISTS: “There is no globa...   \n",
       "35094  MUSLIM INVASION OF AMERICA In Full Swing: Obam...   \n",
       "32062  WOW! MAJOR CREDIT CARD COMPANY Still Sponsorin...   \n",
       "33502  A MUST WATCH! “It’s Time To Show America Is Bi...   \n",
       "...                                                  ...   \n",
       "33499  OHIO ELECTOR TORCHES Anti-Trump Letters He Rec...   \n",
       "42714  EMBARRASSING: Obama Explains How He Will ‘Rebu...   \n",
       "36178  BLACK LIVES MATTER TERRORISTS May Be Shut Down...   \n",
       "38658  BIG BROTHER: FEDS WANT YOUR DOCTOR TO WARN YOU...   \n",
       "34364  GRAPHIC RIOT VIDEOS EXPOSE THUGS ATTACKING ELD...   \n",
       "\n",
       "                                                    text          subject  \\\n",
       "8970                                                         politicsNews   \n",
       "33661                                                            politics   \n",
       "35094      (Welcome) to America We hope you enjoy our...         politics   \n",
       "32062     Delta Air Lines and Bank of America became ...         politics   \n",
       "33502    #PresidentElectTrumpABSOLUTELY MUST WATCHTod...         politics   \n",
       "...                                                  ...              ...   \n",
       "33499  pic.twitter.com/KMnLrwB6t1  Richard K. Jones (...         politics   \n",
       "42714  re buke r byo ok/ verb 1. express sharp disapp...        left-news   \n",
       "36178  ter ror ist  ter r st/ noun a person who uses ...         politics   \n",
       "38658  totally out of bounds! This is so wrong and so...  Government News   \n",
       "34364  youngers these days are becoming so moist pic....         politics   \n",
       "\n",
       "                 date  target  \n",
       "8970   June 16, 2016        0  \n",
       "33661     Dec 1, 2016       1  \n",
       "35094    Jun 17, 2016       1  \n",
       "32062    Jun 12, 2017       1  \n",
       "33502    Dec 21, 2016       1  \n",
       "...               ...     ...  \n",
       "33499    Dec 21, 2016       1  \n",
       "42714    Nov 25, 2015       1  \n",
       "36178    Dec 23, 2015       1  \n",
       "38658    Jun 26, 2015       1  \n",
       "34364    Sep 22, 2016       1  \n",
       "\n",
       "[38646 rows x 5 columns]"
      ]
     },
     "execution_count": 35,
     "metadata": {},
     "output_type": "execute_result"
    }
   ],
   "source": [
    "df.sort_values(by='text', ascending=True, inplace=False)"
   ]
  },
  {
   "cell_type": "code",
   "execution_count": 36,
   "metadata": {},
   "outputs": [
    {
     "data": {
      "text/plain": [
       "' '"
      ]
     },
     "execution_count": 36,
     "metadata": {},
     "output_type": "execute_result"
    }
   ],
   "source": [
    "df.loc[8970].text"
   ]
  },
  {
   "cell_type": "markdown",
   "metadata": {},
   "source": [
    "- Elimina cadenas de espacios"
   ]
  },
  {
   "cell_type": "code",
   "execution_count": 37,
   "metadata": {},
   "outputs": [
    {
     "data": {
      "text/html": [
       "<div>\n",
       "<style scoped>\n",
       "    .dataframe tbody tr th:only-of-type {\n",
       "        vertical-align: middle;\n",
       "    }\n",
       "\n",
       "    .dataframe tbody tr th {\n",
       "        vertical-align: top;\n",
       "    }\n",
       "\n",
       "    .dataframe thead th {\n",
       "        text-align: right;\n",
       "    }\n",
       "</style>\n",
       "<table border=\"1\" class=\"dataframe\">\n",
       "  <thead>\n",
       "    <tr style=\"text-align: right;\">\n",
       "      <th></th>\n",
       "      <th>title</th>\n",
       "      <th>text</th>\n",
       "      <th>subject</th>\n",
       "      <th>date</th>\n",
       "      <th>target</th>\n",
       "    </tr>\n",
       "  </thead>\n",
       "  <tbody>\n",
       "    <tr>\n",
       "      <th>0</th>\n",
       "      <td>As U.S. budget fight looms, Republicans flip t...</td>\n",
       "      <td>WASHINGTON (Reuters) - The head of a conservat...</td>\n",
       "      <td>politicsNews</td>\n",
       "      <td>December 31, 2017</td>\n",
       "      <td>0</td>\n",
       "    </tr>\n",
       "    <tr>\n",
       "      <th>1</th>\n",
       "      <td>U.S. military to accept transgender recruits o...</td>\n",
       "      <td>WASHINGTON (Reuters) - Transgender people will...</td>\n",
       "      <td>politicsNews</td>\n",
       "      <td>December 29, 2017</td>\n",
       "      <td>0</td>\n",
       "    </tr>\n",
       "    <tr>\n",
       "      <th>2</th>\n",
       "      <td>Senior U.S. Republican senator: 'Let Mr. Muell...</td>\n",
       "      <td>WASHINGTON (Reuters) - The special counsel inv...</td>\n",
       "      <td>politicsNews</td>\n",
       "      <td>December 31, 2017</td>\n",
       "      <td>0</td>\n",
       "    </tr>\n",
       "    <tr>\n",
       "      <th>3</th>\n",
       "      <td>FBI Russia probe helped by Australian diplomat...</td>\n",
       "      <td>WASHINGTON (Reuters) - Trump campaign adviser ...</td>\n",
       "      <td>politicsNews</td>\n",
       "      <td>December 30, 2017</td>\n",
       "      <td>0</td>\n",
       "    </tr>\n",
       "    <tr>\n",
       "      <th>4</th>\n",
       "      <td>Trump wants Postal Service to charge 'much mor...</td>\n",
       "      <td>SEATTLE/WASHINGTON (Reuters) - President Donal...</td>\n",
       "      <td>politicsNews</td>\n",
       "      <td>December 29, 2017</td>\n",
       "      <td>0</td>\n",
       "    </tr>\n",
       "    <tr>\n",
       "      <th>...</th>\n",
       "      <td>...</td>\n",
       "      <td>...</td>\n",
       "      <td>...</td>\n",
       "      <td>...</td>\n",
       "      <td>...</td>\n",
       "    </tr>\n",
       "    <tr>\n",
       "      <th>44115</th>\n",
       "      <td>The White House and The Theatrics of ‘Gun Cont...</td>\n",
       "      <td>21st Century Wire says All the world s a stage...</td>\n",
       "      <td>US_News</td>\n",
       "      <td>January 7, 2016</td>\n",
       "      <td>1</td>\n",
       "    </tr>\n",
       "    <tr>\n",
       "      <th>44116</th>\n",
       "      <td>Activists or Terrorists? How Media Controls an...</td>\n",
       "      <td>Randy Johnson 21st Century WireThe majority ...</td>\n",
       "      <td>US_News</td>\n",
       "      <td>January 7, 2016</td>\n",
       "      <td>1</td>\n",
       "    </tr>\n",
       "    <tr>\n",
       "      <th>44117</th>\n",
       "      <td>BOILER ROOM – No Surrender, No Retreat, Heads ...</td>\n",
       "      <td>Tune in to the Alternate Current Radio Network...</td>\n",
       "      <td>US_News</td>\n",
       "      <td>January 6, 2016</td>\n",
       "      <td>1</td>\n",
       "    </tr>\n",
       "    <tr>\n",
       "      <th>44118</th>\n",
       "      <td>Federal Showdown Looms in Oregon After BLM Abu...</td>\n",
       "      <td>21st Century Wire says A new front has just op...</td>\n",
       "      <td>US_News</td>\n",
       "      <td>January 4, 2016</td>\n",
       "      <td>1</td>\n",
       "    </tr>\n",
       "    <tr>\n",
       "      <th>44119</th>\n",
       "      <td>A Troubled King: Chicago’s Rahm Emanuel Desper...</td>\n",
       "      <td>21st Century Wire says It s not that far away....</td>\n",
       "      <td>US_News</td>\n",
       "      <td>January 2, 2016</td>\n",
       "      <td>1</td>\n",
       "    </tr>\n",
       "  </tbody>\n",
       "</table>\n",
       "<p>38644 rows × 5 columns</p>\n",
       "</div>"
      ],
      "text/plain": [
       "                                                   title  \\\n",
       "0      As U.S. budget fight looms, Republicans flip t...   \n",
       "1      U.S. military to accept transgender recruits o...   \n",
       "2      Senior U.S. Republican senator: 'Let Mr. Muell...   \n",
       "3      FBI Russia probe helped by Australian diplomat...   \n",
       "4      Trump wants Postal Service to charge 'much mor...   \n",
       "...                                                  ...   \n",
       "44115  The White House and The Theatrics of ‘Gun Cont...   \n",
       "44116  Activists or Terrorists? How Media Controls an...   \n",
       "44117  BOILER ROOM – No Surrender, No Retreat, Heads ...   \n",
       "44118  Federal Showdown Looms in Oregon After BLM Abu...   \n",
       "44119  A Troubled King: Chicago’s Rahm Emanuel Desper...   \n",
       "\n",
       "                                                    text       subject  \\\n",
       "0      WASHINGTON (Reuters) - The head of a conservat...  politicsNews   \n",
       "1      WASHINGTON (Reuters) - Transgender people will...  politicsNews   \n",
       "2      WASHINGTON (Reuters) - The special counsel inv...  politicsNews   \n",
       "3      WASHINGTON (Reuters) - Trump campaign adviser ...  politicsNews   \n",
       "4      SEATTLE/WASHINGTON (Reuters) - President Donal...  politicsNews   \n",
       "...                                                  ...           ...   \n",
       "44115  21st Century Wire says All the world s a stage...       US_News   \n",
       "44116    Randy Johnson 21st Century WireThe majority ...       US_News   \n",
       "44117  Tune in to the Alternate Current Radio Network...       US_News   \n",
       "44118  21st Century Wire says A new front has just op...       US_News   \n",
       "44119  21st Century Wire says It s not that far away....       US_News   \n",
       "\n",
       "                     date  target  \n",
       "0      December 31, 2017        0  \n",
       "1      December 29, 2017        0  \n",
       "2      December 31, 2017        0  \n",
       "3      December 30, 2017        0  \n",
       "4      December 29, 2017        0  \n",
       "...                   ...     ...  \n",
       "44115     January 7, 2016       1  \n",
       "44116     January 7, 2016       1  \n",
       "44117     January 6, 2016       1  \n",
       "44118     January 4, 2016       1  \n",
       "44119     January 2, 2016       1  \n",
       "\n",
       "[38644 rows x 5 columns]"
      ]
     },
     "execution_count": 37,
     "metadata": {},
     "output_type": "execute_result"
    }
   ],
   "source": [
    "df = df[df['text'].str.strip() != '']\n",
    "df"
   ]
  },
  {
   "cell_type": "code",
   "execution_count": 38,
   "metadata": {},
   "outputs": [],
   "source": [
    "df = df.reset_index(drop=True)"
   ]
  },
  {
   "cell_type": "code",
   "execution_count": 39,
   "metadata": {},
   "outputs": [
    {
     "data": {
      "text/plain": [
       "38644"
      ]
     },
     "execution_count": 39,
     "metadata": {},
     "output_type": "execute_result"
    }
   ],
   "source": [
    "len(df)"
   ]
  },
  {
   "cell_type": "markdown",
   "metadata": {},
   "source": [
    "- Crea nueva columna añadiendo el título al texto"
   ]
  },
  {
   "cell_type": "code",
   "execution_count": 40,
   "metadata": {},
   "outputs": [],
   "source": [
    "df['clean_text'] = df['title']+ df['text']"
   ]
  },
  {
   "cell_type": "code",
   "execution_count": 41,
   "metadata": {},
   "outputs": [
    {
     "data": {
      "text/html": [
       "<div>\n",
       "<style scoped>\n",
       "    .dataframe tbody tr th:only-of-type {\n",
       "        vertical-align: middle;\n",
       "    }\n",
       "\n",
       "    .dataframe tbody tr th {\n",
       "        vertical-align: top;\n",
       "    }\n",
       "\n",
       "    .dataframe thead th {\n",
       "        text-align: right;\n",
       "    }\n",
       "</style>\n",
       "<table border=\"1\" class=\"dataframe\">\n",
       "  <thead>\n",
       "    <tr style=\"text-align: right;\">\n",
       "      <th></th>\n",
       "      <th>title</th>\n",
       "      <th>text</th>\n",
       "      <th>subject</th>\n",
       "      <th>date</th>\n",
       "      <th>target</th>\n",
       "      <th>clean_text</th>\n",
       "    </tr>\n",
       "  </thead>\n",
       "  <tbody>\n",
       "    <tr>\n",
       "      <th>0</th>\n",
       "      <td>As U.S. budget fight looms, Republicans flip t...</td>\n",
       "      <td>WASHINGTON (Reuters) - The head of a conservat...</td>\n",
       "      <td>politicsNews</td>\n",
       "      <td>December 31, 2017</td>\n",
       "      <td>0</td>\n",
       "      <td>As U.S. budget fight looms, Republicans flip t...</td>\n",
       "    </tr>\n",
       "    <tr>\n",
       "      <th>1</th>\n",
       "      <td>U.S. military to accept transgender recruits o...</td>\n",
       "      <td>WASHINGTON (Reuters) - Transgender people will...</td>\n",
       "      <td>politicsNews</td>\n",
       "      <td>December 29, 2017</td>\n",
       "      <td>0</td>\n",
       "      <td>U.S. military to accept transgender recruits o...</td>\n",
       "    </tr>\n",
       "    <tr>\n",
       "      <th>2</th>\n",
       "      <td>Senior U.S. Republican senator: 'Let Mr. Muell...</td>\n",
       "      <td>WASHINGTON (Reuters) - The special counsel inv...</td>\n",
       "      <td>politicsNews</td>\n",
       "      <td>December 31, 2017</td>\n",
       "      <td>0</td>\n",
       "      <td>Senior U.S. Republican senator: 'Let Mr. Muell...</td>\n",
       "    </tr>\n",
       "    <tr>\n",
       "      <th>3</th>\n",
       "      <td>FBI Russia probe helped by Australian diplomat...</td>\n",
       "      <td>WASHINGTON (Reuters) - Trump campaign adviser ...</td>\n",
       "      <td>politicsNews</td>\n",
       "      <td>December 30, 2017</td>\n",
       "      <td>0</td>\n",
       "      <td>FBI Russia probe helped by Australian diplomat...</td>\n",
       "    </tr>\n",
       "    <tr>\n",
       "      <th>4</th>\n",
       "      <td>Trump wants Postal Service to charge 'much mor...</td>\n",
       "      <td>SEATTLE/WASHINGTON (Reuters) - President Donal...</td>\n",
       "      <td>politicsNews</td>\n",
       "      <td>December 29, 2017</td>\n",
       "      <td>0</td>\n",
       "      <td>Trump wants Postal Service to charge 'much mor...</td>\n",
       "    </tr>\n",
       "    <tr>\n",
       "      <th>...</th>\n",
       "      <td>...</td>\n",
       "      <td>...</td>\n",
       "      <td>...</td>\n",
       "      <td>...</td>\n",
       "      <td>...</td>\n",
       "      <td>...</td>\n",
       "    </tr>\n",
       "    <tr>\n",
       "      <th>38639</th>\n",
       "      <td>The White House and The Theatrics of ‘Gun Cont...</td>\n",
       "      <td>21st Century Wire says All the world s a stage...</td>\n",
       "      <td>US_News</td>\n",
       "      <td>January 7, 2016</td>\n",
       "      <td>1</td>\n",
       "      <td>The White House and The Theatrics of ‘Gun Cont...</td>\n",
       "    </tr>\n",
       "    <tr>\n",
       "      <th>38640</th>\n",
       "      <td>Activists or Terrorists? How Media Controls an...</td>\n",
       "      <td>Randy Johnson 21st Century WireThe majority ...</td>\n",
       "      <td>US_News</td>\n",
       "      <td>January 7, 2016</td>\n",
       "      <td>1</td>\n",
       "      <td>Activists or Terrorists? How Media Controls an...</td>\n",
       "    </tr>\n",
       "    <tr>\n",
       "      <th>38641</th>\n",
       "      <td>BOILER ROOM – No Surrender, No Retreat, Heads ...</td>\n",
       "      <td>Tune in to the Alternate Current Radio Network...</td>\n",
       "      <td>US_News</td>\n",
       "      <td>January 6, 2016</td>\n",
       "      <td>1</td>\n",
       "      <td>BOILER ROOM – No Surrender, No Retreat, Heads ...</td>\n",
       "    </tr>\n",
       "    <tr>\n",
       "      <th>38642</th>\n",
       "      <td>Federal Showdown Looms in Oregon After BLM Abu...</td>\n",
       "      <td>21st Century Wire says A new front has just op...</td>\n",
       "      <td>US_News</td>\n",
       "      <td>January 4, 2016</td>\n",
       "      <td>1</td>\n",
       "      <td>Federal Showdown Looms in Oregon After BLM Abu...</td>\n",
       "    </tr>\n",
       "    <tr>\n",
       "      <th>38643</th>\n",
       "      <td>A Troubled King: Chicago’s Rahm Emanuel Desper...</td>\n",
       "      <td>21st Century Wire says It s not that far away....</td>\n",
       "      <td>US_News</td>\n",
       "      <td>January 2, 2016</td>\n",
       "      <td>1</td>\n",
       "      <td>A Troubled King: Chicago’s Rahm Emanuel Desper...</td>\n",
       "    </tr>\n",
       "  </tbody>\n",
       "</table>\n",
       "<p>38644 rows × 6 columns</p>\n",
       "</div>"
      ],
      "text/plain": [
       "                                                   title  \\\n",
       "0      As U.S. budget fight looms, Republicans flip t...   \n",
       "1      U.S. military to accept transgender recruits o...   \n",
       "2      Senior U.S. Republican senator: 'Let Mr. Muell...   \n",
       "3      FBI Russia probe helped by Australian diplomat...   \n",
       "4      Trump wants Postal Service to charge 'much mor...   \n",
       "...                                                  ...   \n",
       "38639  The White House and The Theatrics of ‘Gun Cont...   \n",
       "38640  Activists or Terrorists? How Media Controls an...   \n",
       "38641  BOILER ROOM – No Surrender, No Retreat, Heads ...   \n",
       "38642  Federal Showdown Looms in Oregon After BLM Abu...   \n",
       "38643  A Troubled King: Chicago’s Rahm Emanuel Desper...   \n",
       "\n",
       "                                                    text       subject  \\\n",
       "0      WASHINGTON (Reuters) - The head of a conservat...  politicsNews   \n",
       "1      WASHINGTON (Reuters) - Transgender people will...  politicsNews   \n",
       "2      WASHINGTON (Reuters) - The special counsel inv...  politicsNews   \n",
       "3      WASHINGTON (Reuters) - Trump campaign adviser ...  politicsNews   \n",
       "4      SEATTLE/WASHINGTON (Reuters) - President Donal...  politicsNews   \n",
       "...                                                  ...           ...   \n",
       "38639  21st Century Wire says All the world s a stage...       US_News   \n",
       "38640    Randy Johnson 21st Century WireThe majority ...       US_News   \n",
       "38641  Tune in to the Alternate Current Radio Network...       US_News   \n",
       "38642  21st Century Wire says A new front has just op...       US_News   \n",
       "38643  21st Century Wire says It s not that far away....       US_News   \n",
       "\n",
       "                     date  target  \\\n",
       "0      December 31, 2017        0   \n",
       "1      December 29, 2017        0   \n",
       "2      December 31, 2017        0   \n",
       "3      December 30, 2017        0   \n",
       "4      December 29, 2017        0   \n",
       "...                   ...     ...   \n",
       "38639     January 7, 2016       1   \n",
       "38640     January 7, 2016       1   \n",
       "38641     January 6, 2016       1   \n",
       "38642     January 4, 2016       1   \n",
       "38643     January 2, 2016       1   \n",
       "\n",
       "                                              clean_text  \n",
       "0      As U.S. budget fight looms, Republicans flip t...  \n",
       "1      U.S. military to accept transgender recruits o...  \n",
       "2      Senior U.S. Republican senator: 'Let Mr. Muell...  \n",
       "3      FBI Russia probe helped by Australian diplomat...  \n",
       "4      Trump wants Postal Service to charge 'much mor...  \n",
       "...                                                  ...  \n",
       "38639  The White House and The Theatrics of ‘Gun Cont...  \n",
       "38640  Activists or Terrorists? How Media Controls an...  \n",
       "38641  BOILER ROOM – No Surrender, No Retreat, Heads ...  \n",
       "38642  Federal Showdown Looms in Oregon After BLM Abu...  \n",
       "38643  A Troubled King: Chicago’s Rahm Emanuel Desper...  \n",
       "\n",
       "[38644 rows x 6 columns]"
      ]
     },
     "execution_count": 41,
     "metadata": {},
     "output_type": "execute_result"
    }
   ],
   "source": [
    "df"
   ]
  },
  {
   "cell_type": "markdown",
   "metadata": {},
   "source": [
    "- Elimina puntuación y convierte a minúsculas\n",
    "- Se utiliza el método __str.translate()__ para eliminar todos los caracteres de puntuación mediante una tabla de traducción creada con el método __str.maketrans__. La constante string.punctuation contiene todos los caracteres de puntuación ASCII, que se eliminan de los valores en la columna"
   ]
  },
  {
   "cell_type": "code",
   "execution_count": 42,
   "metadata": {},
   "outputs": [],
   "source": [
    "import string"
   ]
  },
  {
   "cell_type": "code",
   "execution_count": 43,
   "metadata": {
    "scrolled": true
   },
   "outputs": [
    {
     "data": {
      "text/html": [
       "<div>\n",
       "<style scoped>\n",
       "    .dataframe tbody tr th:only-of-type {\n",
       "        vertical-align: middle;\n",
       "    }\n",
       "\n",
       "    .dataframe tbody tr th {\n",
       "        vertical-align: top;\n",
       "    }\n",
       "\n",
       "    .dataframe thead th {\n",
       "        text-align: right;\n",
       "    }\n",
       "</style>\n",
       "<table border=\"1\" class=\"dataframe\">\n",
       "  <thead>\n",
       "    <tr style=\"text-align: right;\">\n",
       "      <th></th>\n",
       "      <th>title</th>\n",
       "      <th>text</th>\n",
       "      <th>subject</th>\n",
       "      <th>date</th>\n",
       "      <th>target</th>\n",
       "      <th>clean_text</th>\n",
       "    </tr>\n",
       "  </thead>\n",
       "  <tbody>\n",
       "    <tr>\n",
       "      <th>0</th>\n",
       "      <td>As U.S. budget fight looms, Republicans flip t...</td>\n",
       "      <td>WASHINGTON (Reuters) - The head of a conservat...</td>\n",
       "      <td>politicsNews</td>\n",
       "      <td>December 31, 2017</td>\n",
       "      <td>0</td>\n",
       "      <td>as us budget fight looms republicans flip thei...</td>\n",
       "    </tr>\n",
       "    <tr>\n",
       "      <th>1</th>\n",
       "      <td>U.S. military to accept transgender recruits o...</td>\n",
       "      <td>WASHINGTON (Reuters) - Transgender people will...</td>\n",
       "      <td>politicsNews</td>\n",
       "      <td>December 29, 2017</td>\n",
       "      <td>0</td>\n",
       "      <td>us military to accept transgender recruits on ...</td>\n",
       "    </tr>\n",
       "    <tr>\n",
       "      <th>2</th>\n",
       "      <td>Senior U.S. Republican senator: 'Let Mr. Muell...</td>\n",
       "      <td>WASHINGTON (Reuters) - The special counsel inv...</td>\n",
       "      <td>politicsNews</td>\n",
       "      <td>December 31, 2017</td>\n",
       "      <td>0</td>\n",
       "      <td>senior us republican senator let mr mueller do...</td>\n",
       "    </tr>\n",
       "    <tr>\n",
       "      <th>3</th>\n",
       "      <td>FBI Russia probe helped by Australian diplomat...</td>\n",
       "      <td>WASHINGTON (Reuters) - Trump campaign adviser ...</td>\n",
       "      <td>politicsNews</td>\n",
       "      <td>December 30, 2017</td>\n",
       "      <td>0</td>\n",
       "      <td>fbi russia probe helped by australian diplomat...</td>\n",
       "    </tr>\n",
       "    <tr>\n",
       "      <th>4</th>\n",
       "      <td>Trump wants Postal Service to charge 'much mor...</td>\n",
       "      <td>SEATTLE/WASHINGTON (Reuters) - President Donal...</td>\n",
       "      <td>politicsNews</td>\n",
       "      <td>December 29, 2017</td>\n",
       "      <td>0</td>\n",
       "      <td>trump wants postal service to charge much more...</td>\n",
       "    </tr>\n",
       "  </tbody>\n",
       "</table>\n",
       "</div>"
      ],
      "text/plain": [
       "                                               title  \\\n",
       "0  As U.S. budget fight looms, Republicans flip t...   \n",
       "1  U.S. military to accept transgender recruits o...   \n",
       "2  Senior U.S. Republican senator: 'Let Mr. Muell...   \n",
       "3  FBI Russia probe helped by Australian diplomat...   \n",
       "4  Trump wants Postal Service to charge 'much mor...   \n",
       "\n",
       "                                                text       subject  \\\n",
       "0  WASHINGTON (Reuters) - The head of a conservat...  politicsNews   \n",
       "1  WASHINGTON (Reuters) - Transgender people will...  politicsNews   \n",
       "2  WASHINGTON (Reuters) - The special counsel inv...  politicsNews   \n",
       "3  WASHINGTON (Reuters) - Trump campaign adviser ...  politicsNews   \n",
       "4  SEATTLE/WASHINGTON (Reuters) - President Donal...  politicsNews   \n",
       "\n",
       "                 date  target  \\\n",
       "0  December 31, 2017        0   \n",
       "1  December 29, 2017        0   \n",
       "2  December 31, 2017        0   \n",
       "3  December 30, 2017        0   \n",
       "4  December 29, 2017        0   \n",
       "\n",
       "                                          clean_text  \n",
       "0  as us budget fight looms republicans flip thei...  \n",
       "1  us military to accept transgender recruits on ...  \n",
       "2  senior us republican senator let mr mueller do...  \n",
       "3  fbi russia probe helped by australian diplomat...  \n",
       "4  trump wants postal service to charge much more...  "
      ]
     },
     "execution_count": 43,
     "metadata": {},
     "output_type": "execute_result"
    }
   ],
   "source": [
    "df['clean_text'] = df['clean_text'].str.lower().str.translate(str.maketrans('', '', string.punctuation))\n",
    "df.head()"
   ]
  },
  {
   "cell_type": "markdown",
   "metadata": {},
   "source": [
    "## Entrenamiento"
   ]
  },
  {
   "cell_type": "code",
   "execution_count": 46,
   "metadata": {
    "scrolled": true
   },
   "outputs": [
    {
     "data": {
      "text/plain": [
       "0    21191\n",
       "1    17453\n",
       "Name: target, dtype: int64"
      ]
     },
     "execution_count": 46,
     "metadata": {},
     "output_type": "execute_result"
    }
   ],
   "source": [
    "df['target'].value_counts()"
   ]
  },
  {
   "cell_type": "code",
   "execution_count": 47,
   "metadata": {},
   "outputs": [],
   "source": [
    "from sklearn.feature_extraction.text import CountVectorizer\n",
    "from sklearn.model_selection import train_test_split\n",
    "from sklearn.naive_bayes import MultinomialNB\n",
    "from sklearn.metrics import classification_report\n",
    "\n",
    "X = df['clean_text'].values\n",
    "y = df['target'].values\n",
    "\n",
    "vector = CountVectorizer(stop_words = 'english') #To remove stopwords\n",
    "\n",
    "X = vector.fit_transform(X)\n",
    "X_train, X_test, y_train, y_test = train_test_split(X, y, test_size = 0.25, random_state = 123)"
   ]
  },
  {
   "cell_type": "code",
   "execution_count": 48,
   "metadata": {},
   "outputs": [
    {
     "data": {
      "text/plain": [
       "((28983, 246410), (9661, 246410))"
      ]
     },
     "execution_count": 48,
     "metadata": {},
     "output_type": "execute_result"
    }
   ],
   "source": [
    "X_train.shape, X_test.shape"
   ]
  },
  {
   "cell_type": "code",
   "execution_count": 49,
   "metadata": {},
   "outputs": [],
   "source": [
    "bayes_pred = MultinomialNB()\n",
    "bayes_pred.fit(X_train, y_train)\n",
    "\n",
    "predictions = bayes_pred.predict(X_test)"
   ]
  },
  {
   "cell_type": "code",
   "execution_count": 26,
   "metadata": {},
   "outputs": [
    {
     "name": "stdout",
     "output_type": "stream",
     "text": [
      "              precision    recall  f1-score   support\n",
      "\n",
      "           0       0.95      0.96      0.96      5216\n",
      "           1       0.96      0.94      0.95      4445\n",
      "\n",
      "    accuracy                           0.95      9661\n",
      "   macro avg       0.95      0.95      0.95      9661\n",
      "weighted avg       0.95      0.95      0.95      9661\n",
      "\n"
     ]
    }
   ],
   "source": [
    "print(classification_report(y_test, predictions))"
   ]
  },
  {
   "cell_type": "code",
   "execution_count": 4,
   "metadata": {},
   "outputs": [],
   "source": [
    "import matplotlib.pyplot as plt\n",
    "import numpy as np\n",
    "from sklearn.metrics import confusion_matrix\n",
    "from sklearn.metrics import ConfusionMatrixDisplay"
   ]
  },
  {
   "cell_type": "code",
   "execution_count": 28,
   "metadata": {},
   "outputs": [
    {
     "data": {
      "image/png": "[encoded data removed]",
      "text/plain": [
       "<Figure size 432x288 with 2 Axes>"
      ]
     },
     "metadata": {
      "needs_background": "light"
     },
     "output_type": "display_data"
    }
   ],
   "source": [
    "cm = confusion_matrix(y_test, predictions)\n",
    "\n",
    "# plot the confusion matrix\n",
    "disp = ConfusionMatrixDisplay(cm, display_labels=np.unique(y_test))\n",
    "disp.plot()\n",
    "plt.show()"
   ]
  },
  {
   "cell_type": "markdown",
   "metadata": {},
   "source": [
    "# Ejercicio PCA"
   ]
  },
  {
   "cell_type": "markdown",
   "metadata": {},
   "source": [
    "## TF-IDF"
   ]
  },
  {
   "cell_type": "code",
   "execution_count": 50,
   "metadata": {},
   "outputs": [],
   "source": [
    "from sklearn.feature_extraction.text import TfidfVectorizer\n",
    "X = df['clean_text'].values\n",
    "y = df['target'].values\n",
    "\n",
    "X_train, X_test, y_train, y_test = train_test_split(X,y, test_size = 0.25, random_state = 123)\n",
    "\n",
    "tfidf = TfidfVectorizer(stop_words='english', min_df=500)\n",
    "X_train_tfidf = tfidf.fit_transform(X_train)\n",
    "X_test_tfidf = tfidf.transform(X_test)"
   ]
  },
  {
   "cell_type": "code",
   "execution_count": 51,
   "metadata": {},
   "outputs": [
    {
     "name": "stdout",
     "output_type": "stream",
     "text": [
      "xtrain (documentos, caracteristicas):  (28983, 1818)\n",
      "y_train:  (28983,)\n",
      "y_test:  (9661,)\n"
     ]
    }
   ],
   "source": [
    "\n",
    "print(\"xtrain (documentos, caracteristicas): \",X_train_tfidf.shape)\n",
    "print(\"y_train: \",y_train.shape)\n",
    "print(\"y_test: \",y_test.shape)"
   ]
  },
  {
   "cell_type": "code",
   "execution_count": 36,
   "metadata": {},
   "outputs": [
    {
     "name": "stdout",
     "output_type": "stream",
     "text": [
      "3965\n",
      "(300, 3965)\n",
      "Tamaño de la media:  (1, 3965)\n",
      "MEstandarizada:  [[-0.0042486  -0.00432451 -0.00032137 ... -0.00065135 -0.00106849\n",
      "  -0.000904  ]\n",
      " [-0.0042486  -0.00432451 -0.00032137 ... -0.00065135 -0.00106849\n",
      "  -0.000904  ]\n",
      " [-0.0042486  -0.00432451 -0.00032137 ... -0.00065135 -0.00106849\n",
      "  -0.000904  ]\n",
      " ...\n",
      " [-0.0042486  -0.00432451 -0.00032137 ... -0.00065135 -0.00106849\n",
      "  -0.000904  ]\n",
      " [-0.0042486  -0.00432451 -0.00032137 ... -0.00065135 -0.00106849\n",
      "  -0.000904  ]\n",
      " [-0.0042486  -0.00432451 -0.00032137 ... -0.00065135 -0.00106849\n",
      "  -0.000904  ]] (300, 3965)\n",
      "Covarianza:  [[ 3.26073711e-03 -8.69276734e-05  4.27037331e-05 ... -6.91481654e-05\n",
      "  -2.59213752e-05 -7.17178174e-05]\n",
      " [-8.69276734e-05  3.13300404e-03 -5.05598901e-05 ... -1.08056980e-04\n",
      "  -5.90141374e-05 -3.36497596e-05]\n",
      " [ 4.27037331e-05 -5.05598901e-05  3.18635225e-03 ...  2.15968086e-05\n",
      "  -1.17536302e-05 -1.08439248e-05]\n",
      " ...\n",
      " [-6.91481654e-05 -1.08056980e-04  2.15968086e-05 ...  3.11717548e-03\n",
      "  -4.56929353e-05 -7.74538225e-05]\n",
      " [-2.59213752e-05 -5.90141374e-05 -1.17536302e-05 ... -4.56929353e-05\n",
      "   3.15087667e-03  3.11853074e-05]\n",
      " [-7.17178174e-05 -3.36497596e-05 -1.08439248e-05 ... -7.74538225e-05\n",
      "   3.11853074e-05  3.09596546e-03]]\n",
      "Covarianza:  (300, 300)\n"
     ]
    }
   ],
   "source": [
    "import numpy as np\n",
    "import matplotlib.pyplot as plt\n",
    "from sklearn.decomposition import PCA\n",
    "\n",
    "print(len(tfidf.vocabulary_))\n",
    "NuevaMatriz = X_train_tfidf[:300]\n",
    "print(NuevaMatriz.shape)\n",
    "Media = np.mean(NuevaMatriz, axis = 0)         # Se calculan la media y desviación para cada variable, y se escalan los datos\n",
    "print(\"Tamaño de la media: \", Media.shape)\n",
    "\n",
    "#Centralización de los datos\n",
    "MEstandarizada = NuevaMatriz - Media\n",
    "\n",
    "print(\"MEstandarizada: \", MEstandarizada, MEstandarizada.shape)\n",
    "\n",
    "#Obteniendo la covarianza (1/n-1)(V*Vt)\n",
    "Covarianza = (1/299)*(np.matmul( MEstandarizada,np.transpose(MEstandarizada)))\n",
    "print(\"Covarianza: \", Covarianza)\n",
    "print(\"Covarianza: \", Covarianza.shape)\n",
    "#Obteniendo los eigenvectores\n",
    "\n",
    "eigenvalores, eigenvectores = np.linalg.eig(Covarianza)\n"
   ]
  },
  {
   "cell_type": "code",
   "execution_count": 37,
   "metadata": {},
   "outputs": [
    {
     "name": "stdout",
     "output_type": "stream",
     "text": [
      "Eigenvalores:  [ 1.80401342e-02  1.48905065e-02  1.09213566e-02  1.07676938e-02\n",
      "  9.93097514e-03  9.25600564e-03  9.05053398e-03  8.61724007e-03\n",
      "  8.10431411e-03  7.83302633e-03  7.57902811e-03  7.28423465e-03\n",
      "  7.14070017e-03  7.00231528e-03  6.76089828e-03  6.66649406e-03\n",
      "  6.55163647e-03  6.42906677e-03  6.33571424e-03  6.28758197e-03\n",
      "  6.21170698e-03  6.15388413e-03  6.09740922e-03 -3.62068761e-18\n",
      "  5.83998603e-03  5.78305157e-03  5.72547482e-03  5.61532359e-03\n",
      "  5.55291774e-03  5.46665369e-03  5.42101557e-03  8.42124330e-04\n",
      "  8.64727984e-04  5.29149999e-03  5.21676017e-03  5.15987930e-03\n",
      "  5.14680698e-03  5.07598447e-03  5.01348503e-03  4.98194580e-03\n",
      "  4.92563552e-03  4.86309808e-03  4.83074843e-03  4.80336594e-03\n",
      "  4.75948534e-03  4.70578477e-03  4.66854121e-03  4.65420236e-03\n",
      "  4.56224014e-03  4.53787472e-03  4.51846983e-03  4.47796907e-03\n",
      "  4.46315103e-03  4.43655192e-03  4.39856807e-03  4.38384127e-03\n",
      "  4.36582895e-03  4.32247015e-03  4.25399363e-03  4.29651563e-03\n",
      "  9.01010671e-04  9.43142255e-04  1.00997075e-03  1.07374332e-03\n",
      "  1.10481894e-03  1.11756141e-03  1.13699611e-03  1.14894906e-03\n",
      "  4.21382100e-03  4.18389451e-03  4.17717094e-03  4.15052315e-03\n",
      "  4.12658650e-03  4.11168950e-03  4.06938488e-03  4.04755817e-03\n",
      "  4.01848360e-03  3.99957116e-03  3.98022870e-03  3.96687057e-03\n",
      "  3.95143590e-03  3.90771902e-03  1.16695896e-03  1.17909218e-03\n",
      "  1.19515422e-03  1.22407904e-03  1.22848821e-03  1.24101623e-03\n",
      "  1.25877349e-03  1.27603244e-03  3.91462626e-03  3.88682228e-03\n",
      "  3.85887188e-03  3.84133272e-03  3.82617557e-03  3.80401896e-03\n",
      "  3.78142259e-03  3.75862265e-03  3.72564313e-03  3.70350527e-03\n",
      "  3.68861028e-03  3.67372929e-03  3.65932532e-03  3.64620412e-03\n",
      "  3.62590104e-03  3.61221750e-03  3.59167650e-03  1.29079611e-03\n",
      "  1.31091969e-03  1.32405753e-03  1.34092529e-03  1.35619035e-03\n",
      "  1.37978735e-03  1.37212404e-03  1.37071993e-03  1.39169965e-03\n",
      "  1.40623747e-03  1.42158786e-03  1.42896066e-03  1.43990199e-03\n",
      "  1.45560908e-03  1.46309210e-03  1.48859513e-03  1.49537479e-03\n",
      "  3.56355533e-03  3.55896674e-03  3.53543936e-03  3.51512941e-03\n",
      "  3.50337387e-03  3.35453626e-03  3.48852286e-03  3.47228500e-03\n",
      "  3.38314059e-03  3.38721514e-03  3.45261090e-03  3.44226065e-03\n",
      "  3.40571065e-03  3.42769299e-03  3.41983733e-03  1.51164904e-03\n",
      "  1.51332063e-03  3.33572489e-03  3.32486757e-03  3.29993960e-03\n",
      "  3.31442532e-03  1.54622943e-03  1.53057341e-03  1.53361486e-03\n",
      "  1.53648503e-03  3.26798414e-03  3.26322398e-03  1.55923609e-03\n",
      "  1.57038888e-03  1.57799092e-03  1.58617836e-03  1.60832218e-03\n",
      "  1.61569056e-03  1.62543891e-03  1.64005639e-03  3.23159426e-03\n",
      "  3.24243947e-03  3.22281080e-03  3.19867805e-03  3.19156749e-03\n",
      "  3.16603473e-03  3.18079890e-03  3.15578886e-03  3.15028743e-03\n",
      "  3.12955011e-03  1.65823315e-03  1.66422420e-03  1.73367197e-03\n",
      "  1.69843481e-03  1.70936427e-03  1.71738411e-03  1.67311698e-03\n",
      "  1.67881046e-03  1.68139563e-03  3.11728277e-03  3.11063575e-03\n",
      "  3.10439664e-03  3.00592883e-03  3.07062328e-03  3.06371035e-03\n",
      "  3.05322508e-03  3.04089349e-03  3.02541747e-03  3.02070452e-03\n",
      "  2.98801741e-03  1.73995533e-03  1.75267148e-03  1.76176514e-03\n",
      "  2.93656739e-03  2.96796653e-03  2.95134349e-03  1.77977494e-03\n",
      "  1.79453927e-03  1.79844862e-03  2.97313174e-03  1.80771059e-03\n",
      "  1.82029350e-03  1.81699002e-03  1.83160427e-03  1.85124672e-03\n",
      "  1.86004585e-03  1.83544484e-03  1.88645128e-03  1.89161992e-03\n",
      "  1.90508364e-03  2.90665003e-03  2.89995063e-03  2.89140959e-03\n",
      "  2.79175537e-03  2.81587626e-03  2.81865755e-03  2.83012053e-03\n",
      "  2.84469513e-03  2.87319328e-03  2.85956635e-03  2.86404773e-03\n",
      "  1.91255308e-03  1.92636362e-03  1.93336548e-03  2.77443244e-03\n",
      "  2.77951073e-03  2.75154126e-03  1.95615574e-03  1.95932205e-03\n",
      "  2.61799295e-03  2.65335223e-03  2.67093240e-03  2.68675166e-03\n",
      "  2.69471516e-03  2.73281201e-03  2.70735054e-03  2.74716522e-03\n",
      "  2.72135119e-03  1.94361691e-03  1.97243458e-03  1.98129091e-03\n",
      "  1.98504729e-03  2.01633220e-03  2.02565919e-03  2.04483169e-03\n",
      "  2.05499496e-03  2.60346012e-03  2.59832775e-03  2.58948826e-03\n",
      "  2.57873880e-03  2.55919117e-03  2.07696109e-03  2.08298325e-03\n",
      "  2.71039025e-03  2.52793550e-03  2.51021918e-03  2.49641127e-03\n",
      "  2.47841002e-03  2.43654783e-03  2.41194000e-03  2.40480388e-03\n",
      "  2.09113787e-03  2.10320192e-03  2.14142298e-03  2.12502145e-03\n",
      "  2.11269555e-03  2.04029721e-03  2.16103234e-03  2.66532405e-03\n",
      "  1.99349772e-03  2.51842068e-03  2.11529642e-03  2.17394944e-03\n",
      "  2.46617790e-03  2.44893753e-03  2.15531549e-03  2.38675183e-03\n",
      "  2.20731475e-03  2.23466351e-03  2.22880235e-03  2.26142594e-03\n",
      "  2.36467104e-03  2.34832629e-03  2.29862652e-03  2.33931464e-03\n",
      "  2.21988601e-03  2.25031947e-03  2.37093767e-03  2.28289559e-03\n",
      "  2.28407621e-03  2.52360819e-03  2.39225686e-03  2.31285516e-03\n",
      "  2.55001238e-03  2.46226075e-03  2.33158466e-03  2.31110319e-03\n",
      "  2.19663498e-03  2.17953217e-03  2.19699258e-03  2.44593786e-03]\n",
      "Eigenvalores:  (300,)\n",
      "Primeras dos características:  [[-2.23823169e-02 -5.07047295e-02  5.84815192e-02 -6.46203644e-02\n",
      "   3.32776244e-04 -4.96942470e-02 -1.42454707e-03  3.33833342e-02\n",
      "   2.88682356e-02  3.30865594e-02  6.18578833e-03  3.71473296e-03\n",
      "   1.05349439e-02 -1.83606664e-02 -4.59443839e-02 -3.86623896e-02\n",
      "  -8.93871958e-02  4.12025661e-02 -2.82061459e-03 -3.04229712e-02\n",
      "   5.76010292e-02  5.72154326e-02  7.92495758e-03  5.77350269e-02\n",
      "   3.35429275e-03 -5.88354949e-03  3.77229475e-02 -1.62447335e-01\n",
      "   6.82366566e-03  4.80615619e-02  8.03682733e-03 -2.51600262e-02\n",
      "   1.70900820e-02 -6.95762301e-02  1.01580322e-01 -8.24557658e-02\n",
      "   3.75147270e-02  1.27351682e-01 -6.12128666e-02  8.33432773e-02\n",
      "   3.46004782e-02  4.53094349e-02 -5.57724467e-02 -2.00520564e-02\n",
      "  -6.10759426e-02  9.46928020e-02 -1.52186889e-02 -1.33798978e-01\n",
      "   1.58631118e-01  5.55420608e-02  4.60394061e-02 -1.22093152e-01\n",
      "  -1.41771260e-01  3.18601616e-02  1.30004420e-01 -1.22518598e-01\n",
      "  -1.47844062e-02  6.48830172e-02  7.77153661e-02  2.79296701e-03\n",
      "  -2.03894167e-02  1.94870003e-02 -3.98268731e-02  6.94245417e-03\n",
      "  -2.95352578e-02 -5.21338987e-02 -1.62462245e-02  4.54964311e-02\n",
      "   4.14445084e-02 -1.04061646e-01  1.17511738e-02  6.87348821e-02\n",
      "  -4.45041978e-02 -7.16749999e-02  4.25575391e-02  6.88508109e-02\n",
      "  -2.90660704e-02 -4.57462297e-02 -7.88896420e-02  3.36424465e-02\n",
      "  -7.55502530e-02 -2.99245460e-02  5.74833086e-03 -3.50222058e-02\n",
      "  -9.60212533e-02 -4.77291654e-03  2.34760250e-02  4.27442234e-02\n",
      "   1.53973772e-02  3.42874926e-02  6.98546417e-04  4.98586983e-02\n",
      "  -1.13199355e-02 -4.03138527e-02 -2.60759562e-02 -6.03349034e-02\n",
      "   1.10287321e-01  1.07830032e-01 -5.39849493e-02 -4.05077152e-02\n",
      "   5.26755483e-02 -7.12439013e-02  2.07832470e-02 -3.70996707e-02\n",
      "   6.34658499e-02  3.27843889e-02 -7.18625027e-02  1.86880800e-02\n",
      "   6.74463828e-02  8.31629285e-03 -6.76307684e-02 -1.92907577e-02\n",
      "  -6.49107787e-02 -9.07563160e-02 -1.31707603e-02  3.00514085e-02\n",
      "   2.60694980e-02  3.27155969e-02 -1.98984067e-02  3.70156052e-03\n",
      "  -2.88691312e-02 -2.89456828e-02  5.88652023e-02  4.65210689e-03\n",
      "  -6.53326741e-02  7.77903856e-04  8.55494725e-03  3.37736772e-02\n",
      "   4.26207523e-02  1.12530710e-01 -3.75089682e-03  4.04395228e-02\n",
      "  -3.88512745e-02  7.26727599e-02  1.04436899e-02  2.75733544e-02\n",
      "   7.39231635e-02  6.71035416e-02  3.03492147e-02 -2.22809730e-02\n",
      "  -2.01680954e-02  7.90702021e-02 -6.97657980e-02  6.54973605e-02\n",
      "   1.60743406e-02  7.85049084e-03  1.06725594e-01 -8.84906105e-02\n",
      "   3.99858160e-03  1.47067483e-02  1.83946547e-02 -1.28927365e-02\n",
      "   5.60642951e-02  3.26768559e-02 -1.32242515e-02 -6.40067418e-02\n",
      "  -4.72867975e-02  3.86336979e-02 -4.16675731e-02  1.23179182e-02\n",
      "   5.43557120e-04  5.79249533e-03 -3.41256232e-02  3.48718399e-02\n",
      "   9.39475369e-02 -1.73713476e-02  4.72636962e-02  5.96959395e-02\n",
      "  -8.89175473e-02  1.00102212e-02  8.29523127e-02  1.55877655e-02\n",
      "  -3.54408643e-02  4.96193148e-03  6.40120341e-03  9.01858977e-03\n",
      "   8.10300335e-03 -4.78789533e-03  5.48194333e-02 -7.73840271e-02\n",
      "  -6.28445752e-02 -5.26087271e-02 -1.24940258e-01  3.86421605e-02\n",
      "  -3.26864914e-02 -2.54836597e-02 -9.68479394e-02 -2.31602132e-02\n",
      "   8.48602239e-02  2.76175750e-02 -7.77385690e-02  2.93581469e-02\n",
      "   7.71152466e-02 -5.12797657e-02 -8.60740939e-03  3.90140703e-02\n",
      "   5.06746730e-02 -5.32628123e-02 -1.31365036e-02 -4.26022825e-02\n",
      "   8.92003347e-02  1.41667027e-02 -1.73472084e-01  1.53690410e-01\n",
      "   9.74543511e-02  1.93775836e-02  9.82821910e-02  7.21485349e-02\n",
      "  -8.93063956e-02  9.94054964e-02  9.07322663e-03 -2.77606626e-02\n",
      "  -4.45191155e-02  7.63734538e-02 -2.95074830e-02 -1.79836016e-02\n",
      "  -1.39193282e-02 -1.02431834e-02 -1.45824596e-02  1.78028649e-03\n",
      "  -3.40789383e-02  6.16584254e-02  2.13492943e-02 -2.03293172e-02\n",
      "   1.22018261e-02 -1.46917276e-02 -1.92492826e-02  2.64439134e-02\n",
      "  -6.02950950e-02  5.95662216e-02 -7.76338962e-02 -9.51262028e-02\n",
      "  -5.20315589e-02  1.39382824e-02 -8.45638912e-02 -4.53171514e-03\n",
      "   1.27255090e-02  1.12401989e-03  3.35508362e-03 -3.84223512e-02\n",
      "  -7.17553589e-02 -5.74827677e-02  5.00843660e-02 -8.29274790e-02\n",
      "   2.65034081e-02  8.11505430e-02  6.20489047e-02 -2.70002933e-02\n",
      "  -3.86529622e-02 -6.63555222e-02 -6.83605236e-02  2.98770399e-02\n",
      "  -1.92194638e-02 -5.32666742e-02  7.44332298e-02 -5.63143603e-02\n",
      "   2.75801537e-02  8.40393551e-02  4.42564997e-02 -6.37351538e-02\n",
      "   7.23170488e-02  9.47082110e-02 -6.57153664e-02 -4.42339707e-02\n",
      "  -9.25119446e-02  5.44724126e-03  6.93669253e-02 -6.21905693e-03\n",
      "  -4.93484849e-04  4.84770713e-02 -8.32319789e-02  1.25624018e-01\n",
      "   3.13759873e-02  8.58111853e-02 -3.66368752e-02  9.55713473e-02\n",
      "  -4.01223440e-02  8.70341420e-02  6.42150072e-02  3.51328732e-02\n",
      "   3.33090542e-02 -4.93963956e-02 -6.96504795e-02  3.83716961e-02\n",
      "  -4.94225819e-02  8.27827881e-02 -8.68138986e-02  1.13916805e-01\n",
      "   5.18140081e-02  2.74467978e-02 -2.17425891e-02 -1.56810257e-02\n",
      "  -2.59904006e-03 -8.32467116e-03 -6.72089800e-03 -8.13311610e-03\n",
      "   1.07981788e-01 -1.06914230e-02  1.34324297e-02 -1.61989183e-03]\n",
      " [ 2.41073665e-02  2.03886635e-02 -9.55132719e-02  1.88226572e-01\n",
      "  -1.12621628e-01 -1.13409296e-01 -1.81583388e-02  8.53228431e-02\n",
      "   3.04776140e-02 -6.36089786e-02  9.76784123e-02  8.51171266e-02\n",
      "  -2.17928735e-02  2.07731902e-02  2.62341654e-02  2.25876946e-02\n",
      "  -1.63434860e-01 -1.75473969e-02  3.68009908e-02 -5.61527187e-02\n",
      "  -6.46063971e-02 -1.10283408e-01 -7.78996154e-02  5.77350269e-02\n",
      "   5.55887341e-02 -2.95413504e-02 -4.70997068e-02  4.94782797e-02\n",
      "  -2.77074307e-02  4.26590631e-03 -4.81984901e-04  2.98649508e-02\n",
      "  -4.76857459e-02 -4.02719858e-02  3.86902286e-02 -6.46504289e-02\n",
      "   2.16930461e-04 -8.91515136e-02 -4.53863763e-02  5.87573201e-02\n",
      "   6.28293993e-02  5.83328457e-02 -2.70107092e-02  3.64050252e-02\n",
      "  -2.06868487e-02 -1.39699915e-02  3.68915240e-04  4.17146407e-03\n",
      "  -8.39597381e-03  7.69029069e-02 -7.14692423e-02  4.19602241e-03\n",
      "  -4.53457401e-02 -6.31484346e-02  4.36546839e-02  1.46946988e-02\n",
      "   1.14247569e-02 -5.90521326e-02 -9.14795621e-03  4.68936112e-02\n",
      "   1.42158913e-01 -6.91414680e-02  6.29030046e-02  3.51111769e-02\n",
      "  -1.09492977e-01 -1.61624355e-01  1.00691848e-01  2.07223728e-01\n",
      "   1.47969391e-03 -5.99424745e-03  3.42563643e-02 -5.30150050e-02\n",
      "   3.67005819e-02  6.06706094e-02  1.21033408e-03 -7.61855347e-02\n",
      "   1.57978154e-03  4.09080393e-02 -2.44427593e-02  4.60311685e-03\n",
      "   5.04511438e-02 -1.54611980e-02 -9.68058925e-02  2.09753707e-01\n",
      "  -1.87702177e-02 -1.76966342e-01 -6.42841043e-02  4.83809205e-02\n",
      "   6.13819090e-02 -6.00170932e-02 -1.87695987e-02 -2.97903976e-02\n",
      "  -4.14268325e-02  1.24932277e-02  5.70298352e-02  1.70733553e-03\n",
      "  -4.00585113e-02 -4.21148784e-03  2.46890299e-02  1.09409245e-02\n",
      "  -1.73807152e-02 -6.59018328e-02  7.44810458e-03 -9.11761092e-02\n",
      "   1.25467180e-02  3.57990611e-03 -3.81389604e-02  4.84481351e-02\n",
      "   4.08629111e-02 -1.09200446e-01 -3.05357741e-02  1.98727272e-01\n",
      "   8.58362880e-02  3.58094138e-02 -1.10443136e-02 -1.09207466e-01\n",
      "   3.45966504e-02 -6.13526571e-02 -3.03047299e-02 -1.27101666e-01\n",
      "   8.02309272e-02 -5.65063974e-02  1.95904244e-02  4.34632455e-03\n",
      "  -2.65263530e-02  5.53272360e-02  2.21318139e-02  4.55276814e-02\n",
      "  -5.97073162e-02  4.25303125e-02 -9.64207671e-03  3.67990457e-03\n",
      "  -7.12590563e-03 -9.16159688e-03 -3.88552241e-02 -2.74901433e-02\n",
      "   4.39503127e-02 -1.03679241e-02  6.45899841e-02  1.29605801e-01\n",
      "   2.62842195e-02  2.49127421e-02 -1.35238394e-02 -8.81470194e-02\n",
      "   3.36257664e-02  8.08576098e-02 -3.95246340e-02  5.23135551e-02\n",
      "  -7.14814311e-02 -4.57223753e-02  3.36292893e-02  5.34323258e-03\n",
      "   1.15539707e-02 -5.13917841e-03 -6.53966479e-02  4.70300020e-02\n",
      "  -1.01875655e-01  3.84641275e-02 -7.43747220e-02 -4.13491279e-02\n",
      "  -1.75441112e-02  1.47374414e-02  3.06904918e-02  7.10169160e-02\n",
      "   8.25322102e-04 -5.12374675e-02  5.60857139e-02  9.31727797e-03\n",
      "  -3.76324734e-02 -9.06589778e-02 -5.38798842e-02  6.28983872e-03\n",
      "   3.08333556e-02  7.96120785e-02  7.30299819e-02  1.88827131e-03\n",
      "  -3.40240545e-03  4.76404915e-03  2.89706992e-02 -2.74418780e-02\n",
      "  -4.23635353e-02  1.00531405e-01 -6.56711671e-02  4.55061781e-02\n",
      "  -1.05646709e-02  2.64203155e-02  2.83259498e-02  3.09578568e-02\n",
      "   3.17165032e-02  1.30227999e-02  1.16825966e-01 -3.17873424e-02\n",
      "  -6.96139099e-02 -4.66215305e-02  3.67533329e-03  2.57657277e-03\n",
      "  -2.13472535e-02  5.88674671e-02 -4.85350162e-02 -2.27630100e-02\n",
      "   4.29498528e-02 -8.02806451e-02 -6.66634658e-02 -7.74634695e-02\n",
      "  -7.28667703e-02 -7.24210186e-02  3.12167056e-02  1.83232142e-02\n",
      "   1.00823184e-02 -1.93166723e-02  3.54182279e-02 -2.56865931e-02\n",
      "   1.50875158e-02  3.78470931e-02  3.46004473e-02  1.90072451e-03\n",
      "   6.68816946e-02 -1.00631222e-02 -1.86749082e-02  2.34434854e-02\n",
      "   1.41608229e-02 -5.74001786e-02 -2.93228545e-02 -4.84329031e-02\n",
      "   1.20875779e-03  2.04568554e-02  6.17212426e-02  9.54711411e-02\n",
      "   3.20264473e-02 -2.37877910e-02  5.84288259e-02  1.49703575e-02\n",
      "  -6.49081165e-03  2.11686292e-02 -4.60591074e-02 -4.65898105e-02\n",
      "  -3.93168203e-02 -6.18395977e-03  8.54544294e-02 -6.39193719e-03\n",
      "  -3.46861611e-02  4.44084815e-02  5.54442112e-03 -3.24800764e-02\n",
      "   4.40384476e-02  1.36514061e-02 -8.23979678e-02 -6.60565398e-02\n",
      "  -2.04456497e-02  3.00464713e-02 -6.18979358e-02  4.70351670e-02\n",
      "   3.05670835e-02 -2.11499405e-02  1.02607439e-01 -4.61468152e-03\n",
      "   3.49546786e-02  6.44783497e-02  7.87514933e-02 -2.49862283e-02\n",
      "  -3.63088056e-02  3.46096135e-02 -5.83046736e-02  6.02449680e-02\n",
      "   1.77512352e-02 -8.31248656e-02  4.80091429e-02  1.10657757e-02\n",
      "   8.59307918e-02  3.67533067e-02  8.40293041e-02 -3.23322962e-02\n",
      "  -1.22870173e-02  2.25014890e-02  8.66546381e-03  2.13595997e-02\n",
      "  -7.24625071e-02  1.87400329e-02  6.91013173e-02  1.53751560e-02\n",
      "   3.31021110e-05  1.06116104e-02 -2.75054437e-02 -7.71447285e-02\n",
      "  -8.60949847e-02  2.18331676e-02 -5.82116354e-02 -4.30026126e-02\n",
      "   2.88796427e-02 -4.15757877e-02  3.80113247e-02  3.61333315e-02\n",
      "  -2.46081839e-02  4.28438155e-02 -1.46182570e-02  5.98334491e-02\n",
      "  -5.10544716e-02 -6.61491204e-02 -1.36231562e-02  2.82725260e-02]]\n",
      "Eigenvectores.shape  (2, 300)\n",
      "MEstandarizada.shape:  (300, 3965)\n",
      "Tamaño del resultado:  (2, 3965)\n"
     ]
    }
   ],
   "source": [
    "#print(\"Eigenvalores: \", eigenvalores)\n",
    "#print(\"Eigenvectores: \", eigenvectores)\n",
    "\n",
    "#Proyectar los datos a una nueva dimensión\n",
    "#Tomamos primeros dos elementos de los eigenvectores y los multiplicamos por los 300 valores de nuestra Nueva Matriz\n",
    "print(\"Eigenvalores: \",eigenvalores)\n",
    "print(\"Eigenvalores: \", eigenvalores.shape)\n",
    "\n",
    "print(\"Primeras dos características: \", eigenvectores[0:2])\n",
    "print(\"Eigenvectores.shape \", eigenvectores[0:2].shape)\n",
    "print(\"MEstandarizada.shape: \",MEstandarizada.shape)\n",
    "\n",
    "\n",
    "Result = np.matmul(eigenvectores[0:2],MEstandarizada)\n",
    "#print(\"Resultado: \",Result)\n",
    "\n",
    "\n",
    "print(\"Tamaño del resultado: \",Result.shape)"
   ]
  },
  {
   "cell_type": "code",
   "execution_count": 200,
   "metadata": {},
   "outputs": [],
   "source": [
    "# # Gráfica\n",
    "# fig, ax = plt.subplots()\n",
    "# scatter = ax.scatter([Result[0,:]],[Result[1,:]],c=y_train[0:24809],cmap=\"coolwarm\")\n",
    "# #scatter = ax.scatter([Result[:,0]],[Result[:,1]],cmap=\"coolwarm\")\n",
    "# legend = ax.legend(*scatter.legend_elements(), loc=\"upper right\", title=\"Classes\")\n",
    "# plt.yticks(np.arange(-0.1, 0.7,0.1))\n",
    "# plt.xticks(np.arange(-0.3, 0.5,0.1))\n",
    "# plt.show()"
   ]
  },
  {
   "cell_type": "markdown",
   "metadata": {},
   "source": [
    "# CORRECCIÓN"
   ]
  },
  {
   "cell_type": "code",
   "execution_count": 52,
   "metadata": {},
   "outputs": [
    {
     "data": {
      "text/plain": [
       "(300, 1818)"
      ]
     },
     "execution_count": 52,
     "metadata": {},
     "output_type": "execute_result"
    }
   ],
   "source": [
    "data = X_train_tfidf[0:300].toarray()\n",
    "data.shape"
   ]
  },
  {
   "cell_type": "code",
   "execution_count": 53,
   "metadata": {},
   "outputs": [
    {
     "data": {
      "text/plain": [
       "(1818,)"
      ]
     },
     "execution_count": 53,
     "metadata": {},
     "output_type": "execute_result"
    }
   ],
   "source": [
    "m = np.mean(data, axis = 0)\n",
    "m.shape"
   ]
  },
  {
   "cell_type": "code",
   "execution_count": 54,
   "metadata": {},
   "outputs": [
    {
     "data": {
      "text/plain": [
       "(300, 1818)"
      ]
     },
     "execution_count": 54,
     "metadata": {},
     "output_type": "execute_result"
    }
   ],
   "source": [
    "data -= m\n",
    "data.shape"
   ]
  },
  {
   "cell_type": "code",
   "execution_count": 155,
   "metadata": {},
   "outputs": [
    {
     "data": {
      "text/plain": [
       "(1818, 1818)"
      ]
     },
     "execution_count": 155,
     "metadata": {},
     "output_type": "execute_result"
    }
   ],
   "source": [
    "Cov = (1/(data.shape[0] -1))*(np.matmul(data.T, data))\n",
    "Cov.shape"
   ]
  },
  {
   "cell_type": "code",
   "execution_count": 174,
   "metadata": {},
   "outputs": [
    {
     "name": "stdout",
     "output_type": "stream",
     "text": [
      "(1818,) (1818, 1818)\n",
      "[[ 0.00502474+0.j  0.0172369 +0.j  0.00037664+0.j ... -0.00189341+0.j\n",
      "   0.00594133+0.j  0.        +0.j]\n",
      " [ 0.01521362+0.j  0.004953  +0.j  0.01398281+0.j ...  0.00890758+0.j\n",
      "   0.00334557+0.j  0.        +0.j]]\n"
     ]
    }
   ],
   "source": [
    "eigenvalores, eigenvectores = np.linalg.eig(Cov)\n",
    "print(eigenvalores.shape, eigenvectores.shape)\n",
    "\n",
    "# idx = eigenvalores.argsort()[::-1]   \n",
    "# eigenvalores = eigenvalores[idx]\n",
    "# eigenvectores = eigenvectores[:,idx]\n",
    "\n",
    "print(eigenvectores[0:2])"
   ]
  },
  {
   "cell_type": "code",
   "execution_count": 209,
   "metadata": {},
   "outputs": [
    {
     "name": "stdout",
     "output_type": "stream",
     "text": [
      "(300, 1818)\n",
      "(1818, 1818)\n"
     ]
    },
    {
     "data": {
      "text/plain": [
       "(300, 1818)"
      ]
     },
     "execution_count": 209,
     "metadata": {},
     "output_type": "execute_result"
    }
   ],
   "source": [
    "print(data.shape)\n",
    "print(eigenvectores.shape)\n",
    "\n",
    "Result = -1*np.dot(data, eigenvectores)\n",
    "Result.shape"
   ]
  },
  {
   "cell_type": "code",
   "execution_count": null,
   "metadata": {},
   "outputs": [],
   "source": [
    "\n"
   ]
  },
  {
   "cell_type": "code",
   "execution_count": 210,
   "metadata": {},
   "outputs": [
    {
     "data": {
      "image/png": "[encoded data removed]",
      "text/plain": [
       "<Figure size 432x288 with 1 Axes>"
      ]
     },
     "metadata": {
      "needs_background": "light"
     },
     "output_type": "display_data"
    }
   ],
   "source": [
    "fig, ax = plt.subplots()\n",
    "#scatter = ax.scatter(Result[0,:],Result[1,:],c=y_train[:300],cmap=\"coolwarm\")\n",
    "scatter = ax.scatter(Result[:,0],Result[:,1],c=y_train[:300],cmap=\"coolwarm\")\n",
    "legend = ax.legend(*scatter.legend_elements(), loc=\"upper right\", title=\"Classes\")\n",
    "# plt.yticks(np.arange(-0.1, 0.7,0.1))\n",
    "# plt.xticks(np.arange(-0.3, 0.5,0.1))\n",
    "plt.show()"
   ]
  },
  {
   "cell_type": "code",
   "execution_count": null,
   "metadata": {},
   "outputs": [],
   "source": []
  },
  {
   "cell_type": "code",
   "execution_count": null,
   "metadata": {},
   "outputs": [],
   "source": []
  }
 ],
 "metadata": {
  "kernelspec": {
   "display_name": "Python 3 (ipykernel)",
   "language": "python",
   "name": "python3"
  },
  "language_info": {
   "codemirror_mode": {
    "name": "ipython",
    "version": 3
   },
   "file_extension": ".py",
   "mimetype": "text/x-python",
   "name": "python",
   "nbconvert_exporter": "python",
   "pygments_lexer": "ipython3",
   "version": "3.7.0"
  }
 },
 "nbformat": 4,
 "nbformat_minor": 5
}
