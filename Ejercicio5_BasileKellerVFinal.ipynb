{
  "cells": [
    {
      "attachments": {},
      "cell_type": "markdown",
      "id": "rycQxaaSvAHi",
      "metadata": {
        "id": "rycQxaaSvAHi"
      },
      "source": [
        "## Alumnos:\n",
        "### Basile Álvarez Andrés José\n",
        "### Keller Ascencio Rodolfo Andrés"
      ]
    },
    {
      "cell_type": "markdown",
      "id": "tLB_QhDnESqm",
      "metadata": {
        "id": "tLB_QhDnESqm"
      },
      "source": [
        "  Reseñas de Películas: Clasificación utilizando Naive Bayes, Árbol de decisión, SVM, con Bag-Of-Words y TF-IDF:\n",
        "  - Incluyendo stopwords\n",
        "  - Eliminando stopwords\n",
        "  - Utilizando Stemming y eliminando stopwords\n",
        "  - Utilizando lematización y eliminando stopwords.\n",
        "\n",
        "Obtener para cada modelo accuracy, precision, recall, f1-score y matriz de confusión."
      ]
    },
    {
      "attachments": {},
      "cell_type": "markdown",
      "id": "76b5e4ce",
      "metadata": {},
      "source": [
        "# Tratamiento de la información"
      ]
    },
    {
      "cell_type": "markdown",
      "id": "M--TmOg4Ee4J",
      "metadata": {
        "id": "M--TmOg4Ee4J"
      },
      "source": [
        "#Importar datos, limpiarlos y generar dataframe.\n",
        "\n",
        "La salida de ejecutar este código es un dataframe: *df_movies*.\n",
        "\n",
        "Nota: únicamente contiene los datos de entrenamiento del dataset (es decir, los que estaban en la carpeta \"train\")...Y sobre esos se hará la partición de entrenamiento y prueba, ya que ocupando todos los datos (o sea, añadiendo los de la carpeta \"test\") el tiempo de ejecución es demasiado alto (o marca errores)"
      ]
    },
    {
      "cell_type": "code",
      "execution_count": null,
      "id": "5WY1WqNXvAID",
      "metadata": {
        "colab": {
          "base_uri": "https://localhost:8080/",
          "height": 0
        },
        "id": "5WY1WqNXvAID",
        "outputId": "09e7cd10-6de6-4366-e819-96acc954aadc"
      },
      "outputs": [
        {
          "name": "stdout",
          "output_type": "stream",
          "text": [
            "  % Total    % Received % Xferd  Average Speed   Time    Time     Time  Current\n",
            "                                 Dload  Upload   Total   Spent    Left  Speed\n",
            "100 80.2M  100 80.2M    0     0  32.8M      0  0:00:02  0:00:02 --:--:-- 32.8M\n"
          ]
        }
      ],
      "source": [
        "!curl -O https://ai.stanford.edu/~amaas/data/sentiment/aclImdb_v1.tar.gz\n",
        "!tar -xf aclImdb_v1.tar.gz"
      ]
    },
    {
      "cell_type": "code",
      "execution_count": 44,
      "id": "MYuMMfBCvAIE",
      "metadata": {
        "id": "MYuMMfBCvAIE"
      },
      "outputs": [],
      "source": [
        "!rm -r aclImdb/train/unsup\n",
        "!rm -r aclImdb/train/*.txt\n",
        "!rm -r aclImdb/test/*.txt"
      ]
    },
    {
      "cell_type": "code",
      "execution_count": 1,
      "id": "jdR2CQYIvAIE",
      "metadata": {
        "id": "jdR2CQYIvAIE"
      },
      "outputs": [],
      "source": [
        "from sklearn.feature_extraction.text import TfidfVectorizer\n",
        "from sklearn.model_selection import train_test_split\n",
        "from sklearn.naive_bayes import MultinomialNB\n",
        "from sklearn.tree import DecisionTreeClassifier\n",
        "from sklearn.svm import SVC  \n",
        "from sklearn.metrics import classification_report\n",
        "import matplotlib.pyplot as plt\n",
        "import numpy as np\n",
        "from sklearn.metrics import confusion_matrix\n",
        "from sklearn.metrics import ConfusionMatrixDisplay\n",
        "import os\n",
        "import pandas as pd\n",
        "import numpy as np\n",
        "import time\n",
        "import string"
      ]
    },
    {
      "cell_type": "code",
      "execution_count": 2,
      "id": "DthSWM5evAIF",
      "metadata": {
        "colab": {
          "base_uri": "https://localhost:8080/",
          "height": 0
        },
        "id": "DthSWM5evAIF",
        "outputId": "01e87f78-436d-4fb9-b8da-4ecc7f592314"
      },
      "outputs": [
        {
          "name": "stdout",
          "output_type": "stream",
          "text": [
            "                                          Informacion  Clasification\n",
            "0   Bromwell High is a cartoon comedy. It ran at t...              1\n",
            "0   Homelessness (or Houselessness as George Carli...              1\n",
            "0   Brilliant over-acting by Lesley Ann Warren. Be...              1\n",
            "0   This is easily the most underrated film inn th...              1\n",
            "0   This is not the typical Mel Brooks film. It wa...              1\n",
            "..                                                ...            ...\n",
            "0   Seeing as the vote average was pretty low, and...              1\n",
            "0   The plot had some wretched, unbelievable twist...              1\n",
            "0   I am amazed at how this movie(and most others ...              1\n",
            "0   A Christmas Together actually came before my t...              1\n",
            "0   Working-class romantic drama from director Mar...              1\n",
            "\n",
            "[12500 rows x 2 columns]\n"
          ]
        }
      ],
      "source": [
        "pathtrainpos = \"aclImdb/train/pos\"\n",
        "\n",
        "lista_df = []\n",
        "\n",
        "def read_text_file(file_path):\n",
        "    with open(file_path,\"r\",errors=\"ignore\") as f:\n",
        "        data = f.readlines()\n",
        "        df = pd.DataFrame(data, columns=['Informacion'])\n",
        "        lista_df.append(df)\n",
        "\n",
        "for file in os.listdir(pathtrainpos):\n",
        "    #print(file)\n",
        "    file_path = f\"{pathtrainpos}/{file}\"\n",
        "    read_text_file(file_path)\n",
        "\n",
        "\n",
        "# Concatenar los DataFrames en uno solo\n",
        "df_trainpos = pd.concat(lista_df)\n",
        "\n",
        "# Mostrar el DataFrame final\n",
        "df_trainpos['Clasification'] = 1\n",
        "print(df_trainpos)"
      ]
    },
    {
      "cell_type": "code",
      "execution_count": 3,
      "id": "ZbFJghEUvAIF",
      "metadata": {
        "colab": {
          "base_uri": "https://localhost:8080/",
          "height": 0
        },
        "id": "ZbFJghEUvAIF",
        "outputId": "850564fc-e277-4155-e447-d71b3b4126b4"
      },
      "outputs": [
        {
          "name": "stdout",
          "output_type": "stream",
          "text": [
            "                                          Informacion  Clasification\n",
            "0   Story of a man who has unnatural feelings for ...              0\n",
            "0   Airport '77 starts as a brand new luxury 747 p...              0\n",
            "0   This film lacked something I couldn't put my f...              0\n",
            "0   Sorry everyone,,, I know this is supposed to b...              0\n",
            "0   When I was little my parents took me along to ...              0\n",
            "..                                                ...            ...\n",
            "0   Towards the end of the movie, I felt it was to...              0\n",
            "0   This is the kind of movie that my enemies cont...              0\n",
            "0   I saw 'Descent' last night at the Stockholm Fi...              0\n",
            "0   Some films that you pick up for a pound turn o...              0\n",
            "0   This is one of the dumbest films, I've ever se...              0\n",
            "\n",
            "[12500 rows x 2 columns]\n"
          ]
        }
      ],
      "source": [
        "pathtrainneg = \"aclImdb/train/neg\"\n",
        "\n",
        "lista_df = []\n",
        "\n",
        "def read_text_file(file_path):\n",
        "    with open(file_path,\"r\",errors=\"ignore\") as f:\n",
        "        data = f.readlines()\n",
        "        df = pd.DataFrame(data, columns=['Informacion'])\n",
        "        lista_df.append(df)\n",
        "\n",
        "for file in os.listdir(pathtrainneg):\n",
        "    #print(file)\n",
        "    file_path = f\"{pathtrainneg}/{file}\"\n",
        "    read_text_file(file_path)\n",
        "\n",
        "\n",
        "# Concatenar los DataFrames en uno solo\n",
        "df_trainneg = pd.concat(lista_df)\n",
        "\n",
        "# Mostrar el DataFrame final\n",
        "df_trainneg['Clasification'] = 0\n",
        "print(df_trainneg)"
      ]
    },
    {
      "cell_type": "code",
      "execution_count": 4,
      "id": "UUbkdA0gvAIF",
      "metadata": {
        "colab": {
          "base_uri": "https://localhost:8080/",
          "height": 0
        },
        "id": "UUbkdA0gvAIF",
        "outputId": "4ff6f62c-26ac-4a97-c753-ccf7584289d2"
      },
      "outputs": [
        {
          "name": "stdout",
          "output_type": "stream",
          "text": [
            "                                          Informacion  Clasification\n",
            "0   I went and saw this movie last night after bei...              1\n",
            "0   Actor turned director Bill Paxton follows up h...              1\n",
            "0   As a recreational golfer with some knowledge o...              1\n",
            "0   I saw this film in a sneak preview, and it is ...              1\n",
            "0   Bill Paxton has taken the true story of the 19...              1\n",
            "..                                                ...            ...\n",
            "0   I was extraordinarily impressed by this film. ...              1\n",
            "0   Although I'm not a golf fan, I attended a snea...              1\n",
            "0   From the start of \"The Edge Of Love\", the view...              1\n",
            "0   This movie, with all its complexity and subtle...              1\n",
            "0   I've seen this story before but my kids haven'...              1\n",
            "\n",
            "[12500 rows x 2 columns]\n"
          ]
        }
      ],
      "source": [
        "pathtestpos = \"aclImdb/test/pos\"\n",
        "\n",
        "lista_df = []\n",
        "\n",
        "def read_text_file(file_path):\n",
        "    with open(file_path,\"r\",errors=\"ignore\") as f:\n",
        "        data = f.readlines()\n",
        "        df = pd.DataFrame(data, columns=['Informacion'])\n",
        "        lista_df.append(df)\n",
        "\n",
        "for file in os.listdir(pathtestpos):\n",
        "    #print(file)\n",
        "    file_path = f\"{pathtestpos}/{file}\"\n",
        "    read_text_file(file_path)\n",
        "\n",
        "\n",
        "# Concatenar los DataFrames en uno solo\n",
        "df_testpos = pd.concat(lista_df)\n",
        "\n",
        "# Mostrar el DataFrame final\n",
        "df_testpos['Clasification'] = 1\n",
        "print(df_testpos)"
      ]
    },
    {
      "cell_type": "code",
      "execution_count": 5,
      "id": "RQ1yNlhavAIG",
      "metadata": {
        "colab": {
          "base_uri": "https://localhost:8080/",
          "height": 0
        },
        "id": "RQ1yNlhavAIG",
        "outputId": "43f1e7ab-48d3-415d-ae64-3dea251b04bd"
      },
      "outputs": [
        {
          "name": "stdout",
          "output_type": "stream",
          "text": [
            "                                          Informacion  Clasification\n",
            "0   Once again Mr. Costner has dragged out a movie...              0\n",
            "0   This is an example of why the majority of acti...              0\n",
            "0   First of all I hate those moronic rappers, who...              0\n",
            "0   Not even the Beatles could write songs everyon...              0\n",
            "0   Brass pictures (movies is not a fitting word f...              0\n",
            "..                                                ...            ...\n",
            "0   I occasionally let my kids watch this garbage ...              0\n",
            "0   When all we have anymore is pretty much realit...              0\n",
            "0   The basic genre is a thriller intercut with an...              0\n",
            "0   Four things intrigued me as to this film - fir...              0\n",
            "0   David Bryce's comments nearby are exceptionall...              0\n",
            "\n",
            "[12500 rows x 2 columns]\n"
          ]
        }
      ],
      "source": [
        "pathtestneg = \"aclImdb/test/neg\"\n",
        "\n",
        "lista_df = []\n",
        "\n",
        "def read_text_file(file_path):\n",
        "    with open(file_path,\"r\",errors=\"ignore\") as f:\n",
        "        data = f.readlines()\n",
        "        df = pd.DataFrame(data, columns=['Informacion'])\n",
        "        lista_df.append(df)\n",
        "\n",
        "for file in os.listdir(pathtestneg):\n",
        "    file_path = f\"{pathtestneg}/{file}\"\n",
        "    read_text_file(file_path)\n",
        "\n",
        "\n",
        "df_testneg = pd.concat(lista_df)\n",
        "\n",
        "df_testneg['Clasification'] = 0\n",
        "print(df_testneg)"
      ]
    },
    {
      "cell_type": "code",
      "execution_count": 6,
      "id": "-27BqXxdvAIG",
      "metadata": {
        "colab": {
          "base_uri": "https://localhost:8080/",
          "height": 0
        },
        "id": "-27BqXxdvAIG",
        "outputId": "59242142-e7cb-46d7-cec4-fb7933b0d48d"
      },
      "outputs": [
        {
          "name": "stdout",
          "output_type": "stream",
          "text": [
            "                                          Informacion  Clasification\n",
            "0   Story of a man who has unnatural feelings for ...              0\n",
            "0   Airport '77 starts as a brand new luxury 747 p...              0\n",
            "0   This film lacked something I couldn't put my f...              0\n",
            "0   Sorry everyone,,, I know this is supposed to b...              0\n",
            "0   When I was little my parents took me along to ...              0\n",
            "..                                                ...            ...\n",
            "0   Seeing as the vote average was pretty low, and...              1\n",
            "0   The plot had some wretched, unbelievable twist...              1\n",
            "0   I am amazed at how this movie(and most others ...              1\n",
            "0   A Christmas Together actually came before my t...              1\n",
            "0   Working-class romantic drama from director Mar...              1\n",
            "\n",
            "[25000 rows x 2 columns]\n"
          ]
        }
      ],
      "source": [
        "df_movies = []\n",
        "df_movies = pd.concat([df_trainneg, df_trainpos])  # COMENTARIO -> Cuando se hace el split para bag of words, por ejemplo, se utiliza un único dataframe... en realidad podríamos usar nada más los datos de entrenamiento y sacar de ahí 25% para testing, porque sino quedan demasiados datos y me tarda mucho en ejecutar\n",
        "#df_movies = pd.concat([df_trainneg,df_trainpos,df_testneg, df_testpos])\n",
        "print(df_movies)"
      ]
    },
    {
      "cell_type": "code",
      "execution_count": 7,
      "id": "FL0c9qzXvAIH",
      "metadata": {
        "colab": {
          "base_uri": "https://localhost:8080/",
          "height": 206
        },
        "id": "FL0c9qzXvAIH",
        "outputId": "4e33ab28-27b0-44aa-821f-fa0755bc58e4",
        "scrolled": true
      },
      "outputs": [
        {
          "data": {
            "text/html": [
              "<div>\n",
              "<style scoped>\n",
              "    .dataframe tbody tr th:only-of-type {\n",
              "        vertical-align: middle;\n",
              "    }\n",
              "\n",
              "    .dataframe tbody tr th {\n",
              "        vertical-align: top;\n",
              "    }\n",
              "\n",
              "    .dataframe thead th {\n",
              "        text-align: right;\n",
              "    }\n",
              "</style>\n",
              "<table border=\"1\" class=\"dataframe\">\n",
              "  <thead>\n",
              "    <tr style=\"text-align: right;\">\n",
              "      <th></th>\n",
              "      <th>Informacion</th>\n",
              "      <th>Clasification</th>\n",
              "      <th>clean_text</th>\n",
              "    </tr>\n",
              "  </thead>\n",
              "  <tbody>\n",
              "    <tr>\n",
              "      <th>0</th>\n",
              "      <td>Story of a man who has unnatural feelings for ...</td>\n",
              "      <td>0</td>\n",
              "      <td>story of a man who has unnatural feelings for ...</td>\n",
              "    </tr>\n",
              "    <tr>\n",
              "      <th>0</th>\n",
              "      <td>Airport '77 starts as a brand new luxury 747 p...</td>\n",
              "      <td>0</td>\n",
              "      <td>airport 77 starts as a brand new luxury 747 pl...</td>\n",
              "    </tr>\n",
              "    <tr>\n",
              "      <th>0</th>\n",
              "      <td>This film lacked something I couldn't put my f...</td>\n",
              "      <td>0</td>\n",
              "      <td>this film lacked something i couldnt put my fi...</td>\n",
              "    </tr>\n",
              "    <tr>\n",
              "      <th>0</th>\n",
              "      <td>Sorry everyone,,, I know this is supposed to b...</td>\n",
              "      <td>0</td>\n",
              "      <td>sorry everyone i know this is supposed to be a...</td>\n",
              "    </tr>\n",
              "    <tr>\n",
              "      <th>0</th>\n",
              "      <td>When I was little my parents took me along to ...</td>\n",
              "      <td>0</td>\n",
              "      <td>when i was little my parents took me along to ...</td>\n",
              "    </tr>\n",
              "  </tbody>\n",
              "</table>\n",
              "</div>"
            ],
            "text/plain": [
              "                                         Informacion  Clasification  \\\n",
              "0  Story of a man who has unnatural feelings for ...              0   \n",
              "0  Airport '77 starts as a brand new luxury 747 p...              0   \n",
              "0  This film lacked something I couldn't put my f...              0   \n",
              "0  Sorry everyone,,, I know this is supposed to b...              0   \n",
              "0  When I was little my parents took me along to ...              0   \n",
              "\n",
              "                                          clean_text  \n",
              "0  story of a man who has unnatural feelings for ...  \n",
              "0  airport 77 starts as a brand new luxury 747 pl...  \n",
              "0  this film lacked something i couldnt put my fi...  \n",
              "0  sorry everyone i know this is supposed to be a...  \n",
              "0  when i was little my parents took me along to ...  "
            ]
          },
          "execution_count": 7,
          "metadata": {},
          "output_type": "execute_result"
        }
      ],
      "source": [
        "df_movies = df_movies[df_movies['Informacion'].str.strip() != '']\n",
        "df_movies[\"clean_text\"] = df_movies[\"Informacion\"]\n",
        "df_movies[\"clean_text\"] = df_movies['clean_text'].str.lower().str.translate(str.maketrans('', '', string.punctuation))\n",
        "df_movies.head()"
      ]
    },
    {
      "cell_type": "code",
      "execution_count": 8,
      "id": "Mv7ZqYH2BkMr",
      "metadata": {
        "colab": {
          "base_uri": "https://localhost:8080/",
          "height": 0
        },
        "id": "Mv7ZqYH2BkMr",
        "outputId": "77ade0c8-6d19-4030-eb70-b5015b216d37",
        "scrolled": true
      },
      "outputs": [
        {
          "data": {
            "text/plain": [
              "when i got this movie free from my job along with three other similar movies i watched then with very low expectations now this movie isnt bad per se you get what you pay for it is a tale of love betrayal lies sex scandal everything you want in a movie definitely not a hollywood blockbuster but for cheap thrills it is not that bad i would probably never watch this movie again in a nutshell this is the kind of movie that you would see either very late at night on a local television station that is just wanting to take up some time or you would see it on a sunday afternoon on a local television station that is trying to take up some time despite the bad acting clichã© lines and sub par camera work i didnt have the desire to turn off the movie and pretend like it never popped into my dvd player the story has been done many times in many movies this one is no different no better no worse br br just your average movie                                                                                                                                                                                                                                                                                                                                                                                                                                                                                                                                                                                                                                                                                                                                                  3\n",
              "this show comes up with interesting locations as fast as the travel channel it is billed as reality but in actuality it is pure prime time soap opera its tries to use exotic locales as a facade to bring people into a phony contest  then proceeds to hook viewers on the contestants soap opera stylebr br it also borrows from an early cbs game show pioneer beat the clock by inventing situations for its contestants to try  overcome then it rewards the winner money if they can spice it up with a little interaction between the characters even better while the game format is in slow motion versus beat the clock the real accomplishment of this series is to escape reality br br this show has elements of several types of successful past programs reality television hardly but if your hooked on the contestants locale or contest this is your cup of tea if your not this entire series is as i say drivel dripping with gravy it is another show hiding behind the reality label which is the trend it started in 2000br br it is slick  well produced so it might last a while yet after all so do reruns of gilligans island green acres the beverly hillbillies  the brady bunch this just doesnt employ professional actors the intelligence level is about the same                                                                                                                                                                                                                                                                                                                                                                                                             3\n",
              "how has this piece of crap stayed on tv this long its terrible it makes me want to shoot someone its so fake that it is actually worse than a 1940s scifi movie id rather have a stroke than watch this nonsense i remember watching it when it first came out i thought hey this could be interesting then i found out how absolutely insanely ridiculously stupid it really was it was so bad that i actually took out my pocket knife and stuck my hand to the tablebr br please people stop watching this and all other reality shows theyre the trash that is jamming the networks and canceling quality programming that requires some thought to create                                                                                                                                                                                                                                                                                                                                                                                                                                                                                                                                                                                                                                                                                                                                                                                                                                                                                                                                                                                                                                                  3\n",
              "you do realize that youve been watching the exact same show for eight years right i could understand the initial curiosity of seeing strangers coexist on an island but youd think that after watching unkempt stinkladened heroes run roughshod through the bush with an egg on a spoon for half a decade would be enough to get you to commit to something a little more original and interestingbr br and im not even speaking of the shows validity which for the record i find questionable its just hard to suspend disbelief for bushy bill eating a rat when the entire crew of producers and camera people are housed in an air conditioned makeshift biodome sipping frosty mochcinnos with moxybr br whats the appeal here i dont care about these people or their meandering lives i just dont get it but if you do find yourself being captivated by hairy unwashed people i suggest you turn off your tv and just take a trip to your local bus station where you can see people like this in their true habitat they call them homeless people and free of charge you can sit back and marvel in their uncanny ability to retrieve various cigarette debris from a plethora of garbage canisters eventually striking paydirt and fashioning a homemade dr frankensteinstyled cancerstick all the while begging people for change for food when the stink of aqua velva on their breath is enough to suggest otherwise and the best part much like survivor every week one member of the tribe leaves the island when they are unceremoniously sent packing to the local institution when the frightening unmedicated state of fullblown schizophrenia kicks into gear now thats entertainment    3\n",
              "love it love it love it this is another absolutely superb performance from the divine miss m from the beginning to the end this is one big treat dont rent it buy it now                                                                                                                                                                                                                                                                                                                                                                                                                                                                                                                                                                                                                                                                                                                                                                                                                                                                                                                                                                                                                                                                                                                                                                                                                                                                                                                                                                                                                                                                                                                                        2\n",
              "                                                                                                                                                                                                                                                                                                                                                                                                                                                                                                                                                                                                                                                                                                                                                                                                                                                                                                                                                                                                                                                                                                                                                                                                                                                                                                                                                                                                                                                                                                                                                                                                                                                                                                               ..\n",
              "nobr br basically your watching something that doesnt make sense to not spoil the film for people who actually want to this take a look at the flick i will explain the storybr br a normal everyday to day women is walking down a street then finds herself driving by in her own car she follows her and many events take place during that time that include her and her familybr br i specifically made an account to comment on this film of how horribly written this was the acting was great the events were great but the story just brought it nowhere  it could of been added to tremendously and be made into a worldwide epidemic im not sure what the writer was trying to accomplish by making this usually at the end of films most of your questions get answers but this film has you asking what just happened and 1 hour 20 minutes just passed for nothingbr br spoiler startsbr br they had this area between 2 dimensions ours and behind the glass that would come into our world and kill us it was not elaborated on all during the film and you never know how it was happening or why it was or when it happened nothing gets explained during the film the main character shouldnt of even been the main character at the end of the film the guy who finally figures it all out and runs away her sisters boyfriend should of been the main character but sadly the movie ends 20 seconds after br br i bought this movie for 10 threw it out right after dont waste your time i really hope nothing like this is made again                                                                                                                                                     1\n",
              "you gotta wonder how some flics ever get made this one decided to skip with the why among many other things and just wanders off beyond the moot br br and yet you have a number of decent actors doing their best to pump some life into the story the blue tint throughout the movie overshoots into yet again which on its own would be depressing but here its overkill the idea that its not a medical condition not some house or gypsy or trinket curse but just something that for no apparent reason starts to happen to our protagonist and then to everyone else around her just winds up being much like taking a big swig out of an empty mug some doppelgangers have super powers but others dont or dont know they do it seems theyre just as clueless as we arebr br its a poor mans ripoff of invasion of the bodysnatchers with keifer sutherlands mirror and the sixth sense were you to seriously botch those three together                                                                                                                                                                                                                                                                                                                                                                                                                                                                                                                                                                                                                                                                                                                                                                1\n",
              "this film really tries to hard if your going to make a horror film at least give it a reason to believe in to hook the viewer br br you wait and wait through the film expecting for some grand explanation but it doesnt instead it tries to be too clever ending and not revealing anything br br what was the point of the movie  where its actually going  and more importantly what the hell was going on    br br why were they there and how does it tie into anything just another weak scifi horror i love the fake reviews on imdb saying how great it is by related press releases to bump the movie either that or people have low horizons its not worth your 2hrs at allbr br im not saying the film is better than the fragile but at least that gave you reasoning and why things happened and has an end result this doesnt and it just waffles on with tons of padding to make everything feel scary this film is about as low as when a stranger calls god that was lame too br br big tip if your gonna make a horror make it believable with reasoning and explain to the viewer whats going on so they have a hook into your story because if theres no reasoning or believability then theres no firm hold on anything and it cant be scary no disrespect to the cast or crew cause they did a good job its just the poor writing                                                                                                                                                                                                                                                                                                                                                        1\n",
              "the broken is part of the after dark horrorfest iii not a slasher or filled with gore plenty of broken glass and mirrors in this edgy thriller from france and writerdirector sean ellis a successful radiologist gina mcvaylena headlyinters a strange world as her life seems to spiral out of control while attending her fathersrichard jenkinsbirthday party the guests are stunned when a mirror crashes to the floor for no obvious reason things get really strange when she witnesses a woman that is the spitting image of herself driving down a london street in a car identical to her own gina sneaks to her doppelgangers apartment and finds a photo of herself with her father she drives away and is involved in a head on collision then mysteriously her boyfriend is not the same to be exact family and friends are not easy for her to trust is gina beside herself is she in a parallel world her nightmares become more horrificis she brokenbr br kudos if you can figure this one outit wont be easy editing couldnt be any tighter lighting is questionable other players melvil poupard william armstrong michelle duncan and ulrich thomsen                                                                                                                                                                                                                                                                                                                                                                                                                                                                                                                                       1\n",
              "workingclass romantic drama from director martin ritt is as unbelievable as they come yet there are moments of pleasure due mostly to the charisma of stars jane fonda and robert de niro both terrific shes a widow who cant move on hes illiterate and a closetinventoryou can probably guess the rest adaptation of pat barkers novel union street a better title is so laidback it verges on bland and the films editing is a mess but its still pleasant a rosyhued bluecollar fantasy there are no overtures to serious issues even the illiteracy angle is just a plottool for the ensuing love story and no real fireworks though the characters are intentionally a bit colorless and the leads are toned down to an interesting degree the finale is pure fluffand cynics will find it difficult to swallowthough these two characters deserve a happy ending and the picture wouldnt really be satisfying any other way  from                                                                                                                                                                                                                                                                                                                                                                                                                                                                                                                                                                                                                                                                                                                                                                        1\n",
              "Name: clean_text, Length: 24904, dtype: int64"
            ]
          },
          "execution_count": 8,
          "metadata": {},
          "output_type": "execute_result"
        }
      ],
      "source": [
        "df_movies['clean_text'].value_counts()"
      ]
    },
    {
      "attachments": {},
      "cell_type": "markdown",
      "id": "AjDgzsy6E3jB",
      "metadata": {
        "id": "AjDgzsy6E3jB"
      },
      "source": [
        "# BOW + eliminando stopwords"
      ]
    },
    {
      "cell_type": "code",
      "execution_count": 9,
      "id": "BEDW1WHqCDYT",
      "metadata": {
        "id": "BEDW1WHqCDYT"
      },
      "outputs": [],
      "source": [
        "from sklearn.feature_extraction.text import CountVectorizer #bolsa de palabras y pasamos las stop words. \n",
        "\n",
        "X = df_movies['clean_text'].values\n",
        "y = df_movies['Clasification'].values\n",
        "\n",
        "X_train, X_test, y_train, y_test = train_test_split(X, y, test_size = 0.25, random_state = 123)\n",
        "vector = CountVectorizer(stop_words = 'english') #Stopwords\n",
        "\n",
        "X_train_bow = vector.fit_transform(X_train)\n",
        "X_test_bow = vector.transform(X_test)"
      ]
    },
    {
      "cell_type": "code",
      "execution_count": 10,
      "id": "kM5axUAACDYV",
      "metadata": {
        "colab": {
          "base_uri": "https://localhost:8080/",
          "height": 0
        },
        "id": "kM5axUAACDYV",
        "outputId": "0e148711-0045-44b9-e228-b0a6f16ef8ae"
      },
      "outputs": [
        {
          "data": {
            "text/plain": [
              "((18750, 103293), (6250, 103293))"
            ]
          },
          "execution_count": 10,
          "metadata": {},
          "output_type": "execute_result"
        }
      ],
      "source": [
        "X_train_bow.shape, X_test_bow.shape"
      ]
    },
    {
      "attachments": {},
      "cell_type": "markdown",
      "id": "BVaLu0c9I_qB",
      "metadata": {
        "id": "BVaLu0c9I_qB"
      },
      "source": [
        "## Naives Bayes"
      ]
    },
    {
      "cell_type": "code",
      "execution_count": 11,
      "id": "Jg8xI0QrCDYY",
      "metadata": {
        "colab": {
          "base_uri": "https://localhost:8080/",
          "height": 0
        },
        "id": "Jg8xI0QrCDYY",
        "outputId": "18b3442e-b3a7-4586-86cd-5e81732ae746"
      },
      "outputs": [
        {
          "name": "stdout",
          "output_type": "stream",
          "text": [
            "Tiempo de entrenamiento:  0.06687569618225098\n",
            "Tiempo de prediccción:  0.022843122482299805\n"
          ]
        }
      ],
      "source": [
        "start = time.time()\n",
        "bayes_pred = MultinomialNB()\n",
        "bayes_pred.fit(X_train_bow, y_train)\n",
        "print(\"Tiempo de entrenamiento: \",time.time()-start)\n",
        "\n",
        "\n",
        "start = time.time()\n",
        "predictions = bayes_pred.predict(X_test_bow)\n",
        "print(\"Tiempo de prediccción: \",time.time()-start)"
      ]
    },
    {
      "cell_type": "code",
      "execution_count": 12,
      "id": "xrzMECrwCDYZ",
      "metadata": {
        "colab": {
          "base_uri": "https://localhost:8080/"
        },
        "id": "xrzMECrwCDYZ",
        "outputId": "3a966de1-fd5e-43d9-bf51-e78ed27a7e8c"
      },
      "outputs": [
        {
          "name": "stdout",
          "output_type": "stream",
          "text": [
            "              precision    recall  f1-score   support\n",
            "\n",
            "           0       0.84      0.87      0.86      3085\n",
            "           1       0.87      0.84      0.85      3165\n",
            "\n",
            "    accuracy                           0.85      6250\n",
            "   macro avg       0.85      0.85      0.85      6250\n",
            "weighted avg       0.86      0.85      0.85      6250\n",
            "\n"
          ]
        }
      ],
      "source": [
        "print(classification_report(y_test, predictions))"
      ]
    },
    {
      "cell_type": "code",
      "execution_count": 13,
      "id": "J0AAJhPECDYa",
      "metadata": {
        "colab": {
          "base_uri": "https://localhost:8080/",
          "height": 279
        },
        "id": "J0AAJhPECDYa",
        "outputId": "660f4ee6-3744-4761-cea0-db3b4de320d7"
      },
      "outputs": [
        {
          "data": {
            "image/png": "[encoded data removed]",
            "text/plain": [
              "<Figure size 432x288 with 2 Axes>"
            ]
          },
          "metadata": {
            "needs_background": "light"
          },
          "output_type": "display_data"
        }
      ],
      "source": [
        "cm = confusion_matrix(y_test, predictions)\n",
        "\n",
        "# plot the confusion matrix\n",
        "disp = ConfusionMatrixDisplay(cm, display_labels=np.unique(y_test))\n",
        "disp.plot()\n",
        "plt.show()"
      ]
    },
    {
      "attachments": {},
      "cell_type": "markdown",
      "id": "xkzpUlJjCDYc",
      "metadata": {
        "id": "xkzpUlJjCDYc"
      },
      "source": [
        "## Árbol de decisión"
      ]
    },
    {
      "cell_type": "code",
      "execution_count": 14,
      "id": "tqe6lZ9RCDYd",
      "metadata": {
        "colab": {
          "base_uri": "https://localhost:8080/"
        },
        "id": "tqe6lZ9RCDYd",
        "outputId": "90e0c9fe-14ae-49ca-c0f0-7aa40188c696"
      },
      "outputs": [
        {
          "name": "stdout",
          "output_type": "stream",
          "text": [
            "Tiempo de entrenamiento:  90.39029312133789\n"
          ]
        }
      ],
      "source": [
        "\n",
        "start = time.time()\n",
        "ClasificacionAD = DecisionTreeClassifier(criterion='gini',random_state=0)\n",
        "ClasificacionAD.fit(X_train_bow, y_train)\n",
        "print(\"Tiempo de entrenamiento: \", time.time()-start)"
      ]
    },
    {
      "cell_type": "code",
      "execution_count": 15,
      "id": "F6pxjTjmCDYd",
      "metadata": {
        "colab": {
          "base_uri": "https://localhost:8080/"
        },
        "id": "F6pxjTjmCDYd",
        "outputId": "92e35997-97a8-4eeb-8e85-d2390083c620"
      },
      "outputs": [
        {
          "name": "stdout",
          "output_type": "stream",
          "text": [
            "Tiempo de predicción:  0.02958083152770996\n"
          ]
        }
      ],
      "source": [
        "start = time.time()\n",
        "Y_ClasificacionAD = ClasificacionAD.predict(X_test_bow)\n",
        "print(\"Tiempo de predicción: \", time.time()-start)\n"
      ]
    },
    {
      "cell_type": "code",
      "execution_count": 16,
      "id": "dYBYLYEfHyp4",
      "metadata": {
        "colab": {
          "base_uri": "https://localhost:8080/"
        },
        "id": "dYBYLYEfHyp4",
        "outputId": "bf33730c-f278-4395-939a-c63c0bab9fde"
      },
      "outputs": [
        {
          "name": "stdout",
          "output_type": "stream",
          "text": [
            "[1 0 0 ... 1 1 1]\n",
            "              precision    recall  f1-score   support\n",
            "\n",
            "           0       0.72      0.72      0.72      3085\n",
            "           1       0.72      0.72      0.72      3165\n",
            "\n",
            "    accuracy                           0.72      6250\n",
            "   macro avg       0.72      0.72      0.72      6250\n",
            "weighted avg       0.72      0.72      0.72      6250\n",
            "\n"
          ]
        }
      ],
      "source": [
        "print(Y_ClasificacionAD)\n",
        "print(classification_report(y_test, Y_ClasificacionAD))"
      ]
    },
    {
      "cell_type": "code",
      "execution_count": 17,
      "id": "GHIC4F55IPa0",
      "metadata": {
        "colab": {
          "base_uri": "https://localhost:8080/",
          "height": 279
        },
        "id": "GHIC4F55IPa0",
        "outputId": "01caeaff-5770-43cf-9792-2d6c5fb67c38"
      },
      "outputs": [
        {
          "data": {
            "image/png": "[encoded data removed]",
            "text/plain": [
              "<Figure size 432x288 with 2 Axes>"
            ]
          },
          "metadata": {
            "needs_background": "light"
          },
          "output_type": "display_data"
        }
      ],
      "source": [
        "cm = confusion_matrix(y_test, Y_ClasificacionAD)\n",
        "\n",
        "# plot the confusion matrix\n",
        "disp = ConfusionMatrixDisplay(cm, display_labels=np.unique(Y_ClasificacionAD))\n",
        "disp.plot()\n",
        "plt.show()"
      ]
    },
    {
      "attachments": {},
      "cell_type": "markdown",
      "id": "zatisapOCDYe",
      "metadata": {
        "id": "zatisapOCDYe"
      },
      "source": [
        "## Máquina de soporte vectorial"
      ]
    },
    {
      "cell_type": "code",
      "execution_count": 18,
      "id": "LcGDcnFiCDYg",
      "metadata": {
        "id": "LcGDcnFiCDYg"
      },
      "outputs": [
        {
          "name": "stdout",
          "output_type": "stream",
          "text": [
            "Tiempo de entrenamiento:  761.6321992874146\n"
          ]
        }
      ],
      "source": [
        "start = time.time()\n",
        "ModeloSVM_1 = SVC(kernel='linear')\n",
        "ModeloSVM_1.fit(X_train_bow, y_train)\n",
        "print(\"Tiempo de entrenamiento: \",time.time()-start)"
      ]
    },
    {
      "cell_type": "code",
      "execution_count": 19,
      "id": "Fy_BqD6dCDYg",
      "metadata": {
        "id": "Fy_BqD6dCDYg"
      },
      "outputs": [
        {
          "name": "stdout",
          "output_type": "stream",
          "text": [
            "Tiempo de predicción:  32.550710678100586\n",
            "[1 0 0 ... 0 1 1]\n",
            "Exactitud 0.8608\n",
            "              precision    recall  f1-score   support\n",
            "\n",
            "           0       0.86      0.86      0.86      3085\n",
            "           1       0.86      0.86      0.86      3165\n",
            "\n",
            "    accuracy                           0.86      6250\n",
            "   macro avg       0.86      0.86      0.86      6250\n",
            "weighted avg       0.86      0.86      0.86      6250\n",
            "\n",
            "Número de vectores de soporte: \n",
            " [3350 3463]\n",
            "Vectores de soporte: \n",
            " [    1    16    21 ... 18742 18743 18749]\n"
          ]
        }
      ],
      "source": [
        "start = time.time()\n",
        "Clasificaciones_1 = ModeloSVM_1.predict(X_test_bow)\n",
        "print(\"Tiempo de predicción: \",time.time()-start)\n",
        "print(Clasificaciones_1)\n",
        "\n",
        "#pd.DataFrame(Clasificaciones_1)\n",
        "\n",
        "Clasificaciones = pd.DataFrame(y_test, Clasificaciones_1)\n",
        "Clasificaciones\n",
        "\n",
        "#Se calcula la exactitud promedio de la validación\n",
        "ModeloSVM_1.score(X_test_bow, y_test)\n",
        "\n",
        "#### **Validación del modelo**\n",
        "\n",
        "#Matriz de clasificación\n",
        "Clasificaciones_1 = ModeloSVM_1.predict(X_test_bow)\n",
        "Matriz_Clasificacion = pd.crosstab(y_test.ravel(), \n",
        "                                   Clasificaciones_1, \n",
        "                                   rownames=['Real'], \n",
        "                                   colnames=['Clasificación']) \n",
        "Matriz_Clasificacion\n",
        "\n",
        "\n",
        "#Reporte de la clasificación\n",
        "print(\"Exactitud\", ModeloSVM_1.score(X_test_bow, y_test))\n",
        "print(classification_report(y_test, Clasificaciones_1))\n",
        "\n",
        "VectoresSoporte_1 = ModeloSVM_1.support_vectors_\n",
        "pd.DataFrame(VectoresSoporte_1)\n",
        "\n",
        "#Vectores de soporte\n",
        "print('Número de vectores de soporte: \\n', ModeloSVM_1.n_support_)\n",
        "print('Vectores de soporte: \\n', ModeloSVM_1.support_)\n"
      ]
    },
    {
      "cell_type": "code",
      "execution_count": 20,
      "id": "ot_HRO67OIjQ",
      "metadata": {
        "id": "ot_HRO67OIjQ"
      },
      "outputs": [
        {
          "data": {
            "image/png": "[encoded data removed]",
            "text/plain": [
              "<Figure size 432x288 with 2 Axes>"
            ]
          },
          "metadata": {
            "needs_background": "light"
          },
          "output_type": "display_data"
        }
      ],
      "source": [
        "cm = confusion_matrix(y_test, Clasificaciones_1)\n",
        "\n",
        "# plot the confusion matrix\n",
        "disp = ConfusionMatrixDisplay(cm, display_labels=np.unique(Clasificaciones_1))\n",
        "disp.plot()\n",
        "plt.show()"
      ]
    },
    {
      "cell_type": "markdown",
      "id": "WSNjtHIrJCpS",
      "metadata": {
        "id": "WSNjtHIrJCpS"
      },
      "source": [
        "\n",
        "# BOW + incluyendo stopwords\n",
        "\n",
        "\n",
        "\n",
        "\n",
        "\n",
        "\n",
        "\n",
        "\n",
        "\n",
        "\n",
        "\n",
        "\n",
        "\n",
        "\n",
        "\n",
        "\n",
        "\n"
      ]
    },
    {
      "cell_type": "code",
      "execution_count": 21,
      "id": "9pADwiBZJUKz",
      "metadata": {
        "id": "9pADwiBZJUKz"
      },
      "outputs": [],
      "source": [
        "from sklearn.feature_extraction.text import CountVectorizer #bolsa de palabras y pasamos las stop words. \n",
        "\n",
        "X = df_movies['clean_text'].values\n",
        "y = df_movies['Clasification'].values\n",
        "\n",
        "X_train, X_test, y_train, y_test = train_test_split(X, y, test_size = 0.25, random_state = 123)\n",
        "vector = CountVectorizer() #Stopwords\n",
        "\n",
        "X_train_bow = vector.fit_transform(X_train)\n",
        "X_test_bow = vector.transform(X_test)"
      ]
    },
    {
      "cell_type": "code",
      "execution_count": 22,
      "id": "kuq3swwzJUK2",
      "metadata": {
        "colab": {
          "base_uri": "https://localhost:8080/"
        },
        "id": "kuq3swwzJUK2",
        "outputId": "c7458e5f-4d4b-465c-a97c-2ebe3a5aefb9"
      },
      "outputs": [
        {
          "data": {
            "text/plain": [
              "((18750, 103603), (6250, 103603))"
            ]
          },
          "execution_count": 22,
          "metadata": {},
          "output_type": "execute_result"
        }
      ],
      "source": [
        "X_train_bow.shape, X_test_bow.shape"
      ]
    },
    {
      "attachments": {},
      "cell_type": "markdown",
      "id": "fWlWLuLVJUK3",
      "metadata": {
        "id": "fWlWLuLVJUK3"
      },
      "source": [
        "## Naives Bayes"
      ]
    },
    {
      "cell_type": "code",
      "execution_count": 23,
      "id": "shZQaY5eJUK4",
      "metadata": {
        "colab": {
          "base_uri": "https://localhost:8080/"
        },
        "id": "shZQaY5eJUK4",
        "outputId": "d3c49213-5765-471f-9035-ea683a9f1e97"
      },
      "outputs": [
        {
          "name": "stdout",
          "output_type": "stream",
          "text": [
            "Tiempo de entrenamiento:  0.03400468826293945\n",
            "Tiempo de prediccción:  0.009495019912719727\n"
          ]
        }
      ],
      "source": [
        "start = time.time()\n",
        "bayes_pred = MultinomialNB()\n",
        "bayes_pred.fit(X_train_bow, y_train)\n",
        "print(\"Tiempo de entrenamiento: \",time.time()-start)\n",
        "\n",
        "\n",
        "start = time.time()\n",
        "predictions = bayes_pred.predict(X_test_bow)\n",
        "print(\"Tiempo de prediccción: \",time.time()-start)"
      ]
    },
    {
      "cell_type": "code",
      "execution_count": 24,
      "id": "lkm69jrnJUK4",
      "metadata": {
        "colab": {
          "base_uri": "https://localhost:8080/"
        },
        "id": "lkm69jrnJUK4",
        "outputId": "3a966de1-fd5e-43d9-bf51-e78ed27a7e8c"
      },
      "outputs": [
        {
          "name": "stdout",
          "output_type": "stream",
          "text": [
            "              precision    recall  f1-score   support\n",
            "\n",
            "           0       0.83      0.87      0.85      3085\n",
            "           1       0.87      0.82      0.84      3165\n",
            "\n",
            "    accuracy                           0.85      6250\n",
            "   macro avg       0.85      0.85      0.85      6250\n",
            "weighted avg       0.85      0.85      0.85      6250\n",
            "\n"
          ]
        }
      ],
      "source": [
        "print(classification_report(y_test, predictions))"
      ]
    },
    {
      "cell_type": "code",
      "execution_count": 25,
      "id": "verof-DdJUK5",
      "metadata": {
        "colab": {
          "base_uri": "https://localhost:8080/",
          "height": 279
        },
        "id": "verof-DdJUK5",
        "outputId": "660f4ee6-3744-4761-cea0-db3b4de320d7"
      },
      "outputs": [
        {
          "data": {
            "image/png": "[encoded data removed]",
            "text/plain": [
              "<Figure size 432x288 with 2 Axes>"
            ]
          },
          "metadata": {
            "needs_background": "light"
          },
          "output_type": "display_data"
        }
      ],
      "source": [
        "cm = confusion_matrix(y_test, predictions)\n",
        "\n",
        "# plot the confusion matrix\n",
        "disp = ConfusionMatrixDisplay(cm, display_labels=np.unique(y_test))\n",
        "disp.plot()\n",
        "plt.show()"
      ]
    },
    {
      "attachments": {},
      "cell_type": "markdown",
      "id": "WCamUH2UJUK5",
      "metadata": {
        "id": "WCamUH2UJUK5"
      },
      "source": [
        "## Árbol de decisión"
      ]
    },
    {
      "cell_type": "code",
      "execution_count": 26,
      "id": "iC4DK_g8JUK7",
      "metadata": {
        "colab": {
          "base_uri": "https://localhost:8080/"
        },
        "id": "iC4DK_g8JUK7",
        "outputId": "90e0c9fe-14ae-49ca-c0f0-7aa40188c696"
      },
      "outputs": [
        {
          "name": "stdout",
          "output_type": "stream",
          "text": [
            "Tiempo de entrenamiento:  29.573174715042114\n"
          ]
        }
      ],
      "source": [
        "start = time.time()\n",
        "ClasificacionAD = DecisionTreeClassifier(criterion='gini',random_state=0)\n",
        "ClasificacionAD.fit(X_train_bow, y_train)\n",
        "print(\"Tiempo de entrenamiento: \", time.time()-start)"
      ]
    },
    {
      "cell_type": "code",
      "execution_count": 27,
      "id": "JZqAvdyxJUK7",
      "metadata": {
        "colab": {
          "base_uri": "https://localhost:8080/"
        },
        "id": "JZqAvdyxJUK7",
        "outputId": "92e35997-97a8-4eeb-8e85-d2390083c620"
      },
      "outputs": [
        {
          "name": "stdout",
          "output_type": "stream",
          "text": [
            "Tiempo de predicción:  0.018465757369995117\n"
          ]
        }
      ],
      "source": [
        "start = time.time()\n",
        "Y_ClasificacionAD = ClasificacionAD.predict(X_test_bow)\n",
        "print(\"Tiempo de predicción: \", time.time()-start)\n"
      ]
    },
    {
      "cell_type": "code",
      "execution_count": 28,
      "id": "lNQU5dZyJUK8",
      "metadata": {
        "colab": {
          "base_uri": "https://localhost:8080/"
        },
        "id": "lNQU5dZyJUK8",
        "outputId": "bf33730c-f278-4395-939a-c63c0bab9fde"
      },
      "outputs": [
        {
          "name": "stdout",
          "output_type": "stream",
          "text": [
            "[0 1 0 ... 1 1 0]\n",
            "              precision    recall  f1-score   support\n",
            "\n",
            "           0       0.71      0.69      0.70      3085\n",
            "           1       0.71      0.72      0.71      3165\n",
            "\n",
            "    accuracy                           0.71      6250\n",
            "   macro avg       0.71      0.71      0.71      6250\n",
            "weighted avg       0.71      0.71      0.71      6250\n",
            "\n"
          ]
        }
      ],
      "source": [
        "print(Y_ClasificacionAD)\n",
        "print(classification_report(y_test, Y_ClasificacionAD))"
      ]
    },
    {
      "cell_type": "code",
      "execution_count": 29,
      "id": "wYTpNun4JUK8",
      "metadata": {
        "colab": {
          "base_uri": "https://localhost:8080/",
          "height": 279
        },
        "id": "wYTpNun4JUK8",
        "outputId": "01caeaff-5770-43cf-9792-2d6c5fb67c38"
      },
      "outputs": [
        {
          "data": {
            "image/png": "[encoded data removed]",
            "text/plain": [
              "<Figure size 432x288 with 2 Axes>"
            ]
          },
          "metadata": {
            "needs_background": "light"
          },
          "output_type": "display_data"
        }
      ],
      "source": [
        "cm = confusion_matrix(y_test, Y_ClasificacionAD)\n",
        "\n",
        "# plot the confusion matrix\n",
        "disp = ConfusionMatrixDisplay(cm, display_labels=np.unique(Y_ClasificacionAD))\n",
        "disp.plot()\n",
        "plt.show()"
      ]
    },
    {
      "attachments": {},
      "cell_type": "markdown",
      "id": "PXnPDLUgJUK9",
      "metadata": {
        "id": "PXnPDLUgJUK9"
      },
      "source": [
        "## Máquina de soporte vectorial"
      ]
    },
    {
      "cell_type": "code",
      "execution_count": 30,
      "id": "lzhua-j-JUK9",
      "metadata": {
        "id": "lzhua-j-JUK9"
      },
      "outputs": [
        {
          "name": "stdout",
          "output_type": "stream",
          "text": [
            "Tiempo de entrenamiento:  894.7913243770599\n"
          ]
        }
      ],
      "source": [
        "start = time.time()\n",
        "ModeloSVM_1 = SVC(kernel='linear')\n",
        "ModeloSVM_1.fit(X_train_bow, y_train)\n",
        "print(\"Tiempo de entrenamiento: \",time.time()-start)"
      ]
    },
    {
      "cell_type": "code",
      "execution_count": 31,
      "id": "8YwLCBHUJUK-",
      "metadata": {
        "id": "8YwLCBHUJUK-"
      },
      "outputs": [
        {
          "name": "stdout",
          "output_type": "stream",
          "text": [
            "Tiempo de predicción:  58.589280128479004\n",
            "[1 0 0 ... 0 1 1]\n",
            "Exactitud 0.8632\n",
            "              precision    recall  f1-score   support\n",
            "\n",
            "           0       0.86      0.86      0.86      3085\n",
            "           1       0.86      0.87      0.87      3165\n",
            "\n",
            "    accuracy                           0.86      6250\n",
            "   macro avg       0.86      0.86      0.86      6250\n",
            "weighted avg       0.86      0.86      0.86      6250\n",
            "\n",
            "Número de vectores de soporte: \n",
            " [3214 3321]\n",
            "Vectores de soporte: \n",
            " [    1    21    25 ... 18742 18745 18749]\n"
          ]
        }
      ],
      "source": [
        "start = time.time()\n",
        "Clasificaciones_1 = ModeloSVM_1.predict(X_test_bow)\n",
        "print(\"Tiempo de predicción: \",time.time()-start)\n",
        "print(Clasificaciones_1)\n",
        "\n",
        "#pd.DataFrame(Clasificaciones_1)\n",
        "\n",
        "Clasificaciones = pd.DataFrame(y_test, Clasificaciones_1)\n",
        "Clasificaciones\n",
        "\n",
        "#Se calcula la exactitud promedio de la validación\n",
        "ModeloSVM_1.score(X_test_bow, y_test)\n",
        "\n",
        "#### **Validación del modelo**\n",
        "\n",
        "#Matriz de clasificación\n",
        "Clasificaciones_1 = ModeloSVM_1.predict(X_test_bow)\n",
        "Matriz_Clasificacion = pd.crosstab(y_test.ravel(), \n",
        "                                   Clasificaciones_1, \n",
        "                                   rownames=['Real'], \n",
        "                                   colnames=['Clasificación']) \n",
        "Matriz_Clasificacion\n",
        "\n",
        "\n",
        "#Reporte de la clasificación\n",
        "print(\"Exactitud\", ModeloSVM_1.score(X_test_bow, y_test))\n",
        "print(classification_report(y_test, Clasificaciones_1))\n",
        "\n",
        "VectoresSoporte_1 = ModeloSVM_1.support_vectors_\n",
        "pd.DataFrame(VectoresSoporte_1)\n",
        "\n",
        "#Vectores de soporte\n",
        "print('Número de vectores de soporte: \\n', ModeloSVM_1.n_support_)\n",
        "print('Vectores de soporte: \\n', ModeloSVM_1.support_)\n"
      ]
    },
    {
      "cell_type": "code",
      "execution_count": 32,
      "id": "KrkFq7IQOYPP",
      "metadata": {
        "id": "KrkFq7IQOYPP"
      },
      "outputs": [
        {
          "data": {
            "image/png": "[encoded data removed]",
            "text/plain": [
              "<Figure size 432x288 with 2 Axes>"
            ]
          },
          "metadata": {
            "needs_background": "light"
          },
          "output_type": "display_data"
        }
      ],
      "source": [
        "cm = confusion_matrix(y_test, Clasificaciones_1)\n",
        "\n",
        "# plot the confusion matrix\n",
        "disp = ConfusionMatrixDisplay(cm, display_labels=np.unique(Clasificaciones_1))\n",
        "disp.plot()\n",
        "plt.show()"
      ]
    },
    {
      "attachments": {},
      "cell_type": "markdown",
      "id": "3IqN-zunFOgU",
      "metadata": {
        "id": "3IqN-zunFOgU"
      },
      "source": [
        "# BOW + stemming + eliminando stopwords"
      ]
    },
    {
      "cell_type": "code",
      "execution_count": 33,
      "id": "Okbr8532HcWI",
      "metadata": {
        "colab": {
          "base_uri": "https://localhost:8080/",
          "height": 0
        },
        "id": "Okbr8532HcWI",
        "outputId": "f02215aa-a2c2-446e-d903-3d397531d0c8"
      },
      "outputs": [
        {
          "name": "stderr",
          "output_type": "stream",
          "text": [
            "[nltk_data] Downloading package punkt to\n",
            "[nltk_data]     C:\\Users\\rodol\\AppData\\Roaming\\nltk_data...\n",
            "[nltk_data]   Package punkt is already up-to-date!\n"
          ]
        }
      ],
      "source": [
        "import nltk\n",
        "nltk.download('punkt')\n",
        "from nltk.stem import PorterStemmer\n",
        "from nltk.tokenize import word_tokenize\n",
        "from nltk.corpus import stopwords\n",
        "\n",
        "ps = PorterStemmer ()\n",
        "\n",
        "\n",
        "def stem_w(text):  #funcion obtenida de chatGPT\n",
        "  words = nltk.word_tokenize(text)\n",
        "  stemmed_words = [ps.stem(word) for word in words]\n",
        "  return ' '.join(stemmed_words) \n",
        "\n",
        "\n",
        "df_movies['stemmed_clean_text'] = df_movies['clean_text'].apply(stem_w)\n",
        "        "
      ]
    },
    {
      "cell_type": "code",
      "execution_count": 34,
      "id": "Up39xSprPPOl",
      "metadata": {
        "id": "Up39xSprPPOl"
      },
      "outputs": [],
      "source": [
        "from sklearn.feature_extraction.text import CountVectorizer #bolsa de palabras y pasamos las stop words. \n",
        "\n",
        "X = df_movies['stemmed_clean_text'].values\n",
        "y = df_movies['Clasification'].values\n",
        "\n",
        "X_train, X_test, y_train, y_test = train_test_split(X, y, test_size = 0.25, random_state = 123)\n",
        "vector = CountVectorizer(stop_words = 'english') #Stopwords\n",
        "\n",
        "X_train_bow = vector.fit_transform(X_train)\n",
        "X_test_bow = vector.transform(X_test)"
      ]
    },
    {
      "cell_type": "code",
      "execution_count": 35,
      "id": "upRbsfINPPOn",
      "metadata": {
        "colab": {
          "base_uri": "https://localhost:8080/",
          "height": 0
        },
        "id": "upRbsfINPPOn",
        "outputId": "573aba95-ff5f-43a0-9859-a99410858018"
      },
      "outputs": [
        {
          "data": {
            "text/plain": [
              "((18750, 78270), (6250, 78270))"
            ]
          },
          "execution_count": 35,
          "metadata": {},
          "output_type": "execute_result"
        }
      ],
      "source": [
        "X_train_bow.shape, X_test_bow.shape"
      ]
    },
    {
      "attachments": {},
      "cell_type": "markdown",
      "id": "3akpmz5bJmO7",
      "metadata": {
        "id": "3akpmz5bJmO7"
      },
      "source": [
        "## Naives Bayes"
      ]
    },
    {
      "cell_type": "code",
      "execution_count": 36,
      "id": "4eikRXkXJmO8",
      "metadata": {
        "colab": {
          "base_uri": "https://localhost:8080/"
        },
        "id": "4eikRXkXJmO8",
        "outputId": "d3c49213-5765-471f-9035-ea683a9f1e97"
      },
      "outputs": [
        {
          "name": "stdout",
          "output_type": "stream",
          "text": [
            "Tiempo de entrenamiento:  0.03199291229248047\n",
            "Tiempo de prediccción:  0.006984710693359375\n"
          ]
        }
      ],
      "source": [
        "start = time.time()\n",
        "bayes_pred = MultinomialNB()\n",
        "bayes_pred.fit(X_train_bow, y_train)\n",
        "print(\"Tiempo de entrenamiento: \",time.time()-start)\n",
        "\n",
        "\n",
        "start = time.time()\n",
        "predictions = bayes_pred.predict(X_test_bow)\n",
        "print(\"Tiempo de prediccción: \",time.time()-start)"
      ]
    },
    {
      "cell_type": "code",
      "execution_count": 37,
      "id": "ShHo7Ed6JmO9",
      "metadata": {
        "colab": {
          "base_uri": "https://localhost:8080/"
        },
        "id": "ShHo7Ed6JmO9",
        "outputId": "3a966de1-fd5e-43d9-bf51-e78ed27a7e8c"
      },
      "outputs": [
        {
          "name": "stdout",
          "output_type": "stream",
          "text": [
            "              precision    recall  f1-score   support\n",
            "\n",
            "           0       0.83      0.87      0.85      3085\n",
            "           1       0.87      0.82      0.84      3165\n",
            "\n",
            "    accuracy                           0.85      6250\n",
            "   macro avg       0.85      0.85      0.85      6250\n",
            "weighted avg       0.85      0.85      0.85      6250\n",
            "\n"
          ]
        }
      ],
      "source": [
        "print(classification_report(y_test, predictions))"
      ]
    },
    {
      "cell_type": "code",
      "execution_count": 38,
      "id": "xtNKjoGVJmO-",
      "metadata": {
        "colab": {
          "base_uri": "https://localhost:8080/",
          "height": 279
        },
        "id": "xtNKjoGVJmO-",
        "outputId": "660f4ee6-3744-4761-cea0-db3b4de320d7"
      },
      "outputs": [
        {
          "data": {
            "image/png": "[encoded data removed]",
            "text/plain": [
              "<Figure size 432x288 with 2 Axes>"
            ]
          },
          "metadata": {
            "needs_background": "light"
          },
          "output_type": "display_data"
        }
      ],
      "source": [
        "cm = confusion_matrix(y_test, predictions)\n",
        "\n",
        "# plot the confusion matrix\n",
        "disp = ConfusionMatrixDisplay(cm, display_labels=np.unique(y_test))\n",
        "disp.plot()\n",
        "plt.show()"
      ]
    },
    {
      "attachments": {},
      "cell_type": "markdown",
      "id": "WcYdylUXJmO-",
      "metadata": {
        "id": "WcYdylUXJmO-"
      },
      "source": [
        "## Árbol de decisión"
      ]
    },
    {
      "cell_type": "code",
      "execution_count": 39,
      "id": "koHieY88JmO_",
      "metadata": {
        "colab": {
          "base_uri": "https://localhost:8080/"
        },
        "id": "koHieY88JmO_",
        "outputId": "90e0c9fe-14ae-49ca-c0f0-7aa40188c696"
      },
      "outputs": [
        {
          "name": "stdout",
          "output_type": "stream",
          "text": [
            "Tiempo de entrenamiento:  15.702741861343384\n"
          ]
        }
      ],
      "source": [
        "\n",
        "start = time.time()\n",
        "ClasificacionAD = DecisionTreeClassifier(criterion='gini',random_state=0)\n",
        "ClasificacionAD.fit(X_train_bow, y_train)\n",
        "print(\"Tiempo de entrenamiento: \", time.time()-start)"
      ]
    },
    {
      "cell_type": "code",
      "execution_count": 40,
      "id": "P0uki7rEJmO_",
      "metadata": {
        "colab": {
          "base_uri": "https://localhost:8080/"
        },
        "id": "P0uki7rEJmO_",
        "outputId": "92e35997-97a8-4eeb-8e85-d2390083c620"
      },
      "outputs": [
        {
          "name": "stdout",
          "output_type": "stream",
          "text": [
            "Tiempo de predicción:  0.01851034164428711\n"
          ]
        }
      ],
      "source": [
        "start = time.time()\n",
        "Y_ClasificacionAD = ClasificacionAD.predict(X_test_bow)\n",
        "print(\"Tiempo de predicción: \", time.time()-start)\n"
      ]
    },
    {
      "cell_type": "code",
      "execution_count": 41,
      "id": "uXSr9ZfnJmPA",
      "metadata": {
        "colab": {
          "base_uri": "https://localhost:8080/"
        },
        "id": "uXSr9ZfnJmPA",
        "outputId": "bf33730c-f278-4395-939a-c63c0bab9fde"
      },
      "outputs": [
        {
          "name": "stdout",
          "output_type": "stream",
          "text": [
            "[1 0 0 ... 1 1 1]\n",
            "              precision    recall  f1-score   support\n",
            "\n",
            "           0       0.71      0.72      0.71      3085\n",
            "           1       0.72      0.71      0.72      3165\n",
            "\n",
            "    accuracy                           0.71      6250\n",
            "   macro avg       0.71      0.71      0.71      6250\n",
            "weighted avg       0.71      0.71      0.71      6250\n",
            "\n"
          ]
        }
      ],
      "source": [
        "print(Y_ClasificacionAD)\n",
        "print(classification_report(y_test, Y_ClasificacionAD))"
      ]
    },
    {
      "cell_type": "code",
      "execution_count": 42,
      "id": "xWx9wMYnJmPB",
      "metadata": {
        "colab": {
          "base_uri": "https://localhost:8080/",
          "height": 279
        },
        "id": "xWx9wMYnJmPB",
        "outputId": "01caeaff-5770-43cf-9792-2d6c5fb67c38"
      },
      "outputs": [
        {
          "data": {
            "image/png": "[encoded data removed]",
            "text/plain": [
              "<Figure size 432x288 with 2 Axes>"
            ]
          },
          "metadata": {
            "needs_background": "light"
          },
          "output_type": "display_data"
        }
      ],
      "source": [
        "cm = confusion_matrix(y_test, Y_ClasificacionAD)\n",
        "\n",
        "# plot the confusion matrix\n",
        "disp = ConfusionMatrixDisplay(cm, display_labels=np.unique(Y_ClasificacionAD))\n",
        "disp.plot()\n",
        "plt.show()"
      ]
    },
    {
      "attachments": {},
      "cell_type": "markdown",
      "id": "z49zU3tdJmPC",
      "metadata": {
        "id": "z49zU3tdJmPC"
      },
      "source": [
        "## Máquina de soporte vectorial"
      ]
    },
    {
      "cell_type": "code",
      "execution_count": 43,
      "id": "-hLlfVrkJmPC",
      "metadata": {
        "id": "-hLlfVrkJmPC"
      },
      "outputs": [
        {
          "name": "stdout",
          "output_type": "stream",
          "text": [
            "Tiempo de entrenamiento:  466.5662717819214\n"
          ]
        }
      ],
      "source": [
        "start = time.time()\n",
        "ModeloSVM_1 = SVC(kernel='linear')\n",
        "ModeloSVM_1.fit(X_train_bow, y_train)\n",
        "print(\"Tiempo de entrenamiento: \",time.time()-start)"
      ]
    },
    {
      "cell_type": "code",
      "execution_count": 44,
      "id": "fi7eL6eXJmPE",
      "metadata": {
        "id": "fi7eL6eXJmPE"
      },
      "outputs": [
        {
          "name": "stdout",
          "output_type": "stream",
          "text": [
            "Tiempo de predicción:  29.143553018569946\n",
            "[1 1 0 ... 1 1 1]\n",
            "Exactitud 0.84912\n",
            "              precision    recall  f1-score   support\n",
            "\n",
            "           0       0.85      0.84      0.85      3085\n",
            "           1       0.84      0.86      0.85      3165\n",
            "\n",
            "    accuracy                           0.85      6250\n",
            "   macro avg       0.85      0.85      0.85      6250\n",
            "weighted avg       0.85      0.85      0.85      6250\n",
            "\n",
            "Número de vectores de soporte: \n",
            " [3067 3197]\n",
            "Vectores de soporte: \n",
            " [    1     7    21 ... 18743 18745 18749]\n"
          ]
        }
      ],
      "source": [
        "start = time.time()\n",
        "Clasificaciones_1 = ModeloSVM_1.predict(X_test_bow)\n",
        "print(\"Tiempo de predicción: \",time.time()-start)\n",
        "print(Clasificaciones_1)\n",
        "\n",
        "#pd.DataFrame(Clasificaciones_1)\n",
        "\n",
        "Clasificaciones = pd.DataFrame(y_test, Clasificaciones_1)\n",
        "Clasificaciones\n",
        "\n",
        "#Se calcula la exactitud promedio de la validación\n",
        "ModeloSVM_1.score(X_test_bow, y_test)\n",
        "\n",
        "#### **Validación del modelo**\n",
        "\n",
        "#Matriz de clasificación\n",
        "Clasificaciones_1 = ModeloSVM_1.predict(X_test_bow)\n",
        "Matriz_Clasificacion = pd.crosstab(y_test.ravel(), \n",
        "                                   Clasificaciones_1, \n",
        "                                   rownames=['Real'], \n",
        "                                   colnames=['Clasificación']) \n",
        "Matriz_Clasificacion\n",
        "\n",
        "\n",
        "#Reporte de la clasificación\n",
        "print(\"Exactitud\", ModeloSVM_1.score(X_test_bow, y_test))\n",
        "print(classification_report(y_test, Clasificaciones_1))\n",
        "\n",
        "VectoresSoporte_1 = ModeloSVM_1.support_vectors_\n",
        "pd.DataFrame(VectoresSoporte_1)\n",
        "\n",
        "#Vectores de soporte\n",
        "print('Número de vectores de soporte: \\n', ModeloSVM_1.n_support_)\n",
        "print('Vectores de soporte: \\n', ModeloSVM_1.support_)\n"
      ]
    },
    {
      "cell_type": "code",
      "execution_count": 45,
      "id": "g9SMhSbKOaR8",
      "metadata": {
        "id": "g9SMhSbKOaR8"
      },
      "outputs": [
        {
          "data": {
            "image/png": "[encoded data removed]",
            "text/plain": [
              "<Figure size 432x288 with 2 Axes>"
            ]
          },
          "metadata": {
            "needs_background": "light"
          },
          "output_type": "display_data"
        }
      ],
      "source": [
        "cm = confusion_matrix(y_test, Clasificaciones_1)\n",
        "\n",
        "# plot the confusion matrix\n",
        "disp = ConfusionMatrixDisplay(cm, display_labels=np.unique(Clasificaciones_1))\n",
        "disp.plot()\n",
        "plt.show()"
      ]
    },
    {
      "attachments": {},
      "cell_type": "markdown",
      "id": "EF5lyVRUFYEx",
      "metadata": {
        "id": "EF5lyVRUFYEx"
      },
      "source": [
        "# BOW + lematización + eliminando stopwords"
      ]
    },
    {
      "cell_type": "code",
      "execution_count": 46,
      "id": "R0p3lXgELRj_",
      "metadata": {
        "id": "R0p3lXgELRj_"
      },
      "outputs": [
        {
          "name": "stderr",
          "output_type": "stream",
          "text": [
            "[nltk_data] Downloading package wordnet to\n",
            "[nltk_data]     C:\\Users\\rodol\\AppData\\Roaming\\nltk_data...\n"
          ]
        },
        {
          "name": "stdout",
          "output_type": "stream",
          "text": [
            "                                          Informacion  Clasification  \\\n",
            "0   Story of a man who has unnatural feelings for ...              0   \n",
            "0   Airport '77 starts as a brand new luxury 747 p...              0   \n",
            "0   This film lacked something I couldn't put my f...              0   \n",
            "0   Sorry everyone,,, I know this is supposed to b...              0   \n",
            "0   When I was little my parents took me along to ...              0   \n",
            "..                                                ...            ...   \n",
            "0   Seeing as the vote average was pretty low, and...              1   \n",
            "0   The plot had some wretched, unbelievable twist...              1   \n",
            "0   I am amazed at how this movie(and most others ...              1   \n",
            "0   A Christmas Together actually came before my t...              1   \n",
            "0   Working-class romantic drama from director Mar...              1   \n",
            "\n",
            "                                           clean_text  \\\n",
            "0   story of a man who has unnatural feelings for ...   \n",
            "0   airport 77 starts as a brand new luxury 747 pl...   \n",
            "0   this film lacked something i couldnt put my fi...   \n",
            "0   sorry everyone i know this is supposed to be a...   \n",
            "0   when i was little my parents took me along to ...   \n",
            "..                                                ...   \n",
            "0   seeing as the vote average was pretty low and ...   \n",
            "0   the plot had some wretched unbelievable twists...   \n",
            "0   i am amazed at how this movieand most others h...   \n",
            "0   a christmas together actually came before my t...   \n",
            "0   workingclass romantic drama from director mart...   \n",
            "\n",
            "                                   stemmed_clean_text  \\\n",
            "0   stori of a man who ha unnatur feel for a pig s...   \n",
            "0   airport 77 start as a brand new luxuri 747 pla...   \n",
            "0   thi film lack someth i couldnt put my finger o...   \n",
            "0   sorri everyon i know thi is suppos to be an ar...   \n",
            "0   when i wa littl my parent took me along to the...   \n",
            "..                                                ...   \n",
            "0   see as the vote averag wa pretti low and the f...   \n",
            "0   the plot had some wretch unbeliev twist howev ...   \n",
            "0   i am amaz at how thi movieand most other ha a ...   \n",
            "0   a christma togeth actual came befor my time bu...   \n",
            "0   workingclass romant drama from director martin...   \n",
            "\n",
            "                                       lem_clean_text  \n",
            "0   story of a man who have unnatural feel for a p...  \n",
            "0   airport 77 start as a brand new luxury 747 pla...  \n",
            "0   this film lack something i couldnt put my fing...  \n",
            "0   sorry everyone i know this be suppose to be an...  \n",
            "0   when i be little my parent take me along to th...  \n",
            "..                                                ...  \n",
            "0   see as the vote average be pretty low and the ...  \n",
            "0   the plot have some wretched unbelievable twist...  \n",
            "0   i be amaze at how this movieand most others ha...  \n",
            "0   a christmas together actually come before my t...  \n",
            "0   workingclass romantic drama from director mart...  \n",
            "\n",
            "[25000 rows x 5 columns]\n"
          ]
        }
      ],
      "source": [
        "from nltk.stem import WordNetLemmatizer\n",
        "from nltk.tokenize import word_tokenize\n",
        "nltk.download('wordnet')\n",
        "from nltk.corpus import stopwords\n",
        "\n",
        "lemmatizer = WordNetLemmatizer()\n",
        "\n",
        "\n",
        "def lemmatize_words(text):  #funcion obtenida con chatgpt\n",
        "    words = word_tokenize(text)\n",
        "    lemmatized_words = [lemmatizer.lemmatize(word, pos='v') for word in words]\n",
        "    return ' '.join(lemmatized_words)\n",
        "\n",
        "\n",
        "df_movies['lem_clean_text'] = df_movies['clean_text'].apply(lemmatize_words)\n",
        "\n",
        "print(df_movies)"
      ]
    },
    {
      "cell_type": "code",
      "execution_count": 47,
      "id": "QkPGyMQnPqF1",
      "metadata": {
        "id": "QkPGyMQnPqF1"
      },
      "outputs": [],
      "source": [
        "from sklearn.feature_extraction.text import CountVectorizer #bolsa de palabras y pasamos las stop words. \n",
        "\n",
        "X = df_movies['lem_clean_text'].values\n",
        "y = df_movies['Clasification'].values\n",
        "\n",
        "X_train, X_test, y_train, y_test = train_test_split(X, y, test_size = 0.25, random_state = 123)\n",
        "vector = CountVectorizer(stop_words = 'english') #Stopwords\n",
        "\n",
        "X_train_bow = vector.fit_transform(X_train)\n",
        "X_test_bow = vector.transform(X_test)"
      ]
    },
    {
      "cell_type": "code",
      "execution_count": 48,
      "id": "D7nXLSLpPqF3",
      "metadata": {
        "colab": {
          "base_uri": "https://localhost:8080/"
        },
        "id": "D7nXLSLpPqF3",
        "outputId": "c7458e5f-4d4b-465c-a97c-2ebe3a5aefb9"
      },
      "outputs": [
        {
          "data": {
            "text/plain": [
              "((18750, 93027), (6250, 93027))"
            ]
          },
          "execution_count": 48,
          "metadata": {},
          "output_type": "execute_result"
        }
      ],
      "source": [
        "X_train_bow.shape, X_test_bow.shape"
      ]
    },
    {
      "attachments": {},
      "cell_type": "markdown",
      "id": "VK8kNSo0JsuZ",
      "metadata": {
        "id": "VK8kNSo0JsuZ"
      },
      "source": [
        "## Naives Bayes"
      ]
    },
    {
      "cell_type": "code",
      "execution_count": 49,
      "id": "EfCkuCQjJsua",
      "metadata": {
        "colab": {
          "base_uri": "https://localhost:8080/"
        },
        "id": "EfCkuCQjJsua",
        "outputId": "d3c49213-5765-471f-9035-ea683a9f1e97"
      },
      "outputs": [
        {
          "name": "stdout",
          "output_type": "stream",
          "text": [
            "Tiempo de entrenamiento:  0.03697991371154785\n",
            "Tiempo de prediccción:  0.007977485656738281\n"
          ]
        }
      ],
      "source": [
        "start = time.time()\n",
        "bayes_pred = MultinomialNB()\n",
        "bayes_pred.fit(X_train_bow, y_train)\n",
        "print(\"Tiempo de entrenamiento: \",time.time()-start)\n",
        "\n",
        "\n",
        "start = time.time()\n",
        "predictions = bayes_pred.predict(X_test_bow)\n",
        "print(\"Tiempo de prediccción: \",time.time()-start)"
      ]
    },
    {
      "cell_type": "code",
      "execution_count": 50,
      "id": "ACJ_3EIWJsuc",
      "metadata": {
        "colab": {
          "base_uri": "https://localhost:8080/"
        },
        "id": "ACJ_3EIWJsuc",
        "outputId": "3a966de1-fd5e-43d9-bf51-e78ed27a7e8c"
      },
      "outputs": [
        {
          "name": "stdout",
          "output_type": "stream",
          "text": [
            "              precision    recall  f1-score   support\n",
            "\n",
            "           0       0.83      0.87      0.85      3085\n",
            "           1       0.87      0.83      0.85      3165\n",
            "\n",
            "    accuracy                           0.85      6250\n",
            "   macro avg       0.85      0.85      0.85      6250\n",
            "weighted avg       0.85      0.85      0.85      6250\n",
            "\n"
          ]
        }
      ],
      "source": [
        "print(classification_report(y_test, predictions))"
      ]
    },
    {
      "cell_type": "code",
      "execution_count": 51,
      "id": "7ebUrUGUJsuc",
      "metadata": {
        "colab": {
          "base_uri": "https://localhost:8080/",
          "height": 279
        },
        "id": "7ebUrUGUJsuc",
        "outputId": "660f4ee6-3744-4761-cea0-db3b4de320d7"
      },
      "outputs": [
        {
          "data": {
            "image/png": "[encoded data removed]",
            "text/plain": [
              "<Figure size 432x288 with 2 Axes>"
            ]
          },
          "metadata": {
            "needs_background": "light"
          },
          "output_type": "display_data"
        }
      ],
      "source": [
        "cm = confusion_matrix(y_test, predictions)\n",
        "\n",
        "# plot the confusion matrix\n",
        "disp = ConfusionMatrixDisplay(cm, display_labels=np.unique(y_test))\n",
        "disp.plot()\n",
        "plt.show()"
      ]
    },
    {
      "attachments": {},
      "cell_type": "markdown",
      "id": "N4Dp_y3dJsud",
      "metadata": {
        "id": "N4Dp_y3dJsud"
      },
      "source": [
        "## Árbol de decisión"
      ]
    },
    {
      "cell_type": "code",
      "execution_count": 52,
      "id": "jI-8dxzOJsuf",
      "metadata": {
        "colab": {
          "base_uri": "https://localhost:8080/"
        },
        "id": "jI-8dxzOJsuf",
        "outputId": "90e0c9fe-14ae-49ca-c0f0-7aa40188c696"
      },
      "outputs": [
        {
          "name": "stdout",
          "output_type": "stream",
          "text": [
            "Tiempo de entrenamiento:  19.603138208389282\n"
          ]
        }
      ],
      "source": [
        "start = time.time()\n",
        "ClasificacionAD = DecisionTreeClassifier(criterion='gini',random_state=0)\n",
        "ClasificacionAD.fit(X_train_bow, y_train)\n",
        "print(\"Tiempo de entrenamiento: \", time.time()-start)"
      ]
    },
    {
      "cell_type": "code",
      "execution_count": 53,
      "id": "5op8mCf0Jsuh",
      "metadata": {
        "colab": {
          "base_uri": "https://localhost:8080/"
        },
        "id": "5op8mCf0Jsuh",
        "outputId": "92e35997-97a8-4eeb-8e85-d2390083c620"
      },
      "outputs": [
        {
          "name": "stdout",
          "output_type": "stream",
          "text": [
            "Tiempo de predicción:  0.010039091110229492\n"
          ]
        }
      ],
      "source": [
        "start = time.time()\n",
        "Y_ClasificacionAD = ClasificacionAD.predict(X_test_bow)\n",
        "print(\"Tiempo de predicción: \", time.time()-start)\n"
      ]
    },
    {
      "cell_type": "code",
      "execution_count": 54,
      "id": "mEFpNR2AJsui",
      "metadata": {
        "colab": {
          "base_uri": "https://localhost:8080/"
        },
        "id": "mEFpNR2AJsui",
        "outputId": "bf33730c-f278-4395-939a-c63c0bab9fde"
      },
      "outputs": [
        {
          "name": "stdout",
          "output_type": "stream",
          "text": [
            "[1 0 0 ... 1 1 1]\n",
            "              precision    recall  f1-score   support\n",
            "\n",
            "           0       0.71      0.72      0.72      3085\n",
            "           1       0.73      0.72      0.72      3165\n",
            "\n",
            "    accuracy                           0.72      6250\n",
            "   macro avg       0.72      0.72      0.72      6250\n",
            "weighted avg       0.72      0.72      0.72      6250\n",
            "\n"
          ]
        }
      ],
      "source": [
        "print(Y_ClasificacionAD)\n",
        "print(classification_report(y_test, Y_ClasificacionAD))"
      ]
    },
    {
      "cell_type": "code",
      "execution_count": 55,
      "id": "1V803mwYJsuj",
      "metadata": {
        "colab": {
          "base_uri": "https://localhost:8080/",
          "height": 279
        },
        "id": "1V803mwYJsuj",
        "outputId": "01caeaff-5770-43cf-9792-2d6c5fb67c38"
      },
      "outputs": [
        {
          "data": {
            "image/png": "[encoded data removed]",
            "text/plain": [
              "<Figure size 432x288 with 2 Axes>"
            ]
          },
          "metadata": {
            "needs_background": "light"
          },
          "output_type": "display_data"
        }
      ],
      "source": [
        "cm = confusion_matrix(y_test, Y_ClasificacionAD)\n",
        "\n",
        "# plot the confusion matrix\n",
        "disp = ConfusionMatrixDisplay(cm, display_labels=np.unique(Y_ClasificacionAD))\n",
        "disp.plot()\n",
        "plt.show()"
      ]
    },
    {
      "attachments": {},
      "cell_type": "markdown",
      "id": "vvlzLEc9Jsuk",
      "metadata": {
        "id": "vvlzLEc9Jsuk"
      },
      "source": [
        "## Máquina de soporte vectorial"
      ]
    },
    {
      "cell_type": "code",
      "execution_count": 56,
      "id": "AIcuf-3DJsul",
      "metadata": {
        "id": "AIcuf-3DJsul"
      },
      "outputs": [
        {
          "name": "stdout",
          "output_type": "stream",
          "text": [
            "Tiempo de entrenamiento:  437.948148727417\n"
          ]
        }
      ],
      "source": [
        "start = time.time()\n",
        "ModeloSVM_1 = SVC(kernel='linear')\n",
        "ModeloSVM_1.fit(X_train_bow, y_train)\n",
        "print(\"Tiempo de entrenamiento: \",time.time()-start)"
      ]
    },
    {
      "cell_type": "code",
      "execution_count": 57,
      "id": "HRzXFQUoJsum",
      "metadata": {
        "id": "HRzXFQUoJsum"
      },
      "outputs": [
        {
          "name": "stdout",
          "output_type": "stream",
          "text": [
            "Tiempo de predicción:  28.229917526245117\n",
            "[1 1 0 ... 1 1 1]\n",
            "Exactitud 0.85376\n",
            "              precision    recall  f1-score   support\n",
            "\n",
            "           0       0.86      0.85      0.85      3085\n",
            "           1       0.85      0.86      0.86      3165\n",
            "\n",
            "    accuracy                           0.85      6250\n",
            "   macro avg       0.85      0.85      0.85      6250\n",
            "weighted avg       0.85      0.85      0.85      6250\n",
            "\n",
            "Número de vectores de soporte: \n",
            " [3246 3328]\n",
            "Vectores de soporte: \n",
            " [    1    16    21 ... 18738 18743 18749]\n"
          ]
        }
      ],
      "source": [
        "start = time.time()\n",
        "Clasificaciones_1 = ModeloSVM_1.predict(X_test_bow)\n",
        "print(\"Tiempo de predicción: \",time.time()-start)\n",
        "print(Clasificaciones_1)\n",
        "\n",
        "#pd.DataFrame(Clasificaciones_1)\n",
        "\n",
        "Clasificaciones = pd.DataFrame(y_test, Clasificaciones_1)\n",
        "Clasificaciones\n",
        "\n",
        "#Se calcula la exactitud promedio de la validación\n",
        "ModeloSVM_1.score(X_test_bow, y_test)\n",
        "\n",
        "#### **Validación del modelo**\n",
        "\n",
        "#Matriz de clasificación\n",
        "Clasificaciones_1 = ModeloSVM_1.predict(X_test_bow)\n",
        "Matriz_Clasificacion = pd.crosstab(y_test.ravel(), \n",
        "                                   Clasificaciones_1, \n",
        "                                   rownames=['Real'], \n",
        "                                   colnames=['Clasificación']) \n",
        "Matriz_Clasificacion\n",
        "\n",
        "\n",
        "#Reporte de la clasificación\n",
        "print(\"Exactitud\", ModeloSVM_1.score(X_test_bow, y_test))\n",
        "print(classification_report(y_test, Clasificaciones_1))\n",
        "\n",
        "VectoresSoporte_1 = ModeloSVM_1.support_vectors_\n",
        "pd.DataFrame(VectoresSoporte_1)\n",
        "\n",
        "#Vectores de soporte\n",
        "print('Número de vectores de soporte: \\n', ModeloSVM_1.n_support_)\n",
        "print('Vectores de soporte: \\n', ModeloSVM_1.support_)\n"
      ]
    },
    {
      "cell_type": "code",
      "execution_count": 58,
      "id": "WVKfM_CMOb3E",
      "metadata": {
        "id": "WVKfM_CMOb3E"
      },
      "outputs": [
        {
          "data": {
            "image/png": "[encoded data removed]",
            "text/plain": [
              "<Figure size 432x288 with 2 Axes>"
            ]
          },
          "metadata": {
            "needs_background": "light"
          },
          "output_type": "display_data"
        }
      ],
      "source": [
        "cm = confusion_matrix(y_test, Clasificaciones_1)\n",
        "\n",
        "# plot the confusion matrix\n",
        "disp = ConfusionMatrixDisplay(cm, display_labels=np.unique(Clasificaciones_1))\n",
        "disp.plot()\n",
        "plt.show()"
      ]
    },
    {
      "attachments": {},
      "cell_type": "markdown",
      "id": "K7reFJq6Fhyj",
      "metadata": {
        "id": "K7reFJq6Fhyj"
      },
      "source": [
        "# TF-IDF eliminando stopwords"
      ]
    },
    {
      "cell_type": "code",
      "execution_count": 59,
      "id": "7uGCd2iORFW3",
      "metadata": {
        "id": "7uGCd2iORFW3"
      },
      "outputs": [],
      "source": [
        "\n",
        "X = df_movies['clean_text'].values\n",
        "y = df_movies['Clasification'].values\n",
        "\n",
        "X_train, X_test, y_train, y_test = train_test_split(X,y, test_size = 0.25, random_state = 123)\n",
        "\n",
        "tfidf = TfidfVectorizer(stop_words = 'english')\n",
        "X_train_tfidf = tfidf.fit_transform(X_train)\n",
        "X_test_tfidf = tfidf.transform(X_test)\n",
        "\n"
      ]
    },
    {
      "cell_type": "code",
      "execution_count": 60,
      "id": "iJ66Qe04SY_Y",
      "metadata": {
        "colab": {
          "base_uri": "https://localhost:8080/"
        },
        "id": "iJ66Qe04SY_Y",
        "outputId": "573aba95-ff5f-43a0-9859-a99410858018"
      },
      "outputs": [
        {
          "data": {
            "text/plain": [
              "((18750, 103293), (6250, 103293))"
            ]
          },
          "execution_count": 60,
          "metadata": {},
          "output_type": "execute_result"
        }
      ],
      "source": [
        "X_train_tfidf.shape, X_test_tfidf.shape"
      ]
    },
    {
      "attachments": {},
      "cell_type": "markdown",
      "id": "Ycgzc8RwK5QU",
      "metadata": {
        "id": "Ycgzc8RwK5QU"
      },
      "source": [
        "## Naive Bayes"
      ]
    },
    {
      "cell_type": "code",
      "execution_count": 61,
      "id": "azcFy534K5QV",
      "metadata": {
        "colab": {
          "base_uri": "https://localhost:8080/"
        },
        "id": "azcFy534K5QV",
        "outputId": "7ee3172b-ecf1-4e26-ff09-346b8d5d6e01"
      },
      "outputs": [
        {
          "name": "stdout",
          "output_type": "stream",
          "text": [
            "Tiempo de entrenamiento:  0.03299689292907715\n",
            "Tiempo de prediccción:  0.0039899349212646484\n"
          ]
        }
      ],
      "source": [
        "start = time.time()\n",
        "bayes_pred = MultinomialNB()\n",
        "bayes_pred.fit(X_train_tfidf, y_train)\n",
        "print(\"Tiempo de entrenamiento: \",time.time()-start)\n",
        "\n",
        "\n",
        "start = time.time()\n",
        "predictions = bayes_pred.predict(X_test_tfidf)\n",
        "print(\"Tiempo de prediccción: \",time.time()-start)"
      ]
    },
    {
      "cell_type": "code",
      "execution_count": 62,
      "id": "mKzw8PkxK5QX",
      "metadata": {
        "colab": {
          "base_uri": "https://localhost:8080/"
        },
        "id": "mKzw8PkxK5QX",
        "outputId": "8e00c20b-f6b8-4c5d-89de-15efc49cec5f"
      },
      "outputs": [
        {
          "name": "stdout",
          "output_type": "stream",
          "text": [
            "              precision    recall  f1-score   support\n",
            "\n",
            "           0       0.85      0.88      0.86      3085\n",
            "           1       0.88      0.84      0.86      3165\n",
            "\n",
            "    accuracy                           0.86      6250\n",
            "   macro avg       0.86      0.86      0.86      6250\n",
            "weighted avg       0.86      0.86      0.86      6250\n",
            "\n"
          ]
        }
      ],
      "source": [
        "print(classification_report(y_test, predictions))"
      ]
    },
    {
      "cell_type": "code",
      "execution_count": 63,
      "id": "e6oKTos2K5QY",
      "metadata": {
        "colab": {
          "base_uri": "https://localhost:8080/",
          "height": 279
        },
        "id": "e6oKTos2K5QY",
        "outputId": "8749c99b-af39-4a8a-83f0-a39d4c2f870a"
      },
      "outputs": [
        {
          "data": {
            "image/png": "[encoded data removed]",
            "text/plain": [
              "<Figure size 432x288 with 2 Axes>"
            ]
          },
          "metadata": {
            "needs_background": "light"
          },
          "output_type": "display_data"
        }
      ],
      "source": [
        "cm = confusion_matrix(y_test, predictions)\n",
        "\n",
        "# plot the confusion matrix\n",
        "disp = ConfusionMatrixDisplay(cm, display_labels=np.unique(y_test))\n",
        "disp.plot()\n",
        "plt.show()"
      ]
    },
    {
      "attachments": {},
      "cell_type": "markdown",
      "id": "DX6G6AQ3K5QZ",
      "metadata": {
        "id": "DX6G6AQ3K5QZ"
      },
      "source": [
        "## Árbol de Decisión"
      ]
    },
    {
      "cell_type": "code",
      "execution_count": 64,
      "id": "OO7a48MWK5Qa",
      "metadata": {
        "colab": {
          "base_uri": "https://localhost:8080/"
        },
        "id": "OO7a48MWK5Qa",
        "outputId": "baca9c2f-820f-4446-f1bb-0a8ebce24dab"
      },
      "outputs": [
        {
          "name": "stdout",
          "output_type": "stream",
          "text": [
            "Tiempo de entrenamiento:  21.931164503097534\n"
          ]
        }
      ],
      "source": [
        "\n",
        "start = time.time()\n",
        "ClasificacionAD = DecisionTreeClassifier(criterion='gini',random_state=0)\n",
        "ClasificacionAD.fit(X_train_tfidf, y_train)\n",
        "print(\"Tiempo de entrenamiento: \", time.time()-start)"
      ]
    },
    {
      "cell_type": "code",
      "execution_count": 65,
      "id": "qXRBUU4sK5Qb",
      "metadata": {
        "colab": {
          "base_uri": "https://localhost:8080/"
        },
        "id": "qXRBUU4sK5Qb",
        "outputId": "7d83b29e-3d42-493c-df02-6960f3d095d7"
      },
      "outputs": [
        {
          "name": "stdout",
          "output_type": "stream",
          "text": [
            "Tiempo de predicción:  0.02159738540649414\n"
          ]
        }
      ],
      "source": [
        "start = time.time()\n",
        "Y_ClasificacionAD = ClasificacionAD.predict(X_test_tfidf)\n",
        "print(\"Tiempo de predicción: \", time.time()-start)\n"
      ]
    },
    {
      "cell_type": "code",
      "execution_count": 66,
      "id": "0wvyFNbpK5Qb",
      "metadata": {
        "colab": {
          "base_uri": "https://localhost:8080/"
        },
        "id": "0wvyFNbpK5Qb",
        "outputId": "dafdfd73-0ac0-4c03-e85c-c2e73d2ff596"
      },
      "outputs": [
        {
          "name": "stdout",
          "output_type": "stream",
          "text": [
            "[1 0 0 ... 1 0 1]\n",
            "              precision    recall  f1-score   support\n",
            "\n",
            "           0       0.70      0.71      0.71      3085\n",
            "           1       0.72      0.71      0.71      3165\n",
            "\n",
            "    accuracy                           0.71      6250\n",
            "   macro avg       0.71      0.71      0.71      6250\n",
            "weighted avg       0.71      0.71      0.71      6250\n",
            "\n"
          ]
        }
      ],
      "source": [
        "print(Y_ClasificacionAD)\n",
        "print(classification_report(y_test, Y_ClasificacionAD))"
      ]
    },
    {
      "cell_type": "code",
      "execution_count": 67,
      "id": "Ou8_ob2UK5Qc",
      "metadata": {
        "colab": {
          "base_uri": "https://localhost:8080/",
          "height": 281
        },
        "id": "Ou8_ob2UK5Qc",
        "outputId": "200c8592-bb40-471a-fdcf-e9f55c570bbf"
      },
      "outputs": [
        {
          "data": {
            "image/png": "[encoded data removed]",
            "text/plain": [
              "<Figure size 432x288 with 2 Axes>"
            ]
          },
          "metadata": {
            "needs_background": "light"
          },
          "output_type": "display_data"
        }
      ],
      "source": [
        "cm = confusion_matrix(y_test, Y_ClasificacionAD)\n",
        "\n",
        "# plot the confusion matrix\n",
        "disp = ConfusionMatrixDisplay(cm, display_labels=np.unique(Y_ClasificacionAD))\n",
        "disp.plot()\n",
        "plt.show()"
      ]
    },
    {
      "attachments": {},
      "cell_type": "markdown",
      "id": "J8ARvuQHK5Qe",
      "metadata": {
        "id": "J8ARvuQHK5Qe"
      },
      "source": [
        "## Máquina de soporte vectorial"
      ]
    },
    {
      "cell_type": "code",
      "execution_count": 68,
      "id": "tOIjtxxNK5Qe",
      "metadata": {
        "id": "tOIjtxxNK5Qe"
      },
      "outputs": [
        {
          "name": "stdout",
          "output_type": "stream",
          "text": [
            "Tiempo de entrenamiento:  471.6743643283844\n"
          ]
        }
      ],
      "source": [
        "start = time.time()\n",
        "ModeloSVM_1 = SVC(kernel='linear')\n",
        "ModeloSVM_1.fit(X_train_bow, y_train)\n",
        "print(\"Tiempo de entrenamiento: \",time.time()-start)"
      ]
    },
    {
      "cell_type": "code",
      "execution_count": 69,
      "id": "RMv2Nc-uK5Qe",
      "metadata": {
        "id": "RMv2Nc-uK5Qe"
      },
      "outputs": [
        {
          "name": "stdout",
          "output_type": "stream",
          "text": [
            "Tiempo de predicción:  27.392104148864746\n",
            "[1 1 0 ... 1 1 1]\n",
            "Exactitud 0.85376\n",
            "              precision    recall  f1-score   support\n",
            "\n",
            "           0       0.86      0.85      0.85      3085\n",
            "           1       0.85      0.86      0.86      3165\n",
            "\n",
            "    accuracy                           0.85      6250\n",
            "   macro avg       0.85      0.85      0.85      6250\n",
            "weighted avg       0.85      0.85      0.85      6250\n",
            "\n",
            "Número de vectores de soporte: \n",
            " [3246 3328]\n",
            "Vectores de soporte: \n",
            " [    1    16    21 ... 18738 18743 18749]\n"
          ]
        }
      ],
      "source": [
        "start = time.time()\n",
        "Clasificaciones_1 = ModeloSVM_1.predict(X_test_bow)\n",
        "print(\"Tiempo de predicción: \",time.time()-start)\n",
        "print(Clasificaciones_1)\n",
        "\n",
        "#pd.DataFrame(Clasificaciones_1)\n",
        "\n",
        "Clasificaciones = pd.DataFrame(y_test, Clasificaciones_1)\n",
        "Clasificaciones\n",
        "\n",
        "#Se calcula la exactitud promedio de la validación\n",
        "ModeloSVM_1.score(X_test_bow, y_test)\n",
        "\n",
        "#### **Validación del modelo**\n",
        "\n",
        "#Matriz de clasificación\n",
        "Clasificaciones_1 = ModeloSVM_1.predict(X_test_bow)\n",
        "Matriz_Clasificacion = pd.crosstab(y_test.ravel(), \n",
        "                                   Clasificaciones_1, \n",
        "                                   rownames=['Real'], \n",
        "                                   colnames=['Clasificación']) \n",
        "Matriz_Clasificacion\n",
        "\n",
        "\n",
        "#Reporte de la clasificación\n",
        "print(\"Exactitud\", ModeloSVM_1.score(X_test_bow, y_test))\n",
        "print(classification_report(y_test, Clasificaciones_1))\n",
        "\n",
        "VectoresSoporte_1 = ModeloSVM_1.support_vectors_\n",
        "pd.DataFrame(VectoresSoporte_1)\n",
        "\n",
        "#Vectores de soporte\n",
        "print('Número de vectores de soporte: \\n', ModeloSVM_1.n_support_)\n",
        "print('Vectores de soporte: \\n', ModeloSVM_1.support_)\n"
      ]
    },
    {
      "cell_type": "code",
      "execution_count": 70,
      "id": "Q9AvirYoOdt4",
      "metadata": {
        "id": "Q9AvirYoOdt4"
      },
      "outputs": [
        {
          "data": {
            "image/png": "[encoded data removed]",
            "text/plain": [
              "<Figure size 432x288 with 2 Axes>"
            ]
          },
          "metadata": {
            "needs_background": "light"
          },
          "output_type": "display_data"
        }
      ],
      "source": [
        "cm = confusion_matrix(y_test, Clasificaciones_1)\n",
        "\n",
        "# plot the confusion matrix\n",
        "disp = ConfusionMatrixDisplay(cm, display_labels=np.unique(Clasificaciones_1))\n",
        "disp.plot()\n",
        "plt.show()"
      ]
    },
    {
      "attachments": {},
      "cell_type": "markdown",
      "id": "O1TKyUAsFmnR",
      "metadata": {
        "id": "O1TKyUAsFmnR"
      },
      "source": [
        "# TF-IDF incluyendo stopwords"
      ]
    },
    {
      "cell_type": "code",
      "execution_count": 71,
      "id": "5_5fULp7RZdS",
      "metadata": {
        "id": "5_5fULp7RZdS"
      },
      "outputs": [],
      "source": [
        "X = df_movies['clean_text'].values\n",
        "y = df_movies['Clasification'].values\n",
        "\n",
        "X_train, X_test, y_train, y_test = train_test_split(X,y, test_size = 0.25, random_state = 123)\n",
        "\n",
        "tfidf = TfidfVectorizer()\n",
        "X_train_tfidf = tfidf.fit_transform(X_train)\n",
        "X_test_tfidf = tfidf.transform(X_test)\n"
      ]
    },
    {
      "cell_type": "code",
      "execution_count": 72,
      "id": "9KgSQPEOSRuA",
      "metadata": {
        "colab": {
          "base_uri": "https://localhost:8080/"
        },
        "id": "9KgSQPEOSRuA",
        "outputId": "573aba95-ff5f-43a0-9859-a99410858018"
      },
      "outputs": [
        {
          "data": {
            "text/plain": [
              "((18750, 103603), (6250, 103603))"
            ]
          },
          "execution_count": 72,
          "metadata": {},
          "output_type": "execute_result"
        }
      ],
      "source": [
        "X_train_tfidf.shape, X_test_tfidf.shape"
      ]
    },
    {
      "attachments": {},
      "cell_type": "markdown",
      "id": "bRzxZMAXK-Li",
      "metadata": {
        "id": "bRzxZMAXK-Li"
      },
      "source": [
        "## Naive Bayes"
      ]
    },
    {
      "cell_type": "code",
      "execution_count": 73,
      "id": "fv5mSUlhK-Lk",
      "metadata": {
        "colab": {
          "base_uri": "https://localhost:8080/"
        },
        "id": "fv5mSUlhK-Lk",
        "outputId": "7ee3172b-ecf1-4e26-ff09-346b8d5d6e01"
      },
      "outputs": [
        {
          "name": "stdout",
          "output_type": "stream",
          "text": [
            "Tiempo de entrenamiento:  0.04102206230163574\n",
            "Tiempo de prediccción:  0.015957117080688477\n"
          ]
        }
      ],
      "source": [
        "start = time.time()\n",
        "bayes_pred = MultinomialNB()\n",
        "bayes_pred.fit(X_train_tfidf, y_train)\n",
        "print(\"Tiempo de entrenamiento: \",time.time()-start)\n",
        "\n",
        "\n",
        "start = time.time()\n",
        "predictions = bayes_pred.predict(X_test_tfidf)\n",
        "print(\"Tiempo de prediccción: \",time.time()-start)"
      ]
    },
    {
      "cell_type": "code",
      "execution_count": 74,
      "id": "jGP3PVDCK-Lm",
      "metadata": {
        "colab": {
          "base_uri": "https://localhost:8080/"
        },
        "id": "jGP3PVDCK-Lm",
        "outputId": "8e00c20b-f6b8-4c5d-89de-15efc49cec5f"
      },
      "outputs": [
        {
          "name": "stdout",
          "output_type": "stream",
          "text": [
            "              precision    recall  f1-score   support\n",
            "\n",
            "           0       0.83      0.90      0.86      3085\n",
            "           1       0.89      0.82      0.85      3165\n",
            "\n",
            "    accuracy                           0.86      6250\n",
            "   macro avg       0.86      0.86      0.86      6250\n",
            "weighted avg       0.86      0.86      0.86      6250\n",
            "\n"
          ]
        }
      ],
      "source": [
        "print(classification_report(y_test, predictions))"
      ]
    },
    {
      "cell_type": "code",
      "execution_count": 75,
      "id": "FK08_LZ0K-Lm",
      "metadata": {
        "colab": {
          "base_uri": "https://localhost:8080/",
          "height": 279
        },
        "id": "FK08_LZ0K-Lm",
        "outputId": "8749c99b-af39-4a8a-83f0-a39d4c2f870a"
      },
      "outputs": [
        {
          "data": {
            "image/png": "[encoded data removed]",
            "text/plain": [
              "<Figure size 432x288 with 2 Axes>"
            ]
          },
          "metadata": {
            "needs_background": "light"
          },
          "output_type": "display_data"
        }
      ],
      "source": [
        "cm = confusion_matrix(y_test, predictions)\n",
        "\n",
        "# plot the confusion matrix\n",
        "disp = ConfusionMatrixDisplay(cm, display_labels=np.unique(y_test))\n",
        "disp.plot()\n",
        "plt.show()"
      ]
    },
    {
      "attachments": {},
      "cell_type": "markdown",
      "id": "LqZWUjWyK-Lo",
      "metadata": {
        "id": "LqZWUjWyK-Lo"
      },
      "source": [
        "## Árbol de Decisión"
      ]
    },
    {
      "cell_type": "code",
      "execution_count": 76,
      "id": "YsrLGAjZK-Lp",
      "metadata": {
        "colab": {
          "base_uri": "https://localhost:8080/"
        },
        "id": "YsrLGAjZK-Lp",
        "outputId": "baca9c2f-820f-4446-f1bb-0a8ebce24dab"
      },
      "outputs": [
        {
          "name": "stdout",
          "output_type": "stream",
          "text": [
            "Tiempo de entrenamiento:  30.72980308532715\n"
          ]
        }
      ],
      "source": [
        "\n",
        "start = time.time()\n",
        "ClasificacionAD = DecisionTreeClassifier(criterion='gini',random_state=0)\n",
        "ClasificacionAD.fit(X_train_tfidf, y_train)\n",
        "print(\"Tiempo de entrenamiento: \", time.time()-start)"
      ]
    },
    {
      "cell_type": "code",
      "execution_count": 77,
      "id": "o1wL21GHK-Lq",
      "metadata": {
        "colab": {
          "base_uri": "https://localhost:8080/"
        },
        "id": "o1wL21GHK-Lq",
        "outputId": "7d83b29e-3d42-493c-df02-6960f3d095d7"
      },
      "outputs": [
        {
          "name": "stdout",
          "output_type": "stream",
          "text": [
            "Tiempo de predicción:  0.03865313529968262\n"
          ]
        }
      ],
      "source": [
        "start = time.time()\n",
        "Y_ClasificacionAD = ClasificacionAD.predict(X_test_tfidf)\n",
        "print(\"Tiempo de predicción: \", time.time()-start)\n"
      ]
    },
    {
      "cell_type": "code",
      "execution_count": 78,
      "id": "QfNi3NEuK-Lr",
      "metadata": {
        "colab": {
          "base_uri": "https://localhost:8080/"
        },
        "id": "QfNi3NEuK-Lr",
        "outputId": "dafdfd73-0ac0-4c03-e85c-c2e73d2ff596"
      },
      "outputs": [
        {
          "name": "stdout",
          "output_type": "stream",
          "text": [
            "[1 0 0 ... 1 1 1]\n",
            "              precision    recall  f1-score   support\n",
            "\n",
            "           0       0.70      0.69      0.69      3085\n",
            "           1       0.70      0.71      0.70      3165\n",
            "\n",
            "    accuracy                           0.70      6250\n",
            "   macro avg       0.70      0.70      0.70      6250\n",
            "weighted avg       0.70      0.70      0.70      6250\n",
            "\n"
          ]
        }
      ],
      "source": [
        "print(Y_ClasificacionAD)\n",
        "print(classification_report(y_test, Y_ClasificacionAD))"
      ]
    },
    {
      "cell_type": "code",
      "execution_count": 79,
      "id": "63OmFHX_K-Ls",
      "metadata": {
        "colab": {
          "base_uri": "https://localhost:8080/",
          "height": 281
        },
        "id": "63OmFHX_K-Ls",
        "outputId": "200c8592-bb40-471a-fdcf-e9f55c570bbf"
      },
      "outputs": [
        {
          "data": {
            "image/png": "[encoded data removed]",
            "text/plain": [
              "<Figure size 432x288 with 2 Axes>"
            ]
          },
          "metadata": {
            "needs_background": "light"
          },
          "output_type": "display_data"
        }
      ],
      "source": [
        "cm = confusion_matrix(y_test, Y_ClasificacionAD)\n",
        "\n",
        "# plot the confusion matrix\n",
        "disp = ConfusionMatrixDisplay(cm, display_labels=np.unique(Y_ClasificacionAD))\n",
        "disp.plot()\n",
        "plt.show()"
      ]
    },
    {
      "attachments": {},
      "cell_type": "markdown",
      "id": "vPOG72MVK-Lt",
      "metadata": {
        "id": "vPOG72MVK-Lt"
      },
      "source": [
        "## Máquina de soporte vectorial"
      ]
    },
    {
      "cell_type": "code",
      "execution_count": 80,
      "id": "bXVfGBU1K-Lt",
      "metadata": {
        "id": "bXVfGBU1K-Lt"
      },
      "outputs": [
        {
          "name": "stdout",
          "output_type": "stream",
          "text": [
            "Tiempo de entrenamiento:  441.48826146125793\n"
          ]
        }
      ],
      "source": [
        "start = time.time()\n",
        "ModeloSVM_1 = SVC(kernel='linear')\n",
        "ModeloSVM_1.fit(X_train_bow, y_train)\n",
        "print(\"Tiempo de entrenamiento: \",time.time()-start)"
      ]
    },
    {
      "cell_type": "code",
      "execution_count": 81,
      "id": "UNYhavc_K-Lv",
      "metadata": {
        "id": "UNYhavc_K-Lv"
      },
      "outputs": [
        {
          "name": "stdout",
          "output_type": "stream",
          "text": [
            "Tiempo de predicción:  29.952047109603882\n",
            "[1 1 0 ... 1 1 1]\n",
            "Exactitud 0.85376\n",
            "              precision    recall  f1-score   support\n",
            "\n",
            "           0       0.86      0.85      0.85      3085\n",
            "           1       0.85      0.86      0.86      3165\n",
            "\n",
            "    accuracy                           0.85      6250\n",
            "   macro avg       0.85      0.85      0.85      6250\n",
            "weighted avg       0.85      0.85      0.85      6250\n",
            "\n",
            "Número de vectores de soporte: \n",
            " [3246 3328]\n",
            "Vectores de soporte: \n",
            " [    1    16    21 ... 18738 18743 18749]\n"
          ]
        }
      ],
      "source": [
        "start = time.time()\n",
        "Clasificaciones_1 = ModeloSVM_1.predict(X_test_bow)\n",
        "print(\"Tiempo de predicción: \",time.time()-start)\n",
        "print(Clasificaciones_1)\n",
        "\n",
        "#pd.DataFrame(Clasificaciones_1)\n",
        "\n",
        "Clasificaciones = pd.DataFrame(y_test, Clasificaciones_1)\n",
        "Clasificaciones\n",
        "\n",
        "#Se calcula la exactitud promedio de la validación\n",
        "ModeloSVM_1.score(X_test_bow, y_test)\n",
        "\n",
        "#### **Validación del modelo**\n",
        "\n",
        "#Matriz de clasificación\n",
        "Clasificaciones_1 = ModeloSVM_1.predict(X_test_bow)\n",
        "Matriz_Clasificacion = pd.crosstab(y_test.ravel(), \n",
        "                                   Clasificaciones_1, \n",
        "                                   rownames=['Real'], \n",
        "                                   colnames=['Clasificación']) \n",
        "Matriz_Clasificacion\n",
        "\n",
        "\n",
        "#Reporte de la clasificación\n",
        "print(\"Exactitud\", ModeloSVM_1.score(X_test_bow, y_test))\n",
        "print(classification_report(y_test, Clasificaciones_1))\n",
        "\n",
        "VectoresSoporte_1 = ModeloSVM_1.support_vectors_\n",
        "pd.DataFrame(VectoresSoporte_1)\n",
        "\n",
        "#Vectores de soporte\n",
        "print('Número de vectores de soporte: \\n', ModeloSVM_1.n_support_)\n",
        "print('Vectores de soporte: \\n', ModeloSVM_1.support_)\n"
      ]
    },
    {
      "cell_type": "code",
      "execution_count": 82,
      "id": "lfsJvE6wOfJI",
      "metadata": {
        "id": "lfsJvE6wOfJI"
      },
      "outputs": [
        {
          "data": {
            "image/png": "[encoded data removed]",
            "text/plain": [
              "<Figure size 432x288 with 2 Axes>"
            ]
          },
          "metadata": {
            "needs_background": "light"
          },
          "output_type": "display_data"
        }
      ],
      "source": [
        "cm = confusion_matrix(y_test, Clasificaciones_1)\n",
        "\n",
        "# plot the confusion matrix\n",
        "disp = ConfusionMatrixDisplay(cm, display_labels=np.unique(Clasificaciones_1))\n",
        "disp.plot()\n",
        "plt.show()"
      ]
    },
    {
      "attachments": {},
      "cell_type": "markdown",
      "id": "PmxbRKHlFrMP",
      "metadata": {
        "id": "PmxbRKHlFrMP"
      },
      "source": [
        "# TF-IDF con stemming y eliminando stopwords"
      ]
    },
    {
      "cell_type": "code",
      "execution_count": 83,
      "id": "oNlBFK87vAII",
      "metadata": {
        "id": "oNlBFK87vAII"
      },
      "outputs": [
        {
          "name": "stderr",
          "output_type": "stream",
          "text": [
            "[nltk_data] Downloading package punkt to\n",
            "[nltk_data]     C:\\Users\\rodol\\AppData\\Roaming\\nltk_data...\n",
            "[nltk_data]   Package punkt is already up-to-date!\n",
            "[nltk_data] Downloading package stopwords to\n",
            "[nltk_data]     C:\\Users\\rodol\\AppData\\Roaming\\nltk_data...\n",
            "[nltk_data]   Unzipping corpora\\stopwords.zip.\n"
          ]
        }
      ],
      "source": [
        "import nltk\n",
        "nltk.download('punkt')\n",
        "from nltk.stem import PorterStemmer\n",
        "from nltk.tokenize import word_tokenize\n",
        "from nltk.corpus import stopwords\n",
        "\n",
        "ps = PorterStemmer ()\n",
        "nltk.download('stopwords')\n",
        "stop_words = set(stopwords.words('english'))\n",
        "\n",
        "\n",
        "def stem_w(text):  #funcion obtenida de chatGPT\n",
        "  words = nltk.word_tokenize(text)\n",
        "  stemmed_words = [ps.stem(word) for word in words]\n",
        "  filter_words = [word for word in stemmed_words if word not in stop_words]\n",
        "  return ' '.join(filter_words) \n",
        "\n",
        "\n",
        "df_movies['stemmed_clean_text'] = df_movies['clean_text'].apply(stem_w)\n",
        "        "
      ]
    },
    {
      "cell_type": "code",
      "execution_count": 84,
      "id": "x_pq1uN7QaRS",
      "metadata": {
        "id": "x_pq1uN7QaRS"
      },
      "outputs": [],
      "source": [
        "\n",
        "X = df_movies['stemmed_clean_text'].values\n",
        "y = df_movies['Clasification'].values\n",
        "\n",
        "X_train, X_test, y_train, y_test = train_test_split(X,y, test_size = 0.25, random_state = 123)\n",
        "\n",
        "tfidf = TfidfVectorizer()\n",
        "X_train_tfidf = tfidf.fit_transform(X_train)\n",
        "X_test_tfidf = tfidf.transform(X_test)\n",
        "\n"
      ]
    },
    {
      "cell_type": "code",
      "execution_count": 85,
      "id": "6T2UfIjjSack",
      "metadata": {
        "colab": {
          "base_uri": "https://localhost:8080/"
        },
        "id": "6T2UfIjjSack",
        "outputId": "573aba95-ff5f-43a0-9859-a99410858018"
      },
      "outputs": [
        {
          "data": {
            "text/plain": [
              "((18750, 78423), (6250, 78423))"
            ]
          },
          "execution_count": 85,
          "metadata": {},
          "output_type": "execute_result"
        }
      ],
      "source": [
        "X_train_tfidf.shape, X_test_tfidf.shape"
      ]
    },
    {
      "attachments": {},
      "cell_type": "markdown",
      "id": "J6YZxf85KwkP",
      "metadata": {
        "id": "J6YZxf85KwkP"
      },
      "source": [
        "## Naive Bayes"
      ]
    },
    {
      "cell_type": "code",
      "execution_count": 86,
      "id": "sXwaXa-mKwkQ",
      "metadata": {
        "colab": {
          "base_uri": "https://localhost:8080/"
        },
        "id": "sXwaXa-mKwkQ",
        "outputId": "7ee3172b-ecf1-4e26-ff09-346b8d5d6e01"
      },
      "outputs": [
        {
          "name": "stdout",
          "output_type": "stream",
          "text": [
            "Tiempo de entrenamiento:  0.03306436538696289\n",
            "Tiempo de prediccción:  0.011543750762939453\n"
          ]
        }
      ],
      "source": [
        "start = time.time()\n",
        "bayes_pred = MultinomialNB()\n",
        "bayes_pred.fit(X_train_tfidf, y_train)\n",
        "print(\"Tiempo de entrenamiento: \",time.time()-start)\n",
        "\n",
        "\n",
        "start = time.time()\n",
        "predictions = bayes_pred.predict(X_test_tfidf)\n",
        "print(\"Tiempo de prediccción: \",time.time()-start)"
      ]
    },
    {
      "cell_type": "code",
      "execution_count": 87,
      "id": "ViBiNURGKwkR",
      "metadata": {
        "colab": {
          "base_uri": "https://localhost:8080/"
        },
        "id": "ViBiNURGKwkR",
        "outputId": "8e00c20b-f6b8-4c5d-89de-15efc49cec5f"
      },
      "outputs": [
        {
          "name": "stdout",
          "output_type": "stream",
          "text": [
            "              precision    recall  f1-score   support\n",
            "\n",
            "           0       0.84      0.88      0.86      3085\n",
            "           1       0.88      0.83      0.85      3165\n",
            "\n",
            "    accuracy                           0.85      6250\n",
            "   macro avg       0.86      0.86      0.85      6250\n",
            "weighted avg       0.86      0.85      0.85      6250\n",
            "\n"
          ]
        }
      ],
      "source": [
        "print(classification_report(y_test, predictions))"
      ]
    },
    {
      "cell_type": "code",
      "execution_count": 88,
      "id": "wZJblLMaKwkR",
      "metadata": {
        "colab": {
          "base_uri": "https://localhost:8080/",
          "height": 279
        },
        "id": "wZJblLMaKwkR",
        "outputId": "8749c99b-af39-4a8a-83f0-a39d4c2f870a"
      },
      "outputs": [
        {
          "data": {
            "image/png": "[encoded data removed]",
            "text/plain": [
              "<Figure size 432x288 with 2 Axes>"
            ]
          },
          "metadata": {
            "needs_background": "light"
          },
          "output_type": "display_data"
        }
      ],
      "source": [
        "cm = confusion_matrix(y_test, predictions)\n",
        "\n",
        "# plot the confusion matrix\n",
        "disp = ConfusionMatrixDisplay(cm, display_labels=np.unique(y_test))\n",
        "disp.plot()\n",
        "plt.show()"
      ]
    },
    {
      "attachments": {},
      "cell_type": "markdown",
      "id": "bPouxfNYKwkS",
      "metadata": {
        "id": "bPouxfNYKwkS"
      },
      "source": [
        "## Árbol de Decisión"
      ]
    },
    {
      "cell_type": "code",
      "execution_count": 89,
      "id": "8nbJz1sbKwkU",
      "metadata": {
        "colab": {
          "base_uri": "https://localhost:8080/"
        },
        "id": "8nbJz1sbKwkU",
        "outputId": "baca9c2f-820f-4446-f1bb-0a8ebce24dab"
      },
      "outputs": [
        {
          "name": "stdout",
          "output_type": "stream",
          "text": [
            "Tiempo de entrenamiento:  20.238947868347168\n"
          ]
        }
      ],
      "source": [
        "\n",
        "start = time.time()\n",
        "ClasificacionAD = DecisionTreeClassifier(criterion='gini',random_state=0)\n",
        "ClasificacionAD.fit(X_train_tfidf, y_train)\n",
        "print(\"Tiempo de entrenamiento: \", time.time()-start)"
      ]
    },
    {
      "cell_type": "code",
      "execution_count": 90,
      "id": "B6PSYjI6KwkU",
      "metadata": {
        "colab": {
          "base_uri": "https://localhost:8080/"
        },
        "id": "B6PSYjI6KwkU",
        "outputId": "7d83b29e-3d42-493c-df02-6960f3d095d7"
      },
      "outputs": [
        {
          "name": "stdout",
          "output_type": "stream",
          "text": [
            "Tiempo de predicción:  0.03861260414123535\n"
          ]
        }
      ],
      "source": [
        "start = time.time()\n",
        "Y_ClasificacionAD = ClasificacionAD.predict(X_test_tfidf)\n",
        "print(\"Tiempo de predicción: \", time.time()-start)\n"
      ]
    },
    {
      "cell_type": "code",
      "execution_count": 91,
      "id": "SwLk2AKWKwkV",
      "metadata": {
        "colab": {
          "base_uri": "https://localhost:8080/"
        },
        "id": "SwLk2AKWKwkV",
        "outputId": "dafdfd73-0ac0-4c03-e85c-c2e73d2ff596"
      },
      "outputs": [
        {
          "name": "stdout",
          "output_type": "stream",
          "text": [
            "[0 0 0 ... 1 1 1]\n",
            "              precision    recall  f1-score   support\n",
            "\n",
            "           0       0.70      0.71      0.71      3085\n",
            "           1       0.71      0.71      0.71      3165\n",
            "\n",
            "    accuracy                           0.71      6250\n",
            "   macro avg       0.71      0.71      0.71      6250\n",
            "weighted avg       0.71      0.71      0.71      6250\n",
            "\n"
          ]
        }
      ],
      "source": [
        "print(Y_ClasificacionAD)\n",
        "print(classification_report(y_test, Y_ClasificacionAD))"
      ]
    },
    {
      "cell_type": "code",
      "execution_count": 92,
      "id": "oNGxItXkKwkW",
      "metadata": {
        "colab": {
          "base_uri": "https://localhost:8080/",
          "height": 281
        },
        "id": "oNGxItXkKwkW",
        "outputId": "200c8592-bb40-471a-fdcf-e9f55c570bbf"
      },
      "outputs": [
        {
          "data": {
            "image/png": "[encoded data removed]",
            "text/plain": [
              "<Figure size 432x288 with 2 Axes>"
            ]
          },
          "metadata": {
            "needs_background": "light"
          },
          "output_type": "display_data"
        }
      ],
      "source": [
        "cm = confusion_matrix(y_test, Y_ClasificacionAD)\n",
        "\n",
        "# plot the confusion matrix\n",
        "disp = ConfusionMatrixDisplay(cm, display_labels=np.unique(Y_ClasificacionAD))\n",
        "disp.plot()\n",
        "plt.show()"
      ]
    },
    {
      "attachments": {},
      "cell_type": "markdown",
      "id": "HdJ4Pl9KKwkX",
      "metadata": {
        "id": "HdJ4Pl9KKwkX"
      },
      "source": [
        "## Máquina de soporte vectorial"
      ]
    },
    {
      "cell_type": "code",
      "execution_count": 93,
      "id": "ARVG_baSKwkX",
      "metadata": {
        "id": "ARVG_baSKwkX"
      },
      "outputs": [
        {
          "name": "stdout",
          "output_type": "stream",
          "text": [
            "Tiempo de entrenamiento:  476.73202443122864\n"
          ]
        }
      ],
      "source": [
        "start = time.time()\n",
        "ModeloSVM_1 = SVC(kernel='linear')\n",
        "ModeloSVM_1.fit(X_train_bow, y_train)\n",
        "print(\"Tiempo de entrenamiento: \",time.time()-start)"
      ]
    },
    {
      "cell_type": "code",
      "execution_count": 94,
      "id": "-LGoGqLlKwkY",
      "metadata": {
        "id": "-LGoGqLlKwkY"
      },
      "outputs": [
        {
          "name": "stdout",
          "output_type": "stream",
          "text": [
            "Tiempo de predicción:  29.30741596221924\n",
            "[1 1 0 ... 1 1 1]\n",
            "Exactitud 0.85376\n",
            "              precision    recall  f1-score   support\n",
            "\n",
            "           0       0.86      0.85      0.85      3085\n",
            "           1       0.85      0.86      0.86      3165\n",
            "\n",
            "    accuracy                           0.85      6250\n",
            "   macro avg       0.85      0.85      0.85      6250\n",
            "weighted avg       0.85      0.85      0.85      6250\n",
            "\n",
            "Número de vectores de soporte: \n",
            " [3246 3328]\n",
            "Vectores de soporte: \n",
            " [    1    16    21 ... 18738 18743 18749]\n"
          ]
        }
      ],
      "source": [
        "start = time.time()\n",
        "Clasificaciones_1 = ModeloSVM_1.predict(X_test_bow)\n",
        "print(\"Tiempo de predicción: \",time.time()-start)\n",
        "print(Clasificaciones_1)\n",
        "\n",
        "#pd.DataFrame(Clasificaciones_1)\n",
        "\n",
        "Clasificaciones = pd.DataFrame(y_test, Clasificaciones_1)\n",
        "Clasificaciones\n",
        "\n",
        "#Se calcula la exactitud promedio de la validación\n",
        "ModeloSVM_1.score(X_test_bow, y_test)\n",
        "\n",
        "#### **Validación del modelo**\n",
        "\n",
        "#Matriz de clasificación\n",
        "Clasificaciones_1 = ModeloSVM_1.predict(X_test_bow)\n",
        "Matriz_Clasificacion = pd.crosstab(y_test.ravel(), \n",
        "                                   Clasificaciones_1, \n",
        "                                   rownames=['Real'], \n",
        "                                   colnames=['Clasificación']) \n",
        "Matriz_Clasificacion\n",
        "\n",
        "\n",
        "#Reporte de la clasificación\n",
        "print(\"Exactitud\", ModeloSVM_1.score(X_test_bow, y_test))\n",
        "print(classification_report(y_test, Clasificaciones_1))\n",
        "\n",
        "VectoresSoporte_1 = ModeloSVM_1.support_vectors_\n",
        "pd.DataFrame(VectoresSoporte_1)\n",
        "\n",
        "#Vectores de soporte\n",
        "print('Número de vectores de soporte: \\n', ModeloSVM_1.n_support_)\n",
        "print('Vectores de soporte: \\n', ModeloSVM_1.support_)\n"
      ]
    },
    {
      "cell_type": "code",
      "execution_count": 95,
      "id": "eMGeMxwuOgtB",
      "metadata": {
        "id": "eMGeMxwuOgtB"
      },
      "outputs": [
        {
          "data": {
            "image/png": "[encoded data removed]",
            "text/plain": [
              "<Figure size 432x288 with 2 Axes>"
            ]
          },
          "metadata": {
            "needs_background": "light"
          },
          "output_type": "display_data"
        }
      ],
      "source": [
        "cm = confusion_matrix(y_test, Clasificaciones_1)\n",
        "\n",
        "# plot the confusion matrix\n",
        "disp = ConfusionMatrixDisplay(cm, display_labels=np.unique(Clasificaciones_1))\n",
        "disp.plot()\n",
        "plt.show()"
      ]
    },
    {
      "attachments": {},
      "cell_type": "markdown",
      "id": "_HcMpAYZFvPj",
      "metadata": {
        "id": "_HcMpAYZFvPj"
      },
      "source": [
        "# TF-IDF con lematización y eliminando stopwords"
      ]
    },
    {
      "cell_type": "code",
      "execution_count": 96,
      "id": "9DG7LFpGYsa8",
      "metadata": {
        "id": "9DG7LFpGYsa8"
      },
      "outputs": [],
      "source": [
        "# import pandas as pd\n",
        "# from sklearn.feature_extraction.text import TfidfVectorizer\n",
        "\n",
        "# vectorizer = TfidfVectorizer()\n",
        "\n",
        "# tfidf_matrix = vectorizer.fit_transform(df_movies['stemmed_clean_text'])\n",
        "\n",
        "# print(tfidf_matrix)\n",
        "\n",
        "# tfidf_df = pd.DataFrame(tfidf_matrix.toarray())\n",
        "\n",
        "# print(tfidf_df)\n",
        "# print(vectorizer.vocabulary_)\n",
        "# print(vectorizer.idf_)"
      ]
    },
    {
      "cell_type": "code",
      "execution_count": 97,
      "id": "THqrygEq-_CC",
      "metadata": {
        "id": "THqrygEq-_CC"
      },
      "outputs": [
        {
          "name": "stderr",
          "output_type": "stream",
          "text": [
            "[nltk_data] Downloading package wordnet to\n",
            "[nltk_data]     C:\\Users\\rodol\\AppData\\Roaming\\nltk_data...\n",
            "[nltk_data]   Package wordnet is already up-to-date!\n",
            "[nltk_data] Downloading package stopwords to\n",
            "[nltk_data]     C:\\Users\\rodol\\AppData\\Roaming\\nltk_data...\n",
            "[nltk_data]   Package stopwords is already up-to-date!\n"
          ]
        },
        {
          "name": "stdout",
          "output_type": "stream",
          "text": [
            "                                          Informacion  Clasification  \\\n",
            "0   Story of a man who has unnatural feelings for ...              0   \n",
            "0   Airport '77 starts as a brand new luxury 747 p...              0   \n",
            "0   This film lacked something I couldn't put my f...              0   \n",
            "0   Sorry everyone,,, I know this is supposed to b...              0   \n",
            "0   When I was little my parents took me along to ...              0   \n",
            "..                                                ...            ...   \n",
            "0   Seeing as the vote average was pretty low, and...              1   \n",
            "0   The plot had some wretched, unbelievable twist...              1   \n",
            "0   I am amazed at how this movie(and most others ...              1   \n",
            "0   A Christmas Together actually came before my t...              1   \n",
            "0   Working-class romantic drama from director Mar...              1   \n",
            "\n",
            "                                           clean_text  \\\n",
            "0   story of a man who has unnatural feelings for ...   \n",
            "0   airport 77 starts as a brand new luxury 747 pl...   \n",
            "0   this film lacked something i couldnt put my fi...   \n",
            "0   sorry everyone i know this is supposed to be a...   \n",
            "0   when i was little my parents took me along to ...   \n",
            "..                                                ...   \n",
            "0   seeing as the vote average was pretty low and ...   \n",
            "0   the plot had some wretched unbelievable twists...   \n",
            "0   i am amazed at how this movieand most others h...   \n",
            "0   a christmas together actually came before my t...   \n",
            "0   workingclass romantic drama from director mart...   \n",
            "\n",
            "                                   stemmed_clean_text  \\\n",
            "0   stori man ha unnatur feel pig start open scene...   \n",
            "0   airport 77 start brand new luxuri 747 plane lo...   \n",
            "0   thi film lack someth couldnt put finger first ...   \n",
            "0   sorri everyon know thi suppos art film wow han...   \n",
            "0   wa littl parent took along theater see interio...   \n",
            "..                                                ...   \n",
            "0   see vote averag wa pretti low fact clerk video...   \n",
            "0   plot wretch unbeliev twist howev chemistri mel...   \n",
            "0   amaz thi movieand ha averag 5 star lower crapp...   \n",
            "0   christma togeth actual came befor time ive rai...   \n",
            "0   workingclass romant drama director martin ritt...   \n",
            "\n",
            "                                       lem_clean_text  \n",
            "0   story man unnatural feel pig start open scene ...  \n",
            "0   airport 77 start brand new luxury 747 plane lo...  \n",
            "0   film lack something couldnt put finger first c...  \n",
            "0   sorry everyone know suppose art film wow hand ...  \n",
            "0   little parent take along theater see interiors...  \n",
            "..                                                ...  \n",
            "0   see vote average pretty low fact clerk video s...  \n",
            "0   plot wretched unbelievable twist however chemi...  \n",
            "0   amaze movieand others average 5 star lower cra...  \n",
            "0   christmas together actually come time ive rais...  \n",
            "0   workingclass romantic drama director martin ri...  \n",
            "\n",
            "[25000 rows x 5 columns]\n"
          ]
        }
      ],
      "source": [
        "from nltk.stem import WordNetLemmatizer\n",
        "from nltk.tokenize import word_tokenize\n",
        "nltk.download('wordnet')\n",
        "from nltk.corpus import stopwords\n",
        "\n",
        "lemmatizer = WordNetLemmatizer()\n",
        "nltk.download('stopwords')\n",
        "stop_words = set(stopwords.words('english'))\n",
        "\n",
        "def lemmatize_words(text):  #funcion obtenida con chatgpt\n",
        "    words = word_tokenize(text)\n",
        "    lemmatized_words = [lemmatizer.lemmatize(word, pos='v') for word in words]\n",
        "    filter_words = [word for word in lemmatized_words if word not in stop_words]\n",
        "    return ' '.join(filter_words)\n",
        "\n",
        "\n",
        "df_movies['lem_clean_text'] = df_movies['clean_text'].apply(lemmatize_words)\n",
        "\n",
        "print(df_movies)"
      ]
    },
    {
      "cell_type": "code",
      "execution_count": 98,
      "id": "8nnn-Qga-_P_",
      "metadata": {
        "id": "8nnn-Qga-_P_"
      },
      "outputs": [],
      "source": [
        "\n",
        "X = df_movies['lem_clean_text'].values\n",
        "y = df_movies['Clasification'].values\n",
        "\n",
        "X_train, X_test, y_train, y_test = train_test_split(X,y, test_size = 0.25, random_state = 123)\n",
        "\n",
        "tfidf = TfidfVectorizer()\n",
        "X_train_tfidf = tfidf.fit_transform(X_train)\n",
        "X_test_tfidf = tfidf.transform(X_test)\n",
        "\n"
      ]
    },
    {
      "cell_type": "code",
      "execution_count": 99,
      "id": "Vbg5-P1lSb0P",
      "metadata": {
        "colab": {
          "base_uri": "https://localhost:8080/"
        },
        "id": "Vbg5-P1lSb0P",
        "outputId": "573aba95-ff5f-43a0-9859-a99410858018"
      },
      "outputs": [
        {
          "data": {
            "text/plain": [
              "((18750, 93260), (6250, 93260))"
            ]
          },
          "execution_count": 99,
          "metadata": {},
          "output_type": "execute_result"
        }
      ],
      "source": [
        "X_train_tfidf.shape, X_test_tfidf.shape"
      ]
    },
    {
      "attachments": {},
      "cell_type": "markdown",
      "id": "ccPjDB_EJ6mD",
      "metadata": {
        "id": "ccPjDB_EJ6mD"
      },
      "source": [
        "## Naive Bayes"
      ]
    },
    {
      "cell_type": "code",
      "execution_count": 100,
      "id": "0NUkpab9-Eqv",
      "metadata": {
        "colab": {
          "base_uri": "https://localhost:8080/",
          "height": 0
        },
        "id": "0NUkpab9-Eqv",
        "outputId": "7ee3172b-ecf1-4e26-ff09-346b8d5d6e01"
      },
      "outputs": [
        {
          "name": "stdout",
          "output_type": "stream",
          "text": [
            "Tiempo de entrenamiento:  0.046675920486450195\n",
            "Tiempo de prediccción:  0.00798177719116211\n"
          ]
        }
      ],
      "source": [
        "start = time.time()\n",
        "bayes_pred = MultinomialNB()\n",
        "bayes_pred.fit(X_train_tfidf, y_train)\n",
        "print(\"Tiempo de entrenamiento: \",time.time()-start)\n",
        "\n",
        "\n",
        "start = time.time()\n",
        "predictions = bayes_pred.predict(X_test_tfidf)\n",
        "print(\"Tiempo de prediccción: \",time.time()-start)"
      ]
    },
    {
      "cell_type": "code",
      "execution_count": 101,
      "id": "ospRSqwXBkvW",
      "metadata": {
        "colab": {
          "base_uri": "https://localhost:8080/",
          "height": 0
        },
        "id": "ospRSqwXBkvW",
        "outputId": "8e00c20b-f6b8-4c5d-89de-15efc49cec5f"
      },
      "outputs": [
        {
          "name": "stdout",
          "output_type": "stream",
          "text": [
            "              precision    recall  f1-score   support\n",
            "\n",
            "           0       0.84      0.88      0.86      3085\n",
            "           1       0.88      0.83      0.86      3165\n",
            "\n",
            "    accuracy                           0.86      6250\n",
            "   macro avg       0.86      0.86      0.86      6250\n",
            "weighted avg       0.86      0.86      0.86      6250\n",
            "\n"
          ]
        }
      ],
      "source": [
        "print(classification_report(y_test, predictions))"
      ]
    },
    {
      "cell_type": "code",
      "execution_count": 102,
      "id": "mWKtcqNVBkvb",
      "metadata": {
        "colab": {
          "base_uri": "https://localhost:8080/",
          "height": 279
        },
        "id": "mWKtcqNVBkvb",
        "outputId": "8749c99b-af39-4a8a-83f0-a39d4c2f870a"
      },
      "outputs": [
        {
          "data": {
            "image/png": "[encoded data removed]",
            "text/plain": [
              "<Figure size 432x288 with 2 Axes>"
            ]
          },
          "metadata": {
            "needs_background": "light"
          },
          "output_type": "display_data"
        }
      ],
      "source": [
        "cm = confusion_matrix(y_test, predictions)\n",
        "\n",
        "# plot the confusion matrix\n",
        "disp = ConfusionMatrixDisplay(cm, display_labels=np.unique(y_test))\n",
        "disp.plot()\n",
        "plt.show()"
      ]
    },
    {
      "attachments": {},
      "cell_type": "markdown",
      "id": "4mTrIVAqJ9fJ",
      "metadata": {
        "id": "4mTrIVAqJ9fJ"
      },
      "source": [
        "## Árbol de Decisión"
      ]
    },
    {
      "cell_type": "code",
      "execution_count": 103,
      "id": "iGDCcY_vCAIi",
      "metadata": {
        "colab": {
          "base_uri": "https://localhost:8080/",
          "height": 0
        },
        "id": "iGDCcY_vCAIi",
        "outputId": "baca9c2f-820f-4446-f1bb-0a8ebce24dab"
      },
      "outputs": [
        {
          "name": "stdout",
          "output_type": "stream",
          "text": [
            "Tiempo de entrenamiento:  25.697856187820435\n"
          ]
        }
      ],
      "source": [
        "\n",
        "start = time.time()\n",
        "ClasificacionAD = DecisionTreeClassifier(criterion='gini',random_state=0)\n",
        "ClasificacionAD.fit(X_train_tfidf, y_train)\n",
        "print(\"Tiempo de entrenamiento: \", time.time()-start)"
      ]
    },
    {
      "cell_type": "code",
      "execution_count": 104,
      "id": "BAF0BlkaCAIj",
      "metadata": {
        "colab": {
          "base_uri": "https://localhost:8080/",
          "height": 0
        },
        "id": "BAF0BlkaCAIj",
        "outputId": "7d83b29e-3d42-493c-df02-6960f3d095d7"
      },
      "outputs": [
        {
          "name": "stdout",
          "output_type": "stream",
          "text": [
            "Tiempo de predicción:  0.040734052658081055\n"
          ]
        }
      ],
      "source": [
        "start = time.time()\n",
        "Y_ClasificacionAD = ClasificacionAD.predict(X_test_tfidf)\n",
        "print(\"Tiempo de predicción: \", time.time()-start)\n"
      ]
    },
    {
      "cell_type": "code",
      "execution_count": 105,
      "id": "MFindQIKCAIk",
      "metadata": {
        "colab": {
          "base_uri": "https://localhost:8080/",
          "height": 0
        },
        "id": "MFindQIKCAIk",
        "outputId": "dafdfd73-0ac0-4c03-e85c-c2e73d2ff596"
      },
      "outputs": [
        {
          "name": "stdout",
          "output_type": "stream",
          "text": [
            "[0 1 0 ... 1 1 1]\n",
            "              precision    recall  f1-score   support\n",
            "\n",
            "           0       0.71      0.71      0.71      3085\n",
            "           1       0.72      0.71      0.71      3165\n",
            "\n",
            "    accuracy                           0.71      6250\n",
            "   macro avg       0.71      0.71      0.71      6250\n",
            "weighted avg       0.71      0.71      0.71      6250\n",
            "\n"
          ]
        }
      ],
      "source": [
        "print(Y_ClasificacionAD)\n",
        "print(classification_report(y_test, Y_ClasificacionAD))"
      ]
    },
    {
      "cell_type": "code",
      "execution_count": 106,
      "id": "L0XU8guLCAIl",
      "metadata": {
        "colab": {
          "base_uri": "https://localhost:8080/",
          "height": 281
        },
        "id": "L0XU8guLCAIl",
        "outputId": "200c8592-bb40-471a-fdcf-e9f55c570bbf"
      },
      "outputs": [
        {
          "data": {
            "image/png": "[encoded data removed]",
            "text/plain": [
              "<Figure size 432x288 with 2 Axes>"
            ]
          },
          "metadata": {
            "needs_background": "light"
          },
          "output_type": "display_data"
        }
      ],
      "source": [
        "cm = confusion_matrix(y_test, Y_ClasificacionAD)\n",
        "\n",
        "# plot the confusion matrix\n",
        "disp = ConfusionMatrixDisplay(cm, display_labels=np.unique(Y_ClasificacionAD))\n",
        "disp.plot()\n",
        "plt.show()"
      ]
    },
    {
      "attachments": {},
      "cell_type": "markdown",
      "id": "imo4DZlTCAIl",
      "metadata": {
        "id": "imo4DZlTCAIl"
      },
      "source": [
        "## Máquina de soporte vectorial"
      ]
    },
    {
      "cell_type": "code",
      "execution_count": 107,
      "id": "8pJTLqXfCAIm",
      "metadata": {
        "id": "8pJTLqXfCAIm"
      },
      "outputs": [
        {
          "name": "stdout",
          "output_type": "stream",
          "text": [
            "Tiempo de entrenamiento:  514.4490685462952\n"
          ]
        }
      ],
      "source": [
        "start = time.time()\n",
        "ModeloSVM_1 = SVC(kernel='linear')\n",
        "ModeloSVM_1.fit(X_train_bow, y_train)\n",
        "print(\"Tiempo de entrenamiento: \",time.time()-start)"
      ]
    },
    {
      "cell_type": "code",
      "execution_count": 108,
      "id": "OE3R9bZ_CAIm",
      "metadata": {
        "id": "OE3R9bZ_CAIm"
      },
      "outputs": [
        {
          "name": "stdout",
          "output_type": "stream",
          "text": [
            "Tiempo de predicción:  31.28772735595703\n",
            "[1 1 0 ... 1 1 1]\n",
            "Exactitud 0.85376\n",
            "              precision    recall  f1-score   support\n",
            "\n",
            "           0       0.86      0.85      0.85      3085\n",
            "           1       0.85      0.86      0.86      3165\n",
            "\n",
            "    accuracy                           0.85      6250\n",
            "   macro avg       0.85      0.85      0.85      6250\n",
            "weighted avg       0.85      0.85      0.85      6250\n",
            "\n",
            "Número de vectores de soporte: \n",
            " [3246 3328]\n",
            "Vectores de soporte: \n",
            " [    1    16    21 ... 18738 18743 18749]\n"
          ]
        }
      ],
      "source": [
        "start = time.time()\n",
        "Clasificaciones_1 = ModeloSVM_1.predict(X_test_bow)\n",
        "print(\"Tiempo de predicción: \",time.time()-start)\n",
        "print(Clasificaciones_1)\n",
        "\n",
        "#pd.DataFrame(Clasificaciones_1)\n",
        "\n",
        "Clasificaciones = pd.DataFrame(y_test, Clasificaciones_1)\n",
        "Clasificaciones\n",
        "\n",
        "#Se calcula la exactitud promedio de la validación\n",
        "ModeloSVM_1.score(X_test_bow, y_test)\n",
        "\n",
        "#### **Validación del modelo**\n",
        "\n",
        "#Matriz de clasificación\n",
        "Clasificaciones_1 = ModeloSVM_1.predict(X_test_bow)\n",
        "Matriz_Clasificacion = pd.crosstab(y_test.ravel(), \n",
        "                                   Clasificaciones_1, \n",
        "                                   rownames=['Real'], \n",
        "                                   colnames=['Clasificación']) \n",
        "Matriz_Clasificacion\n",
        "\n",
        "\n",
        "#Reporte de la clasificación\n",
        "print(\"Exactitud\", ModeloSVM_1.score(X_test_bow, y_test))\n",
        "print(classification_report(y_test, Clasificaciones_1))\n",
        "\n",
        "VectoresSoporte_1 = ModeloSVM_1.support_vectors_\n",
        "pd.DataFrame(VectoresSoporte_1)\n",
        "\n",
        "#Vectores de soporte\n",
        "print('Número de vectores de soporte: \\n', ModeloSVM_1.n_support_)\n",
        "print('Vectores de soporte: \\n', ModeloSVM_1.support_)\n"
      ]
    },
    {
      "cell_type": "code",
      "execution_count": 109,
      "id": "73vMMcFbOiZr",
      "metadata": {
        "id": "73vMMcFbOiZr"
      },
      "outputs": [
        {
          "data": {
            "image/png": "[encoded data removed]",
            "text/plain": [
              "<Figure size 432x288 with 2 Axes>"
            ]
          },
          "metadata": {
            "needs_background": "light"
          },
          "output_type": "display_data"
        }
      ],
      "source": [
        "cm = confusion_matrix(y_test, Clasificaciones_1)\n",
        "\n",
        "# plot the confusion matrix\n",
        "disp = ConfusionMatrixDisplay(cm, display_labels=np.unique(Clasificaciones_1))\n",
        "disp.plot()\n",
        "plt.show()"
      ]
    },
    {
      "attachments": {},
      "cell_type": "markdown",
      "id": "d3a4130c",
      "metadata": {},
      "source": [
        "# Tabla de Resultados"
      ]
    },
    {
      "cell_type": "code",
      "execution_count": 122,
      "id": "39071b54",
      "metadata": {},
      "outputs": [
        {
          "name": "stdout",
          "output_type": "stream",
          "text": [
            "   Tipo de modelo Naive Bayes: Train Time:  Predict Time:  Precision: \n",
            "0          BOW - Sin stopwords        0.066          0.022         85%\n",
            "1          BOW - Con Stopwords        0.034          0.009         85%\n",
            "2         BOW - Stemming S/StW        0.031          0.006         85%\n",
            "3     BOW - Lematización S/StW        0.036          0.007         85%\n",
            "4       TF-IDF - Con Stopwords        0.032          0.003         86%\n",
            "5       TF-IDF - Sin stopwords        0.041          0.015         86%\n",
            "6      TF-IDF - Stemming S/StW        0.033          0.011         86%\n",
            "7  TF-IDF - Lematización S/StW        0.046          0.007         86%\n",
            "         Tipo de modelo Árbol: Train Time:  Predict Time:  Precision: \n",
            "0          BOW - Sin stopwords       90.390          0.029         72%\n",
            "1          BOW - Con Stopwords       29.573          0.018         71%\n",
            "2         BOW - Stemming S/StW       15.702          0.018         71%\n",
            "3     BOW - Lematización S/StW       19.603          0.010         72%\n",
            "4       TF-IDF - Con Stopwords       21.931          0.021         71%\n",
            "5       TF-IDF - Sin stopwords       30.729          0.038         70%\n",
            "6      TF-IDF - Stemming S/StW       20.238          0.038         71%\n",
            "7  TF-IDF - Lematización S/StW       25.697          0.040         71%\n",
            "           Tipo de modelo SVM: Train Time:  Predict Time:  Precision: \n",
            "0          BOW - Sin stopwords      761.632         32.550         86%\n",
            "1          BOW - Con Stopwords      894.791         58.589         86%\n",
            "2         BOW - Stemming S/StW      466.566         29.143         85%\n",
            "3     BOW - Lematización S/StW      437.948         28.229         85%\n",
            "4       TF-IDF - Con Stopwords      471.674         27.392         85%\n",
            "5       TF-IDF - Sin stopwords      441.488         29.952         85%\n",
            "6      TF-IDF - Stemming S/StW      476.732         29.307         85%\n",
            "7  TF-IDF - Lematización S/StW      514.449         31.287         85%\n"
          ]
        }
      ],
      "source": [
        "ResultadosNB = {\"Tipo de modelo Naive Bayes:\" : [\"BOW - Sin stopwords\", \"BOW - Con Stopwords\",\"BOW - Stemming S/StW\", \"BOW - Lematización S/StW\", \"TF-IDF - Con Stopwords\", \"TF-IDF - Sin stopwords\",\"TF-IDF - Stemming S/StW\", \"TF-IDF - Lematización S/StW\"],\n",
        "              \"Train Time: \" : [\"0.066\", \"0.034\", \"0.031\", \"0.036\", \"0.032\", \"0.041\", \"0.033\", \"0.046\"],\n",
        "              \"Predict Time: \" : [\"0.022\", \"0.009\", \"0.006\", \"0.007\", \"0.003\", \"0.015\", \"0.011\", \"0.007\"],\n",
        "              \"Precision: \" : [\"85%\", \"85%\", \"85%\", \"85%\", \"86%\", \"86%\", \"86%\", \"86%\"]}\n",
        "dfResultadosNB = pd.DataFrame(ResultadosNB)\n",
        "print(dfResultadosNB)\n",
        "\n",
        "ResultadosArbol = {\"Tipo de modelo Árbol:\" : [\"BOW - Sin stopwords\", \"BOW - Con Stopwords\",\"BOW - Stemming S/StW\", \"BOW - Lematización S/StW\", \"TF-IDF - Con Stopwords\", \"TF-IDF - Sin stopwords\",\"TF-IDF - Stemming S/StW\", \"TF-IDF - Lematización S/StW\"],\n",
        "              \"Train Time: \" : [\"90.390\", \"29.573\", \"15.702\", \"19.603\", \"21.931\", \"30.729\", \"20.238\", \"25.697\"],\n",
        "              \"Predict Time: \" : [\"0.029\", \"0.018\", \"0.018\", \"0.010\", \"0.021\", \"0.038\", \"0.038\", \"0.040\"],\n",
        "              \"Precision: \" : [\"72%\", \"71%\", \"71%\", \"72%\", \"71%\", \"70%\", \"71%\", \"71%\"]}\n",
        "dfResultadosArbol = pd.DataFrame(ResultadosArbol)\n",
        "print(dfResultadosArbol)\n",
        "\n",
        "ResultadosSVM = {\"Tipo de modelo SVM:\" : [\"BOW - Sin stopwords\", \"BOW - Con Stopwords\",\"BOW - Stemming S/StW\", \"BOW - Lematización S/StW\", \"TF-IDF - Con Stopwords\", \"TF-IDF - Sin stopwords\",\"TF-IDF - Stemming S/StW\", \"TF-IDF - Lematización S/StW\"],\n",
        "              \"Train Time: \" : [\"761.632\", \"894.791\", \"466.566\", \"437.948\", \"471.674\", \"441.488\", \"476.732\", \"514.449\"],\n",
        "              \"Predict Time: \" : [\"32.550\", \"58.589\", \"29.143\", \"28.229\", \"27.392\", \"29.952\", \"29.307\", \"31.287\"],\n",
        "              \"Precision: \" : [\"86%\", \"86%\", \"85%\", \"85%\", \"85%\", \"85%\", \"85%\", \"85%\"]}\n",
        "dfResultadosSVM = pd.DataFrame(ResultadosSVM)\n",
        "print(dfResultadosSVM)"
      ]
    },
    {
      "attachments": {},
      "cell_type": "markdown",
      "id": "KcvCZOYhCDYh",
      "metadata": {
        "id": "KcvCZOYhCDYh"
      },
      "source": [
        "# Conclusiones"
      ]
    },
    {
      "attachments": {},
      "cell_type": "markdown",
      "id": "vMtfozwZCM-J",
      "metadata": {
        "id": "vMtfozwZCM-J"
      },
      "source": [
        "### Basile Álvarez Andrés:\n",
        "\n",
        "Durante la realización de este ejercicio, trabajamos con representaciones vectoriales \"BOW\" y \"TF-IDF\", aplicando varios algoritmos de clasificación para, a partir de un conjunto de datos de reseñas de películas, obtener su respectiva clasificación dentro de las categorías: \"positiva\" o \"negativa\".\n",
        "\n",
        "Con tal objetivo en mente, realizamos distintas variaciones en la aplicación de los algoritmos: incluyendo \"stopwords\", eliminando \"stopwords\", realizando \"stemming\" y eliminando \"stopwords y realizando \"lematización\" y eliminando \"stopwords\". A partir de estos modelos, observamos que los que tuvieron mayor precisión fueron los que utilizaron el algoritmo de Naive Bayes y la Máquina de Soporte Vectorial, puntuando en alrededor de 85% de precisión. No obstante, el gran aumento de tiempo necesario para entrenar y predecir nuevas clasificaciones utilizando la máquina de soporte vectorial, comparado con el algoritmo de Naive Bayes, hace que éste último sea mucho más adecuado para esta aplicación.\n",
        "\n",
        "Para futuras pruebas sería recomendable analizar la psoibilidad de trabajar con el conjunto de datos completo, sin embargo, al tener tantos problemas para la realización del ejercicio debido al excesivo tiempo de entrenamiento y ejecución, se decidió únicamente utilizar el conjunto de prueba donde se dividió este conjunto en dos subconjuntos, uno para entrenamiento conteniendo el 75% de los datos y otro de prueba conteniendo el 25 % de los datos.\n",
        "\n"
      ]
    },
    {
      "attachments": {},
      "cell_type": "markdown",
      "id": "xjxs1hczH47W",
      "metadata": {
        "id": "xjxs1hczH47W"
      },
      "source": [
        "### Keller Ascencio Rodolfo Andrés:\n",
        "\n",
        "A lo largo de este ejercicio se estuvo trabajando con diferentes técnicas de representación vectorial, tanto Bag Of Words (bolsa de palabras), como TF-IDF, así como con tres algoritmos de aprendizaje máquina, siendo estos el Naive Bayes, Árboles de Decisión y la Máquina de Soporte Vectorial (SVM). De misma manera, se trabajó con dos conjuntos de datos, uno de entrenamiento y otro de prueba, donde estos datos hacían referencia a la reseña de películas, de tal forma que se pueda realizar una clasificación con respecto a si una reseña es positiva o negativa, a partir de las palabras contenidas dentro de la misma.\n",
        "\n",
        "Para esto, se realizaron ocho diferentes pruebas con cada uno de los tres diferentes algoritmos de aprendizaje máquina, donde se trabajó con BOW y TF-IDF, analizando la diferencia entre estos dos, así como la diferencia del uso de procedimientos como lo es la eliminación de stopwords, el uso de stemming y el uso de lematización, teniendo como resultado 24 distintos modelos a analizar.\n",
        "\n",
        "Como conclusión, a partir de la tabla de resultados obtenida se aprecia cómo los algoritmos de Naive Bayes y SVM fueron los más precisos, siendo el Naive Bayes TF-IDF el que obtuvo una mayor precisión al momento de realizar la clasificación de las reseñas, teniendo un 86% de precisión. El uso del algoritmo de árboles de decisión resultó ser el menos preciso con un 71% promedio. \n",
        "\n",
        "Por otro lado, con respecto a los tiempos de entrenamiento y predicción la SVM resultó ser el algoritmo de mayor tiempo, con un tiempo promedio de entrenamiento de nueve minutos veinte segundos y un tiempo de predicción promedio de treinta y dos segundos, siendo sumamente mayor con respecto al Naive Bayes y a los Árboles de deisión. Al hacer uso de Naive Bayes se tuvo un tiempo de entrenamiento promedio de menos de 0.05 segundos y un tiempo de predicción promedio menor a 0.01 segundos.\n",
        "\n",
        "A partir de estos resultados podemos concluir que el mejor tipo de algoritmo y procedimiento para la clasificación de reseñas positivas y negativas de películas sería el Naive Bayes TF-IDF, donde no hubo mucha diferencia con respecto al uso de stopwords, o el procedimiento de stemming o lematización, por lo cual deberíamos realizar un estudio más profundo con respecto a las implicaciones que traería el uso de estos procedimientos para la clasificación de las reseñas y de esta manera, seleccionar el modelo que mejor se ajuste a nuestras necesidades. \n",
        "\n",
        "A manera de observación, en el futuro recomendaría realizar la selección de otro algoritmo de aprendizaje de máquina distinto a la Máquina de Soporte Vectorial para que, de esta manera, podamos hacer uso del conjunto completo de datos de entrenamiento y prueba, puesto que al tener tantos problemas en un inicio para la ejecución del código se tomó la decisión de trabajar únicamente con la mitad de los datos, haciendo uso del conjunto de entrenamiento original y dividiendo este conjunto de entrenamiento en dos subconjuntos, donde un 75% de datos se usó para el entrenamiento y un 25% de datos para la prueba, resultando que aún así los tiempos de ejecución fueron excesivos para la realización de la práctica, sin embargo, ya contábamos con un mismo parámetro de comparación para todos los modelos.\n"
      ]
    }
  ],
  "metadata": {
    "accelerator": "GPU",
    "colab": {
      "collapsed_sections": [
        "M--TmOg4Ee4J",
        "AjDgzsy6E3jB",
        "WSNjtHIrJCpS",
        "3IqN-zunFOgU",
        "EF5lyVRUFYEx",
        "K7reFJq6Fhyj",
        "O1TKyUAsFmnR",
        "PmxbRKHlFrMP",
        "_HcMpAYZFvPj"
      ],
      "provenance": []
    },
    "gpuClass": "standard",
    "kernelspec": {
      "display_name": "Python 3 (ipykernel)",
      "language": "python",
      "name": "python3"
    },
    "language_info": {
      "codemirror_mode": {
        "name": "ipython",
        "version": 3
      },
      "file_extension": ".py",
      "mimetype": "text/x-python",
      "name": "python",
      "nbconvert_exporter": "python",
      "pygments_lexer": "ipython3",
      "version": "3.9.13"
    }
  },
  "nbformat": 4,
  "nbformat_minor": 5
}
